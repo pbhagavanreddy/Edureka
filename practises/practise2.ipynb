{
 "cells": [
  {
   "cell_type": "code",
   "execution_count": 3,
   "metadata": {},
   "outputs": [
    {
     "data": {
      "text/plain": [
       "(42.0, 242.0)"
      ]
     },
     "execution_count": 3,
     "metadata": {},
     "output_type": "execute_result"
    }
   ],
   "source": [
    "def intrest(params):\n",
    "    p,r,t = params\n",
    "    si=(p*r*t)/100\n",
    "    return(si, p+si)\n",
    "\n",
    "num = [200, 3, 7]\n",
    "intrest(num)"
   ]
  },
  {
   "cell_type": "code",
   "execution_count": 8,
   "metadata": {},
   "outputs": [
    {
     "data": {
      "text/plain": [
       "[(14.0, 114.0), (84.0, 284.0), (36.0, 336.0)]"
      ]
     },
     "execution_count": 8,
     "metadata": {},
     "output_type": "execute_result"
    }
   ],
   "source": [
    "def intrest(params):\n",
    "    p,r,t = params\n",
    "    si=(p*r*t)/100\n",
    "    return(si, p+si)\n",
    "\n",
    "num = [[100, 7, 2], [200, 6, 7], [300,3,4]]\n",
    "list(map(intrest, num))"
   ]
  },
  {
   "cell_type": "code",
   "execution_count": 9,
   "metadata": {},
   "outputs": [
    {
     "name": "stdout",
     "output_type": "stream",
     "text": [
      "Total =  6\n",
      "Dictionary =  {'name': 'bp', 'mob': '9989'}\n"
     ]
    }
   ],
   "source": [
    "def function(*args, **kwargs):\n",
    "    print(\"Total = \", sum(args))\n",
    "    print(\"Dictionary = \", kwargs)\n",
    "\n",
    "function(1,2,3,name='bp', mob='9989')"
   ]
  },
  {
   "cell_type": "code",
   "execution_count": 26,
   "metadata": {},
   "outputs": [
    {
     "name": "stdout",
     "output_type": "stream",
     "text": [
      "addition =  7\n",
      "subtraction =  6\n"
     ]
    }
   ],
   "source": [
    "class A():\n",
    "    def add(a,b):\n",
    "        print(\"addition = \", a+b)\n",
    "    def minus(c,d):\n",
    "        print(\"subtraction = \", c-d)\n",
    "    \n",
    "A.add(6,1)\n",
    "A.minus(9, 3)"
   ]
  },
  {
   "cell_type": "code",
   "execution_count": 34,
   "metadata": {},
   "outputs": [
    {
     "name": "stdout",
     "output_type": "stream",
     "text": [
      "addition =  9\n",
      "subtraction =  -7\n"
     ]
    }
   ],
   "source": [
    "class AB():\n",
    "    def add(self,a,b):\n",
    "        print(\"addition = \", a+b)\n",
    "    def minus(self,a,b):\n",
    "        print(\"subtraction = \", a-b)\n",
    "        \n",
    "a=AB()\n",
    "a.add(6,3)\n",
    "a.minus(5,12)"
   ]
  },
  {
   "cell_type": "code",
   "execution_count": 32,
   "metadata": {},
   "outputs": [
    {
     "name": "stdout",
     "output_type": "stream",
     "text": [
      "addition =  50\n"
     ]
    }
   ],
   "source": [
    "class AB():\n",
    "    \n",
    "    a=4\n",
    "    b=1\n",
    "    \n",
    "    def add(self):\n",
    "        print(\"addition = \", self.a+self.b)\n",
    "    def minus(self):\n",
    "        print(\"subtraction = \",a-b)\n",
    "        \n",
    "a=AB()\n",
    "a.a=20\n",
    "a.b=30\n",
    "a.add()"
   ]
  },
  {
   "cell_type": "code",
   "execution_count": 7,
   "metadata": {},
   "outputs": [],
   "source": [
    "p=200000\n",
    "r=3\n",
    "t=5\n",
    "\n",
    "class Interest():\n",
    "        \n",
    "    p=1000\n",
    "    r=2\n",
    "    t=8\n",
    "    \n",
    "    def SI(self):\n",
    "        si=round ((self.p*self.r*self.t)/100.0, 2)\n",
    "        return si\n",
    "    \n",
    "    def printall(self):\n",
    "        print('Principle = ', p)\n",
    "        print('Rate = ', r)\n",
    "        print('Time = ', t)\n",
    "        print('Interest = ', self.SI())\n",
    "\n",
    "blah = Interest()"
   ]
  },
  {
   "cell_type": "code",
   "execution_count": 8,
   "metadata": {},
   "outputs": [
    {
     "name": "stdout",
     "output_type": "stream",
     "text": [
      "Principle =  200000\n",
      "Rate =  3\n",
      "Time =  5\n",
      "Interest =  160.0\n"
     ]
    }
   ],
   "source": [
    "blah.printall()"
   ]
  },
  {
   "cell_type": "code",
   "execution_count": 16,
   "metadata": {},
   "outputs": [],
   "source": [
    "class Interest2():\n",
    "    \n",
    "    def __init__(self, princ, rate, time):\n",
    "        self.p=princ\n",
    "        self.r=rate\n",
    "        self.t=time\n",
    "\n",
    "    def SI(self):\n",
    "        si=round ((self.p*self.r*self.t)/100.0, 2)\n",
    "        return si\n",
    "    \n",
    "    def printall(self):\n",
    "        print('Principle = ', self.p)\n",
    "        print('Rate = ', self.r)\n",
    "        print('Time = ', self.t)\n",
    "        print('Interest = ', self.SI())\n",
    "\n",
    "blah = Interest2(1000, 3, 4)"
   ]
  },
  {
   "cell_type": "code",
   "execution_count": 21,
   "metadata": {},
   "outputs": [
    {
     "name": "stdout",
     "output_type": "stream",
     "text": [
      "Principle =  1000\n",
      "Rate =  3\n",
      "Time =  4\n",
      "Interest =  120.0\n"
     ]
    }
   ],
   "source": [
    "blah.printall()"
   ]
  },
  {
   "cell_type": "code",
   "execution_count": 23,
   "metadata": {},
   "outputs": [],
   "source": [
    "i2=Interest2(2000,5,6)"
   ]
  },
  {
   "cell_type": "code",
   "execution_count": 24,
   "metadata": {},
   "outputs": [
    {
     "name": "stdout",
     "output_type": "stream",
     "text": [
      "Principle =  2000\n",
      "Rate =  5\n",
      "Time =  6\n",
      "Interest =  600.0\n"
     ]
    }
   ],
   "source": [
    "i2.printall()"
   ]
  },
  {
   "cell_type": "code",
   "execution_count": 2,
   "metadata": {},
   "outputs": [],
   "source": [
    "class Check():\n",
    "    \n",
    "    def Ispalin(self, num):\n",
    "        rev = str(num)\n",
    "        if str(num)==rev[::-1]:\n",
    "            print(\"Palindrome Number\")\n",
    "        else:\n",
    "            print(\"Not a Palindrome Number\")\n",
    "        \n",
    "    def Iseven(self, num):\n",
    "        if num%2==0:\n",
    "            print(\"Even Number\")\n",
    "        else:\n",
    "            print(\"Not an Even Number\")\n",
    "        \n",
    "    def Isprime(self, num):\n",
    "        count=0\n",
    "        for i in range(2, num):\n",
    "            if num%i==0:\n",
    "                count+=1\n",
    "        if count==0:\n",
    "            print(\"Prime Number\")\n",
    "        else:\n",
    "            print(\"Not a Prime Number\")        \n",
    "    \n",
    "abc=Check()"
   ]
  },
  {
   "cell_type": "code",
   "execution_count": 42,
   "metadata": {},
   "outputs": [
    {
     "name": "stdout",
     "output_type": "stream",
     "text": [
      "Not an Even Number\n"
     ]
    }
   ],
   "source": [
    "abc.Iseven(13)"
   ]
  },
  {
   "cell_type": "code",
   "execution_count": 51,
   "metadata": {},
   "outputs": [
    {
     "name": "stdout",
     "output_type": "stream",
     "text": [
      "Not a Palindrome Number\n"
     ]
    }
   ],
   "source": [
    "abc.Ispalin(123421)"
   ]
  },
  {
   "cell_type": "code",
   "execution_count": 6,
   "metadata": {},
   "outputs": [
    {
     "name": "stdout",
     "output_type": "stream",
     "text": [
      "Not a Prime Number\n"
     ]
    }
   ],
   "source": [
    "abc.Isprime(27)"
   ]
  },
  {
   "cell_type": "code",
   "execution_count": 11,
   "metadata": {},
   "outputs": [],
   "source": [
    "class Games:\n",
    "    \n",
    "    '''Bhaavan Peddi Cricket'''\n",
    "\n",
    "    def __init__(self, a, b, c):\n",
    "        self.a=a\n",
    "        self._b=b\n",
    "        self.__c=c\n",
    "        \n",
    "    def __Volleyball(self):\n",
    "        print(\"Volleyball\")\n",
    "        \n",
    "    def __football(self):\n",
    "        print(\"football\")    \n",
    "    \n",
    "    def cricket(self):\n",
    "            print(\"Cricket\")\n",
    "        \n",
    "# class Sports():\n",
    "#     s1=\"running\"\n",
    "#     s2=\"longjump\"\n",
    "#     def _Kabaddi(self):\n",
    "#         print(\"Activities call method\")\n",
    "\n",
    "acc = Games(3,8,7)"
   ]
  },
  {
   "cell_type": "code",
   "execution_count": 3,
   "metadata": {},
   "outputs": [
    {
     "ename": "AttributeError",
     "evalue": "'Games' object has no attribute '__Volleyball'",
     "output_type": "error",
     "traceback": [
      "\u001b[1;31m---------------------------------------------------------------------------\u001b[0m",
      "\u001b[1;31mAttributeError\u001b[0m                            Traceback (most recent call last)",
      "\u001b[1;32m<ipython-input-3-378dc0486291>\u001b[0m in \u001b[0;36m<module>\u001b[1;34m\u001b[0m\n\u001b[1;32m----> 1\u001b[1;33m \u001b[0macc\u001b[0m\u001b[1;33m.\u001b[0m\u001b[0m__Volleyball\u001b[0m\u001b[1;33m(\u001b[0m\u001b[1;33m)\u001b[0m\u001b[1;33m\u001b[0m\u001b[1;33m\u001b[0m\u001b[0m\n\u001b[0m",
      "\u001b[1;31mAttributeError\u001b[0m: 'Games' object has no attribute '__Volleyball'"
     ]
    }
   ],
   "source": [
    "acc.__Volleyball()"
   ]
  },
  {
   "cell_type": "code",
   "execution_count": 12,
   "metadata": {},
   "outputs": [
    {
     "data": {
      "text/plain": [
       "mappingproxy({'__module__': '__main__',\n",
       "              '__doc__': 'Bhaavan Peddi Cricket',\n",
       "              '__init__': <function __main__.Games.__init__(self, a, b, c)>,\n",
       "              '_Games__Volleyball': <function __main__.Games.__Volleyball(self)>,\n",
       "              '_Games__football': <function __main__.Games.__football(self)>,\n",
       "              'cricket': <function __main__.Games.cricket(self)>,\n",
       "              '__dict__': <attribute '__dict__' of 'Games' objects>,\n",
       "              '__weakref__': <attribute '__weakref__' of 'Games' objects>})"
      ]
     },
     "execution_count": 12,
     "metadata": {},
     "output_type": "execute_result"
    }
   ],
   "source": [
    "Games.__dict__"
   ]
  },
  {
   "cell_type": "code",
   "execution_count": 13,
   "metadata": {},
   "outputs": [
    {
     "data": {
      "text/plain": [
       "'Bhaavan Peddi Cricket'"
      ]
     },
     "execution_count": 13,
     "metadata": {},
     "output_type": "execute_result"
    }
   ],
   "source": [
    "Games.__doc__"
   ]
  },
  {
   "cell_type": "code",
   "execution_count": 14,
   "metadata": {},
   "outputs": [
    {
     "data": {
      "text/plain": [
       "'__main__'"
      ]
     },
     "execution_count": 14,
     "metadata": {},
     "output_type": "execute_result"
    }
   ],
   "source": [
    "Games.__module__"
   ]
  },
  {
   "cell_type": "code",
   "execution_count": 17,
   "metadata": {},
   "outputs": [
    {
     "data": {
      "text/plain": [
       "['C:\\\\Users\\\\bpeddi\\\\AppData\\\\Local\\\\Continuum\\\\anaconda3\\\\lib\\\\site-packages\\\\ipykernel_launcher.py',\n",
       " '-f',\n",
       " 'C:\\\\Users\\\\bpeddi\\\\AppData\\\\Roaming\\\\jupyter\\\\runtime\\\\kernel-38f04d9a-6848-4e53-9b8c-adf06dc464b1.json']"
      ]
     },
     "execution_count": 17,
     "metadata": {},
     "output_type": "execute_result"
    }
   ],
   "source": [
    "import sys\n",
    "sys.argv"
   ]
  },
  {
   "cell_type": "code",
   "execution_count": 18,
   "metadata": {},
   "outputs": [
    {
     "data": {
      "text/plain": [
       "['C:\\\\Users\\\\bpeddi\\\\Desktop\\\\Data Science\\\\Edureka',\n",
       " 'C:\\\\Users\\\\bpeddi\\\\AppData\\\\Local\\\\Continuum\\\\anaconda3\\\\python37.zip',\n",
       " 'C:\\\\Users\\\\bpeddi\\\\AppData\\\\Local\\\\Continuum\\\\anaconda3\\\\DLLs',\n",
       " 'C:\\\\Users\\\\bpeddi\\\\AppData\\\\Local\\\\Continuum\\\\anaconda3\\\\lib',\n",
       " 'C:\\\\Users\\\\bpeddi\\\\AppData\\\\Local\\\\Continuum\\\\anaconda3',\n",
       " '',\n",
       " 'C:\\\\Users\\\\bpeddi\\\\AppData\\\\Local\\\\Continuum\\\\anaconda3\\\\lib\\\\site-packages',\n",
       " 'C:\\\\Users\\\\bpeddi\\\\AppData\\\\Local\\\\Continuum\\\\anaconda3\\\\lib\\\\site-packages\\\\win32',\n",
       " 'C:\\\\Users\\\\bpeddi\\\\AppData\\\\Local\\\\Continuum\\\\anaconda3\\\\lib\\\\site-packages\\\\win32\\\\lib',\n",
       " 'C:\\\\Users\\\\bpeddi\\\\AppData\\\\Local\\\\Continuum\\\\anaconda3\\\\lib\\\\site-packages\\\\Pythonwin',\n",
       " 'C:\\\\Users\\\\bpeddi\\\\AppData\\\\Local\\\\Continuum\\\\anaconda3\\\\lib\\\\site-packages\\\\IPython\\\\extensions',\n",
       " 'C:\\\\Users\\\\bpeddi\\\\.ipython']"
      ]
     },
     "execution_count": 18,
     "metadata": {},
     "output_type": "execute_result"
    }
   ],
   "source": [
    "sys.path"
   ]
  },
  {
   "cell_type": "code",
   "execution_count": 19,
   "metadata": {},
   "outputs": [
    {
     "data": {
      "text/plain": [
       "(None, None, None)"
      ]
     },
     "execution_count": 19,
     "metadata": {},
     "output_type": "execute_result"
    }
   ],
   "source": [
    "sys.exc_info()"
   ]
  },
  {
   "cell_type": "code",
   "execution_count": 21,
   "metadata": {},
   "outputs": [
    {
     "data": {
      "text/plain": [
       "'C:\\\\Users\\\\bpeddi\\\\Desktop\\\\Data Science\\\\Edureka'"
      ]
     },
     "execution_count": 21,
     "metadata": {},
     "output_type": "execute_result"
    }
   ],
   "source": [
    "import os\n",
    "\n",
    "os.getcwd()"
   ]
  },
  {
   "cell_type": "code",
   "execution_count": 22,
   "metadata": {},
   "outputs": [],
   "source": [
    "os.mkdir('Greeting')"
   ]
  },
  {
   "cell_type": "code",
   "execution_count": 23,
   "metadata": {},
   "outputs": [],
   "source": [
    "newlocation=os.getcwd()+'\\\\Greeting'\n",
    "os.chdir(newlocation)"
   ]
  },
  {
   "cell_type": "code",
   "execution_count": 24,
   "metadata": {},
   "outputs": [
    {
     "data": {
      "text/plain": [
       "'C:\\\\Users\\\\bpeddi\\\\Desktop\\\\Data Science\\\\Edureka\\\\Greeting'"
      ]
     },
     "execution_count": 24,
     "metadata": {},
     "output_type": "execute_result"
    }
   ],
   "source": [
    "os.getcwd()"
   ]
  },
  {
   "cell_type": "code",
   "execution_count": 27,
   "metadata": {},
   "outputs": [
    {
     "data": {
      "text/plain": [
       "True"
      ]
     },
     "execution_count": 27,
     "metadata": {},
     "output_type": "execute_result"
    }
   ],
   "source": [
    "os.path.exists('C:\\\\Users\\\\bpeddi\\\\Desktop\\\\Data Science\\\\Edureka\\\\Greeting')"
   ]
  },
  {
   "cell_type": "code",
   "execution_count": 28,
   "metadata": {},
   "outputs": [
    {
     "data": {
      "text/plain": [
       "'C:\\\\Users\\\\bpeddi\\\\Desktop\\\\Data Science\\\\Edureka'"
      ]
     },
     "execution_count": 28,
     "metadata": {},
     "output_type": "execute_result"
    }
   ],
   "source": [
    "os.path.dirname('C:\\\\Users\\\\bpeddi\\\\Desktop\\\\Data Science\\\\Edureka\\\\Greeting')"
   ]
  },
  {
   "cell_type": "code",
   "execution_count": 29,
   "metadata": {},
   "outputs": [
    {
     "data": {
      "text/plain": [
       "'C:\\\\Users\\\\bpeddi\\\\Desktop\\\\Data Science\\\\Edureka\\\\Greeting\\\\hello.txt'"
      ]
     },
     "execution_count": 29,
     "metadata": {},
     "output_type": "execute_result"
    }
   ],
   "source": [
    "os.path.join('C:\\\\Users\\\\bpeddi\\\\Desktop\\\\Data Science\\\\Edureka\\\\Greeting','hello.txt')"
   ]
  },
  {
   "cell_type": "code",
   "execution_count": 30,
   "metadata": {},
   "outputs": [
    {
     "data": {
      "text/plain": [
       "True"
      ]
     },
     "execution_count": 30,
     "metadata": {},
     "output_type": "execute_result"
    }
   ],
   "source": [
    "os.path.isfile('hello.txt')"
   ]
  },
  {
   "cell_type": "code",
   "execution_count": 34,
   "metadata": {},
   "outputs": [
    {
     "name": "stdout",
     "output_type": "stream",
     "text": [
      "Enter folder name : wah\n",
      "folder exist\n"
     ]
    }
   ],
   "source": [
    "fold=input('Enter folder name : ')\n",
    "if os.path.isdir(fold):\n",
    "    print('folder exist')\n",
    "else:\n",
    "    os.mkdir(fold)"
   ]
  },
  {
   "cell_type": "code",
   "execution_count": null,
   "metadata": {},
   "outputs": [],
   "source": [
    "os.path.realpath()"
   ]
  },
  {
   "cell_type": "code",
   "execution_count": null,
   "metadata": {},
   "outputs": [],
   "source": []
  },
  {
   "cell_type": "code",
   "execution_count": null,
   "metadata": {},
   "outputs": [],
   "source": [
    "import os\n",
    "\n",
    "for a,b,c in os.walk('C:\\\\Users\\\\bpeddi\\\\Desktop\\\\Data Science'):\n",
    "    print(a)\n",
    "    print(b)\n",
    "    print(c)\n",
    "    print(\"\")"
   ]
  },
  {
   "cell_type": "code",
   "execution_count": null,
   "metadata": {},
   "outputs": [],
   "source": [
    "import os\n",
    "\n",
    "for path, folders, files in os.walk('C:\\\\Users\\\\bpeddi\\\\Desktop\\\\Data Science\\\\Edureka'):\n",
    "    for each in files:\n",
    "        if each.endswith('.ipynb'):\n",
    "            print(os.path.join(path,each))"
   ]
  },
  {
   "cell_type": "code",
   "execution_count": null,
   "metadata": {},
   "outputs": [],
   "source": [
    "import math\n",
    "math.pi\n",
    "math.fabs(-2323)\n",
    "math.log2(30)"
   ]
  },
  {
   "cell_type": "code",
   "execution_count": null,
   "metadata": {},
   "outputs": [],
   "source": [
    "import datetime\n",
    "start = datetime.datetime.now()\n",
    "end = start+datetime.timedelta(hours=249)\n",
    "print(start)\n",
    "print(end)"
   ]
  },
  {
   "cell_type": "code",
   "execution_count": null,
   "metadata": {},
   "outputs": [],
   "source": [
    "(end-start).days+(end-start).seconds/60/60/24"
   ]
  },
  {
   "cell_type": "code",
   "execution_count": null,
   "metadata": {},
   "outputs": [],
   "source": [
    "order = '1/11/2019'\n",
    "curr = '8/11/2019'\n",
    "\n",
    "ord1 = datetime.datetime.strptime(order,'%d/%m/%Y')\n",
    "curr1 = datetime.datetime.strptime(curr,'%d/%m/%Y')\n",
    "\n",
    "curr1-ord1"
   ]
  },
  {
   "cell_type": "code",
   "execution_count": null,
   "metadata": {},
   "outputs": [],
   "source": [
    "from dateutil import parser\n",
    "parser.parse(\"13/12/2019\")\n",
    "start.minute"
   ]
  },
  {
   "cell_type": "code",
   "execution_count": null,
   "metadata": {},
   "outputs": [],
   "source": [
    "import random\n",
    "random.randrange(2,10)"
   ]
  },
  {
   "cell_type": "code",
   "execution_count": null,
   "metadata": {},
   "outputs": [],
   "source": [
    "list(range(10,20))"
   ]
  },
  {
   "cell_type": "code",
   "execution_count": null,
   "metadata": {},
   "outputs": [],
   "source": [
    "import sys\n",
    "\n",
    "try:\n",
    "    a=int(input('Enter A : '))\n",
    "    b=int(input(\"Enter B : \"))\n",
    "    print(a/b)\n",
    "    \n",
    "except:\n",
    "    print(sys.exc_info()[0])\n",
    "    print(\"continuing code\")"
   ]
  },
  {
   "cell_type": "code",
   "execution_count": null,
   "metadata": {},
   "outputs": [],
   "source": [
    "import sys\n",
    "\n",
    "try:\n",
    "    a=int(input('Enter A : '))\n",
    "    b=int(input(\"Enter B : \"))\n",
    "    print(a/b)\n",
    "    \n",
    "except:\n",
    "    f=open('loggerfile', 'a')\n",
    "    f.write(str(sys.exc_info()[1]))\n",
    "    f.close()\n",
    "    print(\"continuing code\")"
   ]
  }
 ],
 "metadata": {
  "kernelspec": {
   "display_name": "Python 3",
   "language": "python",
   "name": "python3"
  },
  "language_info": {
   "codemirror_mode": {
    "name": "ipython",
    "version": 3
   },
   "file_extension": ".py",
   "mimetype": "text/x-python",
   "name": "python",
   "nbconvert_exporter": "python",
   "pygments_lexer": "ipython3",
   "version": "3.7.3"
  }
 },
 "nbformat": 4,
 "nbformat_minor": 2
}
