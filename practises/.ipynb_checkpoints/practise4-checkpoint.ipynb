{
 "cells": [
  {
   "cell_type": "code",
   "execution_count": 34,
   "metadata": {},
   "outputs": [
    {
     "name": "stdout",
     "output_type": "stream",
     "text": [
      "['n', 'n', 'n', 'l', 'l', 'm', 'n', 'l', 'n', 'l', 'n']\n",
      "[]\n"
     ]
    }
   ],
   "source": [
    "import re\n",
    "\n",
    "str=\"The rain in spains falls mainly in the plain\"\n",
    "a=re.findall(\"[j-o]\", str)\n",
    "print(a)\n",
    "\n",
    "b=re.findall(\"\\d\", str)\n",
    "print(b)"
   ]
  },
  {
   "cell_type": "code",
   "execution_count": 15,
   "metadata": {},
   "outputs": [
    {
     "name": "stdout",
     "output_type": "stream",
     "text": [
      "['The r']\n"
     ]
    }
   ],
   "source": [
    "c=re.findall(\"T...r\", str)\n",
    "print(c)"
   ]
  },
  {
   "cell_type": "code",
   "execution_count": 24,
   "metadata": {},
   "outputs": [
    {
     "name": "stdout",
     "output_type": "stream",
     "text": [
      "['3']\n"
     ]
    }
   ],
   "source": [
    "d=re.findall(\"3$\", str)\n",
    "print(d)"
   ]
  },
  {
   "cell_type": "code",
   "execution_count": 43,
   "metadata": {},
   "outputs": [
    {
     "name": "stdout",
     "output_type": "stream",
     "text": [
      "['ai', 'ai', 'ai', 'ai']\n"
     ]
    }
   ],
   "source": [
    "e=re.findall(\"aix*\", str)\n",
    "print(e)"
   ]
  },
  {
   "cell_type": "code",
   "execution_count": 44,
   "metadata": {},
   "outputs": [
    {
     "name": "stdout",
     "output_type": "stream",
     "text": [
      "['abc_123@gmail.com', 'dasas@hh.com']\n"
     ]
    }
   ],
   "source": [
    "str2 = \"Hi i am sending my email from abc_123@gmail.com to your id at dasas@hh.com at @3PM\"\n",
    "f=re.findall(\"\\S+@\\S+\", str2)\n",
    "print(f)"
   ]
  },
  {
   "cell_type": "code",
   "execution_count": 50,
   "metadata": {},
   "outputs": [
    {
     "name": "stdout",
     "output_type": "stream",
     "text": [
      "['#howare', '#hailhail', '#email', '#python']\n"
     ]
    }
   ],
   "source": [
    "str3 = \"Hi i am sending #howare you and then #hailhail today in #email#python learning\"\n",
    "g=re.findall(\"#\\w+\", str3)\n",
    "print(g)"
   ]
  },
  {
   "cell_type": "code",
   "execution_count": 1,
   "metadata": {},
   "outputs": [
    {
     "name": "stdout",
     "output_type": "stream",
     "text": [
      "[[ 3.   4.   5.   6. ]\n",
      " [11.  12.  13.  14. ]\n",
      " [60.  60.9 60.  55.5]] \n",
      "\n",
      "   mem1  mem2  mem3  mem4\n",
      "0   3.0   4.0   5.0   6.0\n",
      "1  11.0  12.0  13.0  14.0\n",
      "2  60.0  60.9  60.0  55.5 \n",
      "\n",
      "        mem1  mem2  mem3  mem4\n",
      "age      3.0   4.0   5.0   6.0\n",
      "height  11.0  12.0  13.0  14.0\n",
      "weight  60.0  60.9  60.0  55.5\n"
     ]
    }
   ],
   "source": [
    "import numpy as np\n",
    "import pandas as pd\n",
    "\n",
    "age=[3,4,5,6]\n",
    "height=[11,12,13,14]\n",
    "weight=[60, 60.9, 60, 55.5]\n",
    "\n",
    "data=[age, height, weight]\n",
    "n1=np.array(data)\n",
    "print(n1, \"\\n\")\n",
    "df=pd.DataFrame(n1, columns=(['mem1', 'mem2', 'mem3', 'mem4']))\n",
    "print(df, \"\\n\")\n",
    "df.index=['age', 'height', 'weight']\n",
    "print(df)"
   ]
  },
  {
   "cell_type": "code",
   "execution_count": 11,
   "metadata": {},
   "outputs": [
    {
     "data": {
      "text/html": [
       "<div>\n",
       "<style scoped>\n",
       "    .dataframe tbody tr th:only-of-type {\n",
       "        vertical-align: middle;\n",
       "    }\n",
       "\n",
       "    .dataframe tbody tr th {\n",
       "        vertical-align: top;\n",
       "    }\n",
       "\n",
       "    .dataframe thead th {\n",
       "        text-align: right;\n",
       "    }\n",
       "</style>\n",
       "<table border=\"1\" class=\"dataframe\">\n",
       "  <thead>\n",
       "    <tr style=\"text-align: right;\">\n",
       "      <th></th>\n",
       "      <th>age</th>\n",
       "      <th>height</th>\n",
       "      <th>weight</th>\n",
       "    </tr>\n",
       "  </thead>\n",
       "  <tbody>\n",
       "    <tr>\n",
       "      <th>mem1</th>\n",
       "      <td>3.0</td>\n",
       "      <td>11.0</td>\n",
       "      <td>60.0</td>\n",
       "    </tr>\n",
       "    <tr>\n",
       "      <th>mem2</th>\n",
       "      <td>4.0</td>\n",
       "      <td>12.0</td>\n",
       "      <td>60.9</td>\n",
       "    </tr>\n",
       "    <tr>\n",
       "      <th>mem3</th>\n",
       "      <td>5.0</td>\n",
       "      <td>13.0</td>\n",
       "      <td>60.0</td>\n",
       "    </tr>\n",
       "    <tr>\n",
       "      <th>mem4</th>\n",
       "      <td>6.0</td>\n",
       "      <td>14.0</td>\n",
       "      <td>55.5</td>\n",
       "    </tr>\n",
       "  </tbody>\n",
       "</table>\n",
       "</div>"
      ],
      "text/plain": [
       "      age  height  weight\n",
       "mem1  3.0    11.0    60.0\n",
       "mem2  4.0    12.0    60.9\n",
       "mem3  5.0    13.0    60.0\n",
       "mem4  6.0    14.0    55.5"
      ]
     },
     "execution_count": 11,
     "metadata": {},
     "output_type": "execute_result"
    }
   ],
   "source": [
    "df=df.transpose()\n",
    "df"
   ]
  },
  {
   "cell_type": "code",
   "execution_count": 13,
   "metadata": {},
   "outputs": [
    {
     "data": {
      "text/plain": [
       "array([[12, 13, 14, 15],\n",
       "       [ 1,  2,  3,  4],\n",
       "       [ 6,  7,  8,  9]])"
      ]
     },
     "execution_count": 13,
     "metadata": {},
     "output_type": "execute_result"
    }
   ],
   "source": [
    "la=[[12, 13, 14, 15], [1,2,3,4], [6,7,8,9]]\n",
    "n2=np.array(la)\n",
    "n2"
   ]
  },
  {
   "cell_type": "code",
   "execution_count": 20,
   "metadata": {},
   "outputs": [
    {
     "data": {
      "text/plain": [
       "array([[12, 15],\n",
       "       [ 6,  9]])"
      ]
     },
     "execution_count": 20,
     "metadata": {},
     "output_type": "execute_result"
    }
   ],
   "source": [
    "# for each in n2:    \n",
    "n2[::2 , ::3]"
   ]
  },
  {
   "cell_type": "code",
   "execution_count": 34,
   "metadata": {},
   "outputs": [],
   "source": [
    "import os\n",
    "import datetime\n",
    "import PIL.ImageGrab\n",
    "\n",
    "def takescreenshot(folder, timelapse):\n",
    "    if not os.path.isdir(folder):\n",
    "        os.mkdir(folder)\n",
    "        start=datetime.datetime.now()\n",
    "        end=start+datetime.timedelta(seconds=timelapse)\n",
    "        counter=1\n",
    "        while(start<=end):\n",
    "            im=PIL.ImageGrab.grab()\n",
    "            file = \"screenshot_\"+str(counter)+\".png\"\n",
    "            path=os.path.join(folder,file)\n",
    "            im.save(path)\n",
    "            counter+=1\n",
    "            start=datetime.datetime.now()\n",
    "        print(\"Taking screenshots is done\")\n",
    "    \n",
    "    else:\n",
    "        print(\"Folder already exists\")          \n",
    "    "
   ]
  },
  {
   "cell_type": "code",
   "execution_count": 37,
   "metadata": {},
   "outputs": [
    {
     "name": "stdout",
     "output_type": "stream",
     "text": [
      "Enter Folder Namescreen7\n",
      "Enter time in seconds7\n",
      "Taking screenshots is done\n"
     ]
    }
   ],
   "source": [
    "folder = input(\"Enter Folder Name\")\n",
    "timelapse=int(input(\"Enter time in seconds\"))\n",
    "takescreenshot(folder, timelapse)"
   ]
  },
  {
   "cell_type": "code",
   "execution_count": 39,
   "metadata": {},
   "outputs": [],
   "source": [
    "import os\n",
    "import datetime\n",
    "import PIL.ImageGrab\n",
    "\n",
    "class Takescreenshot:\n",
    "    \n",
    "    def __init__(self, folder, timelapse):\n",
    "        self.folder=folder\n",
    "        self.timelapse=timelapse\n",
    "\n",
    "    def method(self):\n",
    "        if not os.path.isdir(self.folder):\n",
    "            os.mkdir(self.folder)\n",
    "            start=datetime.datetime.now()\n",
    "            end=start+datetime.timedelta(seconds=self.timelapse)\n",
    "            counter=1\n",
    "            while(start<=end):\n",
    "                im=PIL.ImageGrab.grab()\n",
    "                file = \"screenshot_\"+str(counter)+\".png\"\n",
    "                path=os.path.join(self.folder,file)\n",
    "                im.save(path)\n",
    "                counter+=1\n",
    "                start=datetime.datetime.now()\n",
    "            print(\"Taking screenshots is done\")        \n",
    "    \n",
    "        else:\n",
    "            print(\"Folder already exists\")    "
   ]
  },
  {
   "cell_type": "code",
   "execution_count": 40,
   "metadata": {},
   "outputs": [
    {
     "name": "stdout",
     "output_type": "stream",
     "text": [
      "Enter Folder Namescreen10\n",
      "Enter time in seconds4\n",
      "Taking screenshots is done\n"
     ]
    }
   ],
   "source": [
    "folder = input(\"Enter Folder Name\")\n",
    "timelapse=int(input(\"Enter time in seconds\"))\n",
    "snap=Takescreenshot(folder, timelapse)\n",
    "snap.method()"
   ]
  },
  {
   "cell_type": "code",
   "execution_count": 52,
   "metadata": {},
   "outputs": [
    {
     "name": "stdout",
     "output_type": "stream",
     "text": [
      "Enter Folder Namescreen11\n",
      "Enter time in seconds3\n",
      "Taking screenshots is done\n"
     ]
    }
   ],
   "source": [
    "import os\n",
    "import datetime\n",
    "import PIL.ImageGrab\n",
    "\n",
    "class Takescreenshot: \n",
    "\n",
    "    def method(self, folder, timelapse):\n",
    "        if not os.path.isdir(folder):\n",
    "            os.mkdir(folder)\n",
    "            start=datetime.datetime.now()\n",
    "            end=start+datetime.timedelta(seconds=timelapse)\n",
    "            counter=1\n",
    "            while(start<=end):\n",
    "                im=PIL.ImageGrab.grab()\n",
    "                file = \"screenshot_\"+str(counter)+\".png\"\n",
    "                path=os.path.join(folder,file)\n",
    "                im.save(path)\n",
    "                counter+=1\n",
    "                start=datetime.datetime.now()\n",
    "            print(\"Taking screenshots is done\")        \n",
    "    \n",
    "        else:\n",
    "            print(\"Folder already exists\")\n",
    "\n",
    "            \n",
    "if __name__==\"__main__\":\n",
    "    folder = input(\"Enter Folder Name\")\n",
    "    timelapse=int(input(\"Enter time in seconds\"))\n",
    "    snap=Takescreenshot()\n",
    "    snap.method(folder, timelapse)"
   ]
  },
  {
   "cell_type": "code",
   "execution_count": 57,
   "metadata": {},
   "outputs": [
    {
     "name": "stdout",
     "output_type": "stream",
     "text": [
      "C:\\Users\\bpeddi\\AppData\\Local\\Continuum\\anaconda3\\lib\\site-packages\\ipykernel_launcher.py\n",
      "-f\n"
     ]
    }
   ],
   "source": [
    "import sys\n",
    "a, b, c = sys.argv\n",
    "print(a)\n",
    "print(b)"
   ]
  },
  {
   "cell_type": "code",
   "execution_count": null,
   "metadata": {},
   "outputs": [],
   "source": []
  }
 ],
 "metadata": {
  "kernelspec": {
   "display_name": "Python 3",
   "language": "python",
   "name": "python3"
  },
  "language_info": {
   "codemirror_mode": {
    "name": "ipython",
    "version": 3
   },
   "file_extension": ".py",
   "mimetype": "text/x-python",
   "name": "python",
   "nbconvert_exporter": "python",
   "pygments_lexer": "ipython3",
   "version": "3.7.3"
  }
 },
 "nbformat": 4,
 "nbformat_minor": 2
}
