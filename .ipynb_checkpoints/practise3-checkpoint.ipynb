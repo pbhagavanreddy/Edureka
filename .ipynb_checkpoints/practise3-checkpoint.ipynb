{
 "cells": [
  {
   "cell_type": "code",
   "execution_count": 1,
   "metadata": {},
   "outputs": [
    {
     "name": "stdout",
     "output_type": "stream",
     "text": [
      "C:\\Users\\bpeddi\\Desktop\\Data Science\n",
      "['.ipynb_checkpoints', 'Edureka', 'Percipio', 'test', '__pycache__']\n",
      "['firstMLprogram.ipynb', 'ML - Pre-Course Guide.docx', 'moduletest1.py', 'music.csv', 'visualizeDecisionTree.dot']\n",
      "\n",
      "C:\\Users\\bpeddi\\Desktop\\Data Science\\.ipynb_checkpoints\n",
      "[]\n",
      "['firstMLprogram-checkpoint.ipynb', 'jupnotebook-checkpoint.ipynb']\n",
      "\n",
      "C:\\Users\\bpeddi\\Desktop\\Data Science\\Edureka\n",
      "['.ipynb_checkpoints', 'Greeting']\n",
      "['2_Sequences and File Operations_CaseStudy II.ipynb', 'practise1.ipynb', 'practise2.ipynb', 'practise3.ipynb']\n",
      "\n",
      "C:\\Users\\bpeddi\\Desktop\\Data Science\\Edureka\\.ipynb_checkpoints\n",
      "[]\n",
      "['2_Sequences and File Operations_CaseStudy II-checkpoint.ipynb', 'jupnotebook-checkpoint.ipynb', 'practise2-checkpoint.ipynb', 'practise3-checkpoint.ipynb']\n",
      "\n",
      "C:\\Users\\bpeddi\\Desktop\\Data Science\\Edureka\\Greeting\n",
      "['fold', 'wah']\n",
      "['hello.txt']\n",
      "\n",
      "C:\\Users\\bpeddi\\Desktop\\Data Science\\Edureka\\Greeting\\fold\n",
      "[]\n",
      "[]\n",
      "\n",
      "C:\\Users\\bpeddi\\Desktop\\Data Science\\Edureka\\Greeting\\wah\n",
      "[]\n",
      "[]\n",
      "\n",
      "C:\\Users\\bpeddi\\Desktop\\Data Science\\Percipio\n",
      "['.ipynb_checkpoints']\n",
      "['music.csv', 'Numpy Multidimentional Data.ipynb', 'Panda- Series & DataFrames.ipynb']\n",
      "\n",
      "C:\\Users\\bpeddi\\Desktop\\Data Science\\Percipio\\.ipynb_checkpoints\n",
      "[]\n",
      "['Numpy Multidimentional Data-checkpoint.ipynb', 'Panda- Series & DataFrames-checkpoint.ipynb']\n",
      "\n",
      "C:\\Users\\bpeddi\\Desktop\\Data Science\\test\n",
      "[]\n",
      "[]\n",
      "\n",
      "C:\\Users\\bpeddi\\Desktop\\Data Science\\__pycache__\n",
      "[]\n",
      "['moduletest.cpython-37.pyc', 'moduletest1.cpython-37.pyc']\n",
      "\n"
     ]
    }
   ],
   "source": [
    "import os\n",
    "\n",
    "for a,b,c in os.walk('C:\\\\Users\\\\bpeddi\\\\Desktop\\\\Data Science'):\n",
    "    print(a)\n",
    "    print(b)\n",
    "    print(c)\n",
    "    print(\"\")"
   ]
  },
  {
   "cell_type": "code",
   "execution_count": 3,
   "metadata": {},
   "outputs": [
    {
     "name": "stdout",
     "output_type": "stream",
     "text": [
      "C:\\Users\\bpeddi\\Desktop\\Data Science\\Edureka\\2_Sequences and File Operations_CaseStudy II.ipynb\n",
      "C:\\Users\\bpeddi\\Desktop\\Data Science\\Edureka\\practise1.ipynb\n",
      "C:\\Users\\bpeddi\\Desktop\\Data Science\\Edureka\\practise2.ipynb\n",
      "C:\\Users\\bpeddi\\Desktop\\Data Science\\Edureka\\practise3.ipynb\n",
      "C:\\Users\\bpeddi\\Desktop\\Data Science\\Edureka\\.ipynb_checkpoints\\2_Sequences and File Operations_CaseStudy II-checkpoint.ipynb\n",
      "C:\\Users\\bpeddi\\Desktop\\Data Science\\Edureka\\.ipynb_checkpoints\\jupnotebook-checkpoint.ipynb\n",
      "C:\\Users\\bpeddi\\Desktop\\Data Science\\Edureka\\.ipynb_checkpoints\\practise2-checkpoint.ipynb\n",
      "C:\\Users\\bpeddi\\Desktop\\Data Science\\Edureka\\.ipynb_checkpoints\\practise3-checkpoint.ipynb\n"
     ]
    }
   ],
   "source": [
    "import os\n",
    "\n",
    "for path, folders, files in os.walk('C:\\\\Users\\\\bpeddi\\\\Desktop\\\\Data Science\\\\Edureka'):\n",
    "    for each in files:\n",
    "        if each.endswith('.ipynb'):\n",
    "            print(os.path.join(path,each))\n",
    "            "
   ]
  },
  {
   "cell_type": "code",
   "execution_count": 4,
   "metadata": {},
   "outputs": [],
   "source": [
    "import math"
   ]
  },
  {
   "cell_type": "code",
   "execution_count": 6,
   "metadata": {},
   "outputs": [
    {
     "data": {
      "text/plain": [
       "3.141592653589793"
      ]
     },
     "execution_count": 6,
     "metadata": {},
     "output_type": "execute_result"
    }
   ],
   "source": [
    "math.pi"
   ]
  },
  {
   "cell_type": "code",
   "execution_count": 7,
   "metadata": {},
   "outputs": [
    {
     "data": {
      "text/plain": [
       "2323.0"
      ]
     },
     "execution_count": 7,
     "metadata": {},
     "output_type": "execute_result"
    }
   ],
   "source": [
    "math.fabs(-2323)"
   ]
  },
  {
   "cell_type": "code",
   "execution_count": 8,
   "metadata": {},
   "outputs": [
    {
     "data": {
      "text/plain": [
       "4.906890595608519"
      ]
     },
     "execution_count": 8,
     "metadata": {},
     "output_type": "execute_result"
    }
   ],
   "source": [
    "math.log2(30)"
   ]
  },
  {
   "cell_type": "code",
   "execution_count": 10,
   "metadata": {},
   "outputs": [],
   "source": [
    "import datetime"
   ]
  },
  {
   "cell_type": "code",
   "execution_count": 31,
   "metadata": {},
   "outputs": [
    {
     "name": "stdout",
     "output_type": "stream",
     "text": [
      "2019-11-08 11:13:28.711828\n",
      "2019-11-18 20:13:28.711828\n"
     ]
    }
   ],
   "source": [
    "start = datetime.datetime.now()\n",
    "end = start+datetime.timedelta(hours=249)\n",
    "print(start)\n",
    "print(end)"
   ]
  },
  {
   "cell_type": "code",
   "execution_count": 32,
   "metadata": {},
   "outputs": [
    {
     "data": {
      "text/plain": [
       "10.375"
      ]
     },
     "execution_count": 32,
     "metadata": {},
     "output_type": "execute_result"
    }
   ],
   "source": [
    "(end-start).days+(end-start).seconds/60/60/24"
   ]
  },
  {
   "cell_type": "code",
   "execution_count": 35,
   "metadata": {},
   "outputs": [
    {
     "data": {
      "text/plain": [
       "datetime.timedelta(days=7)"
      ]
     },
     "execution_count": 35,
     "metadata": {},
     "output_type": "execute_result"
    }
   ],
   "source": [
    "order = '1/11/2019'\n",
    "curr = '8/11/2019'\n",
    "\n",
    "ord1 = datetime.datetime.strptime(order,'%d/%m/%Y')\n",
    "curr1 = datetime.datetime.strptime(curr,'%d/%m/%Y')\n",
    "\n",
    "curr1-ord1"
   ]
  },
  {
   "cell_type": "code",
   "execution_count": 36,
   "metadata": {},
   "outputs": [],
   "source": [
    "from dateutil import parser"
   ]
  },
  {
   "cell_type": "code",
   "execution_count": 45,
   "metadata": {},
   "outputs": [
    {
     "data": {
      "text/plain": [
       "datetime.datetime(2019, 12, 13, 0, 0)"
      ]
     },
     "execution_count": 45,
     "metadata": {},
     "output_type": "execute_result"
    }
   ],
   "source": [
    "parser.parse(\"13/12/2019\")"
   ]
  },
  {
   "cell_type": "code",
   "execution_count": 47,
   "metadata": {},
   "outputs": [
    {
     "data": {
      "text/plain": [
       "13"
      ]
     },
     "execution_count": 47,
     "metadata": {},
     "output_type": "execute_result"
    }
   ],
   "source": [
    "start.minute"
   ]
  },
  {
   "cell_type": "code",
   "execution_count": 48,
   "metadata": {},
   "outputs": [],
   "source": [
    "import random"
   ]
  },
  {
   "cell_type": "code",
   "execution_count": 62,
   "metadata": {},
   "outputs": [
    {
     "data": {
      "text/plain": [
       "7"
      ]
     },
     "execution_count": 62,
     "metadata": {},
     "output_type": "execute_result"
    }
   ],
   "source": [
    "random.randrange(2,10)"
   ]
  },
  {
   "cell_type": "code",
   "execution_count": 61,
   "metadata": {},
   "outputs": [
    {
     "data": {
      "text/plain": [
       "[10, 11, 12, 13, 14, 15, 16, 17, 18, 19]"
      ]
     },
     "execution_count": 61,
     "metadata": {},
     "output_type": "execute_result"
    }
   ],
   "source": [
    "list(range(10,20))"
   ]
  },
  {
   "cell_type": "code",
   "execution_count": 76,
   "metadata": {},
   "outputs": [
    {
     "name": "stdout",
     "output_type": "stream",
     "text": [
      "Enter A : 8\n",
      "Enter B : 0\n",
      "<class 'ZeroDivisionError'>\n",
      "continuing code\n"
     ]
    }
   ],
   "source": [
    "import sys\n",
    "\n",
    "try:\n",
    "    a=int(input('Enter A : '))\n",
    "    b=int(input(\"Enter B : \"))\n",
    "    print(a/b)\n",
    "    \n",
    "except:\n",
    "    print(sys.exc_info()[0])\n",
    "    print(\"continuing code\")\n",
    "    "
   ]
  },
  {
   "cell_type": "code",
   "execution_count": 84,
   "metadata": {},
   "outputs": [
    {
     "name": "stdout",
     "output_type": "stream",
     "text": [
      "Enter A : g\n",
      "continuing code\n"
     ]
    }
   ],
   "source": [
    "import sys\n",
    "\n",
    "try:\n",
    "    a=int(input('Enter A : '))\n",
    "    b=int(input(\"Enter B : \"))\n",
    "    print(a/b)\n",
    "    \n",
    "except:\n",
    "    f=open('loggerfile', 'a')\n",
    "    f.write(str(sys.exc_info()[1]))\n",
    "    f.close()\n",
    "    print(\"continuing code\")\n",
    "    "
   ]
  },
  {
   "cell_type": "code",
   "execution_count": null,
   "metadata": {},
   "outputs": [],
   "source": []
  }
 ],
 "metadata": {
  "kernelspec": {
   "display_name": "Python 3",
   "language": "python",
   "name": "python3"
  },
  "language_info": {
   "codemirror_mode": {
    "name": "ipython",
    "version": 3
   },
   "file_extension": ".py",
   "mimetype": "text/x-python",
   "name": "python",
   "nbconvert_exporter": "python",
   "pygments_lexer": "ipython3",
   "version": "3.7.3"
  }
 },
 "nbformat": 4,
 "nbformat_minor": 2
}
