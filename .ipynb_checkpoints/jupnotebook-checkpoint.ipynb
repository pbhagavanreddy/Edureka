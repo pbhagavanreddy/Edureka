{
 "cells": [
  {
   "cell_type": "code",
   "execution_count": 6,
   "metadata": {},
   "outputs": [
    {
     "name": "stdout",
     "output_type": "stream",
     "text": [
      "John Smith\n",
      "Jan 17 219\n",
      "John Smith\n",
      "Mark\n"
     ]
    }
   ],
   "source": [
    "cust={\"name\":\"John Smith\",\"age\":30}\n",
    "print(cust[\"name\"])\n",
    "print(cust.get(\"dob\",\"Jan 17 219\"))\n",
    "print(cust.get(\"name\"))\n",
    "cust[\"name\"]=\"Mark\"\n",
    "print(cust[\"name\"])"
   ]
  },
  {
   "cell_type": "code",
   "execution_count": 10,
   "metadata": {},
   "outputs": [
    {
     "name": "stdout",
     "output_type": "stream",
     "text": [
      "> hello world how are you\n",
      "['hello', 'world', 'how', 'are', 'you']\n",
      "[(1, 'nope'), (2, 'world'), (3, 'how'), (4, 'are'), (5, 'you')]\n"
     ]
    }
   ],
   "source": [
    "abc=input('> ')\n",
    "msg = abc.split(' ')\n",
    "print(msg)\n",
    "msg[0]='nope'\n",
    "print(list(enumerate(msg, 1)))"
   ]
  },
  {
   "cell_type": "code",
   "execution_count": 37,
   "metadata": {},
   "outputs": [],
   "source": [
    "def blah(a, b):\n",
    "    x=a+b\n",
    "    return x\n",
    "blah(3,5)\n",
    "    "
   ]
  },
  {
   "cell_type": "code",
   "execution_count": 25,
   "metadata": {},
   "outputs": [
    {
     "name": "stdout",
     "output_type": "stream",
     "text": [
      "age: adaasdf\n",
      "age shud be numberic value\n"
     ]
    }
   ],
   "source": [
    "try:\n",
    "    age=int(input('age: '))\n",
    "    income=100000\n",
    "    risk=income/age\n",
    "    print(risk)\n",
    "except ZeroDivisionError:\n",
    "    print('age shud be > zero')\n",
    "except ValueError:\n",
    "    print('age shud be numberic value')\n"
   ]
  },
  {
   "cell_type": "code",
   "execution_count": 77,
   "metadata": {},
   "outputs": [
    {
     "name": "stdout",
     "output_type": "stream",
     "text": [
      "called addition\n",
      "101\n",
      "called subtraction\n"
     ]
    }
   ],
   "source": [
    "class Parent:\n",
    "    def addition(self):\n",
    "        print(\"called addition\")\n",
    "    def subtraction(self):\n",
    "        print('called subtraction')    \n",
    "obj = Parent()\n",
    "obj.x=101\n",
    "obj.addition()\n",
    "print(obj.x)\n",
    "obj.subtraction()"
   ]
  },
  {
   "cell_type": "code",
   "execution_count": 87,
   "metadata": {},
   "outputs": [
    {
     "name": "stdout",
     "output_type": "stream",
     "text": [
      "helo\n"
     ]
    }
   ],
   "source": [
    "print(\"helo\")"
   ]
  },
  {
   "cell_type": "code",
   "execution_count": 88,
   "metadata": {},
   "outputs": [
    {
     "data": {
      "text/plain": [
       "7"
      ]
     },
     "execution_count": 88,
     "metadata": {},
     "output_type": "execute_result"
    }
   ],
   "source": [
    "class Parent:\n",
    "    def addition(self, a,b):\n",
    "        c=a+b\n",
    "        return c\n",
    "\n",
    "obj = Parent()\n",
    "obj.addition(3,4)"
   ]
  },
  {
   "cell_type": "code",
   "execution_count": 108,
   "metadata": {},
   "outputs": [
    {
     "name": "stdout",
     "output_type": "stream",
     "text": [
      "7\n",
      "13\n"
     ]
    }
   ],
   "source": [
    "class Parent:\n",
    "    def __int__(self, a, b):\n",
    "        self.a=a\n",
    "        self.b=b\n",
    "    def addition(self, a,b):\n",
    "        c=a+b\n",
    "        return c\n",
    "    def sub(self):\n",
    "        print('caled in subtraction')\n",
    "\n",
    "obj = Parent()\n",
    "x=obj.addition(3,4)\n",
    "y=obj.addition(6,7)\n",
    "print(x)\n",
    "print(y)"
   ]
  },
  {
   "cell_type": "code",
   "execution_count": 111,
   "metadata": {},
   "outputs": [
    {
     "name": "stdout",
     "output_type": "stream",
     "text": [
      "parent 1st\n",
      "child 2nd\n"
     ]
    }
   ],
   "source": [
    "class Parent:\n",
    "    def abc(self):\n",
    "        print('parent 1st')\n",
    "class Child(Parent):\n",
    "    def efg(self):\n",
    "        print('child 2nd')\n",
    "class Child2(Parent):\n",
    "    pass\n",
    "\n",
    "pt = Child()\n",
    "pt.abc()\n",
    "pt.efg()\n"
   ]
  },
  {
   "cell_type": "code",
   "execution_count": 175,
   "metadata": {},
   "outputs": [
    {
     "name": "stdout",
     "output_type": "stream",
     "text": [
      "5 6\n"
     ]
    }
   ],
   "source": [
    "import random\n",
    "x=random.randint(1,6)\n",
    "y=random.randint(1,6)\n",
    "print(x, y)"
   ]
  },
  {
   "cell_type": "code",
   "execution_count": 6,
   "metadata": {},
   "outputs": [
    {
     "name": "stdout",
     "output_type": "stream",
     "text": [
      "['HipHop' 'Dance']\n"
     ]
    }
   ],
   "source": [
    "import pandas as pd\n",
    "from sklearn.tree import DecisionTreeClassifier\n",
    "music = pd.read_csv('music.csv')\n",
    "x = music.drop(columns=['genre'])\n",
    "y = music['genre']\n",
    "model = DecisionTreeClassifier()\n",
    "model.fit(x, y)\n",
    "predictors = model.predict([[21,1],[22,0]])\n",
    "print(predictors)"
   ]
  },
  {
   "cell_type": "code",
   "execution_count": 7,
   "metadata": {},
   "outputs": [
    {
     "data": {
      "text/plain": [
       "'C:\\\\Users\\\\bpeddi\\\\Desktop\\\\Data Science'"
      ]
     },
     "execution_count": 7,
     "metadata": {},
     "output_type": "execute_result"
    }
   ],
   "source": [
    "import os\n",
    "os.getcwd()"
   ]
  },
  {
   "cell_type": "code",
   "execution_count": 8,
   "metadata": {},
   "outputs": [
    {
     "name": "stdout",
     "output_type": "stream",
     "text": [
      "imported module is printed\n"
     ]
    }
   ],
   "source": [
    "import moduletest as mt"
   ]
  },
  {
   "cell_type": "code",
   "execution_count": 9,
   "metadata": {},
   "outputs": [
    {
     "data": {
      "text/plain": [
       "13"
      ]
     },
     "execution_count": 9,
     "metadata": {},
     "output_type": "execute_result"
    }
   ],
   "source": [
    "mt.add(6,7)"
   ]
  },
  {
   "cell_type": "code",
   "execution_count": 10,
   "metadata": {},
   "outputs": [
    {
     "name": "stdout",
     "output_type": "stream",
     "text": [
      "imported module is printed\n"
     ]
    },
    {
     "data": {
      "text/plain": [
       "14"
      ]
     },
     "execution_count": 10,
     "metadata": {},
     "output_type": "execute_result"
    }
   ],
   "source": [
    "import moduletest1 as mt\n",
    "mt.add(7,7)"
   ]
  },
  {
   "cell_type": "code",
   "execution_count": 11,
   "metadata": {},
   "outputs": [
    {
     "data": {
      "text/plain": [
       "'0b111'"
      ]
     },
     "execution_count": 11,
     "metadata": {},
     "output_type": "execute_result"
    }
   ],
   "source": [
    "bin(7)"
   ]
  },
  {
   "cell_type": "code",
   "execution_count": 7,
   "metadata": {},
   "outputs": [
    {
     "name": "stdout",
     "output_type": "stream",
     "text": [
      "<class 'enumerate'>\n",
      "[(0, 'milk'), (1, 'bread'), (2, 'eggs')]\n",
      "[(7, 'milk'), (8, 'bread'), (9, 'eggs')]\n"
     ]
    }
   ],
   "source": [
    "gros=['milk','bread','eggs']\n",
    "print(type(enumerate(gros)))\n",
    "print(list(enumerate(gros)))\n",
    "print(list(enumerate(gros, 7)))"
   ]
  },
  {
   "cell_type": "code",
   "execution_count": 14,
   "metadata": {},
   "outputs": [
    {
     "data": {
      "text/plain": [
       "28"
      ]
     },
     "execution_count": 14,
     "metadata": {},
     "output_type": "execute_result"
    }
   ],
   "source": [
    "ans=(lambda z: z*4)\n",
    "ans(7)"
   ]
  },
  {
   "cell_type": "code",
   "execution_count": 34,
   "metadata": {},
   "outputs": [
    {
     "name": "stdout",
     "output_type": "stream",
     "text": [
      "[4, 16, 36, 49]\n"
     ]
    }
   ],
   "source": [
    "item=[2, 4, 6, 7]\n",
    "lll=list(map(lambda x: x**2, item))\n",
    "print(lll)"
   ]
  },
  {
   "cell_type": "code",
   "execution_count": 37,
   "metadata": {},
   "outputs": [
    {
     "name": "stdout",
     "output_type": "stream",
     "text": [
      "[-5, -4, -3, -2, -1, 0]\n"
     ]
    }
   ],
   "source": [
    "num3=range(-5, 5)\n",
    "zeros=list(filter(lambda z: z<=0, num3))\n",
    "print(zeros)"
   ]
  },
  {
   "cell_type": "code",
   "execution_count": 11,
   "metadata": {},
   "outputs": [
    {
     "name": "stdout",
     "output_type": "stream",
     "text": [
      "[True, True, True, True, True, True, False, False, False, False]\n"
     ]
    }
   ],
   "source": [
    "num3=range(-5, 5)\n",
    "zeros=list(map(lambda z: z<=0, num3))\n",
    "print(zeros)"
   ]
  },
  {
   "cell_type": "code",
   "execution_count": 43,
   "metadata": {},
   "outputs": [
    {
     "name": "stdout",
     "output_type": "stream",
     "text": [
      "10\n",
      "21\n",
      "7\n",
      "10\n"
     ]
    }
   ],
   "source": [
    "def add(a, b, c, d=15):\n",
    "    x=a+b+c+d\n",
    "    return(x)\n",
    "\n",
    "print(add(1,2,3,4))\n",
    "print(add(1,2,3))\n",
    "print(add(1, d=1,b=2,c=3))\n",
    "print(add(1,2,3))"
   ]
  },
  {
   "cell_type": "code",
   "execution_count": 59,
   "metadata": {},
   "outputs": [
    {
     "name": "stdout",
     "output_type": "stream",
     "text": [
      "('b', 'c', 'd')\n",
      "('b', 'c', 'd')\n",
      "('b', 'c', 'd')\n"
     ]
    }
   ],
   "source": [
    "def info(a, *b):\n",
    "    for each in b:\n",
    "        print(b)\n",
    "    \n",
    "info(\"a\", \"b\", \"c\", \"d\")"
   ]
  },
  {
   "cell_type": "code",
   "execution_count": 21,
   "metadata": {},
   "outputs": [
    {
     "name": "stdout",
     "output_type": "stream",
     "text": [
      "4\n",
      "(5, 6, 7, 8, 9, 10)\n",
      "{'name': 'suni', 'city': 'hyd', 'age': 22}\n"
     ]
    }
   ],
   "source": [
    "def milo(arg1, arg2, arg3, arg4, *args, **kwargs): \n",
    "    print(arg4)\n",
    "    print(args)\n",
    "    print(kwargs)       \n",
    "          \n",
    "\n",
    "milo(1,2,3,4,5,6,7,8,9,10, name='suni', city='hyd', age=22)  "
   ]
  },
  {
   "cell_type": "code",
   "execution_count": 23,
   "metadata": {},
   "outputs": [
    {
     "name": "stdout",
     "output_type": "stream",
     "text": [
      "4\n",
      "(5, 6, 7, 8, 9, 10)\n",
      "name suni\n",
      "city hyd\n",
      "age 22\n"
     ]
    }
   ],
   "source": [
    "def milo(arg1, arg2, arg3, arg4, *args, **kwargs): \n",
    "    print(arg4)\n",
    "    print(args)\n",
    "    \n",
    "    for key, value in kwargs.items():\n",
    "        print(key, value)       \n",
    "          \n",
    "\n",
    "milo(1,2,3,4,5,6,7,8,9,10, name='suni', city='hyd', age=22)  "
   ]
  },
  {
   "cell_type": "code",
   "execution_count": 16,
   "metadata": {},
   "outputs": [
    {
     "name": "stdout",
     "output_type": "stream",
     "text": [
      "(2, 8)\n",
      "(3, 27)\n",
      "(4, 64)\n",
      "(5, 125)\n"
     ]
    }
   ],
   "source": [
    "ser=[2,3,4,5]\n",
    "\n",
    "for i in map(lambda x: (x,x**3), ser):\n",
    "    print(i)"
   ]
  },
  {
   "cell_type": "code",
   "execution_count": 18,
   "metadata": {},
   "outputs": [
    {
     "name": "stdout",
     "output_type": "stream",
     "text": [
      "[(2, 8), (3, 27), (4, 64), (5, 125)]\n"
     ]
    }
   ],
   "source": [
    "ser=[2,3,4,5]\n",
    "\n",
    "c = list(map(lambda x: (x,x**3), ser))\n",
    "print(c)"
   ]
  },
  {
   "cell_type": "code",
   "execution_count": 23,
   "metadata": {},
   "outputs": [
    {
     "data": {
      "text/plain": [
       "True"
      ]
     },
     "execution_count": 23,
     "metadata": {},
     "output_type": "execute_result"
    }
   ],
   "source": [
    "iseve = lambda x: True if x%2==0 else False\n",
    "iseve(8)"
   ]
  },
  {
   "cell_type": "code",
   "execution_count": 24,
   "metadata": {},
   "outputs": [
    {
     "data": {
      "text/plain": [
       "['C:\\\\Users\\\\bpeddi\\\\Desktop\\\\Data Science',\n",
       " 'C:\\\\Users\\\\bpeddi\\\\AppData\\\\Local\\\\Continuum\\\\anaconda3\\\\python37.zip',\n",
       " 'C:\\\\Users\\\\bpeddi\\\\AppData\\\\Local\\\\Continuum\\\\anaconda3\\\\DLLs',\n",
       " 'C:\\\\Users\\\\bpeddi\\\\AppData\\\\Local\\\\Continuum\\\\anaconda3\\\\lib',\n",
       " 'C:\\\\Users\\\\bpeddi\\\\AppData\\\\Local\\\\Continuum\\\\anaconda3',\n",
       " '',\n",
       " 'C:\\\\Users\\\\bpeddi\\\\AppData\\\\Local\\\\Continuum\\\\anaconda3\\\\lib\\\\site-packages',\n",
       " 'C:\\\\Users\\\\bpeddi\\\\AppData\\\\Local\\\\Continuum\\\\anaconda3\\\\lib\\\\site-packages\\\\win32',\n",
       " 'C:\\\\Users\\\\bpeddi\\\\AppData\\\\Local\\\\Continuum\\\\anaconda3\\\\lib\\\\site-packages\\\\win32\\\\lib',\n",
       " 'C:\\\\Users\\\\bpeddi\\\\AppData\\\\Local\\\\Continuum\\\\anaconda3\\\\lib\\\\site-packages\\\\Pythonwin',\n",
       " 'C:\\\\Users\\\\bpeddi\\\\AppData\\\\Local\\\\Continuum\\\\anaconda3\\\\lib\\\\site-packages\\\\IPython\\\\extensions',\n",
       " 'C:\\\\Users\\\\bpeddi\\\\.ipython']"
      ]
     },
     "execution_count": 24,
     "metadata": {},
     "output_type": "execute_result"
    }
   ],
   "source": [
    "import sys\n",
    "sys.path"
   ]
  },
  {
   "cell_type": "code",
   "execution_count": 26,
   "metadata": {},
   "outputs": [],
   "source": [
    "sys.path.append('C:\\\\Users\\\\bpeddi\\\\Downloads\\\\edureka module')"
   ]
  },
  {
   "cell_type": "code",
   "execution_count": 27,
   "metadata": {},
   "outputs": [
    {
     "data": {
      "text/plain": [
       "['C:\\\\Users\\\\bpeddi\\\\Desktop\\\\Data Science',\n",
       " 'C:\\\\Users\\\\bpeddi\\\\AppData\\\\Local\\\\Continuum\\\\anaconda3\\\\python37.zip',\n",
       " 'C:\\\\Users\\\\bpeddi\\\\AppData\\\\Local\\\\Continuum\\\\anaconda3\\\\DLLs',\n",
       " 'C:\\\\Users\\\\bpeddi\\\\AppData\\\\Local\\\\Continuum\\\\anaconda3\\\\lib',\n",
       " 'C:\\\\Users\\\\bpeddi\\\\AppData\\\\Local\\\\Continuum\\\\anaconda3',\n",
       " '',\n",
       " 'C:\\\\Users\\\\bpeddi\\\\AppData\\\\Local\\\\Continuum\\\\anaconda3\\\\lib\\\\site-packages',\n",
       " 'C:\\\\Users\\\\bpeddi\\\\AppData\\\\Local\\\\Continuum\\\\anaconda3\\\\lib\\\\site-packages\\\\win32',\n",
       " 'C:\\\\Users\\\\bpeddi\\\\AppData\\\\Local\\\\Continuum\\\\anaconda3\\\\lib\\\\site-packages\\\\win32\\\\lib',\n",
       " 'C:\\\\Users\\\\bpeddi\\\\AppData\\\\Local\\\\Continuum\\\\anaconda3\\\\lib\\\\site-packages\\\\Pythonwin',\n",
       " 'C:\\\\Users\\\\bpeddi\\\\AppData\\\\Local\\\\Continuum\\\\anaconda3\\\\lib\\\\site-packages\\\\IPython\\\\extensions',\n",
       " 'C:\\\\Users\\\\bpeddi\\\\.ipython',\n",
       " 'C:\\\\Users\\\\bpeddi\\\\Downloads\\\\edureka module']"
      ]
     },
     "execution_count": 27,
     "metadata": {},
     "output_type": "execute_result"
    }
   ],
   "source": [
    "sys.path"
   ]
  },
  {
   "cell_type": "code",
   "execution_count": 29,
   "metadata": {},
   "outputs": [
    {
     "name": "stdout",
     "output_type": "stream",
     "text": [
      "ONE\n"
     ]
    }
   ],
   "source": [
    "import diffpath as dp\n",
    "dp.one(1, 2)"
   ]
  },
  {
   "cell_type": "code",
   "execution_count": null,
   "metadata": {},
   "outputs": [],
   "source": []
  }
 ],
 "metadata": {
  "kernelspec": {
   "display_name": "Python 3",
   "language": "python",
   "name": "python3"
  },
  "language_info": {
   "codemirror_mode": {
    "name": "ipython",
    "version": 3
   },
   "file_extension": ".py",
   "mimetype": "text/x-python",
   "name": "python",
   "nbconvert_exporter": "python",
   "pygments_lexer": "ipython3",
   "version": "3.7.3"
  }
 },
 "nbformat": 4,
 "nbformat_minor": 2
}
