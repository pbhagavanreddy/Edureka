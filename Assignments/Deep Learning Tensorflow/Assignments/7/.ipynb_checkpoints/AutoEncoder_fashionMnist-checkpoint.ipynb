{
 "cells": [
  {
   "cell_type": "code",
   "execution_count": 3,
   "metadata": {
    "colab": {
     "base_uri": "https://localhost:8080/",
     "height": 34
    },
    "colab_type": "code",
    "id": "II32CC3aQwoC",
    "outputId": "18e43f54-c798-4b5a-beca-188cd30b97ac"
   },
   "outputs": [
    {
     "name": "stderr",
     "output_type": "stream",
     "text": [
      "Using TensorFlow backend.\n"
     ]
    }
   ],
   "source": [
    "from keras.layers import Input, Dense\n",
    "from keras.models import Model"
   ]
  },
  {
   "cell_type": "code",
   "execution_count": 4,
   "metadata": {
    "colab": {},
    "colab_type": "code",
    "id": "x1Y5czahSmp3"
   },
   "outputs": [],
   "source": [
    "# this is the size of our encoded representations\n",
    "encoding_dim = 32  # 32 floats -> compression of factor 24.5, assuming the input is 784 floats\n",
    "\n",
    "# this is our input placeholder\n",
    "input_img = Input(shape=(784,))\n",
    "# \"encoded\" is the encoded representation of the input\n",
    "\n",
    "encoded = Dense(encoding_dim, activation='relu')(input_img)\n",
    "# \"decoded\" is the lossy reconstruction of the input\n",
    "decoded = Dense(784, activation='sigmoid')(encoded)\n",
    "\n",
    "# this model maps an input to its reconstruction\n",
    "autoencoder = Model(input_img, decoded)\n",
    "\n",
    "# this model maps an input to its encoded representation\n",
    "encoder = Model(input_img, encoded)\n",
    "\n",
    "# create a placeholder for an encoded (32-dimensional) input\n",
    "encoded_input = Input(shape=(encoding_dim,))\n",
    "# retrieve the last layer of the autoencoder model\n",
    "decoder_layer = autoencoder.layers[-1]\n",
    "# create the decoder model\n",
    "decoder = Model(encoded_input, decoder_layer(encoded_input))"
   ]
  },
  {
   "cell_type": "code",
   "execution_count": 5,
   "metadata": {
    "colab": {},
    "colab_type": "code",
    "id": "XUvz-lDHaKa6"
   },
   "outputs": [],
   "source": [
    "autoencoder.compile(optimizer='adadelta', loss='binary_crossentropy')"
   ]
  },
  {
   "cell_type": "code",
   "execution_count": 6,
   "metadata": {
    "colab": {
     "base_uri": "https://localhost:8080/",
     "height": 153
    },
    "colab_type": "code",
    "id": "mPphI0ilaKda",
    "outputId": "7c957565-d280-4cc4-c8b6-fcf829553819"
   },
   "outputs": [
    {
     "name": "stdout",
     "output_type": "stream",
     "text": [
      "Downloading data from http://fashion-mnist.s3-website.eu-central-1.amazonaws.com/train-labels-idx1-ubyte.gz\n",
      "32768/29515 [=================================] - 0s 4us/step\n",
      "Downloading data from http://fashion-mnist.s3-website.eu-central-1.amazonaws.com/train-images-idx3-ubyte.gz\n",
      "26427392/26421880 [==============================] - 2s 0us/step\n",
      "Downloading data from http://fashion-mnist.s3-website.eu-central-1.amazonaws.com/t10k-labels-idx1-ubyte.gz\n",
      "8192/5148 [===============================================] - 0s 0us/step\n",
      "Downloading data from http://fashion-mnist.s3-website.eu-central-1.amazonaws.com/t10k-images-idx3-ubyte.gz\n",
      "4423680/4422102 [==============================] - 1s 0us/step\n"
     ]
    }
   ],
   "source": [
    "from keras.datasets import fashion_mnist\n",
    "import numpy as np\n",
    "\n",
    "(x_train, y_train), (x_test, y_test) = fashion_mnist.load_data()"
   ]
  },
  {
   "cell_type": "code",
   "execution_count": 7,
   "metadata": {
    "colab": {
     "base_uri": "https://localhost:8080/",
     "height": 51
    },
    "colab_type": "code",
    "id": "hWqtRzZOaKf2",
    "outputId": "df3f858a-e4da-4765-c022-aa5c54e5cf7a"
   },
   "outputs": [
    {
     "name": "stdout",
     "output_type": "stream",
     "text": [
      "(60000, 784)\n",
      "(10000, 784)\n"
     ]
    }
   ],
   "source": [
    "x_train = x_train.astype('float32') / 255.\n",
    "x_test = x_test.astype('float32') / 255.\n",
    "x_train = x_train.reshape((len(x_train), np.prod(x_train.shape[1:])))\n",
    "x_test = x_test.reshape((len(x_test), np.prod(x_test.shape[1:])))\n",
    "print (x_train.shape)\n",
    "print (x_test.shape)"
   ]
  },
  {
   "cell_type": "code",
   "execution_count": 8,
   "metadata": {
    "colab": {
     "base_uri": "https://localhost:8080/",
     "height": 1000
    },
    "colab_type": "code",
    "id": "lyK1wFQjafO7",
    "outputId": "636d2b42-42dc-4c71-c678-e055b8ec42c8"
   },
   "outputs": [
    {
     "name": "stdout",
     "output_type": "stream",
     "text": [
      "Train on 60000 samples, validate on 10000 samples\n",
      "Epoch 1/50\n",
      "60000/60000 [==============================] - 2s 41us/step - loss: 0.5333 - val_loss: 0.4638\n",
      "Epoch 2/50\n",
      "60000/60000 [==============================] - 1s 14us/step - loss: 0.4287 - val_loss: 0.4068\n",
      "Epoch 3/50\n",
      "60000/60000 [==============================] - 1s 14us/step - loss: 0.3955 - val_loss: 0.3877\n",
      "Epoch 4/50\n",
      "60000/60000 [==============================] - 1s 13us/step - loss: 0.3783 - val_loss: 0.3723\n",
      "Epoch 5/50\n",
      "60000/60000 [==============================] - 1s 14us/step - loss: 0.3640 - val_loss: 0.3593\n",
      "Epoch 6/50\n",
      "60000/60000 [==============================] - 1s 14us/step - loss: 0.3519 - val_loss: 0.3486\n",
      "Epoch 7/50\n",
      "60000/60000 [==============================] - 1s 14us/step - loss: 0.3426 - val_loss: 0.3407\n",
      "Epoch 8/50\n",
      "60000/60000 [==============================] - 1s 14us/step - loss: 0.3357 - val_loss: 0.3348\n",
      "Epoch 9/50\n",
      "60000/60000 [==============================] - 1s 14us/step - loss: 0.3305 - val_loss: 0.3303\n",
      "Epoch 10/50\n",
      "60000/60000 [==============================] - 1s 14us/step - loss: 0.3264 - val_loss: 0.3266\n",
      "Epoch 11/50\n",
      "60000/60000 [==============================] - 1s 14us/step - loss: 0.3230 - val_loss: 0.3235\n",
      "Epoch 12/50\n",
      "60000/60000 [==============================] - 1s 15us/step - loss: 0.3202 - val_loss: 0.3209\n",
      "Epoch 13/50\n",
      "60000/60000 [==============================] - 1s 14us/step - loss: 0.3177 - val_loss: 0.3186\n",
      "Epoch 14/50\n",
      "60000/60000 [==============================] - 1s 14us/step - loss: 0.3156 - val_loss: 0.3167\n",
      "Epoch 15/50\n",
      "60000/60000 [==============================] - 1s 14us/step - loss: 0.3138 - val_loss: 0.3151\n",
      "Epoch 16/50\n",
      "60000/60000 [==============================] - 1s 14us/step - loss: 0.3122 - val_loss: 0.3135\n",
      "Epoch 17/50\n",
      "60000/60000 [==============================] - 1s 13us/step - loss: 0.3109 - val_loss: 0.3123\n",
      "Epoch 18/50\n",
      "60000/60000 [==============================] - 1s 14us/step - loss: 0.3097 - val_loss: 0.3112\n",
      "Epoch 19/50\n",
      "60000/60000 [==============================] - 1s 14us/step - loss: 0.3086 - val_loss: 0.3102\n",
      "Epoch 20/50\n",
      "60000/60000 [==============================] - 1s 14us/step - loss: 0.3077 - val_loss: 0.3093\n",
      "Epoch 21/50\n",
      "60000/60000 [==============================] - 1s 14us/step - loss: 0.3068 - val_loss: 0.3085\n",
      "Epoch 22/50\n",
      "60000/60000 [==============================] - 1s 14us/step - loss: 0.3061 - val_loss: 0.3078\n",
      "Epoch 23/50\n",
      "60000/60000 [==============================] - 1s 14us/step - loss: 0.3054 - val_loss: 0.3071\n",
      "Epoch 24/50\n",
      "60000/60000 [==============================] - 1s 14us/step - loss: 0.3047 - val_loss: 0.3065\n",
      "Epoch 25/50\n",
      "60000/60000 [==============================] - 1s 14us/step - loss: 0.3041 - val_loss: 0.3059\n",
      "Epoch 26/50\n",
      "60000/60000 [==============================] - 1s 14us/step - loss: 0.3035 - val_loss: 0.3053\n",
      "Epoch 27/50\n",
      "60000/60000 [==============================] - 1s 14us/step - loss: 0.3030 - val_loss: 0.3048\n",
      "Epoch 28/50\n",
      "60000/60000 [==============================] - 1s 14us/step - loss: 0.3025 - val_loss: 0.3043\n",
      "Epoch 29/50\n",
      "60000/60000 [==============================] - 1s 14us/step - loss: 0.3020 - val_loss: 0.3038\n",
      "Epoch 30/50\n",
      "60000/60000 [==============================] - 1s 14us/step - loss: 0.3015 - val_loss: 0.3033\n",
      "Epoch 31/50\n",
      "60000/60000 [==============================] - 1s 14us/step - loss: 0.3010 - val_loss: 0.3029\n",
      "Epoch 32/50\n",
      "60000/60000 [==============================] - 1s 13us/step - loss: 0.3005 - val_loss: 0.3024\n",
      "Epoch 33/50\n",
      "60000/60000 [==============================] - 1s 13us/step - loss: 0.3000 - val_loss: 0.3019\n",
      "Epoch 34/50\n",
      "60000/60000 [==============================] - 1s 13us/step - loss: 0.2996 - val_loss: 0.3015\n",
      "Epoch 35/50\n",
      "60000/60000 [==============================] - 1s 14us/step - loss: 0.2992 - val_loss: 0.3010\n",
      "Epoch 36/50\n",
      "60000/60000 [==============================] - 1s 14us/step - loss: 0.2987 - val_loss: 0.3006\n",
      "Epoch 37/50\n",
      "60000/60000 [==============================] - 1s 13us/step - loss: 0.2983 - val_loss: 0.3002\n",
      "Epoch 38/50\n",
      "60000/60000 [==============================] - 1s 14us/step - loss: 0.2979 - val_loss: 0.2998\n",
      "Epoch 39/50\n",
      "60000/60000 [==============================] - 1s 13us/step - loss: 0.2975 - val_loss: 0.2994\n",
      "Epoch 40/50\n",
      "60000/60000 [==============================] - 1s 13us/step - loss: 0.2971 - val_loss: 0.2990\n",
      "Epoch 41/50\n",
      "60000/60000 [==============================] - 1s 14us/step - loss: 0.2967 - val_loss: 0.2987\n",
      "Epoch 42/50\n",
      "60000/60000 [==============================] - 1s 13us/step - loss: 0.2964 - val_loss: 0.2983\n",
      "Epoch 43/50\n",
      "60000/60000 [==============================] - 1s 13us/step - loss: 0.2960 - val_loss: 0.2980\n",
      "Epoch 44/50\n",
      "60000/60000 [==============================] - 1s 13us/step - loss: 0.2957 - val_loss: 0.2977\n",
      "Epoch 45/50\n",
      "60000/60000 [==============================] - 1s 13us/step - loss: 0.2954 - val_loss: 0.2973\n",
      "Epoch 46/50\n",
      "60000/60000 [==============================] - 1s 14us/step - loss: 0.2950 - val_loss: 0.2970\n",
      "Epoch 47/50\n",
      "60000/60000 [==============================] - 1s 14us/step - loss: 0.2947 - val_loss: 0.2967\n",
      "Epoch 48/50\n",
      "60000/60000 [==============================] - 1s 14us/step - loss: 0.2944 - val_loss: 0.2964\n",
      "Epoch 49/50\n",
      "60000/60000 [==============================] - 1s 13us/step - loss: 0.2942 - val_loss: 0.2962\n",
      "Epoch 50/50\n",
      "60000/60000 [==============================] - 1s 13us/step - loss: 0.2939 - val_loss: 0.2959\n"
     ]
    },
    {
     "data": {
      "text/plain": [
       "<keras.callbacks.callbacks.History at 0x7fc3803d6748>"
      ]
     },
     "execution_count": 8,
     "metadata": {
      "tags": []
     },
     "output_type": "execute_result"
    }
   ],
   "source": [
    "autoencoder.fit(x_train, x_train,\n",
    "                epochs=50,\n",
    "                batch_size=256,\n",
    "                shuffle=True,\n",
    "                validation_data=(x_test, x_test))"
   ]
  },
  {
   "cell_type": "code",
   "execution_count": 9,
   "metadata": {
    "colab": {},
    "colab_type": "code",
    "id": "EV6eZbIoahGY"
   },
   "outputs": [],
   "source": [
    "# encode and decode some digits\n",
    "# note that we take them from the *test* set\n",
    "encoded_imgs = encoder.predict(x_test)\n",
    "decoded_imgs = decoder.predict(encoded_imgs)"
   ]
  },
  {
   "cell_type": "code",
   "execution_count": 10,
   "metadata": {
    "colab": {
     "base_uri": "https://localhost:8080/",
     "height": 248
    },
    "colab_type": "code",
    "id": "xU3-8m80ahJB",
    "outputId": "d3f8ed74-8884-4f6e-fcd7-00d7249bf0d9"
   },
   "outputs": [
    {
     "data": {
      "image/png": "[encoded data removed]",
      "text/plain": [
       "<Figure size 1440x288 with 20 Axes>"
      ]
     },
     "metadata": {
      "needs_background": "light",
      "tags": []
     },
     "output_type": "display_data"
    }
   ],
   "source": [
    "# use Matplotlib (don't ask)\n",
    "import matplotlib.pyplot as plt\n",
    "\n",
    "n = 10  # how many digits we will display\n",
    "plt.figure(figsize=(20, 4))\n",
    "for i in range(n):\n",
    "    # display original\n",
    "    ax = plt.subplot(2, n, i + 1)\n",
    "    plt.imshow(x_test[i].reshape(28, 28))\n",
    "    plt.gray()\n",
    "    ax.get_xaxis().set_visible(False)\n",
    "    ax.get_yaxis().set_visible(False)\n",
    "\n",
    "    # display reconstruction\n",
    "    ax = plt.subplot(2, n, i + 1 + n)\n",
    "    plt.imshow(decoded_imgs[i].reshape(28, 28))\n",
    "    plt.gray()\n",
    "    ax.get_xaxis().set_visible(False)\n",
    "    ax.get_yaxis().set_visible(False)\n",
    "plt.show()"
   ]
  },
  {
   "cell_type": "code",
   "execution_count": null,
   "metadata": {
    "colab": {},
    "colab_type": "code",
    "id": "TNiw08wXahL4"
   },
   "outputs": [],
   "source": []
  }
 ],
 "metadata": {
  "accelerator": "GPU",
  "colab": {
   "collapsed_sections": [],
   "name": "AutoEncoder_fashionMnist.ipynb",
   "provenance": []
  },
  "kernelspec": {
   "display_name": "Python 3",
   "language": "python",
   "name": "python3"
  },
  "language_info": {
   "codemirror_mode": {
    "name": "ipython",
    "version": 3
   },
   "file_extension": ".py",
   "mimetype": "text/x-python",
   "name": "python",
   "nbconvert_exporter": "python",
   "pygments_lexer": "ipython3",
   "version": "3.7.4"
  }
 },
 "nbformat": 4,
 "nbformat_minor": 1
}
