{
 "cells": [
  {
   "cell_type": "code",
   "execution_count": 1,
   "metadata": {},
   "outputs": [],
   "source": [
    "import pandas as pd\n",
    "import numpy as np\n",
    "import matplotlib.pyplot as plt\n",
    "import tensorflow as tf\n",
    "from sklearn.model_selection import train_test_split\n",
    "from sklearn.preprocessing import LabelEncoder, OneHotEncoder\n",
    "from sklearn.utils import shuffle"
   ]
  },
  {
   "cell_type": "code",
   "execution_count": 3,
   "metadata": {},
   "outputs": [],
   "source": [
    "df = pd.read_csv('wine.csv')\n",
    "X = df[df.columns[1:14]].values\n",
    "y = df[df.columns[0]]"
   ]
  },
  {
   "cell_type": "code",
   "execution_count": 4,
   "metadata": {},
   "outputs": [
    {
     "data": {
      "text/plain": [
       "Wine                    0\n",
       "Alcohol                 0\n",
       "Malic.acid              0\n",
       "Ash                     0\n",
       "Acl                     0\n",
       "Mg                      0\n",
       "Phenols                 0\n",
       "Flavanoids              0\n",
       "Nonflavanoid.phenols    0\n",
       "Proanth                 0\n",
       "Color.int               0\n",
       "Hue                     0\n",
       "OD                      0\n",
       "Proline                 0\n",
       "dtype: int64"
      ]
     },
     "execution_count": 4,
     "metadata": {},
     "output_type": "execute_result"
    }
   ],
   "source": [
    "df.isna().sum()"
   ]
  },
  {
   "cell_type": "code",
   "execution_count": 5,
   "metadata": {},
   "outputs": [
    {
     "data": {
      "text/plain": [
       "array([[1.423e+01, 1.710e+00, 2.430e+00, ..., 1.040e+00, 3.920e+00,\n",
       "        1.065e+03],\n",
       "       [1.320e+01, 1.780e+00, 2.140e+00, ..., 1.050e+00, 3.400e+00,\n",
       "        1.050e+03],\n",
       "       [1.316e+01, 2.360e+00, 2.670e+00, ..., 1.030e+00, 3.170e+00,\n",
       "        1.185e+03],\n",
       "       ...,\n",
       "       [1.327e+01, 4.280e+00, 2.260e+00, ..., 5.900e-01, 1.560e+00,\n",
       "        8.350e+02],\n",
       "       [1.317e+01, 2.590e+00, 2.370e+00, ..., 6.000e-01, 1.620e+00,\n",
       "        8.400e+02],\n",
       "       [1.413e+01, 4.100e+00, 2.740e+00, ..., 6.100e-01, 1.600e+00,\n",
       "        5.600e+02]])"
      ]
     },
     "execution_count": 5,
     "metadata": {},
     "output_type": "execute_result"
    }
   ],
   "source": [
    "X"
   ]
  },
  {
   "cell_type": "code",
   "execution_count": 7,
   "metadata": {},
   "outputs": [
    {
     "data": {
      "text/plain": [
       "0      1\n",
       "1      1\n",
       "2      1\n",
       "3      1\n",
       "4      1\n",
       "      ..\n",
       "173    3\n",
       "174    3\n",
       "175    3\n",
       "176    3\n",
       "177    3\n",
       "Name: Wine, Length: 178, dtype: int64"
      ]
     },
     "execution_count": 7,
     "metadata": {},
     "output_type": "execute_result"
    }
   ],
   "source": [
    "y"
   ]
  },
  {
   "cell_type": "code",
   "execution_count": 8,
   "metadata": {},
   "outputs": [
    {
     "name": "stdout",
     "output_type": "stream",
     "text": [
      "(178, 13)\n",
      "(178,)\n"
     ]
    }
   ],
   "source": [
    "print(X.shape)\n",
    "print(y.shape)"
   ]
  },
  {
   "cell_type": "code",
   "execution_count": 11,
   "metadata": {},
   "outputs": [],
   "source": [
    "encoder = LabelEncoder()\n",
    "encoder.fit(y)\n",
    "y = encoder.transform(y)"
   ]
  },
  {
   "cell_type": "code",
   "execution_count": 12,
   "metadata": {},
   "outputs": [
    {
     "data": {
      "text/plain": [
       "array([0, 0, 0, 0, 0, 0, 0, 0, 0, 0, 0, 0, 0, 0, 0, 0, 0, 0, 0, 0, 0, 0,\n",
       "       0, 0, 0, 0, 0, 0, 0, 0, 0, 0, 0, 0, 0, 0, 0, 0, 0, 0, 0, 0, 0, 0,\n",
       "       0, 0, 0, 0, 0, 0, 0, 0, 0, 0, 0, 0, 0, 0, 0, 1, 1, 1, 1, 1, 1, 1,\n",
       "       1, 1, 1, 1, 1, 1, 1, 1, 1, 1, 1, 1, 1, 1, 1, 1, 1, 1, 1, 1, 1, 1,\n",
       "       1, 1, 1, 1, 1, 1, 1, 1, 1, 1, 1, 1, 1, 1, 1, 1, 1, 1, 1, 1, 1, 1,\n",
       "       1, 1, 1, 1, 1, 1, 1, 1, 1, 1, 1, 1, 1, 1, 1, 1, 1, 1, 1, 1, 2, 2,\n",
       "       2, 2, 2, 2, 2, 2, 2, 2, 2, 2, 2, 2, 2, 2, 2, 2, 2, 2, 2, 2, 2, 2,\n",
       "       2, 2, 2, 2, 2, 2, 2, 2, 2, 2, 2, 2, 2, 2, 2, 2, 2, 2, 2, 2, 2, 2,\n",
       "       2, 2], dtype=int64)"
      ]
     },
     "execution_count": 12,
     "metadata": {},
     "output_type": "execute_result"
    }
   ],
   "source": [
    "y"
   ]
  },
  {
   "cell_type": "code",
   "execution_count": 13,
   "metadata": {},
   "outputs": [],
   "source": [
    "n_labels = len(y)\n",
    "n_unique_labels = len(np.unique(y))\n",
    "one_hot_encode = np.zeros((n_labels, n_unique_labels))\n",
    "one_hot_encode[np.arange(n_labels), y] = 1"
   ]
  },
  {
   "cell_type": "code",
   "execution_count": 14,
   "metadata": {},
   "outputs": [
    {
     "data": {
      "text/plain": [
       "array([[1., 0., 0.],\n",
       "       [1., 0., 0.],\n",
       "       [1., 0., 0.],\n",
       "       [1., 0., 0.],\n",
       "       [1., 0., 0.],\n",
       "       [1., 0., 0.],\n",
       "       [1., 0., 0.],\n",
       "       [1., 0., 0.],\n",
       "       [1., 0., 0.],\n",
       "       [1., 0., 0.],\n",
       "       [1., 0., 0.],\n",
       "       [1., 0., 0.],\n",
       "       [1., 0., 0.],\n",
       "       [1., 0., 0.],\n",
       "       [1., 0., 0.],\n",
       "       [1., 0., 0.],\n",
       "       [1., 0., 0.],\n",
       "       [1., 0., 0.],\n",
       "       [1., 0., 0.],\n",
       "       [1., 0., 0.],\n",
       "       [1., 0., 0.],\n",
       "       [1., 0., 0.],\n",
       "       [1., 0., 0.],\n",
       "       [1., 0., 0.],\n",
       "       [1., 0., 0.],\n",
       "       [1., 0., 0.],\n",
       "       [1., 0., 0.],\n",
       "       [1., 0., 0.],\n",
       "       [1., 0., 0.],\n",
       "       [1., 0., 0.],\n",
       "       [1., 0., 0.],\n",
       "       [1., 0., 0.],\n",
       "       [1., 0., 0.],\n",
       "       [1., 0., 0.],\n",
       "       [1., 0., 0.],\n",
       "       [1., 0., 0.],\n",
       "       [1., 0., 0.],\n",
       "       [1., 0., 0.],\n",
       "       [1., 0., 0.],\n",
       "       [1., 0., 0.],\n",
       "       [1., 0., 0.],\n",
       "       [1., 0., 0.],\n",
       "       [1., 0., 0.],\n",
       "       [1., 0., 0.],\n",
       "       [1., 0., 0.],\n",
       "       [1., 0., 0.],\n",
       "       [1., 0., 0.],\n",
       "       [1., 0., 0.],\n",
       "       [1., 0., 0.],\n",
       "       [1., 0., 0.],\n",
       "       [1., 0., 0.],\n",
       "       [1., 0., 0.],\n",
       "       [1., 0., 0.],\n",
       "       [1., 0., 0.],\n",
       "       [1., 0., 0.],\n",
       "       [1., 0., 0.],\n",
       "       [1., 0., 0.],\n",
       "       [1., 0., 0.],\n",
       "       [1., 0., 0.],\n",
       "       [0., 1., 0.],\n",
       "       [0., 1., 0.],\n",
       "       [0., 1., 0.],\n",
       "       [0., 1., 0.],\n",
       "       [0., 1., 0.],\n",
       "       [0., 1., 0.],\n",
       "       [0., 1., 0.],\n",
       "       [0., 1., 0.],\n",
       "       [0., 1., 0.],\n",
       "       [0., 1., 0.],\n",
       "       [0., 1., 0.],\n",
       "       [0., 1., 0.],\n",
       "       [0., 1., 0.],\n",
       "       [0., 1., 0.],\n",
       "       [0., 1., 0.],\n",
       "       [0., 1., 0.],\n",
       "       [0., 1., 0.],\n",
       "       [0., 1., 0.],\n",
       "       [0., 1., 0.],\n",
       "       [0., 1., 0.],\n",
       "       [0., 1., 0.],\n",
       "       [0., 1., 0.],\n",
       "       [0., 1., 0.],\n",
       "       [0., 1., 0.],\n",
       "       [0., 1., 0.],\n",
       "       [0., 1., 0.],\n",
       "       [0., 1., 0.],\n",
       "       [0., 1., 0.],\n",
       "       [0., 1., 0.],\n",
       "       [0., 1., 0.],\n",
       "       [0., 1., 0.],\n",
       "       [0., 1., 0.],\n",
       "       [0., 1., 0.],\n",
       "       [0., 1., 0.],\n",
       "       [0., 1., 0.],\n",
       "       [0., 1., 0.],\n",
       "       [0., 1., 0.],\n",
       "       [0., 1., 0.],\n",
       "       [0., 1., 0.],\n",
       "       [0., 1., 0.],\n",
       "       [0., 1., 0.],\n",
       "       [0., 1., 0.],\n",
       "       [0., 1., 0.],\n",
       "       [0., 1., 0.],\n",
       "       [0., 1., 0.],\n",
       "       [0., 1., 0.],\n",
       "       [0., 1., 0.],\n",
       "       [0., 1., 0.],\n",
       "       [0., 1., 0.],\n",
       "       [0., 1., 0.],\n",
       "       [0., 1., 0.],\n",
       "       [0., 1., 0.],\n",
       "       [0., 1., 0.],\n",
       "       [0., 1., 0.],\n",
       "       [0., 1., 0.],\n",
       "       [0., 1., 0.],\n",
       "       [0., 1., 0.],\n",
       "       [0., 1., 0.],\n",
       "       [0., 1., 0.],\n",
       "       [0., 1., 0.],\n",
       "       [0., 1., 0.],\n",
       "       [0., 1., 0.],\n",
       "       [0., 1., 0.],\n",
       "       [0., 1., 0.],\n",
       "       [0., 1., 0.],\n",
       "       [0., 1., 0.],\n",
       "       [0., 1., 0.],\n",
       "       [0., 1., 0.],\n",
       "       [0., 1., 0.],\n",
       "       [0., 1., 0.],\n",
       "       [0., 1., 0.],\n",
       "       [0., 0., 1.],\n",
       "       [0., 0., 1.],\n",
       "       [0., 0., 1.],\n",
       "       [0., 0., 1.],\n",
       "       [0., 0., 1.],\n",
       "       [0., 0., 1.],\n",
       "       [0., 0., 1.],\n",
       "       [0., 0., 1.],\n",
       "       [0., 0., 1.],\n",
       "       [0., 0., 1.],\n",
       "       [0., 0., 1.],\n",
       "       [0., 0., 1.],\n",
       "       [0., 0., 1.],\n",
       "       [0., 0., 1.],\n",
       "       [0., 0., 1.],\n",
       "       [0., 0., 1.],\n",
       "       [0., 0., 1.],\n",
       "       [0., 0., 1.],\n",
       "       [0., 0., 1.],\n",
       "       [0., 0., 1.],\n",
       "       [0., 0., 1.],\n",
       "       [0., 0., 1.],\n",
       "       [0., 0., 1.],\n",
       "       [0., 0., 1.],\n",
       "       [0., 0., 1.],\n",
       "       [0., 0., 1.],\n",
       "       [0., 0., 1.],\n",
       "       [0., 0., 1.],\n",
       "       [0., 0., 1.],\n",
       "       [0., 0., 1.],\n",
       "       [0., 0., 1.],\n",
       "       [0., 0., 1.],\n",
       "       [0., 0., 1.],\n",
       "       [0., 0., 1.],\n",
       "       [0., 0., 1.],\n",
       "       [0., 0., 1.],\n",
       "       [0., 0., 1.],\n",
       "       [0., 0., 1.],\n",
       "       [0., 0., 1.],\n",
       "       [0., 0., 1.],\n",
       "       [0., 0., 1.],\n",
       "       [0., 0., 1.],\n",
       "       [0., 0., 1.],\n",
       "       [0., 0., 1.],\n",
       "       [0., 0., 1.],\n",
       "       [0., 0., 1.],\n",
       "       [0., 0., 1.],\n",
       "       [0., 0., 1.]])"
      ]
     },
     "execution_count": 14,
     "metadata": {},
     "output_type": "execute_result"
    }
   ],
   "source": [
    "one_hot_encode"
   ]
  },
  {
   "cell_type": "code",
   "execution_count": 8,
   "metadata": {},
   "outputs": [],
   "source": [
    "# Y = one_hot_encode[:, 1:]"
   ]
  },
  {
   "cell_type": "code",
   "execution_count": 15,
   "metadata": {},
   "outputs": [],
   "source": [
    "Y = one_hot_encode"
   ]
  },
  {
   "cell_type": "code",
   "execution_count": 16,
   "metadata": {},
   "outputs": [
    {
     "data": {
      "text/plain": [
       "(178, 3)"
      ]
     },
     "execution_count": 16,
     "metadata": {},
     "output_type": "execute_result"
    }
   ],
   "source": [
    "Y.shape"
   ]
  },
  {
   "cell_type": "code",
   "execution_count": 17,
   "metadata": {},
   "outputs": [
    {
     "data": {
      "text/plain": [
       "numpy.ndarray"
      ]
     },
     "execution_count": 17,
     "metadata": {},
     "output_type": "execute_result"
    }
   ],
   "source": [
    "type(Y)"
   ]
  },
  {
   "cell_type": "code",
   "execution_count": 18,
   "metadata": {},
   "outputs": [],
   "source": [
    "mu = np.mean(X, axis=0)\n",
    "sigma = np.std(X, axis=0)\n",
    "normalized_features = (X - mu)/sigma\n",
    "X = normalized_features"
   ]
  },
  {
   "cell_type": "code",
   "execution_count": 22,
   "metadata": {},
   "outputs": [
    {
     "name": "stdout",
     "output_type": "stream",
     "text": [
      "(142, 13)\n",
      "(142, 3)\n",
      "(36, 13)\n",
      "(36, 3)\n"
     ]
    }
   ],
   "source": [
    "# X,Y = shuffle(X,Y,random_state=1)\n",
    "train_x, test_x, train_y, test_y = train_test_split(X,Y,test_size=0.20, random_state=42)\n",
    "\n",
    "print(train_x.shape)\n",
    "print(train_y.shape)\n",
    "print(test_x.shape)\n",
    "print(test_y.shape)"
   ]
  },
  {
   "cell_type": "code",
   "execution_count": 23,
   "metadata": {},
   "outputs": [],
   "source": [
    "learning_rate = 0.01\n",
    "training_epochs = 100\n",
    "cost_history = np.empty(shape=[1], dtype=float)\n",
    "\n",
    "n_dims = X.shape[1]\n",
    "n_class = 3"
   ]
  },
  {
   "cell_type": "code",
   "execution_count": 24,
   "metadata": {},
   "outputs": [],
   "source": [
    "import tensorflow.compat.v1 as tf\n",
    "tf.disable_v2_behavior() "
   ]
  },
  {
   "cell_type": "code",
   "execution_count": 27,
   "metadata": {},
   "outputs": [],
   "source": [
    "x = tf.placeholder(tf.float32, [None, n_dims])\n",
    "W = tf.Variable(tf.zeros([n_dims, n_class]))\n",
    "b = tf.Variable(tf.zeros([n_class]))"
   ]
  },
  {
   "cell_type": "code",
   "execution_count": 28,
   "metadata": {},
   "outputs": [],
   "source": [
    "init = tf.global_variables_initializer()"
   ]
  },
  {
   "cell_type": "code",
   "execution_count": 29,
   "metadata": {},
   "outputs": [],
   "source": [
    "y_ = tf.placeholder(tf.float32, [None, n_class])\n",
    "y = tf.nn.softmax(tf.matmul(x, W) + b)\n",
    "cost_function = tf.reduce_mean(-tf.reduce_sum((y_ * tf.log(y)), reduction_indices=[1]))\n",
    "training_step = tf.train.GradientDescentOptimizer(learning_rate).minimize(cost_function)"
   ]
  },
  {
   "cell_type": "code",
   "execution_count": 30,
   "metadata": {},
   "outputs": [],
   "source": [
    "sess = tf.Session()\n",
    "sess.run(init)\n",
    "mse_history = []"
   ]
  },
  {
   "cell_type": "code",
   "execution_count": 31,
   "metadata": {},
   "outputs": [
    {
     "name": "stdout",
     "output_type": "stream",
     "text": [
      "epoch =  0  -  cost =  1.0806947\n",
      "epoch =  1  -  cost =  1.0632391\n",
      "epoch =  2  -  cost =  1.0462348\n",
      "epoch =  3  -  cost =  1.0296718\n",
      "epoch =  4  -  cost =  1.013539\n",
      "epoch =  5  -  cost =  0.99782646\n",
      "epoch =  6  -  cost =  0.9825232\n",
      "epoch =  7  -  cost =  0.96761924\n",
      "epoch =  8  -  cost =  0.95310384\n",
      "epoch =  9  -  cost =  0.93896675\n",
      "epoch =  10  -  cost =  0.92519796\n",
      "epoch =  11  -  cost =  0.9117872\n",
      "epoch =  12  -  cost =  0.89872444\n",
      "epoch =  13  -  cost =  0.8860001\n",
      "epoch =  14  -  cost =  0.87360424\n",
      "epoch =  15  -  cost =  0.86152756\n",
      "epoch =  16  -  cost =  0.8497607\n",
      "epoch =  17  -  cost =  0.83829445\n",
      "epoch =  18  -  cost =  0.82712\n",
      "epoch =  19  -  cost =  0.81622875\n",
      "epoch =  20  -  cost =  0.805612\n",
      "epoch =  21  -  cost =  0.79526156\n",
      "epoch =  22  -  cost =  0.7851693\n",
      "epoch =  23  -  cost =  0.7753273\n",
      "epoch =  24  -  cost =  0.76572824\n",
      "epoch =  25  -  cost =  0.7563643\n",
      "epoch =  26  -  cost =  0.7472284\n",
      "epoch =  27  -  cost =  0.73831344\n",
      "epoch =  28  -  cost =  0.72961295\n",
      "epoch =  29  -  cost =  0.72111994\n",
      "epoch =  30  -  cost =  0.7128283\n",
      "epoch =  31  -  cost =  0.7047318\n",
      "epoch =  32  -  cost =  0.6968245\n",
      "epoch =  33  -  cost =  0.68910027\n",
      "epoch =  34  -  cost =  0.68155384\n",
      "epoch =  35  -  cost =  0.67417973\n",
      "epoch =  36  -  cost =  0.66697264\n",
      "epoch =  37  -  cost =  0.6599275\n",
      "epoch =  38  -  cost =  0.6530395\n",
      "epoch =  39  -  cost =  0.6463037\n",
      "epoch =  40  -  cost =  0.6397158\n",
      "epoch =  41  -  cost =  0.63327116\n",
      "epoch =  42  -  cost =  0.6269657\n",
      "epoch =  43  -  cost =  0.620795\n",
      "epoch =  44  -  cost =  0.6147554\n",
      "epoch =  45  -  cost =  0.60884285\n",
      "epoch =  46  -  cost =  0.60305375\n",
      "epoch =  47  -  cost =  0.5973846\n",
      "epoch =  48  -  cost =  0.5918315\n",
      "epoch =  49  -  cost =  0.5863915\n",
      "epoch =  50  -  cost =  0.5810613\n",
      "epoch =  51  -  cost =  0.5758377\n",
      "epoch =  52  -  cost =  0.57071775\n",
      "epoch =  53  -  cost =  0.5656985\n",
      "epoch =  54  -  cost =  0.56077707\n",
      "epoch =  55  -  cost =  0.55595094\n",
      "epoch =  56  -  cost =  0.55121726\n",
      "epoch =  57  -  cost =  0.5465736\n",
      "epoch =  58  -  cost =  0.5420175\n",
      "epoch =  59  -  cost =  0.5375466\n",
      "epoch =  60  -  cost =  0.5331585\n",
      "epoch =  61  -  cost =  0.52885115\n",
      "epoch =  62  -  cost =  0.52462226\n",
      "epoch =  63  -  cost =  0.52046996\n",
      "epoch =  64  -  cost =  0.5163919\n",
      "epoch =  65  -  cost =  0.51238644\n",
      "epoch =  66  -  cost =  0.50845146\n",
      "epoch =  67  -  cost =  0.5045855\n",
      "epoch =  68  -  cost =  0.5007865\n",
      "epoch =  69  -  cost =  0.4970529\n",
      "epoch =  70  -  cost =  0.49338296\n",
      "epoch =  71  -  cost =  0.4897752\n",
      "epoch =  72  -  cost =  0.48622793\n",
      "epoch =  73  -  cost =  0.48273978\n",
      "epoch =  74  -  cost =  0.47930923\n",
      "epoch =  75  -  cost =  0.47593495\n",
      "epoch =  76  -  cost =  0.4726155\n",
      "epoch =  77  -  cost =  0.4693496\n",
      "epoch =  78  -  cost =  0.466136\n",
      "epoch =  79  -  cost =  0.46297342\n",
      "epoch =  80  -  cost =  0.45986062\n",
      "epoch =  81  -  cost =  0.45679656\n",
      "epoch =  82  -  cost =  0.45377994\n",
      "epoch =  83  -  cost =  0.4508099\n",
      "epoch =  84  -  cost =  0.44788507\n",
      "epoch =  85  -  cost =  0.4450047\n",
      "epoch =  86  -  cost =  0.44216767\n",
      "epoch =  87  -  cost =  0.43937293\n",
      "epoch =  88  -  cost =  0.4366197\n",
      "epoch =  89  -  cost =  0.4339069\n",
      "epoch =  90  -  cost =  0.43123376\n",
      "epoch =  91  -  cost =  0.42859933\n",
      "epoch =  92  -  cost =  0.42600286\n",
      "epoch =  93  -  cost =  0.42344344\n",
      "epoch =  94  -  cost =  0.4209203\n",
      "epoch =  95  -  cost =  0.41843274\n",
      "epoch =  96  -  cost =  0.41597995\n",
      "epoch =  97  -  cost =  0.41356125\n",
      "epoch =  98  -  cost =  0.41117576\n",
      "epoch =  99  -  cost =  0.40882298\n"
     ]
    }
   ],
   "source": [
    "for epoch in range(training_epochs):\n",
    "    sess.run(training_step, feed_dict={x: train_x, y_: train_y})\n",
    "    cost = sess.run(cost_function, feed_dict={x: train_x, y_: train_y})\n",
    "    cost_history = np.append(cost_history, cost)\n",
    "    pred_y = sess.run(y, feed_dict={x:test_x})\n",
    "    print('epoch = ', epoch, ' - ', 'cost = ', cost)\n",
    "    mse = tf.reduce_mean(tf.square(pred_y - test_y))\n",
    "    mse_history.append(sess.run(mse))"
   ]
  },
  {
   "cell_type": "code",
   "execution_count": 32,
   "metadata": {},
   "outputs": [
    {
     "name": "stdout",
     "output_type": "stream",
     "text": [
      "MSE :  [0.2181735957392879, 0.2141912694055991, 0.21027661931670785, 0.20643080299110567, 0.20265477469506835, 0.19894929374556994, 0.19531492202055709, 0.19175204258854509, 0.18826085580858226, 0.18484140819935235, 0.18149358512745767, 0.17821712992200112, 0.17501164458050703, 0.17187661124017325, 0.16881140498173672, 0.16581528897599776, 0.1628874379622392, 0.16002694769619222, 0.1572328344924585, 0.15450405413644078, 0.15183950691233866, 0.14923804803384505, 0.14669848789806983, 0.1442196167070968, 0.14180018876195016, 0.139438940788097, 0.13713460109139233, 0.1348858863819155, 0.1326915045588919, 0.1305501786218657, 0.1284606196869627, 0.12642155829371524, 0.12443172528938964, 0.12248987942064264, 0.120594781570538, 0.11874521652534809, 0.11693998485516426, 0.11517791596719186, 0.11345785010579681, 0.1117786620986429, 0.11013924259578334, 0.10853850513787712, 0.10697539338490099, 0.10544888060581786, 0.10395795301920202, 0.10250162883203616, 0.10107895068802046, 0.09968898974284654, 0.09833084114384538, 0.09700361737327443, 0.09570647273645586, 0.09443856367887997, 0.09319908275231825, 0.09198724795380132, 0.09080229347977656, 0.08964348143794768, 0.0885100880259377, 0.08740142414036399, 0.08631680628011898, 0.0852555825497082, 0.08421711278397787, 0.08320078414248942, 0.08220599391813616, 0.08123216861174308, 0.08027873547303717, 0.07934515592501395, 0.0784309034083144, 0.0775354568747416, 0.07665832543924014, 0.0757990232866769, 0.07495708752325651, 0.07413206097223576, 0.07332350688670458, 0.07253099716326299, 0.07175412027420601, 0.07099247535444242, 0.07024567220602686, 0.06951333328431131, 0.0687951005760691, 0.06809060676835682, 0.06739951338538586, 0.06672148893684782, 0.06605620477692399, 0.06540335181016883, 0.06476261795493957, 0.06413371495987015, 0.0635163471182913, 0.06291023682109885, 0.06231511768137375, 0.061730722298516824, 0.06115679501307694, 0.0605930899066482, 0.060039360356903666, 0.05949537559813672, 0.058960907507636724, 0.05843573226954445, 0.0579196376892882, 0.05741241524677494, 0.05691385745586532, 0.05642376308782427]\n"
     ]
    },
    {
     "data": {
      "image/png": "[encoded data removed]",
      "text/plain": [
       "<Figure size 432x288 with 1 Axes>"
      ]
     },
     "metadata": {
      "needs_background": "light"
     },
     "output_type": "display_data"
    }
   ],
   "source": [
    "print(\"MSE : \", mse_history)\n",
    "plt.plot(mse_history, 'ro-')\n",
    "plt.show()"
   ]
  },
  {
   "cell_type": "code",
   "execution_count": 35,
   "metadata": {},
   "outputs": [
    {
     "data": {
      "text/plain": [
       "array([[1., 0., 0.],\n",
       "       [1., 0., 0.],\n",
       "       [0., 0., 1.],\n",
       "       [1., 0., 0.],\n",
       "       [0., 1., 0.],\n",
       "       [1., 0., 0.],\n",
       "       [0., 1., 0.],\n",
       "       [0., 0., 1.],\n",
       "       [0., 1., 0.],\n",
       "       [0., 0., 1.],\n",
       "       [1., 0., 0.],\n",
       "       [0., 0., 1.],\n",
       "       [1., 0., 0.],\n",
       "       [0., 1., 0.],\n",
       "       [1., 0., 0.],\n",
       "       [0., 1., 0.],\n",
       "       [0., 1., 0.],\n",
       "       [0., 1., 0.],\n",
       "       [1., 0., 0.],\n",
       "       [0., 1., 0.],\n",
       "       [1., 0., 0.],\n",
       "       [0., 1., 0.],\n",
       "       [0., 1., 0.],\n",
       "       [0., 0., 1.],\n",
       "       [0., 0., 1.],\n",
       "       [0., 0., 1.],\n",
       "       [0., 1., 0.],\n",
       "       [0., 1., 0.],\n",
       "       [0., 1., 0.],\n",
       "       [1., 0., 0.],\n",
       "       [1., 0., 0.],\n",
       "       [0., 1., 0.],\n",
       "       [0., 0., 1.],\n",
       "       [1., 0., 0.],\n",
       "       [1., 0., 0.],\n",
       "       [1., 0., 0.]])"
      ]
     },
     "execution_count": 35,
     "metadata": {},
     "output_type": "execute_result"
    }
   ],
   "source": [
    "test_y"
   ]
  },
  {
   "cell_type": "code",
   "execution_count": 36,
   "metadata": {},
   "outputs": [
    {
     "name": "stdout",
     "output_type": "stream",
     "text": [
      "Accuracy:  0.9722222\n"
     ]
    }
   ],
   "source": [
    "correct_prediction = tf.equal(tf.argmax(y,1), tf.argmax(y_,1))\n",
    "accuracy = tf.reduce_mean(tf.cast(correct_prediction, tf.float32))\n",
    "print(\"Accuracy: \", (sess.run(accuracy, feed_dict={x: test_x, y_:test_y})))"
   ]
  },
  {
   "cell_type": "code",
   "execution_count": 37,
   "metadata": {},
   "outputs": [
    {
     "data": {
      "image/png": "[encoded data removed]",
      "text/plain": [
       "<Figure size 432x288 with 1 Axes>"
      ]
     },
     "metadata": {
      "needs_background": "light"
     },
     "output_type": "display_data"
    }
   ],
   "source": [
    "plt.plot(range(len(cost_history)), cost_history)\n",
    "plt.axis([0, training_epochs, 0, np.max(cost_history)])\n",
    "plt.show()"
   ]
  },
  {
   "cell_type": "code",
   "execution_count": 38,
   "metadata": {},
   "outputs": [
    {
     "data": {
      "text/plain": [
       "array([[0.70668507, 0.16361327, 0.12970164],\n",
       "       [0.64363885, 0.12806055, 0.22830057],\n",
       "       [0.09733267, 0.21985424, 0.6828131 ],\n",
       "       [0.7334994 , 0.16115582, 0.10534475],\n",
       "       [0.17506248, 0.6859345 , 0.13900307],\n",
       "       [0.7749778 , 0.08851903, 0.13650325],\n",
       "       [0.12883508, 0.6947969 , 0.1763679 ],\n",
       "       [0.09681495, 0.106768  , 0.79641706],\n",
       "       [0.30801877, 0.6020516 , 0.08992959],\n",
       "       [0.13127397, 0.19831713, 0.67040896],\n",
       "       [0.5480614 , 0.33780172, 0.11413696],\n",
       "       [0.10064881, 0.08960854, 0.80974275],\n",
       "       [0.46667278, 0.28897753, 0.24434972],\n",
       "       [0.09210584, 0.39286685, 0.5150273 ],\n",
       "       [0.781687  , 0.10322426, 0.11508873],\n",
       "       [0.15302867, 0.66406786, 0.18290345],\n",
       "       [0.11710432, 0.7229552 , 0.15994045],\n",
       "       [0.12227152, 0.7271346 , 0.15059386],\n",
       "       [0.76583344, 0.14617865, 0.08798797],\n",
       "       [0.14454263, 0.67377657, 0.18168075],\n",
       "       [0.9061308 , 0.04071059, 0.05315866],\n",
       "       [0.39654508, 0.52983046, 0.07362439],\n",
       "       [0.14975038, 0.48137426, 0.3688754 ],\n",
       "       [0.10912638, 0.07873335, 0.8121403 ],\n",
       "       [0.04594048, 0.10233188, 0.8517276 ],\n",
       "       [0.07705978, 0.09049437, 0.8324459 ],\n",
       "       [0.141413  , 0.70677495, 0.15181205],\n",
       "       [0.3520459 , 0.47655457, 0.17139955],\n",
       "       [0.10644077, 0.64379734, 0.24976188],\n",
       "       [0.7120697 , 0.16707045, 0.12085986],\n",
       "       [0.6820441 , 0.21316518, 0.10479071],\n",
       "       [0.11908828, 0.7090513 , 0.17186037],\n",
       "       [0.09479585, 0.18943866, 0.7157655 ],\n",
       "       [0.78789663, 0.11317758, 0.09892588],\n",
       "       [0.72389966, 0.15814583, 0.11795443],\n",
       "       [0.8260707 , 0.1059908 , 0.06793847]], dtype=float32)"
      ]
     },
     "execution_count": 38,
     "metadata": {},
     "output_type": "execute_result"
    }
   ],
   "source": [
    "pred_y"
   ]
  },
  {
   "cell_type": "code",
   "execution_count": 39,
   "metadata": {},
   "outputs": [],
   "source": [
    "v = tf.cast(tf.argmax(pred_y, 1), tf.float32)"
   ]
  },
  {
   "cell_type": "code",
   "execution_count": 40,
   "metadata": {},
   "outputs": [],
   "source": [
    "u = tf.cast(tf.argmax(test_y, 1), tf.float32)"
   ]
  },
  {
   "cell_type": "code",
   "execution_count": 43,
   "metadata": {},
   "outputs": [
    {
     "name": "stdout",
     "output_type": "stream",
     "text": [
      "[0. 0. 2. 0. 1. 0. 1. 2. 1. 2. 0. 2. 0. 2. 0. 1. 1. 1. 0. 1. 0. 1. 1. 2.\n",
      " 2. 2. 1. 1. 1. 0. 0. 1. 2. 0. 0. 0.]\n"
     ]
    }
   ],
   "source": [
    "with tf.Session() as sess:  print(v.eval())"
   ]
  },
  {
   "cell_type": "code",
   "execution_count": 44,
   "metadata": {},
   "outputs": [
    {
     "name": "stdout",
     "output_type": "stream",
     "text": [
      "[0. 0. 2. 0. 1. 0. 1. 2. 1. 2. 0. 2. 0. 1. 0. 1. 1. 1. 0. 1. 0. 1. 1. 2.\n",
      " 2. 2. 1. 1. 1. 0. 0. 1. 2. 0. 0. 0.]\n"
     ]
    }
   ],
   "source": [
    "with tf.Session() as sess:  print(u.eval()) "
   ]
  },
  {
   "cell_type": "code",
   "execution_count": 45,
   "metadata": {},
   "outputs": [
    {
     "data": {
      "text/plain": [
       "array([[1., 0., 0.],\n",
       "       [1., 0., 0.],\n",
       "       [0., 0., 1.],\n",
       "       [1., 0., 0.],\n",
       "       [0., 1., 0.],\n",
       "       [1., 0., 0.],\n",
       "       [0., 1., 0.],\n",
       "       [0., 0., 1.],\n",
       "       [0., 1., 0.],\n",
       "       [0., 0., 1.],\n",
       "       [1., 0., 0.],\n",
       "       [0., 0., 1.],\n",
       "       [1., 0., 0.],\n",
       "       [0., 1., 0.],\n",
       "       [1., 0., 0.],\n",
       "       [0., 1., 0.],\n",
       "       [0., 1., 0.],\n",
       "       [0., 1., 0.],\n",
       "       [1., 0., 0.],\n",
       "       [0., 1., 0.],\n",
       "       [1., 0., 0.],\n",
       "       [0., 1., 0.],\n",
       "       [0., 1., 0.],\n",
       "       [0., 0., 1.],\n",
       "       [0., 0., 1.],\n",
       "       [0., 0., 1.],\n",
       "       [0., 1., 0.],\n",
       "       [0., 1., 0.],\n",
       "       [0., 1., 0.],\n",
       "       [1., 0., 0.],\n",
       "       [1., 0., 0.],\n",
       "       [0., 1., 0.],\n",
       "       [0., 0., 1.],\n",
       "       [1., 0., 0.],\n",
       "       [1., 0., 0.],\n",
       "       [1., 0., 0.]])"
      ]
     },
     "execution_count": 45,
     "metadata": {},
     "output_type": "execute_result"
    }
   ],
   "source": [
    "test_y"
   ]
  },
  {
   "cell_type": "code",
   "execution_count": null,
   "metadata": {},
   "outputs": [],
   "source": []
  }
 ],
 "metadata": {
  "kernelspec": {
   "display_name": "Python 3",
   "language": "python",
   "name": "python3"
  },
  "language_info": {
   "codemirror_mode": {
    "name": "ipython",
    "version": 3
   },
   "file_extension": ".py",
   "mimetype": "text/x-python",
   "name": "python",
   "nbconvert_exporter": "python",
   "pygments_lexer": "ipython3",
   "version": "3.7.4"
  }
 },
 "nbformat": 4,
 "nbformat_minor": 2
}
