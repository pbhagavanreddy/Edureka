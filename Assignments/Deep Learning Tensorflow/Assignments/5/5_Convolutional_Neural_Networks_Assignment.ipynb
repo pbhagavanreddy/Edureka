{
  "nbformat": 4,
  "nbformat_minor": 0,
  "metadata": {
    "colab": {
      "name": "5_Convolutional Neural Networks_Assignment.ipynb",
      "provenance": [],
      "collapsed_sections": []
    },
    "kernelspec": {
      "name": "python3",
      "display_name": "Python 3"
    },
    "accelerator": "TPU"
  },
  "cells": [
    {
      "cell_type": "code",
      "metadata": {
        "id": "Eg3jz1SwJv_9",
        "colab_type": "code",
        "colab": {
          "base_uri": "https://localhost:8080/",
          "height": 34
        },
        "outputId": "503e524a-16ca-4172-a0f1-4623f4cd851b"
      },
      "source": [
        "import tensorflow as tf\n",
        "from keras import datasets, layers, models\n",
        "import matplotlib.pyplot as plt"
      ],
      "execution_count": 1,
      "outputs": [
        {
          "output_type": "stream",
          "text": [
            "Using TensorFlow backend.\n"
          ],
          "name": "stderr"
        }
      ]
    },
    {
      "cell_type": "code",
      "metadata": {
        "id": "P2HTTF04PLXF",
        "colab_type": "code",
        "colab": {
          "base_uri": "https://localhost:8080/",
          "height": 51
        },
        "outputId": "99560755-f587-4964-8353-976bd967e62c"
      },
      "source": [
        "(train_images, train_labels), (test_images, test_labels) = datasets.mnist.load_data()"
      ],
      "execution_count": 2,
      "outputs": [
        {
          "output_type": "stream",
          "text": [
            "Downloading data from https://s3.amazonaws.com/img-datasets/mnist.npz\n",
            "11493376/11490434 [==============================] - 0s 0us/step\n"
          ],
          "name": "stdout"
        }
      ]
    },
    {
      "cell_type": "code",
      "metadata": {
        "id": "B-sbpNIdPMB3",
        "colab_type": "code",
        "colab": {
          "base_uri": "https://localhost:8080/",
          "height": 241
        },
        "outputId": "e196b130-5089-4dc5-e5e6-84ba879f5620"
      },
      "source": [
        "plt.figure(figsize = (10,10))\n",
        "for i in range(10):\n",
        "  plt.subplot(5,5,i+1)\n",
        "  plt.xticks([])\n",
        "  plt.yticks([])\n",
        "  plt.grid(False)\n",
        "  plt.imshow(train_images[i], cmap = plt.cm.binary)\n",
        "  # plt.xlabel(class_names[train_labels[i][0]])\n",
        "\n",
        "plt.show()"
      ],
      "execution_count": 3,
      "outputs": [
        {
          "output_type": "display_data",
          "data": {
            "image/png": "[encoded data removed]",
            "text/plain": [
              "<Figure size 720x720 with 10 Axes>"
            ]
          },
          "metadata": {
            "tags": []
          }
        }
      ]
    },
    {
      "cell_type": "code",
      "metadata": {
        "id": "pEcaPYojbb7q",
        "colab_type": "code",
        "colab": {}
      },
      "source": [
        "train_images = train_images.reshape(60000, 28, 28, 1)\n",
        "test_images = test_images.reshape(10000, 28, 28, 1)"
      ],
      "execution_count": 4,
      "outputs": []
    },
    {
      "cell_type": "code",
      "metadata": {
        "id": "RxZwH18LTXx_",
        "colab_type": "code",
        "colab": {
          "base_uri": "https://localhost:8080/",
          "height": 85
        },
        "outputId": "964d998e-5386-4b27-9bc2-fb34cb2e2c79"
      },
      "source": [
        "print(train_images.shape)\n",
        "print(train_labels.shape)\n",
        "print(test_images.shape)\n",
        "print(test_labels.shape)"
      ],
      "execution_count": 5,
      "outputs": [
        {
          "output_type": "stream",
          "text": [
            "(60000, 28, 28, 1)\n",
            "(60000,)\n",
            "(10000, 28, 28, 1)\n",
            "(10000,)\n"
          ],
          "name": "stdout"
        }
      ]
    },
    {
      "cell_type": "code",
      "metadata": {
        "id": "st090u3CPMEw",
        "colab_type": "code",
        "colab": {
          "base_uri": "https://localhost:8080/",
          "height": 391
        },
        "outputId": "5106ba8d-1163-498a-d470-c1e9d0d6664c"
      },
      "source": [
        "model = models.Sequential()\n",
        "model.add(layers.Conv2D(32, (5,5), activation='relu', input_shape=(28,28,1)))\n",
        "model.add(layers.MaxPooling2D((2,2)))\n",
        "model.add(layers.Conv2D(64, (5,5), activation='relu'))\n",
        "model.add(layers.MaxPooling2D((2,2)))\n",
        "model.add(layers.Flatten())\n",
        "model.add(layers.Dense(64, activation = 'relu'))\n",
        "model.add(layers.Dense(10))\n",
        "model.summary()"
      ],
      "execution_count": 6,
      "outputs": [
        {
          "output_type": "stream",
          "text": [
            "Model: \"sequential_1\"\n",
            "_________________________________________________________________\n",
            "Layer (type)                 Output Shape              Param #   \n",
            "=================================================================\n",
            "conv2d_1 (Conv2D)            (None, 24, 24, 32)        832       \n",
            "_________________________________________________________________\n",
            "max_pooling2d_1 (MaxPooling2 (None, 12, 12, 32)        0         \n",
            "_________________________________________________________________\n",
            "conv2d_2 (Conv2D)            (None, 8, 8, 64)          51264     \n",
            "_________________________________________________________________\n",
            "max_pooling2d_2 (MaxPooling2 (None, 4, 4, 64)          0         \n",
            "_________________________________________________________________\n",
            "flatten_1 (Flatten)          (None, 1024)              0         \n",
            "_________________________________________________________________\n",
            "dense_1 (Dense)              (None, 64)                65600     \n",
            "_________________________________________________________________\n",
            "dense_2 (Dense)              (None, 10)                650       \n",
            "=================================================================\n",
            "Total params: 118,346\n",
            "Trainable params: 118,346\n",
            "Non-trainable params: 0\n",
            "_________________________________________________________________\n"
          ],
          "name": "stdout"
        }
      ]
    },
    {
      "cell_type": "code",
      "metadata": {
        "id": "p7ibF2h6PMHc",
        "colab_type": "code",
        "colab": {
          "base_uri": "https://localhost:8080/",
          "height": 544
        },
        "outputId": "10e760c5-6c76-4810-9ce7-9309ac22c3f3"
      },
      "source": [
        "model.compile(optimizer='adam', loss=tf.keras.losses.SparseCategoricalCrossentropy(from_logits=True),\n",
        "              metrics = ['accuracy'])\n",
        "history = model.fit(train_images, train_labels, epochs=15, \n",
        "                    validation_data = (test_images, test_labels))"
      ],
      "execution_count": 7,
      "outputs": [
        {
          "output_type": "stream",
          "text": [
            "Train on 60000 samples, validate on 10000 samples\n",
            "Epoch 1/15\n",
            "60000/60000 [==============================] - 56s 934us/step - loss: 0.3060 - accuracy: 0.0994 - val_loss: 0.0663 - val_accuracy: 0.0976\n",
            "Epoch 2/15\n",
            "60000/60000 [==============================] - 55s 917us/step - loss: 0.0683 - accuracy: 0.0991 - val_loss: 0.0612 - val_accuracy: 0.0952\n",
            "Epoch 3/15\n",
            "60000/60000 [==============================] - 54s 901us/step - loss: 0.0542 - accuracy: 0.0989 - val_loss: 0.0546 - val_accuracy: 0.0990\n",
            "Epoch 4/15\n",
            "60000/60000 [==============================] - 54s 898us/step - loss: 0.0502 - accuracy: 0.0989 - val_loss: 0.0435 - val_accuracy: 0.0986\n",
            "Epoch 5/15\n",
            "60000/60000 [==============================] - 54s 895us/step - loss: 0.0413 - accuracy: 0.0989 - val_loss: 0.0845 - val_accuracy: 0.1001\n",
            "Epoch 6/15\n",
            "60000/60000 [==============================] - 54s 895us/step - loss: 0.0351 - accuracy: 0.0988 - val_loss: 0.0559 - val_accuracy: 0.1002\n",
            "Epoch 7/15\n",
            "60000/60000 [==============================] - 54s 898us/step - loss: 0.0304 - accuracy: 0.0987 - val_loss: 0.0557 - val_accuracy: 0.0989\n",
            "Epoch 8/15\n",
            "60000/60000 [==============================] - 54s 901us/step - loss: 0.0279 - accuracy: 0.0987 - val_loss: 0.0511 - val_accuracy: 0.0991\n",
            "Epoch 9/15\n",
            "60000/60000 [==============================] - 54s 903us/step - loss: 0.0268 - accuracy: 0.0988 - val_loss: 0.0605 - val_accuracy: 0.0983\n",
            "Epoch 10/15\n",
            "60000/60000 [==============================] - 54s 892us/step - loss: 0.0239 - accuracy: 0.0986 - val_loss: 0.0549 - val_accuracy: 0.0982\n",
            "Epoch 11/15\n",
            "60000/60000 [==============================] - 53s 892us/step - loss: 0.0230 - accuracy: 0.0988 - val_loss: 0.0813 - val_accuracy: 0.0988\n",
            "Epoch 12/15\n",
            "60000/60000 [==============================] - 53s 889us/step - loss: 0.0228 - accuracy: 0.0987 - val_loss: 0.0599 - val_accuracy: 0.0979\n",
            "Epoch 13/15\n",
            "60000/60000 [==============================] - 54s 893us/step - loss: 0.0199 - accuracy: 0.0987 - val_loss: 0.0921 - val_accuracy: 0.0986\n",
            "Epoch 14/15\n",
            "60000/60000 [==============================] - 53s 892us/step - loss: 0.0231 - accuracy: 0.0987 - val_loss: 0.0855 - val_accuracy: 0.0979\n",
            "Epoch 15/15\n",
            "60000/60000 [==============================] - 54s 896us/step - loss: 0.0195 - accuracy: 0.0987 - val_loss: 0.0798 - val_accuracy: 0.0991\n"
          ],
          "name": "stdout"
        }
      ]
    }
  ]
}