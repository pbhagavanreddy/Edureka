{
 "cells": [
  {
   "cell_type": "code",
   "execution_count": 1,
   "metadata": {
    "colab": {
     "base_uri": "https://localhost:8080/",
     "height": 34
    },
    "colab_type": "code",
    "id": "Eg3jz1SwJv_9",
    "outputId": "503e524a-16ca-4172-a0f1-4623f4cd851b"
   },
   "outputs": [
    {
     "name": "stderr",
     "output_type": "stream",
     "text": [
      "Using TensorFlow backend.\n"
     ]
    }
   ],
   "source": [
    "import tensorflow as tf\n",
    "from keras import datasets, layers, models\n",
    "import matplotlib.pyplot as plt"
   ]
  },
  {
   "cell_type": "code",
   "execution_count": 2,
   "metadata": {
    "colab": {
     "base_uri": "https://localhost:8080/",
     "height": 51
    },
    "colab_type": "code",
    "id": "P2HTTF04PLXF",
    "outputId": "99560755-f587-4964-8353-976bd967e62c"
   },
   "outputs": [],
   "source": [
    "(train_images, train_labels), (test_images, test_labels) = datasets.mnist.load_data()"
   ]
  },
  {
   "cell_type": "code",
   "execution_count": 3,
   "metadata": {
    "colab": {
     "base_uri": "https://localhost:8080/",
     "height": 241
    },
    "colab_type": "code",
    "id": "B-sbpNIdPMB3",
    "outputId": "e196b130-5089-4dc5-e5e6-84ba879f5620"
   },
   "outputs": [
    {
     "data": {
      "image/png": "[encoded data removed]",
      "text/plain": [
       "<Figure size 720x720 with 10 Axes>"
      ]
     },
     "metadata": {},
     "output_type": "display_data"
    }
   ],
   "source": [
    "plt.figure(figsize = (10,10))\n",
    "for i in range(10):\n",
    "  plt.subplot(5,5,i+1)\n",
    "  plt.xticks([])\n",
    "  plt.yticks([])\n",
    "  plt.grid(False)\n",
    "  plt.imshow(train_images[i], cmap = 'gray' )\n",
    "  # plt.xlabel(class_names[train_labels[i][0]])\n",
    "\n",
    "plt.show()"
   ]
  },
  {
   "cell_type": "code",
   "execution_count": 4,
   "metadata": {
    "colab": {},
    "colab_type": "code",
    "id": "pEcaPYojbb7q"
   },
   "outputs": [],
   "source": [
    "train_images = train_images.reshape(60000, 28, 28, 1)\n",
    "test_images = test_images.reshape(10000, 28, 28, 1)"
   ]
  },
  {
   "cell_type": "code",
   "execution_count": 5,
   "metadata": {
    "colab": {
     "base_uri": "https://localhost:8080/",
     "height": 85
    },
    "colab_type": "code",
    "id": "RxZwH18LTXx_",
    "outputId": "964d998e-5386-4b27-9bc2-fb34cb2e2c79"
   },
   "outputs": [
    {
     "name": "stdout",
     "output_type": "stream",
     "text": [
      "(60000, 28, 28, 1)\n",
      "(60000,)\n",
      "(10000, 28, 28, 1)\n",
      "(10000,)\n"
     ]
    }
   ],
   "source": [
    "print(train_images.shape)\n",
    "print(train_labels.shape)\n",
    "print(test_images.shape)\n",
    "print(test_labels.shape)"
   ]
  },
  {
   "cell_type": "code",
   "execution_count": 6,
   "metadata": {
    "colab": {
     "base_uri": "https://localhost:8080/",
     "height": 391
    },
    "colab_type": "code",
    "id": "st090u3CPMEw",
    "outputId": "5106ba8d-1163-498a-d470-c1e9d0d6664c"
   },
   "outputs": [
    {
     "name": "stdout",
     "output_type": "stream",
     "text": [
      "Model: \"sequential_1\"\n",
      "_________________________________________________________________\n",
      "Layer (type)                 Output Shape              Param #   \n",
      "=================================================================\n",
      "conv2d_1 (Conv2D)            (None, 24, 24, 32)        832       \n",
      "_________________________________________________________________\n",
      "max_pooling2d_1 (MaxPooling2 (None, 12, 12, 32)        0         \n",
      "_________________________________________________________________\n",
      "conv2d_2 (Conv2D)            (None, 8, 8, 64)          51264     \n",
      "_________________________________________________________________\n",
      "max_pooling2d_2 (MaxPooling2 (None, 4, 4, 64)          0         \n",
      "_________________________________________________________________\n",
      "flatten_1 (Flatten)          (None, 1024)              0         \n",
      "_________________________________________________________________\n",
      "dense_1 (Dense)              (None, 64)                65600     \n",
      "_________________________________________________________________\n",
      "dropout_1 (Dropout)          (None, 64)                0         \n",
      "_________________________________________________________________\n",
      "dense_2 (Dense)              (None, 64)                4160      \n",
      "_________________________________________________________________\n",
      "dropout_2 (Dropout)          (None, 64)                0         \n",
      "_________________________________________________________________\n",
      "dense_3 (Dense)              (None, 10)                650       \n",
      "=================================================================\n",
      "Total params: 122,506\n",
      "Trainable params: 122,506\n",
      "Non-trainable params: 0\n",
      "_________________________________________________________________\n"
     ]
    }
   ],
   "source": [
    "model = models.Sequential()\n",
    "model.add(layers.Conv2D(32, (5,5), activation='relu', input_shape=(28,28,1)))\n",
    "model.add(layers.MaxPooling2D((2,2)))\n",
    "model.add(layers.Conv2D(64, (5,5), activation='relu'))\n",
    "model.add(layers.MaxPooling2D((2,2)))\n",
    "model.add(layers.Flatten())\n",
    "model.add(layers.Dense(64, activation = 'relu'))\n",
    "model.add(layers.Dropout(0.1))\n",
    "model.add(layers.Dense(64, activation = 'relu'))\n",
    "model.add(layers.Dropout(0.1))\n",
    "model.add(layers.Dense(10, activation = 'softmax'))\n",
    "model.summary()"
   ]
  },
  {
   "cell_type": "code",
   "execution_count": 7,
   "metadata": {
    "colab": {
     "base_uri": "https://localhost:8080/",
     "height": 544
    },
    "colab_type": "code",
    "id": "p7ibF2h6PMHc",
    "outputId": "10e760c5-6c76-4810-9ce7-9309ac22c3f3"
   },
   "outputs": [
    {
     "name": "stdout",
     "output_type": "stream",
     "text": [
      "Train on 60000 samples, validate on 10000 samples\n",
      "Epoch 1/15\n",
      "60000/60000 [==============================] - 58s 970us/step - loss: 1.9907 - accuracy: 1.3333e-04 - val_loss: 1.7910 - val_accuracy: 0.0000e+00\n",
      "Epoch 2/15\n",
      "60000/60000 [==============================] - 56s 933us/step - loss: 1.6831 - accuracy: 0.0535 - val_loss: 1.5909 - val_accuracy: 0.0999\n",
      "Epoch 3/15\n",
      "60000/60000 [==============================] - 59s 977us/step - loss: 1.5916 - accuracy: 0.1009 - val_loss: 1.5797 - val_accuracy: 0.0966\n",
      "Epoch 4/15\n",
      "60000/60000 [==============================] - 55s 924us/step - loss: 1.5854 - accuracy: 0.1007 - val_loss: 1.5785 - val_accuracy: 0.0997\n",
      "Epoch 5/15\n",
      "60000/60000 [==============================] - 56s 927us/step - loss: 1.5718 - accuracy: 0.1017 - val_loss: 1.4959 - val_accuracy: 0.1008\n",
      "Epoch 6/15\n",
      "60000/60000 [==============================] - 55s 918us/step - loss: 1.4926 - accuracy: 0.0993 - val_loss: 1.4792 - val_accuracy: 0.0985\n",
      "Epoch 7/15\n",
      "60000/60000 [==============================] - 58s 971us/step - loss: 1.4850 - accuracy: 0.0992 - val_loss: 1.4787 - val_accuracy: 0.0951\n",
      "Epoch 8/15\n",
      "60000/60000 [==============================] - 59s 985us/step - loss: 1.4824 - accuracy: 0.0990 - val_loss: 1.4826 - val_accuracy: 0.1019\n",
      "Epoch 9/15\n",
      "60000/60000 [==============================] - 57s 951us/step - loss: 1.4809 - accuracy: 0.0989 - val_loss: 1.4732 - val_accuracy: 0.0969\n",
      "Epoch 10/15\n",
      "60000/60000 [==============================] - 65s 1ms/step - loss: 1.4794 - accuracy: 0.0991 - val_loss: 1.4752 - val_accuracy: 0.0974\n",
      "Epoch 11/15\n",
      "60000/60000 [==============================] - 61s 1ms/step - loss: 1.4811 - accuracy: 0.0994 - val_loss: 1.4819 - val_accuracy: 0.1018\n",
      "Epoch 12/15\n",
      "60000/60000 [==============================] - 60s 999us/step - loss: 1.4800 - accuracy: 0.0996 - val_loss: 1.4760 - val_accuracy: 0.0989\n",
      "Epoch 13/15\n",
      "60000/60000 [==============================] - 57s 943us/step - loss: 1.4784 - accuracy: 0.0988 - val_loss: 1.4766 - val_accuracy: 0.0975\n",
      "Epoch 14/15\n",
      "60000/60000 [==============================] - 58s 975us/step - loss: 1.4786 - accuracy: 0.0988 - val_loss: 1.4742 - val_accuracy: 0.0995\n",
      "Epoch 15/15\n",
      "60000/60000 [==============================] - 60s 998us/step - loss: 1.4770 - accuracy: 0.0991 - val_loss: 1.4721 - val_accuracy: 0.0981\n"
     ]
    }
   ],
   "source": [
    "model.compile(optimizer='adam', loss=tf.keras.losses.SparseCategoricalCrossentropy(from_logits=True),\n",
    "              metrics = ['accuracy'])\n",
    "history = model.fit(train_images, train_labels, batch_size = 600, epochs=15, \n",
    "                    validation_data = (test_images, test_labels))"
   ]
  },
  {
   "cell_type": "code",
   "execution_count": null,
   "metadata": {},
   "outputs": [],
   "source": []
  }
 ],
 "metadata": {
  "accelerator": "TPU",
  "colab": {
   "collapsed_sections": [],
   "name": "5_Convolutional Neural Networks_Assignment.ipynb",
   "provenance": []
  },
  "kernelspec": {
   "display_name": "Python 3",
   "language": "python",
   "name": "python3"
  },
  "language_info": {
   "codemirror_mode": {
    "name": "ipython",
    "version": 3
   },
   "file_extension": ".py",
   "mimetype": "text/x-python",
   "name": "python",
   "nbconvert_exporter": "python",
   "pygments_lexer": "ipython3",
   "version": "3.7.4"
  }
 },
 "nbformat": 4,
 "nbformat_minor": 1
}
