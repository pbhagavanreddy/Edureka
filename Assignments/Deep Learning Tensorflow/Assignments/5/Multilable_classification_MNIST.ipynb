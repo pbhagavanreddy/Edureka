{
  "nbformat": 4,
  "nbformat_minor": 0,
  "metadata": {
    "colab": {
      "name": "Multilable classification_MNIST.ipynb",
      "provenance": [],
      "collapsed_sections": []
    },
    "kernelspec": {
      "name": "python3",
      "display_name": "Python 3"
    },
    "accelerator": "GPU"
  },
  "cells": [
    {
      "cell_type": "code",
      "metadata": {
        "id": "9Y_IasYVBDeF",
        "colab_type": "code",
        "colab": {
          "base_uri": "https://localhost:8080/",
          "height": 51
        },
        "outputId": "b3214c24-5599-44f9-d232-d3226510d8bc"
      },
      "source": [
        "from tensorflow.keras import datasets,layers,models\n",
        "import matplotlib.pyplot as plt\n",
        "%matplotlib inline\n",
        "(x_train,y_train),(x_test,y_test)=datasets.mnist.load_data()"
      ],
      "execution_count": null,
      "outputs": [
        {
          "output_type": "stream",
          "text": [
            "Downloading data from https://storage.googleapis.com/tensorflow/tf-keras-datasets/mnist.npz\n",
            "11493376/11490434 [==============================] - 0s 0us/step\n"
          ],
          "name": "stdout"
        }
      ]
    },
    {
      "cell_type": "code",
      "metadata": {
        "id": "Lf0xTzjKBEHi",
        "colab_type": "code",
        "colab": {
          "base_uri": "https://localhost:8080/",
          "height": 122
        },
        "outputId": "c3bd5cd2-4743-4046-d89a-695caf316dc0"
      },
      "source": [
        "from google.colab import drive\n",
        "drive.mount('/content/drive')"
      ],
      "execution_count": null,
      "outputs": [
        {
          "output_type": "stream",
          "text": [
            "Go to this URL in a browser: https://accounts.google.com/o/oauth2/auth?client_id=947318989803-6bn6qk8qdgf4n4g3pfee6491hc0brc4i.apps.googleusercontent.com&redirect_uri=urn%3aietf%3awg%3aoauth%3a2.0%3aoob&response_type=code&scope=email%20https%3a%2f%2fwww.googleapis.com%2fauth%2fdocs.test%20https%3a%2f%2fwww.googleapis.com%2fauth%2fdrive%20https%3a%2f%2fwww.googleapis.com%2fauth%2fdrive.photos.readonly%20https%3a%2f%2fwww.googleapis.com%2fauth%2fpeopleapi.readonly\n",
            "\n",
            "Enter your authorization code:\n",
            "··········\n",
            "Mounted at /content/drive\n"
          ],
          "name": "stdout"
        }
      ]
    },
    {
      "cell_type": "code",
      "metadata": {
        "id": "qOZQDwbWCzhf",
        "colab_type": "code",
        "colab": {
          "base_uri": "https://localhost:8080/",
          "height": 102
        },
        "outputId": "03ad8d13-0885-4820-9017-989c89bca665"
      },
      "source": [
        "import numpy as np\n",
        "print(x_train.shape)\n",
        "print(y_train.shape)\n",
        "print(x_test.shape)\n",
        "print(y_test.shape)\n",
        "print(np.unique(y_test))"
      ],
      "execution_count": null,
      "outputs": [
        {
          "output_type": "stream",
          "text": [
            "(60000, 28, 28)\n",
            "(60000,)\n",
            "(10000, 28, 28)\n",
            "(10000,)\n",
            "[0 1 2 3 4 5 6 7 8 9]\n"
          ],
          "name": "stdout"
        }
      ]
    },
    {
      "cell_type": "code",
      "metadata": {
        "id": "8wbk1MYGLs9h",
        "colab_type": "code",
        "colab": {
          "base_uri": "https://localhost:8080/",
          "height": 265
        },
        "outputId": "c18464e7-9e1e-40b1-8873-e6a13459e8c5"
      },
      "source": [
        "# pick a sample to plot\n",
        "sample = 1\n",
        "image = x_train[sample]\n",
        "# plot the sample\n",
        "fig = plt.figure\n",
        "plt.imshow(image, cmap='gray')\n",
        "plt.show()"
      ],
      "execution_count": null,
      "outputs": [
        {
          "output_type": "display_data",
          "data": {
            "image/png": "[encoded data removed]",
            "text/plain": [
              "<Figure size 432x288 with 1 Axes>"
            ]
          },
          "metadata": {
            "tags": [],
            "needs_background": "light"
          }
        }
      ]
    },
    {
      "cell_type": "code",
      "metadata": {
        "id": "x3dmGaOqEQ3h",
        "colab_type": "code",
        "colab": {
          "base_uri": "https://localhost:8080/",
          "height": 34
        },
        "outputId": "80abfe84-bd07-4b21-af71-a178eb46e3c6"
      },
      "source": [
        "x_train[sample].shape"
      ],
      "execution_count": null,
      "outputs": [
        {
          "output_type": "execute_result",
          "data": {
            "text/plain": [
              "(28, 28)"
            ]
          },
          "metadata": {
            "tags": []
          },
          "execution_count": 6
        }
      ]
    },
    {
      "cell_type": "code",
      "metadata": {
        "id": "00QCf4zeC7Zm",
        "colab_type": "code",
        "colab": {}
      },
      "source": [
        "clf=models.Sequential()\n",
        "\n",
        "clf.add(layers.Conv2D(32,(3,3),padding='same',activation='relu'))\n",
        "clf.add(layers.MaxPool2D())\n",
        "\n",
        "clf.add(layers.Conv2D(64,(3,3),padding='same',activation='relu'))\n",
        "clf.add(layers.MaxPool2D())\n",
        "\n",
        "clf.add(layers.Flatten())\n",
        "\n",
        "clf.add(layers.Dense(128,activation='relu'))\n",
        "clf.add(layers.Dropout(0.1))\n",
        "\n",
        "clf.add(layers.Dense(64,activation='relu'))\n",
        "clf.add(layers.Dropout(0.1))\n",
        "\n",
        "clf.add(layers.Dense(10,activation='softmax'))"
      ],
      "execution_count": null,
      "outputs": []
    },
    {
      "cell_type": "code",
      "metadata": {
        "id": "Yl1-IdzuKe3u",
        "colab_type": "code",
        "colab": {}
      },
      "source": [
        "x_train=x_train.reshape(60000,28,28,1)\n",
        "x_test=x_test.reshape(10000,28,28,1)\n",
        "x_train=x_train/255\n",
        "x_test=x_test/255"
      ],
      "execution_count": null,
      "outputs": []
    },
    {
      "cell_type": "code",
      "metadata": {
        "id": "GPePGOKwElKt",
        "colab_type": "code",
        "colab": {}
      },
      "source": [
        "clf.compile(optimizer='adam',loss='categorical_crossentropy',metrics=['accuracy'])"
      ],
      "execution_count": null,
      "outputs": []
    },
    {
      "cell_type": "code",
      "metadata": {
        "id": "KTJ0ZcDQ-IgT",
        "colab_type": "code",
        "colab": {}
      },
      "source": [
        "import tensorflow as tf\n",
        "import numpy as np\n",
        "\n",
        "y=y_test\n",
        "y_train = tf.one_hot(y_train, depth=10).numpy() \n",
        "y_test = tf.one_hot(y_test, depth=10).numpy() "
      ],
      "execution_count": null,
      "outputs": []
    },
    {
      "cell_type": "code",
      "metadata": {
        "id": "WpY9wGhF_CjH",
        "colab_type": "code",
        "colab": {
          "base_uri": "https://localhost:8080/",
          "height": 102
        },
        "outputId": "0b2f3d93-4e79-4094-9489-2c82af8ac9b6"
      },
      "source": [
        "print(x_train.shape)\n",
        "print(y_train.shape)\n",
        "print(x_test.shape)\n",
        "print(y_test.shape)\n",
        "print(np.unique(y_test))"
      ],
      "execution_count": null,
      "outputs": [
        {
          "output_type": "stream",
          "text": [
            "(60000, 28, 28, 1)\n",
            "(60000, 10)\n",
            "(10000, 28, 28, 1)\n",
            "(10000, 10)\n",
            "[0. 1.]\n"
          ],
          "name": "stdout"
        }
      ]
    },
    {
      "cell_type": "code",
      "metadata": {
        "id": "MiRf1vGlJuh9",
        "colab_type": "code",
        "colab": {
          "base_uri": "https://localhost:8080/",
          "height": 374
        },
        "outputId": "68a3fbd1-ce54-41e0-fdeb-e234856fdf41"
      },
      "source": [
        "clf.fit(x_train,y_train,batch_size=600,epochs=10,validation_data=(x_test,y_test),validation_batch_size=50)"
      ],
      "execution_count": null,
      "outputs": [
        {
          "output_type": "stream",
          "text": [
            "Epoch 1/10\n",
            "100/100 [==============================] - 3s 34ms/step - loss: 0.5605 - accuracy: 0.8253 - val_loss: 0.1155 - val_accuracy: 0.9644\n",
            "Epoch 2/10\n",
            "100/100 [==============================] - 3s 32ms/step - loss: 0.1186 - accuracy: 0.9638 - val_loss: 0.0628 - val_accuracy: 0.9804\n",
            "Epoch 3/10\n",
            "100/100 [==============================] - 3s 32ms/step - loss: 0.0761 - accuracy: 0.9780 - val_loss: 0.0432 - val_accuracy: 0.9850\n",
            "Epoch 4/10\n",
            "100/100 [==============================] - 3s 32ms/step - loss: 0.0592 - accuracy: 0.9817 - val_loss: 0.0437 - val_accuracy: 0.9849\n",
            "Epoch 5/10\n",
            "100/100 [==============================] - 3s 31ms/step - loss: 0.0481 - accuracy: 0.9852 - val_loss: 0.0331 - val_accuracy: 0.9898\n",
            "Epoch 6/10\n",
            "100/100 [==============================] - 3s 31ms/step - loss: 0.0402 - accuracy: 0.9879 - val_loss: 0.0285 - val_accuracy: 0.9902\n",
            "Epoch 7/10\n",
            "100/100 [==============================] - 3s 31ms/step - loss: 0.0331 - accuracy: 0.9896 - val_loss: 0.0316 - val_accuracy: 0.9892\n",
            "Epoch 8/10\n",
            "100/100 [==============================] - 3s 32ms/step - loss: 0.0294 - accuracy: 0.9909 - val_loss: 0.0266 - val_accuracy: 0.9907\n",
            "Epoch 9/10\n",
            "100/100 [==============================] - 3s 31ms/step - loss: 0.0263 - accuracy: 0.9918 - val_loss: 0.0309 - val_accuracy: 0.9890\n",
            "Epoch 10/10\n",
            "100/100 [==============================] - 3s 31ms/step - loss: 0.0234 - accuracy: 0.9926 - val_loss: 0.0308 - val_accuracy: 0.9904\n"
          ],
          "name": "stdout"
        },
        {
          "output_type": "execute_result",
          "data": {
            "text/plain": [
              "<tensorflow.python.keras.callbacks.History at 0x7fc86065e908>"
            ]
          },
          "metadata": {
            "tags": []
          },
          "execution_count": 12
        }
      ]
    },
    {
      "cell_type": "code",
      "metadata": {
        "id": "gjmfADdNKHAC",
        "colab_type": "code",
        "colab": {
          "base_uri": "https://localhost:8080/",
          "height": 51
        },
        "outputId": "5a78a149-c059-490d-a4c5-15af5de0f079"
      },
      "source": [
        "y_pred=np.argmax(clf.predict(x_test), axis=-1)\n",
        "print(type(y_pred))\n",
        "print(type(y_test))"
      ],
      "execution_count": null,
      "outputs": [
        {
          "output_type": "stream",
          "text": [
            "<class 'numpy.ndarray'>\n",
            "<class 'numpy.ndarray'>\n"
          ],
          "name": "stdout"
        }
      ]
    },
    {
      "cell_type": "code",
      "metadata": {
        "id": "gcQyI-dQOX-Q",
        "colab_type": "code",
        "colab": {
          "base_uri": "https://localhost:8080/",
          "height": 187
        },
        "outputId": "f1b3e423-6154-47b9-c9b4-440ce30703a6"
      },
      "source": [
        "from sklearn.metrics import confusion_matrix as cm\n",
        "cm(y,y_pred)\n"
      ],
      "execution_count": null,
      "outputs": [
        {
          "output_type": "execute_result",
          "data": {
            "text/plain": [
              "array([[ 978,    0,    0,    0,    0,    0,    0,    1,    1,    0],\n",
              "       [   0, 1131,    1,    2,    0,    0,    1,    0,    0,    0],\n",
              "       [   2,    1, 1021,    1,    1,    0,    0,    2,    4,    0],\n",
              "       [   0,    0,    0, 1002,    0,    2,    0,    1,    4,    1],\n",
              "       [   0,    0,    0,    0,  976,    0,    1,    0,    0,    5],\n",
              "       [   2,    0,    0,    4,    0,  883,    1,    1,    1,    0],\n",
              "       [   5,    2,    0,    0,    2,    4,  942,    0,    3,    0],\n",
              "       [   0,    3,    6,    1,    0,    0,    0, 1014,    2,    2],\n",
              "       [   4,    0,    1,    0,    0,    1,    0,    0,  967,    1],\n",
              "       [   0,    3,    0,    0,    7,    3,    0,    2,    4,  990]])"
            ]
          },
          "metadata": {
            "tags": []
          },
          "execution_count": 14
        }
      ]
    },
    {
      "cell_type": "code",
      "metadata": {
        "id": "qMS_L4d4Mcza",
        "colab_type": "code",
        "colab": {
          "base_uri": "https://localhost:8080/",
          "height": 153
        },
        "outputId": "478efa67-8b33-40b3-b91c-9de70a47d9d2"
      },
      "source": [
        "from skimage.transform import resize\n",
        "import numpy as np \n",
        "from skimage import io, color\n",
        "img1 = io.imread(\"/content/drive/My Drive/Colab Notebooks/1 (2).jpg\",as_gray=True)\n",
        "print(img1)\n",
        "img1 = resize(img1, (28, 28))\n",
        "np.shape(img1)"
      ],
      "execution_count": null,
      "outputs": [
        {
          "output_type": "stream",
          "text": [
            "[[1. 1. 1. ... 1. 1. 1.]\n",
            " [1. 1. 1. ... 1. 1. 1.]\n",
            " [1. 1. 1. ... 1. 1. 1.]\n",
            " ...\n",
            " [1. 1. 1. ... 1. 1. 1.]\n",
            " [1. 1. 1. ... 1. 1. 1.]\n",
            " [1. 1. 1. ... 1. 1. 1.]]\n"
          ],
          "name": "stdout"
        },
        {
          "output_type": "execute_result",
          "data": {
            "text/plain": [
              "(28, 28)"
            ]
          },
          "metadata": {
            "tags": []
          },
          "execution_count": 15
        }
      ]
    },
    {
      "cell_type": "code",
      "metadata": {
        "id": "jXqKV6qZ-W9H",
        "colab_type": "code",
        "colab": {
          "base_uri": "https://localhost:8080/",
          "height": 153
        },
        "outputId": "421ddc6b-2347-40be-9ad1-8d8ca40d9c01"
      },
      "source": [
        "img3 = io.imread(\"/content/drive/My Drive/Colab Notebooks/3.jpeg\",as_gray=True)\n",
        "print(img3)\n",
        "img3 = resize(img3, (28, 28))\n",
        "np.shape(img3)"
      ],
      "execution_count": null,
      "outputs": [
        {
          "output_type": "stream",
          "text": [
            "[[0.00392157 0.00392157 0.00392157 ... 0.00392157 0.00392157 0.00392157]\n",
            " [0.00392157 0.00392157 0.00392157 ... 0.00392157 0.00392157 0.00392157]\n",
            " [0.00392157 0.00392157 0.00392157 ... 0.00392157 0.00392157 0.00392157]\n",
            " ...\n",
            " [0.00392157 0.00392157 0.00392157 ... 0.00392157 0.00392157 0.00392157]\n",
            " [0.00392157 0.00392157 0.00392157 ... 0.00392157 0.00392157 0.00392157]\n",
            " [0.00392157 0.00392157 0.00392157 ... 0.00392157 0.00392157 0.00392157]]\n"
          ],
          "name": "stdout"
        },
        {
          "output_type": "execute_result",
          "data": {
            "text/plain": [
              "(28, 28)"
            ]
          },
          "metadata": {
            "tags": []
          },
          "execution_count": 16
        }
      ]
    },
    {
      "cell_type": "code",
      "metadata": {
        "id": "9fWZJZGNHI3P",
        "colab_type": "code",
        "colab": {
          "base_uri": "https://localhost:8080/",
          "height": 153
        },
        "outputId": "f159df84-606e-4785-a169-2234963f1b3e"
      },
      "source": [
        "img5 = io.imread(\"/content/drive/My Drive/Colab Notebooks/5.jpg\",as_gray=True)\n",
        "print(img5)\n",
        "img5 = resize(img5, (28, 28))\n",
        "np.shape(img5)"
      ],
      "execution_count": null,
      "outputs": [
        {
          "output_type": "stream",
          "text": [
            "[[1. 1. 1. ... 1. 1. 1.]\n",
            " [1. 1. 1. ... 1. 1. 1.]\n",
            " [1. 1. 1. ... 1. 1. 1.]\n",
            " ...\n",
            " [1. 1. 1. ... 1. 1. 1.]\n",
            " [1. 1. 1. ... 1. 1. 1.]\n",
            " [1. 1. 1. ... 1. 1. 1.]]\n"
          ],
          "name": "stdout"
        },
        {
          "output_type": "execute_result",
          "data": {
            "text/plain": [
              "(28, 28)"
            ]
          },
          "metadata": {
            "tags": []
          },
          "execution_count": 17
        }
      ]
    },
    {
      "cell_type": "code",
      "metadata": {
        "id": "frEKJ9O__Oqc",
        "colab_type": "code",
        "colab": {}
      },
      "source": [
        "img5=img5/255"
      ],
      "execution_count": null,
      "outputs": []
    },
    {
      "cell_type": "code",
      "metadata": {
        "id": "OHDm8d9dH2Eo",
        "colab_type": "code",
        "colab": {}
      },
      "source": [
        ""
      ],
      "execution_count": null,
      "outputs": []
    },
    {
      "cell_type": "code",
      "metadata": {
        "id": "Cms3GA55HUFZ",
        "colab_type": "code",
        "colab": {
          "base_uri": "https://localhost:8080/",
          "height": 51
        },
        "outputId": "324fa796-d71a-4acd-802c-3110d29c4a21"
      },
      "source": [
        "img5=img5.reshape(1,28,28,1)\n",
        "print(np.shape(img5))\n",
        "import numpy as np\n",
        "np.argmax(clf.predict(img5))"
      ],
      "execution_count": null,
      "outputs": [
        {
          "output_type": "stream",
          "text": [
            "(1, 28, 28, 1)\n"
          ],
          "name": "stdout"
        },
        {
          "output_type": "execute_result",
          "data": {
            "text/plain": [
              "1"
            ]
          },
          "metadata": {
            "tags": []
          },
          "execution_count": 19
        }
      ]
    },
    {
      "cell_type": "code",
      "metadata": {
        "id": "pafJs8wj6DQv",
        "colab_type": "code",
        "colab": {
          "base_uri": "https://localhost:8080/",
          "height": 51
        },
        "outputId": "e363a365-1ec5-4dff-d67c-79a573c33da7"
      },
      "source": [
        "img1=img1.reshape(1,28,28,1)\n",
        "print(np.shape(img1))\n",
        "import numpy as np\n",
        "np.argmax(clf.predict(img1))"
      ],
      "execution_count": null,
      "outputs": [
        {
          "output_type": "stream",
          "text": [
            "(1, 28, 28, 1)\n"
          ],
          "name": "stdout"
        },
        {
          "output_type": "execute_result",
          "data": {
            "text/plain": [
              "3"
            ]
          },
          "metadata": {
            "tags": []
          },
          "execution_count": 20
        }
      ]
    },
    {
      "cell_type": "code",
      "metadata": {
        "id": "-vTEhSNVHTDU",
        "colab_type": "code",
        "colab": {}
      },
      "source": [
        ""
      ],
      "execution_count": null,
      "outputs": []
    },
    {
      "cell_type": "code",
      "metadata": {
        "id": "GmBpR19mjk2w",
        "colab_type": "code",
        "colab": {
          "base_uri": "https://localhost:8080/",
          "height": 68
        },
        "outputId": "528ebbfa-073d-4f7b-a270-34ee205a20c1"
      },
      "source": [
        "print(np.shape(x_test[9]))\n",
        "print(y_test[9])\n",
        "print(y[9])"
      ],
      "execution_count": null,
      "outputs": [
        {
          "output_type": "stream",
          "text": [
            "(28, 28, 1)\n",
            "[0. 0. 0. 0. 0. 0. 0. 0. 0. 1.]\n",
            "9\n"
          ],
          "name": "stdout"
        }
      ]
    },
    {
      "cell_type": "code",
      "metadata": {
        "id": "it_lqhCC8Fyh",
        "colab_type": "code",
        "colab": {
          "base_uri": "https://localhost:8080/",
          "height": 68
        },
        "outputId": "557d6364-6b09-420f-8e6d-f55e1d23bf96"
      },
      "source": [
        "x=x_test[9].reshape(1,28,28,1)\n",
        "print(clf.predict(x))\n",
        "print(np.argmax(clf.predict(x),axis=-1))"
      ],
      "execution_count": null,
      "outputs": [
        {
          "output_type": "stream",
          "text": [
            "[[5.2354501e-08 5.6191912e-10 1.0646219e-09 1.0990087e-07 7.1969876e-06\n",
            "  2.0227884e-09 5.7611260e-12 5.5683208e-06 3.9579450e-06 9.9998319e-01]]\n",
            "[9]\n"
          ],
          "name": "stdout"
        }
      ]
    },
    {
      "cell_type": "code",
      "metadata": {
        "id": "4691MII6BUkA",
        "colab_type": "code",
        "colab": {
          "base_uri": "https://localhost:8080/",
          "height": 265
        },
        "outputId": "11804365-b8a1-4907-a4f8-09315af77398"
      },
      "source": [
        "\n",
        "image = img1.reshape(28,28)\n",
        "# plot the sample\n",
        "fig = plt.figure\n",
        "plt.imshow(image, cmap='gray')\n",
        "plt.show()"
      ],
      "execution_count": null,
      "outputs": [
        {
          "output_type": "display_data",
          "data": {
            "image/png": "[encoded data removed]",
            "text/plain": [
              "<Figure size 432x288 with 1 Axes>"
            ]
          },
          "metadata": {
            "tags": [],
            "needs_background": "light"
          }
        }
      ]
    },
    {
      "cell_type": "code",
      "metadata": {
        "id": "WhaJrcdsMipe",
        "colab_type": "code",
        "colab": {}
      },
      "source": [
        "#img3=img3/255   Not normalising the image 3"
      ],
      "execution_count": null,
      "outputs": []
    },
    {
      "cell_type": "code",
      "metadata": {
        "id": "IlXHD_EpC5ai",
        "colab_type": "code",
        "colab": {
          "base_uri": "https://localhost:8080/",
          "height": 51
        },
        "outputId": "245201c6-3b62-42c5-cabd-d8badc2a186b"
      },
      "source": [
        "img3=img3.reshape(1,28,28,1)\n",
        "print(np.shape(img3))\n",
        "import numpy as np\n",
        "np.argmax(clf.predict(img3))"
      ],
      "execution_count": null,
      "outputs": [
        {
          "output_type": "stream",
          "text": [
            "(1, 28, 28, 1)\n"
          ],
          "name": "stdout"
        },
        {
          "output_type": "execute_result",
          "data": {
            "text/plain": [
              "3"
            ]
          },
          "metadata": {
            "tags": []
          },
          "execution_count": 25
        }
      ]
    },
    {
      "cell_type": "code",
      "metadata": {
        "id": "AVZgiopaC9VX",
        "colab_type": "code",
        "colab": {
          "base_uri": "https://localhost:8080/",
          "height": 265
        },
        "outputId": "821d977b-d86c-4921-e41b-d15b4975763e"
      },
      "source": [
        "image = img3.reshape(28,28)\n",
        "# plot the sample\n",
        "fig = plt.figure\n",
        "plt.imshow(image, cmap='gray')\n",
        "plt.show()"
      ],
      "execution_count": null,
      "outputs": [
        {
          "output_type": "display_data",
          "data": {
            "image/png": "[encoded data removed]",
            "text/plain": [
              "<Figure size 432x288 with 1 Axes>"
            ]
          },
          "metadata": {
            "tags": [],
            "needs_background": "light"
          }
        }
      ]
    },
    {
      "cell_type": "code",
      "metadata": {
        "id": "WZntJZ3mDCXL",
        "colab_type": "code",
        "colab": {
          "base_uri": "https://localhost:8080/",
          "height": 265
        },
        "outputId": "7fb78356-8687-4827-cb17-675578ec4537"
      },
      "source": [
        "\n",
        "image = x_test[0].reshape(28,28)\n",
        "# plot the sample\n",
        "fig = plt.figure\n",
        "plt.imshow(image, cmap='gray')\n",
        "plt.show()"
      ],
      "execution_count": null,
      "outputs": [
        {
          "output_type": "display_data",
          "data": {
            "image/png": "[encoded data removed]",
            "text/plain": [
              "<Figure size 432x288 with 1 Axes>"
            ]
          },
          "metadata": {
            "tags": [],
            "needs_background": "light"
          }
        }
      ]
    },
    {
      "cell_type": "code",
      "metadata": {
        "id": "EosHGj8jDd7C",
        "colab_type": "code",
        "colab": {
          "base_uri": "https://localhost:8080/",
          "height": 34
        },
        "outputId": "c6be40a3-12e9-4997-8763-2b040001c225"
      },
      "source": [
        "np.argmax(clf.predict(x_test[0].reshape(1,28,28,1)))"
      ],
      "execution_count": null,
      "outputs": [
        {
          "output_type": "execute_result",
          "data": {
            "text/plain": [
              "7"
            ]
          },
          "metadata": {
            "tags": []
          },
          "execution_count": 28
        }
      ]
    },
    {
      "cell_type": "code",
      "metadata": {
        "id": "VTqI1RMyD-Yz",
        "colab_type": "code",
        "colab": {
          "base_uri": "https://localhost:8080/",
          "height": 34
        },
        "outputId": "1b560d1b-7400-451f-9b75-5280d9a6382a"
      },
      "source": [
        "x_test[0].shape"
      ],
      "execution_count": null,
      "outputs": [
        {
          "output_type": "execute_result",
          "data": {
            "text/plain": [
              "(28, 28, 1)"
            ]
          },
          "metadata": {
            "tags": []
          },
          "execution_count": 29
        }
      ]
    },
    {
      "cell_type": "code",
      "metadata": {
        "id": "r7uDHXhvECZ-",
        "colab_type": "code",
        "colab": {}
      },
      "source": [
        "#x_test[0]"
      ],
      "execution_count": null,
      "outputs": []
    },
    {
      "cell_type": "code",
      "metadata": {
        "id": "-0jdARvHF7bB",
        "colab_type": "code",
        "colab": {
          "base_uri": "https://localhost:8080/",
          "height": 153
        },
        "outputId": "61660b50-76c8-4f35-bb1f-b011fa642751"
      },
      "source": [
        "img_5 = io.imread(\"/content/drive/My Drive/Colab Notebooks/5.1.jpg\",as_gray=True)\n",
        "print(img_5)\n",
        "img5 = resize(img_5, (28, 28))\n",
        "np.shape(img_5)"
      ],
      "execution_count": null,
      "outputs": [
        {
          "output_type": "stream",
          "text": [
            "[[1. 1. 1. ... 1. 1. 1.]\n",
            " [1. 1. 1. ... 1. 1. 1.]\n",
            " [1. 1. 1. ... 1. 1. 1.]\n",
            " ...\n",
            " [1. 1. 1. ... 1. 1. 1.]\n",
            " [1. 1. 1. ... 1. 1. 1.]\n",
            " [1. 1. 1. ... 1. 1. 1.]]\n"
          ],
          "name": "stdout"
        },
        {
          "output_type": "execute_result",
          "data": {
            "text/plain": [
              "(460, 819)"
            ]
          },
          "metadata": {
            "tags": []
          },
          "execution_count": 31
        }
      ]
    },
    {
      "cell_type": "code",
      "metadata": {
        "id": "5BOPd0VkIkz3",
        "colab_type": "code",
        "colab": {
          "base_uri": "https://localhost:8080/",
          "height": 214
        },
        "outputId": "10638bb5-60c5-41d5-a408-95432fd7fa29"
      },
      "source": [
        "img_5=img_5.reshape(1,28,28,1)\n",
        "print(np.shape(img_5))\n",
        "import numpy as np\n",
        "np.argmax(clf.predict(img_5))"
      ],
      "execution_count": null,
      "outputs": [
        {
          "output_type": "error",
          "ename": "ValueError",
          "evalue": "ignored",
          "traceback": [
            "\u001b[0;31m---------------------------------------------------------------------------\u001b[0m",
            "\u001b[0;31mValueError\u001b[0m                                Traceback (most recent call last)",
            "\u001b[0;32m<ipython-input-32-9e286c8be5d6>\u001b[0m in \u001b[0;36m<module>\u001b[0;34m()\u001b[0m\n\u001b[0;32m----> 1\u001b[0;31m \u001b[0mimg_5\u001b[0m\u001b[0;34m=\u001b[0m\u001b[0mimg_5\u001b[0m\u001b[0;34m.\u001b[0m\u001b[0mreshape\u001b[0m\u001b[0;34m(\u001b[0m\u001b[0;36m1\u001b[0m\u001b[0;34m,\u001b[0m\u001b[0;36m28\u001b[0m\u001b[0;34m,\u001b[0m\u001b[0;36m28\u001b[0m\u001b[0;34m,\u001b[0m\u001b[0;36m1\u001b[0m\u001b[0;34m)\u001b[0m\u001b[0;34m\u001b[0m\u001b[0;34m\u001b[0m\u001b[0m\n\u001b[0m\u001b[1;32m      2\u001b[0m \u001b[0mprint\u001b[0m\u001b[0;34m(\u001b[0m\u001b[0mnp\u001b[0m\u001b[0;34m.\u001b[0m\u001b[0mshape\u001b[0m\u001b[0;34m(\u001b[0m\u001b[0mimg_5\u001b[0m\u001b[0;34m)\u001b[0m\u001b[0;34m)\u001b[0m\u001b[0;34m\u001b[0m\u001b[0;34m\u001b[0m\u001b[0m\n\u001b[1;32m      3\u001b[0m \u001b[0;32mimport\u001b[0m \u001b[0mnumpy\u001b[0m \u001b[0;32mas\u001b[0m \u001b[0mnp\u001b[0m\u001b[0;34m\u001b[0m\u001b[0;34m\u001b[0m\u001b[0m\n\u001b[1;32m      4\u001b[0m \u001b[0mnp\u001b[0m\u001b[0;34m.\u001b[0m\u001b[0margmax\u001b[0m\u001b[0;34m(\u001b[0m\u001b[0mclf\u001b[0m\u001b[0;34m.\u001b[0m\u001b[0mpredict\u001b[0m\u001b[0;34m(\u001b[0m\u001b[0mimg_5\u001b[0m\u001b[0;34m)\u001b[0m\u001b[0;34m)\u001b[0m\u001b[0;34m\u001b[0m\u001b[0;34m\u001b[0m\u001b[0m\n",
            "\u001b[0;31mValueError\u001b[0m: cannot reshape array of size 376740 into shape (1,28,28,1)"
          ]
        }
      ]
    },
    {
      "cell_type": "code",
      "metadata": {
        "id": "C_vJHiiQYPin",
        "colab_type": "code",
        "colab": {
          "base_uri": "https://localhost:8080/"
        },
        "outputId": "fd7b2eac-79de-4366-c1b3-bfd3225e20b1"
      },
      "source": [
        "7/3"
      ],
      "execution_count": null,
      "outputs": [
        {
          "output_type": "execute_result",
          "data": {
            "text/plain": [
              "2.3333333333333335"
            ]
          },
          "metadata": {
            "tags": []
          },
          "execution_count": 1
        }
      ]
    },
    {
      "cell_type": "code",
      "metadata": {
        "id": "iECE3O-gn77E",
        "colab_type": "code",
        "colab": {
          "base_uri": "https://localhost:8080/"
        },
        "outputId": "b6d2ab35-db32-432b-c3b1-158c388f26e7"
      },
      "source": [
        "7//3"
      ],
      "execution_count": null,
      "outputs": [
        {
          "output_type": "execute_result",
          "data": {
            "text/plain": [
              "2"
            ]
          },
          "metadata": {
            "tags": []
          },
          "execution_count": 2
        }
      ]
    },
    {
      "cell_type": "code",
      "metadata": {
        "id": "IQHRp32on9Gt",
        "colab_type": "code",
        "colab": {}
      },
      "source": [
        ""
      ],
      "execution_count": null,
      "outputs": []
    }
  ]
}