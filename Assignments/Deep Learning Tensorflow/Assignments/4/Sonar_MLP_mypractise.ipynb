{
 "cells": [
  {
   "cell_type": "code",
   "execution_count": 35,
   "metadata": {},
   "outputs": [],
   "source": [
    "import pandas as pd\n",
    "import numpy as np\n",
    "import matplotlib.pyplot as plt\n",
    "import tensorflow as tf\n",
    "from sklearn.preprocessing import LabelEncoder, OneHotEncoder\n",
    "from sklearn.utils import shuffle\n",
    "from sklearn.model_selection import train_test_split"
   ]
  },
  {
   "cell_type": "code",
   "execution_count": 36,
   "metadata": {},
   "outputs": [
    {
     "name": "stdout",
     "output_type": "stream",
     "text": [
      "61\n"
     ]
    }
   ],
   "source": [
    "# def read_dataset():\n",
    "df = pd.read_csv(\"sonar.csv\")\n",
    "print(len(df.columns))\n",
    "X = df[df.columns[0:60]].values\n",
    "y = df[df.columns[60]]"
   ]
  },
  {
   "cell_type": "code",
   "execution_count": 37,
   "metadata": {},
   "outputs": [
    {
     "data": {
      "text/plain": [
       "array([[0.0453, 0.0523, 0.0843, ..., 0.0049, 0.0052, 0.0044],\n",
       "       [0.0262, 0.0582, 0.1099, ..., 0.0164, 0.0095, 0.0078],\n",
       "       [0.01  , 0.0171, 0.0623, ..., 0.0044, 0.004 , 0.0117],\n",
       "       ...,\n",
       "       [0.0522, 0.0437, 0.018 , ..., 0.0138, 0.0077, 0.0031],\n",
       "       [0.0303, 0.0353, 0.049 , ..., 0.0079, 0.0036, 0.0048],\n",
       "       [0.026 , 0.0363, 0.0136, ..., 0.0036, 0.0061, 0.0115]])"
      ]
     },
     "execution_count": 37,
     "metadata": {},
     "output_type": "execute_result"
    }
   ],
   "source": [
    "X"
   ]
  },
  {
   "cell_type": "code",
   "execution_count": 38,
   "metadata": {},
   "outputs": [
    {
     "name": "stdout",
     "output_type": "stream",
     "text": [
      "(207, 60)\n",
      "60\n",
      "207\n"
     ]
    }
   ],
   "source": [
    "print(X.shape)\n",
    "print(X.shape[1])\n",
    "print(X.shape[0])"
   ]
  },
  {
   "cell_type": "code",
   "execution_count": 39,
   "metadata": {},
   "outputs": [],
   "source": [
    "encoder = LabelEncoder()\n",
    "encoder.fit(y)\n",
    "y = encoder.transform(y)"
   ]
  },
  {
   "cell_type": "code",
   "execution_count": 40,
   "metadata": {},
   "outputs": [
    {
     "data": {
      "text/plain": [
       "array([1, 1, 1, 1, 1, 1, 1, 1, 1, 1, 1, 1, 1, 1, 1, 1, 1, 1, 1, 1, 1, 1,\n",
       "       1, 1, 1, 1, 1, 1, 1, 1, 1, 1, 1, 1, 1, 1, 1, 1, 1, 1, 1, 1, 1, 1,\n",
       "       1, 1, 1, 1, 1, 1, 1, 1, 1, 1, 1, 1, 1, 1, 1, 1, 1, 1, 1, 1, 1, 1,\n",
       "       1, 1, 1, 1, 1, 1, 1, 1, 1, 1, 1, 1, 1, 1, 1, 1, 1, 1, 1, 1, 1, 1,\n",
       "       1, 1, 1, 1, 1, 1, 1, 1, 0, 0, 0, 0, 0, 0, 0, 0, 0, 0, 0, 0, 0, 0,\n",
       "       0, 0, 0, 0, 0, 0, 0, 0, 0, 0, 0, 0, 0, 0, 0, 0, 0, 0, 0, 0, 0, 0,\n",
       "       0, 0, 0, 0, 0, 0, 0, 0, 0, 0, 0, 0, 0, 0, 0, 0, 0, 0, 0, 0, 0, 0,\n",
       "       0, 0, 0, 0, 0, 0, 0, 0, 0, 0, 0, 0, 0, 0, 0, 0, 0, 0, 0, 0, 0, 0,\n",
       "       0, 0, 0, 0, 0, 0, 0, 0, 0, 0, 0, 0, 0, 0, 0, 0, 0, 0, 0, 0, 0, 0,\n",
       "       0, 0, 0, 0, 0, 0, 0, 0, 0])"
      ]
     },
     "execution_count": 40,
     "metadata": {},
     "output_type": "execute_result"
    }
   ],
   "source": [
    "y"
   ]
  },
  {
   "cell_type": "code",
   "execution_count": 41,
   "metadata": {},
   "outputs": [
    {
     "data": {
      "text/plain": [
       "numpy.ndarray"
      ]
     },
     "execution_count": 41,
     "metadata": {},
     "output_type": "execute_result"
    }
   ],
   "source": [
    "type(y)"
   ]
  },
  {
   "cell_type": "code",
   "execution_count": 42,
   "metadata": {},
   "outputs": [],
   "source": [
    "n_labels = len(y)\n",
    "n_unique_labels = len(np.unique(y))\n",
    "one_hot_encode = np.zeros((n_labels, n_unique_labels))\n",
    "one_hot_encode[np.arange(n_labels), y] = 1\n",
    "Y = one_hot_encode"
   ]
  },
  {
   "cell_type": "code",
   "execution_count": 43,
   "metadata": {},
   "outputs": [
    {
     "data": {
      "text/plain": [
       "array([[0., 1.],\n",
       "       [0., 1.],\n",
       "       [0., 1.],\n",
       "       [0., 1.],\n",
       "       [0., 1.],\n",
       "       [0., 1.],\n",
       "       [0., 1.],\n",
       "       [0., 1.],\n",
       "       [0., 1.],\n",
       "       [0., 1.],\n",
       "       [0., 1.],\n",
       "       [0., 1.],\n",
       "       [0., 1.],\n",
       "       [0., 1.],\n",
       "       [0., 1.],\n",
       "       [0., 1.],\n",
       "       [0., 1.],\n",
       "       [0., 1.],\n",
       "       [0., 1.],\n",
       "       [0., 1.],\n",
       "       [0., 1.],\n",
       "       [0., 1.],\n",
       "       [0., 1.],\n",
       "       [0., 1.],\n",
       "       [0., 1.],\n",
       "       [0., 1.],\n",
       "       [0., 1.],\n",
       "       [0., 1.],\n",
       "       [0., 1.],\n",
       "       [0., 1.],\n",
       "       [0., 1.],\n",
       "       [0., 1.],\n",
       "       [0., 1.],\n",
       "       [0., 1.],\n",
       "       [0., 1.],\n",
       "       [0., 1.],\n",
       "       [0., 1.],\n",
       "       [0., 1.],\n",
       "       [0., 1.],\n",
       "       [0., 1.],\n",
       "       [0., 1.],\n",
       "       [0., 1.],\n",
       "       [0., 1.],\n",
       "       [0., 1.],\n",
       "       [0., 1.],\n",
       "       [0., 1.],\n",
       "       [0., 1.],\n",
       "       [0., 1.],\n",
       "       [0., 1.],\n",
       "       [0., 1.],\n",
       "       [0., 1.],\n",
       "       [0., 1.],\n",
       "       [0., 1.],\n",
       "       [0., 1.],\n",
       "       [0., 1.],\n",
       "       [0., 1.],\n",
       "       [0., 1.],\n",
       "       [0., 1.],\n",
       "       [0., 1.],\n",
       "       [0., 1.],\n",
       "       [0., 1.],\n",
       "       [0., 1.],\n",
       "       [0., 1.],\n",
       "       [0., 1.],\n",
       "       [0., 1.],\n",
       "       [0., 1.],\n",
       "       [0., 1.],\n",
       "       [0., 1.],\n",
       "       [0., 1.],\n",
       "       [0., 1.],\n",
       "       [0., 1.],\n",
       "       [0., 1.],\n",
       "       [0., 1.],\n",
       "       [0., 1.],\n",
       "       [0., 1.],\n",
       "       [0., 1.],\n",
       "       [0., 1.],\n",
       "       [0., 1.],\n",
       "       [0., 1.],\n",
       "       [0., 1.],\n",
       "       [0., 1.],\n",
       "       [0., 1.],\n",
       "       [0., 1.],\n",
       "       [0., 1.],\n",
       "       [0., 1.],\n",
       "       [0., 1.],\n",
       "       [0., 1.],\n",
       "       [0., 1.],\n",
       "       [0., 1.],\n",
       "       [0., 1.],\n",
       "       [0., 1.],\n",
       "       [0., 1.],\n",
       "       [0., 1.],\n",
       "       [0., 1.],\n",
       "       [0., 1.],\n",
       "       [0., 1.],\n",
       "       [1., 0.],\n",
       "       [1., 0.],\n",
       "       [1., 0.],\n",
       "       [1., 0.],\n",
       "       [1., 0.],\n",
       "       [1., 0.],\n",
       "       [1., 0.],\n",
       "       [1., 0.],\n",
       "       [1., 0.],\n",
       "       [1., 0.],\n",
       "       [1., 0.],\n",
       "       [1., 0.],\n",
       "       [1., 0.],\n",
       "       [1., 0.],\n",
       "       [1., 0.],\n",
       "       [1., 0.],\n",
       "       [1., 0.],\n",
       "       [1., 0.],\n",
       "       [1., 0.],\n",
       "       [1., 0.],\n",
       "       [1., 0.],\n",
       "       [1., 0.],\n",
       "       [1., 0.],\n",
       "       [1., 0.],\n",
       "       [1., 0.],\n",
       "       [1., 0.],\n",
       "       [1., 0.],\n",
       "       [1., 0.],\n",
       "       [1., 0.],\n",
       "       [1., 0.],\n",
       "       [1., 0.],\n",
       "       [1., 0.],\n",
       "       [1., 0.],\n",
       "       [1., 0.],\n",
       "       [1., 0.],\n",
       "       [1., 0.],\n",
       "       [1., 0.],\n",
       "       [1., 0.],\n",
       "       [1., 0.],\n",
       "       [1., 0.],\n",
       "       [1., 0.],\n",
       "       [1., 0.],\n",
       "       [1., 0.],\n",
       "       [1., 0.],\n",
       "       [1., 0.],\n",
       "       [1., 0.],\n",
       "       [1., 0.],\n",
       "       [1., 0.],\n",
       "       [1., 0.],\n",
       "       [1., 0.],\n",
       "       [1., 0.],\n",
       "       [1., 0.],\n",
       "       [1., 0.],\n",
       "       [1., 0.],\n",
       "       [1., 0.],\n",
       "       [1., 0.],\n",
       "       [1., 0.],\n",
       "       [1., 0.],\n",
       "       [1., 0.],\n",
       "       [1., 0.],\n",
       "       [1., 0.],\n",
       "       [1., 0.],\n",
       "       [1., 0.],\n",
       "       [1., 0.],\n",
       "       [1., 0.],\n",
       "       [1., 0.],\n",
       "       [1., 0.],\n",
       "       [1., 0.],\n",
       "       [1., 0.],\n",
       "       [1., 0.],\n",
       "       [1., 0.],\n",
       "       [1., 0.],\n",
       "       [1., 0.],\n",
       "       [1., 0.],\n",
       "       [1., 0.],\n",
       "       [1., 0.],\n",
       "       [1., 0.],\n",
       "       [1., 0.],\n",
       "       [1., 0.],\n",
       "       [1., 0.],\n",
       "       [1., 0.],\n",
       "       [1., 0.],\n",
       "       [1., 0.],\n",
       "       [1., 0.],\n",
       "       [1., 0.],\n",
       "       [1., 0.],\n",
       "       [1., 0.],\n",
       "       [1., 0.],\n",
       "       [1., 0.],\n",
       "       [1., 0.],\n",
       "       [1., 0.],\n",
       "       [1., 0.],\n",
       "       [1., 0.],\n",
       "       [1., 0.],\n",
       "       [1., 0.],\n",
       "       [1., 0.],\n",
       "       [1., 0.],\n",
       "       [1., 0.],\n",
       "       [1., 0.],\n",
       "       [1., 0.],\n",
       "       [1., 0.],\n",
       "       [1., 0.],\n",
       "       [1., 0.],\n",
       "       [1., 0.],\n",
       "       [1., 0.],\n",
       "       [1., 0.],\n",
       "       [1., 0.],\n",
       "       [1., 0.],\n",
       "       [1., 0.],\n",
       "       [1., 0.],\n",
       "       [1., 0.]])"
      ]
     },
     "execution_count": 43,
     "metadata": {},
     "output_type": "execute_result"
    }
   ],
   "source": [
    "Y"
   ]
  },
  {
   "cell_type": "code",
   "execution_count": 44,
   "metadata": {},
   "outputs": [],
   "source": [
    "from sklearn.preprocessing import StandardScaler"
   ]
  },
  {
   "cell_type": "code",
   "execution_count": 45,
   "metadata": {},
   "outputs": [],
   "source": [
    "scaler = StandardScaler()"
   ]
  },
  {
   "cell_type": "code",
   "execution_count": 46,
   "metadata": {},
   "outputs": [],
   "source": [
    "X = scaler.fit_transform(X)"
   ]
  },
  {
   "cell_type": "code",
   "execution_count": 47,
   "metadata": {},
   "outputs": [
    {
     "data": {
      "text/plain": [
       "array([[ 0.70018948,  0.42042142,  1.0529498 , ..., -0.4709383 ,\n",
       "        -0.44268846, -0.42246083],\n",
       "       [-0.13089402,  0.59942737,  1.71912994, ...,  1.30656071,\n",
       "         0.25299833,  0.25405324],\n",
       "       [-0.83579208, -0.64754631,  0.48045125, ..., -0.54822087,\n",
       "        -0.63683361,  1.03005467],\n",
       "       ...,\n",
       "       [ 1.00042384,  0.15949749, -0.67235266, ...,  0.90469137,\n",
       "        -0.0382194 , -0.68112798],\n",
       "       [ 0.0475061 , -0.09535845,  0.13434985, ..., -0.00724291,\n",
       "        -0.70154866, -0.34287094],\n",
       "       [-0.13959647, -0.06501846, -0.78685237, ..., -0.67187297,\n",
       "        -0.2970796 ,  0.99025973]])"
      ]
     },
     "execution_count": 47,
     "metadata": {},
     "output_type": "execute_result"
    }
   ],
   "source": [
    "X"
   ]
  },
  {
   "cell_type": "code",
   "execution_count": 48,
   "metadata": {},
   "outputs": [],
   "source": [
    "# mu = np.mean(X, axis=0)\n",
    "# sigma = np.std(X, axis=0)\n",
    "# X = (X - mu)/sigma"
   ]
  },
  {
   "cell_type": "code",
   "execution_count": 49,
   "metadata": {},
   "outputs": [
    {
     "data": {
      "image/png": "[encoded data removed]",
      "text/plain": [
       "<Figure size 720x576 with 1 Axes>"
      ]
     },
     "metadata": {
      "needs_background": "light"
     },
     "output_type": "display_data"
    }
   ],
   "source": [
    "normal = np.where(y==0)\n",
    "outliers = np.where(y==1)\n",
    "fig = plt.figure(figsize=(10,8))\n",
    "plt.plot(X[normal, 0], X[normal, 1], 'bx')\n",
    "plt.plot(X[outliers, 0], X[outliers, 1], 'ro')\n",
    "plt.xlabel('Latency (ms)')\n",
    "plt.ylabel('Throughput (mb/s)')\n",
    "plt.show()"
   ]
  },
  {
   "cell_type": "code",
   "execution_count": 50,
   "metadata": {},
   "outputs": [
    {
     "name": "stdout",
     "output_type": "stream",
     "text": [
      "(165, 60)\n",
      "(165, 2)\n",
      "(42, 60)\n",
      "(42, 2)\n"
     ]
    }
   ],
   "source": [
    "X,Y = shuffle(X,Y,random_state=1)\n",
    "train_x, test_x, train_y, test_y = train_test_split(X,Y,test_size=0.20, random_state=415)\n",
    "\n",
    "print(train_x.shape)\n",
    "print(train_y.shape)\n",
    "print(test_x.shape)\n",
    "print(test_y.shape)"
   ]
  },
  {
   "cell_type": "code",
   "execution_count": 51,
   "metadata": {},
   "outputs": [],
   "source": [
    "learning_rate = 0.1\n",
    "training_epochs = 500\n",
    "cost_history = np.empty(shape=[1], dtype=float)\n",
    "\n",
    "n_dim = X.shape[1]\n",
    "n_class = 2"
   ]
  },
  {
   "cell_type": "code",
   "execution_count": 52,
   "metadata": {},
   "outputs": [],
   "source": [
    "n_hidden_1 = 60\n",
    "n_hidden_2 = 60\n",
    "n_hidden_3 = 60\n",
    "n_hidden_4 = 60"
   ]
  },
  {
   "cell_type": "code",
   "execution_count": 53,
   "metadata": {},
   "outputs": [],
   "source": [
    "import tensorflow.compat.v1 as tf\n",
    "tf.disable_v2_behavior()"
   ]
  },
  {
   "cell_type": "code",
   "execution_count": 54,
   "metadata": {},
   "outputs": [],
   "source": [
    "x = tf.placeholder(tf.float32,[None,n_dim])\n",
    "W = tf.Variable(tf.zeros([n_dim,n_class]))\n",
    "b = tf.Variable(tf.zeros([n_class]))\n",
    "y_ = tf.placeholder(tf.float32, [None, n_class])"
   ]
  },
  {
   "cell_type": "code",
   "execution_count": 55,
   "metadata": {},
   "outputs": [
    {
     "data": {
      "text/plain": [
       "TensorShape([Dimension(2)])"
      ]
     },
     "execution_count": 55,
     "metadata": {},
     "output_type": "execute_result"
    }
   ],
   "source": [
    "b.shape"
   ]
  },
  {
   "cell_type": "code",
   "execution_count": 56,
   "metadata": {},
   "outputs": [],
   "source": [
    "weights = {\n",
    "    'h1': tf.Variable(tf.truncated_normal([n_dim, n_hidden_1])),\n",
    "    'h2': tf.Variable(tf.truncated_normal([n_hidden_1, n_hidden_2])),\n",
    "    'h3': tf.Variable(tf.truncated_normal([n_hidden_2, n_hidden_3])),\n",
    "    'h4': tf.Variable(tf.truncated_normal([n_hidden_3, n_hidden_4])),\n",
    "    'out': tf.Variable(tf.truncated_normal([n_hidden_4, n_class]))    \n",
    "}\n",
    "\n",
    "biases = {\n",
    "    'b1': tf.Variable(tf.truncated_normal([n_hidden_1])),\n",
    "    'b2': tf.Variable(tf.truncated_normal([n_hidden_2])),\n",
    "    'b3': tf.Variable(tf.truncated_normal([n_hidden_3])),\n",
    "    'b4': tf.Variable(tf.truncated_normal([n_hidden_4])),\n",
    "    'out': tf.Variable(tf.truncated_normal([n_class]))\n",
    "}"
   ]
  },
  {
   "cell_type": "code",
   "execution_count": 57,
   "metadata": {},
   "outputs": [],
   "source": [
    "def multilayer_perceptron(x, weights, biases):\n",
    "    layer_1 = tf.add(tf.matmul(x, weights['h1']), biases['b1'])\n",
    "    layer_1 = tf.nn.sigmoid(layer_1)\n",
    "    \n",
    "    layer_2 = tf.add(tf.matmul(layer_1, weights['h2']), biases['b2'])\n",
    "    layer_2 = tf.nn.sigmoid(layer_2)\n",
    "    \n",
    "    layer_3 = tf.add(tf.matmul(layer_2, weights['h3']), biases['b3'])\n",
    "    layer_3 = tf.nn.sigmoid(layer_3)\n",
    "    \n",
    "    layer_4 = tf.add(tf.matmul(layer_3, weights['h4']), biases['b4'])\n",
    "    layer_4 = tf.nn.relu(layer_4)\n",
    "    \n",
    "    out_layer = tf.matmul(layer_4, weights['out']) + biases['out']\n",
    "    return out_layer\n",
    "    "
   ]
  },
  {
   "cell_type": "code",
   "execution_count": 58,
   "metadata": {},
   "outputs": [],
   "source": [
    "init = tf.global_variables_initializer()"
   ]
  },
  {
   "cell_type": "code",
   "execution_count": 59,
   "metadata": {},
   "outputs": [],
   "source": [
    "y = multilayer_perceptron(x, weights, biases)\n",
    "cost_function = tf.reduce_mean(tf.nn.softmax_cross_entropy_with_logits(logits=y, labels=y_))\n",
    "training_step = tf.train.GradientDescentOptimizer(learning_rate).minimize(cost_function)"
   ]
  },
  {
   "cell_type": "code",
   "execution_count": 60,
   "metadata": {},
   "outputs": [],
   "source": [
    "sess = tf.Session()\n",
    "sess.run(init)\n",
    "mse_history = []\n",
    "accuracy_history =[]"
   ]
  },
  {
   "cell_type": "code",
   "execution_count": 61,
   "metadata": {},
   "outputs": [
    {
     "name": "stdout",
     "output_type": "stream",
     "text": [
      "epoch :  0  -  cost:  32.572205  - MSE:  2581.674940752159 - Accuracy:  0.5\n",
      "epoch :  1  -  cost:  20.920753  - MSE:  1239.656873972085 - Accuracy:  0.5\n",
      "epoch :  2  -  cost:  23.28536  - MSE:  1355.0778637175954 - Accuracy:  0.5\n",
      "epoch :  3  -  cost:  2.6406665  - MSE:  488.968095356662 - Accuracy:  0.5714286\n",
      "epoch :  4  -  cost:  12.169503  - MSE:  688.986391000091 - Accuracy:  0.5\n",
      "epoch :  5  -  cost:  3.5312123  - MSE:  399.6514808049076 - Accuracy:  0.54761904\n",
      "epoch :  6  -  cost:  9.962215  - MSE:  521.9223180118055 - Accuracy:  0.5\n",
      "epoch :  7  -  cost:  1.4535867  - MSE:  295.15928259043204 - Accuracy:  0.5714286\n",
      "epoch :  8  -  cost:  5.1060553  - MSE:  338.98954108073497 - Accuracy:  0.5\n",
      "epoch :  9  -  cost:  3.2633896  - MSE:  264.82092050315396 - Accuracy:  0.5\n",
      "epoch :  10  -  cost:  4.68404  - MSE:  280.7159311077386 - Accuracy:  0.5\n",
      "epoch :  11  -  cost:  1.4719869  - MSE:  204.23405525937085 - Accuracy:  0.54761904\n",
      "epoch :  12  -  cost:  2.4858947  - MSE:  212.76190715342742 - Accuracy:  0.5\n",
      "epoch :  13  -  cost:  1.4899212  - MSE:  184.36362804614677 - Accuracy:  0.5714286\n",
      "epoch :  14  -  cost:  1.8577045  - MSE:  183.58751181287658 - Accuracy:  0.5\n",
      "epoch :  15  -  cost:  1.0322677  - MSE:  164.8109351368953 - Accuracy:  0.5952381\n",
      "epoch :  16  -  cost:  1.130988  - MSE:  160.63489412485194 - Accuracy:  0.5714286\n",
      "epoch :  17  -  cost:  0.80153835  - MSE:  152.92857034986886 - Accuracy:  0.61904764\n",
      "epoch :  18  -  cost:  0.78760415  - MSE:  148.50307905983854 - Accuracy:  0.61904764\n",
      "epoch :  19  -  cost:  0.5983551  - MSE:  143.72669294244446 - Accuracy:  0.61904764\n",
      "epoch :  20  -  cost:  0.5425043  - MSE:  140.00560665585124 - Accuracy:  0.61904764\n",
      "epoch :  21  -  cost:  0.43443087  - MSE:  137.08398417935237 - Accuracy:  0.64285713\n",
      "epoch :  22  -  cost:  0.3904441  - MSE:  135.46896336015996 - Accuracy:  0.6666667\n",
      "epoch :  23  -  cost:  0.33834177  - MSE:  133.98137082889448 - Accuracy:  0.71428573\n",
      "epoch :  24  -  cost:  0.31294742  - MSE:  133.32229722871654 - Accuracy:  0.7380952\n",
      "epoch :  25  -  cost:  0.2891733  - MSE:  131.99556276720583 - Accuracy:  0.7380952\n",
      "epoch :  26  -  cost:  0.2747398  - MSE:  132.30120580986568 - Accuracy:  0.78571427\n",
      "epoch :  27  -  cost:  0.2616647  - MSE:  131.30389986130928 - Accuracy:  0.7619048\n",
      "epoch :  28  -  cost:  0.25210938  - MSE:  131.6419436444971 - Accuracy:  0.7619048\n",
      "epoch :  29  -  cost:  0.24265176  - MSE:  131.03843873548573 - Accuracy:  0.7380952\n",
      "epoch :  30  -  cost:  0.23550433  - MSE:  131.29385724129546 - Accuracy:  0.7619048\n",
      "epoch :  31  -  cost:  0.2292989  - MSE:  130.43040447640297 - Accuracy:  0.7380952\n",
      "epoch :  32  -  cost:  0.22305936  - MSE:  130.9207383063866 - Accuracy:  0.7619048\n",
      "epoch :  33  -  cost:  0.21754622  - MSE:  130.03010985093937 - Accuracy:  0.7380952\n",
      "epoch :  34  -  cost:  0.21242394  - MSE:  130.3107488343555 - Accuracy:  0.78571427\n",
      "epoch :  35  -  cost:  0.20775926  - MSE:  129.89058832966924 - Accuracy:  0.7619048\n",
      "epoch :  36  -  cost:  0.20309971  - MSE:  130.18885604271756 - Accuracy:  0.78571427\n",
      "epoch :  37  -  cost:  0.19879071  - MSE:  130.09374250954235 - Accuracy:  0.7619048\n",
      "epoch :  38  -  cost:  0.19475946  - MSE:  130.37863972105168 - Accuracy:  0.78571427\n",
      "epoch :  39  -  cost:  0.1908275  - MSE:  129.72819289289475 - Accuracy:  0.7619048\n",
      "epoch :  40  -  cost:  0.18691353  - MSE:  130.04176652479197 - Accuracy:  0.78571427\n",
      "epoch :  41  -  cost:  0.18312716  - MSE:  129.7404441571561 - Accuracy:  0.7619048\n",
      "epoch :  42  -  cost:  0.1798446  - MSE:  129.9506163034552 - Accuracy:  0.78571427\n",
      "epoch :  43  -  cost:  0.17678067  - MSE:  129.64953555473105 - Accuracy:  0.7380952\n",
      "epoch :  44  -  cost:  0.17311446  - MSE:  129.954822867809 - Accuracy:  0.78571427\n",
      "epoch :  45  -  cost:  0.16967678  - MSE:  129.68618381060134 - Accuracy:  0.7619048\n",
      "epoch :  46  -  cost:  0.1666827  - MSE:  129.6592141803783 - Accuracy:  0.7619048\n",
      "epoch :  47  -  cost:  0.16353664  - MSE:  129.55390467733739 - Accuracy:  0.7619048\n",
      "epoch :  48  -  cost:  0.16057914  - MSE:  129.59448974259985 - Accuracy:  0.78571427\n",
      "epoch :  49  -  cost:  0.15771656  - MSE:  129.20919009122085 - Accuracy:  0.78571427\n",
      "epoch :  50  -  cost:  0.15505381  - MSE:  129.40174653131882 - Accuracy:  0.78571427\n",
      "epoch :  51  -  cost:  0.15235484  - MSE:  129.53661009521502 - Accuracy:  0.78571427\n",
      "epoch :  52  -  cost:  0.1497176  - MSE:  129.25497311697123 - Accuracy:  0.78571427\n",
      "epoch :  53  -  cost:  0.14705321  - MSE:  129.41659879571722 - Accuracy:  0.78571427\n",
      "epoch :  54  -  cost:  0.14466128  - MSE:  129.40997337240276 - Accuracy:  0.78571427\n",
      "epoch :  55  -  cost:  0.14209743  - MSE:  129.31148253243165 - Accuracy:  0.7619048\n",
      "epoch :  56  -  cost:  0.13988224  - MSE:  129.38583328549504 - Accuracy:  0.7619048\n",
      "epoch :  57  -  cost:  0.13756727  - MSE:  129.1575750900479 - Accuracy:  0.7619048\n",
      "epoch :  58  -  cost:  0.13537961  - MSE:  129.58284436632462 - Accuracy:  0.7619048\n",
      "epoch :  59  -  cost:  0.13313802  - MSE:  129.27190443239695 - Accuracy:  0.7619048\n",
      "epoch :  60  -  cost:  0.13108301  - MSE:  129.4406733226643 - Accuracy:  0.7619048\n",
      "epoch :  61  -  cost:  0.12887038  - MSE:  129.2325364599844 - Accuracy:  0.7380952\n",
      "epoch :  62  -  cost:  0.12682214  - MSE:  129.65403584692862 - Accuracy:  0.7380952\n",
      "epoch :  63  -  cost:  0.124765545  - MSE:  129.51569350079967 - Accuracy:  0.7380952\n",
      "epoch :  64  -  cost:  0.1226216  - MSE:  129.4795127420137 - Accuracy:  0.7619048\n",
      "epoch :  65  -  cost:  0.12054261  - MSE:  129.420054660933 - Accuracy:  0.7380952\n",
      "epoch :  66  -  cost:  0.1186727  - MSE:  129.4227073929262 - Accuracy:  0.7380952\n",
      "epoch :  67  -  cost:  0.116618015  - MSE:  129.17748201149382 - Accuracy:  0.7380952\n",
      "epoch :  68  -  cost:  0.11470342  - MSE:  129.42024299232892 - Accuracy:  0.7380952\n",
      "epoch :  69  -  cost:  0.11266857  - MSE:  129.38059780161768 - Accuracy:  0.7380952\n",
      "epoch :  70  -  cost:  0.11083004  - MSE:  128.98273633150941 - Accuracy:  0.7380952\n",
      "epoch :  71  -  cost:  0.10873005  - MSE:  129.07324193501574 - Accuracy:  0.7380952\n",
      "epoch :  72  -  cost:  0.106844835  - MSE:  128.90817358446566 - Accuracy:  0.7380952\n",
      "epoch :  73  -  cost:  0.10497764  - MSE:  129.05422818867478 - Accuracy:  0.7619048\n",
      "epoch :  74  -  cost:  0.10314744  - MSE:  128.77004165523536 - Accuracy:  0.7380952\n",
      "epoch :  75  -  cost:  0.101433665  - MSE:  129.01723656612404 - Accuracy:  0.7619048\n",
      "epoch :  76  -  cost:  0.09961564  - MSE:  128.70989450743573 - Accuracy:  0.7380952\n",
      "epoch :  77  -  cost:  0.0979923  - MSE:  128.86116599294704 - Accuracy:  0.7619048\n",
      "epoch :  78  -  cost:  0.09627788  - MSE:  128.81839576458944 - Accuracy:  0.7380952\n",
      "epoch :  79  -  cost:  0.09469871  - MSE:  128.98914084092286 - Accuracy:  0.7380952\n",
      "epoch :  80  -  cost:  0.09312134  - MSE:  128.99412579948975 - Accuracy:  0.7380952\n",
      "epoch :  81  -  cost:  0.09155746  - MSE:  129.1599314408524 - Accuracy:  0.7380952\n",
      "epoch :  82  -  cost:  0.09004835  - MSE:  129.0151724632588 - Accuracy:  0.7380952\n",
      "epoch :  83  -  cost:  0.088623255  - MSE:  129.1265542798154 - Accuracy:  0.7380952\n",
      "epoch :  84  -  cost:  0.08707632  - MSE:  129.14335958051055 - Accuracy:  0.7380952\n",
      "epoch :  85  -  cost:  0.08568931  - MSE:  129.15433308114993 - Accuracy:  0.7380952\n",
      "epoch :  86  -  cost:  0.08424778  - MSE:  128.9359073090699 - Accuracy:  0.7380952\n",
      "epoch :  87  -  cost:  0.082864195  - MSE:  128.97875943405762 - Accuracy:  0.7380952\n",
      "epoch :  88  -  cost:  0.081483945  - MSE:  128.76953260452717 - Accuracy:  0.7380952\n",
      "epoch :  89  -  cost:  0.080181755  - MSE:  128.81698345521895 - Accuracy:  0.7380952\n",
      "epoch :  90  -  cost:  0.078928925  - MSE:  128.7244241928748 - Accuracy:  0.7380952\n",
      "epoch :  91  -  cost:  0.0776915  - MSE:  128.69585376458122 - Accuracy:  0.7380952\n",
      "epoch :  92  -  cost:  0.076495364  - MSE:  128.55034082900426 - Accuracy:  0.7380952\n",
      "epoch :  93  -  cost:  0.07524376  - MSE:  128.645688615432 - Accuracy:  0.7380952\n",
      "epoch :  94  -  cost:  0.07403717  - MSE:  128.41679322933413 - Accuracy:  0.7380952\n",
      "epoch :  95  -  cost:  0.07284743  - MSE:  128.49640869549356 - Accuracy:  0.7380952\n",
      "epoch :  96  -  cost:  0.071774215  - MSE:  128.2382526374979 - Accuracy:  0.7380952\n",
      "epoch :  97  -  cost:  0.07059805  - MSE:  128.21949901369038 - Accuracy:  0.7380952\n"
     ]
    },
    {
     "name": "stdout",
     "output_type": "stream",
     "text": [
      "epoch :  98  -  cost:  0.06953984  - MSE:  128.10048406117545 - Accuracy:  0.7380952\n",
      "epoch :  99  -  cost:  0.06842528  - MSE:  128.13376650329027 - Accuracy:  0.7380952\n",
      "epoch :  100  -  cost:  0.067468256  - MSE:  128.07948262595087 - Accuracy:  0.7380952\n",
      "epoch :  101  -  cost:  0.066447586  - MSE:  128.00446240596713 - Accuracy:  0.7380952\n",
      "epoch :  102  -  cost:  0.065459184  - MSE:  127.94029836514792 - Accuracy:  0.7380952\n",
      "epoch :  103  -  cost:  0.06456179  - MSE:  127.84760151296652 - Accuracy:  0.7380952\n",
      "epoch :  104  -  cost:  0.06363362  - MSE:  127.79814592816604 - Accuracy:  0.7380952\n",
      "epoch :  105  -  cost:  0.06269225  - MSE:  127.81868493023451 - Accuracy:  0.7380952\n",
      "epoch :  106  -  cost:  0.061832782  - MSE:  127.84008217231639 - Accuracy:  0.7380952\n",
      "epoch :  107  -  cost:  0.061003707  - MSE:  127.61404293141248 - Accuracy:  0.7380952\n",
      "epoch :  108  -  cost:  0.060122166  - MSE:  127.7639482348377 - Accuracy:  0.7380952\n",
      "epoch :  109  -  cost:  0.059358075  - MSE:  127.61630149823776 - Accuracy:  0.7380952\n",
      "epoch :  110  -  cost:  0.058510825  - MSE:  127.85716665544108 - Accuracy:  0.7380952\n",
      "epoch :  111  -  cost:  0.057727344  - MSE:  127.80812248098917 - Accuracy:  0.7380952\n",
      "epoch :  112  -  cost:  0.056980114  - MSE:  127.63542852262646 - Accuracy:  0.7380952\n",
      "epoch :  113  -  cost:  0.056223206  - MSE:  127.80672575294453 - Accuracy:  0.7380952\n",
      "epoch :  114  -  cost:  0.055538114  - MSE:  127.71934365933119 - Accuracy:  0.7380952\n",
      "epoch :  115  -  cost:  0.054827325  - MSE:  127.61312079368784 - Accuracy:  0.7380952\n",
      "epoch :  116  -  cost:  0.05416605  - MSE:  127.66097753390565 - Accuracy:  0.7380952\n",
      "epoch :  117  -  cost:  0.05345223  - MSE:  127.60282267454282 - Accuracy:  0.7380952\n",
      "epoch :  118  -  cost:  0.052785378  - MSE:  127.81261083526596 - Accuracy:  0.7380952\n",
      "epoch :  119  -  cost:  0.052185155  - MSE:  127.66345908718388 - Accuracy:  0.7380952\n",
      "epoch :  120  -  cost:  0.05150243  - MSE:  127.80199376348817 - Accuracy:  0.7380952\n",
      "epoch :  121  -  cost:  0.050897945  - MSE:  127.64960063762821 - Accuracy:  0.7380952\n",
      "epoch :  122  -  cost:  0.05026107  - MSE:  127.7790713399714 - Accuracy:  0.7380952\n",
      "epoch :  123  -  cost:  0.04965869  - MSE:  127.65414106033661 - Accuracy:  0.7380952\n",
      "epoch :  124  -  cost:  0.049057584  - MSE:  127.8360581369629 - Accuracy:  0.7380952\n",
      "epoch :  125  -  cost:  0.048474047  - MSE:  127.79445038714506 - Accuracy:  0.7380952\n",
      "epoch :  126  -  cost:  0.047916867  - MSE:  127.76341054257674 - Accuracy:  0.7380952\n",
      "epoch :  127  -  cost:  0.047333788  - MSE:  127.81597271179392 - Accuracy:  0.7380952\n",
      "epoch :  128  -  cost:  0.046833705  - MSE:  127.75400072099397 - Accuracy:  0.7380952\n",
      "epoch :  129  -  cost:  0.04631007  - MSE:  127.82276779143463 - Accuracy:  0.7380952\n",
      "epoch :  130  -  cost:  0.045759503  - MSE:  127.85336777316 - Accuracy:  0.7380952\n",
      "epoch :  131  -  cost:  0.045262348  - MSE:  127.7555676169186 - Accuracy:  0.7380952\n",
      "epoch :  132  -  cost:  0.044745337  - MSE:  127.93272295049714 - Accuracy:  0.7380952\n",
      "epoch :  133  -  cost:  0.04428251  - MSE:  127.94462953298013 - Accuracy:  0.7380952\n",
      "epoch :  134  -  cost:  0.043781336  - MSE:  128.0365469234849 - Accuracy:  0.7380952\n",
      "epoch :  135  -  cost:  0.04330045  - MSE:  127.9441867597851 - Accuracy:  0.7380952\n",
      "epoch :  136  -  cost:  0.04284668  - MSE:  127.92433961147579 - Accuracy:  0.7380952\n",
      "epoch :  137  -  cost:  0.04237056  - MSE:  128.00148648994463 - Accuracy:  0.7380952\n",
      "epoch :  138  -  cost:  0.041958675  - MSE:  128.10548973741257 - Accuracy:  0.7380952\n",
      "epoch :  139  -  cost:  0.04149251  - MSE:  128.0860495586721 - Accuracy:  0.7380952\n",
      "epoch :  140  -  cost:  0.041043997  - MSE:  128.20772654274904 - Accuracy:  0.7380952\n",
      "epoch :  141  -  cost:  0.04061535  - MSE:  128.09189245769463 - Accuracy:  0.7380952\n",
      "epoch :  142  -  cost:  0.040198512  - MSE:  128.2012640896474 - Accuracy:  0.7380952\n",
      "epoch :  143  -  cost:  0.039785314  - MSE:  128.21801359755256 - Accuracy:  0.7380952\n",
      "epoch :  144  -  cost:  0.039401326  - MSE:  128.48899567145543 - Accuracy:  0.7380952\n",
      "epoch :  145  -  cost:  0.0389848  - MSE:  128.39782612286325 - Accuracy:  0.7380952\n",
      "epoch :  146  -  cost:  0.038585894  - MSE:  128.52035240632506 - Accuracy:  0.7380952\n",
      "epoch :  147  -  cost:  0.038203336  - MSE:  128.31254801174913 - Accuracy:  0.7380952\n",
      "epoch :  148  -  cost:  0.03781639  - MSE:  128.59100765227444 - Accuracy:  0.7380952\n",
      "epoch :  149  -  cost:  0.037453584  - MSE:  128.49655732580115 - Accuracy:  0.7380952\n",
      "epoch :  150  -  cost:  0.037083495  - MSE:  128.6734555798526 - Accuracy:  0.7380952\n",
      "epoch :  151  -  cost:  0.036747463  - MSE:  128.67846538250046 - Accuracy:  0.71428573\n",
      "epoch :  152  -  cost:  0.036392763  - MSE:  128.78187765699485 - Accuracy:  0.71428573\n",
      "epoch :  153  -  cost:  0.036026288  - MSE:  128.6732004320727 - Accuracy:  0.71428573\n",
      "epoch :  154  -  cost:  0.035683624  - MSE:  128.88935328384122 - Accuracy:  0.71428573\n",
      "epoch :  155  -  cost:  0.0353477  - MSE:  128.80158036792085 - Accuracy:  0.71428573\n",
      "epoch :  156  -  cost:  0.03501935  - MSE:  129.00114778883676 - Accuracy:  0.71428573\n",
      "epoch :  157  -  cost:  0.034692775  - MSE:  128.85982699089078 - Accuracy:  0.71428573\n",
      "epoch :  158  -  cost:  0.034366827  - MSE:  129.03205085462824 - Accuracy:  0.71428573\n",
      "epoch :  159  -  cost:  0.034060203  - MSE:  128.91037209527016 - Accuracy:  0.71428573\n",
      "epoch :  160  -  cost:  0.033755943  - MSE:  129.16420295732078 - Accuracy:  0.71428573\n",
      "epoch :  161  -  cost:  0.033441026  - MSE:  129.0720267282248 - Accuracy:  0.71428573\n",
      "epoch :  162  -  cost:  0.033142485  - MSE:  129.12405934386226 - Accuracy:  0.71428573\n",
      "epoch :  163  -  cost:  0.03285104  - MSE:  129.17617601189284 - Accuracy:  0.71428573\n",
      "epoch :  164  -  cost:  0.032561257  - MSE:  129.22032830427273 - Accuracy:  0.71428573\n",
      "epoch :  165  -  cost:  0.032265306  - MSE:  129.28686520935753 - Accuracy:  0.71428573\n",
      "epoch :  166  -  cost:  0.031986084  - MSE:  129.266202452582 - Accuracy:  0.71428573\n",
      "epoch :  167  -  cost:  0.031714164  - MSE:  129.34601870602242 - Accuracy:  0.71428573\n",
      "epoch :  168  -  cost:  0.031439222  - MSE:  129.35930151368424 - Accuracy:  0.71428573\n",
      "epoch :  169  -  cost:  0.031178344  - MSE:  129.49123647201162 - Accuracy:  0.71428573\n",
      "epoch :  170  -  cost:  0.030928878  - MSE:  129.44560562577018 - Accuracy:  0.71428573\n",
      "epoch :  171  -  cost:  0.03065685  - MSE:  129.6335083361307 - Accuracy:  0.71428573\n",
      "epoch :  172  -  cost:  0.03039941  - MSE:  129.56654784546802 - Accuracy:  0.71428573\n",
      "epoch :  173  -  cost:  0.030138923  - MSE:  129.61017799205896 - Accuracy:  0.71428573\n",
      "epoch :  174  -  cost:  0.02989986  - MSE:  129.65835578446044 - Accuracy:  0.71428573\n",
      "epoch :  175  -  cost:  0.02966109  - MSE:  129.73103557678297 - Accuracy:  0.71428573\n",
      "epoch :  176  -  cost:  0.029410237  - MSE:  129.75557033972683 - Accuracy:  0.71428573\n",
      "epoch :  177  -  cost:  0.029175228  - MSE:  129.7497980156534 - Accuracy:  0.71428573\n",
      "epoch :  178  -  cost:  0.028949585  - MSE:  129.83438182641615 - Accuracy:  0.71428573\n",
      "epoch :  179  -  cost:  0.02871579  - MSE:  129.9073317217451 - Accuracy:  0.71428573\n",
      "epoch :  180  -  cost:  0.028491968  - MSE:  130.0546746975358 - Accuracy:  0.71428573\n",
      "epoch :  181  -  cost:  0.028267993  - MSE:  129.99810695157817 - Accuracy:  0.71428573\n",
      "epoch :  182  -  cost:  0.028056476  - MSE:  130.17239127872512 - Accuracy:  0.71428573\n",
      "epoch :  183  -  cost:  0.027843507  - MSE:  130.15416146054872 - Accuracy:  0.71428573\n",
      "epoch :  184  -  cost:  0.027633678  - MSE:  130.33856382449738 - Accuracy:  0.71428573\n",
      "epoch :  185  -  cost:  0.027407134  - MSE:  130.32591535885007 - Accuracy:  0.71428573\n",
      "epoch :  186  -  cost:  0.027198106  - MSE:  130.37431471802557 - Accuracy:  0.71428573\n",
      "epoch :  187  -  cost:  0.026990088  - MSE:  130.43662135555627 - Accuracy:  0.71428573\n",
      "epoch :  188  -  cost:  0.026796654  - MSE:  130.36900593692818 - Accuracy:  0.71428573\n",
      "epoch :  189  -  cost:  0.026604155  - MSE:  130.58027452593672 - Accuracy:  0.71428573\n",
      "epoch :  190  -  cost:  0.026394455  - MSE:  130.56703561577837 - Accuracy:  0.71428573\n",
      "epoch :  191  -  cost:  0.026200363  - MSE:  130.72804626169614 - Accuracy:  0.71428573\n",
      "epoch :  192  -  cost:  0.026002841  - MSE:  130.72584977741948 - Accuracy:  0.71428573\n"
     ]
    },
    {
     "name": "stdout",
     "output_type": "stream",
     "text": [
      "epoch :  193  -  cost:  0.025818268  - MSE:  130.70763567041928 - Accuracy:  0.71428573\n",
      "epoch :  194  -  cost:  0.025641603  - MSE:  130.98928128176922 - Accuracy:  0.71428573\n",
      "epoch :  195  -  cost:  0.025452714  - MSE:  130.97627880734035 - Accuracy:  0.71428573\n",
      "epoch :  196  -  cost:  0.025269037  - MSE:  131.15750188696663 - Accuracy:  0.71428573\n",
      "epoch :  197  -  cost:  0.025077684  - MSE:  131.05811988331897 - Accuracy:  0.71428573\n",
      "epoch :  198  -  cost:  0.024914164  - MSE:  131.26402773475266 - Accuracy:  0.71428573\n",
      "epoch :  199  -  cost:  0.024724608  - MSE:  131.1801513286871 - Accuracy:  0.71428573\n",
      "epoch :  200  -  cost:  0.024558553  - MSE:  131.28585356404324 - Accuracy:  0.71428573\n",
      "epoch :  201  -  cost:  0.024387253  - MSE:  131.3003579356252 - Accuracy:  0.71428573\n",
      "epoch :  202  -  cost:  0.024221621  - MSE:  131.44512137848193 - Accuracy:  0.71428573\n",
      "epoch :  203  -  cost:  0.024039038  - MSE:  131.3849126114134 - Accuracy:  0.71428573\n",
      "epoch :  204  -  cost:  0.023886174  - MSE:  131.49387046022525 - Accuracy:  0.71428573\n",
      "epoch :  205  -  cost:  0.023719516  - MSE:  131.53227170681814 - Accuracy:  0.71428573\n",
      "epoch :  206  -  cost:  0.023554262  - MSE:  131.5846916468787 - Accuracy:  0.71428573\n",
      "epoch :  207  -  cost:  0.023392892  - MSE:  131.66610982056486 - Accuracy:  0.71428573\n",
      "epoch :  208  -  cost:  0.023239242  - MSE:  131.66872301109728 - Accuracy:  0.71428573\n",
      "epoch :  209  -  cost:  0.023079533  - MSE:  131.71346147320824 - Accuracy:  0.71428573\n",
      "epoch :  210  -  cost:  0.022930004  - MSE:  131.77963672648588 - Accuracy:  0.71428573\n",
      "epoch :  211  -  cost:  0.022779536  - MSE:  131.8217824086017 - Accuracy:  0.71428573\n",
      "epoch :  212  -  cost:  0.022632927  - MSE:  131.96820645556053 - Accuracy:  0.71428573\n",
      "epoch :  213  -  cost:  0.022489268  - MSE:  131.8970824629425 - Accuracy:  0.71428573\n",
      "epoch :  214  -  cost:  0.022334779  - MSE:  132.06585466308906 - Accuracy:  0.7380952\n",
      "epoch :  215  -  cost:  0.022186885  - MSE:  132.11843155305246 - Accuracy:  0.7380952\n",
      "epoch :  216  -  cost:  0.02204437  - MSE:  132.1906879531191 - Accuracy:  0.7380952\n",
      "epoch :  217  -  cost:  0.021900302  - MSE:  132.17333864407468 - Accuracy:  0.7380952\n",
      "epoch :  218  -  cost:  0.02175887  - MSE:  132.2852789133179 - Accuracy:  0.7380952\n",
      "epoch :  219  -  cost:  0.02161791  - MSE:  132.26725446989332 - Accuracy:  0.7380952\n",
      "epoch :  220  -  cost:  0.021466147  - MSE:  132.3509423516182 - Accuracy:  0.7380952\n",
      "epoch :  221  -  cost:  0.021330507  - MSE:  132.4062902624908 - Accuracy:  0.7380952\n",
      "epoch :  222  -  cost:  0.021187099  - MSE:  132.50048750864204 - Accuracy:  0.7380952\n",
      "epoch :  223  -  cost:  0.021047957  - MSE:  132.4597986938886 - Accuracy:  0.7380952\n",
      "epoch :  224  -  cost:  0.020915734  - MSE:  132.581094332558 - Accuracy:  0.7380952\n",
      "epoch :  225  -  cost:  0.020788023  - MSE:  132.533006561707 - Accuracy:  0.7380952\n",
      "epoch :  226  -  cost:  0.020642405  - MSE:  132.6841413773293 - Accuracy:  0.7380952\n",
      "epoch :  227  -  cost:  0.020512827  - MSE:  132.7222535551397 - Accuracy:  0.7380952\n",
      "epoch :  228  -  cost:  0.020379653  - MSE:  132.75638262709506 - Accuracy:  0.7380952\n",
      "epoch :  229  -  cost:  0.020251567  - MSE:  132.79718352180308 - Accuracy:  0.7380952\n",
      "epoch :  230  -  cost:  0.02012525  - MSE:  132.87637030849484 - Accuracy:  0.7380952\n",
      "epoch :  231  -  cost:  0.020000597  - MSE:  133.0224881372595 - Accuracy:  0.7380952\n",
      "epoch :  232  -  cost:  0.019875344  - MSE:  132.98537171757079 - Accuracy:  0.7380952\n",
      "epoch :  233  -  cost:  0.019752242  - MSE:  133.083178508779 - Accuracy:  0.7380952\n",
      "epoch :  234  -  cost:  0.01963142  - MSE:  133.07365723577772 - Accuracy:  0.7380952\n",
      "epoch :  235  -  cost:  0.01950844  - MSE:  133.19076701402207 - Accuracy:  0.7380952\n",
      "epoch :  236  -  cost:  0.019396627  - MSE:  133.17793100685432 - Accuracy:  0.7380952\n",
      "epoch :  237  -  cost:  0.019278252  - MSE:  133.2512148507547 - Accuracy:  0.7380952\n",
      "epoch :  238  -  cost:  0.019166248  - MSE:  133.38590799309964 - Accuracy:  0.7380952\n",
      "epoch :  239  -  cost:  0.019042438  - MSE:  133.46019927540587 - Accuracy:  0.7380952\n",
      "epoch :  240  -  cost:  0.018942181  - MSE:  133.43484505389964 - Accuracy:  0.7380952\n",
      "epoch :  241  -  cost:  0.018810255  - MSE:  133.58383650063743 - Accuracy:  0.7380952\n",
      "epoch :  242  -  cost:  0.018699897  - MSE:  133.5680430737681 - Accuracy:  0.7380952\n",
      "epoch :  243  -  cost:  0.01858741  - MSE:  133.65271446453838 - Accuracy:  0.7380952\n",
      "epoch :  244  -  cost:  0.018474096  - MSE:  133.75667950291867 - Accuracy:  0.7380952\n",
      "epoch :  245  -  cost:  0.018366372  - MSE:  133.76975006605403 - Accuracy:  0.7380952\n",
      "epoch :  246  -  cost:  0.018262003  - MSE:  133.8300844666367 - Accuracy:  0.7380952\n",
      "epoch :  247  -  cost:  0.018146731  - MSE:  133.8966007280737 - Accuracy:  0.7380952\n",
      "epoch :  248  -  cost:  0.018051196  - MSE:  133.9454860974997 - Accuracy:  0.7380952\n",
      "epoch :  249  -  cost:  0.017945198  - MSE:  133.9553383892006 - Accuracy:  0.7380952\n",
      "epoch :  250  -  cost:  0.017832544  - MSE:  134.05793944994656 - Accuracy:  0.7380952\n",
      "epoch :  251  -  cost:  0.017736845  - MSE:  134.0769712522772 - Accuracy:  0.7380952\n",
      "epoch :  252  -  cost:  0.01762636  - MSE:  134.20220340703412 - Accuracy:  0.7380952\n",
      "epoch :  253  -  cost:  0.01753009  - MSE:  134.20627603912246 - Accuracy:  0.7380952\n",
      "epoch :  254  -  cost:  0.017429594  - MSE:  134.28363760850584 - Accuracy:  0.7380952\n",
      "epoch :  255  -  cost:  0.017336087  - MSE:  134.29663366477502 - Accuracy:  0.7380952\n",
      "epoch :  256  -  cost:  0.017233143  - MSE:  134.4161171390719 - Accuracy:  0.7380952\n",
      "epoch :  257  -  cost:  0.017141398  - MSE:  134.41082336026935 - Accuracy:  0.7380952\n",
      "epoch :  258  -  cost:  0.017043062  - MSE:  134.51531590529527 - Accuracy:  0.7380952\n",
      "epoch :  259  -  cost:  0.016954748  - MSE:  134.47403495243037 - Accuracy:  0.7380952\n",
      "epoch :  260  -  cost:  0.016855204  - MSE:  134.59018323991262 - Accuracy:  0.7380952\n",
      "epoch :  261  -  cost:  0.016762642  - MSE:  134.63964318515877 - Accuracy:  0.7380952\n",
      "epoch :  262  -  cost:  0.016671479  - MSE:  134.70099359956427 - Accuracy:  0.7380952\n",
      "epoch :  263  -  cost:  0.016586363  - MSE:  134.71443572915638 - Accuracy:  0.7380952\n",
      "epoch :  264  -  cost:  0.01648797  - MSE:  134.7944805846049 - Accuracy:  0.7380952\n",
      "epoch :  265  -  cost:  0.016398037  - MSE:  134.86272410243478 - Accuracy:  0.7380952\n",
      "epoch :  266  -  cost:  0.016306147  - MSE:  134.9219197002452 - Accuracy:  0.7380952\n",
      "epoch :  267  -  cost:  0.01621996  - MSE:  134.98241084801725 - Accuracy:  0.7380952\n",
      "epoch :  268  -  cost:  0.016136913  - MSE:  135.02285797401072 - Accuracy:  0.7380952\n",
      "epoch :  269  -  cost:  0.016044002  - MSE:  135.0648880248422 - Accuracy:  0.7380952\n",
      "epoch :  270  -  cost:  0.015959792  - MSE:  135.15913948309105 - Accuracy:  0.7380952\n",
      "epoch :  271  -  cost:  0.015873898  - MSE:  135.20115034418293 - Accuracy:  0.7380952\n",
      "epoch :  272  -  cost:  0.015792605  - MSE:  135.17413060349762 - Accuracy:  0.7380952\n",
      "epoch :  273  -  cost:  0.015709281  - MSE:  135.32012587588744 - Accuracy:  0.7380952\n",
      "epoch :  274  -  cost:  0.01562624  - MSE:  135.3169849255132 - Accuracy:  0.7380952\n",
      "epoch :  275  -  cost:  0.015542902  - MSE:  135.36586756538887 - Accuracy:  0.7380952\n",
      "epoch :  276  -  cost:  0.015456315  - MSE:  135.390203826447 - Accuracy:  0.7380952\n",
      "epoch :  277  -  cost:  0.015358346  - MSE:  135.32581335323502 - Accuracy:  0.7380952\n",
      "epoch :  278  -  cost:  0.015267641  - MSE:  135.34980630686815 - Accuracy:  0.7380952\n",
      "epoch :  279  -  cost:  0.015171751  - MSE:  135.34817089572195 - Accuracy:  0.7380952\n",
      "epoch :  280  -  cost:  0.015077773  - MSE:  135.3932736473716 - Accuracy:  0.7380952\n",
      "epoch :  281  -  cost:  0.014992999  - MSE:  135.486176131806 - Accuracy:  0.7380952\n",
      "epoch :  282  -  cost:  0.014905091  - MSE:  135.43930444229846 - Accuracy:  0.7380952\n",
      "epoch :  283  -  cost:  0.0148118725  - MSE:  135.46939344798284 - Accuracy:  0.7380952\n",
      "epoch :  284  -  cost:  0.014725396  - MSE:  135.47543682889045 - Accuracy:  0.7619048\n",
      "epoch :  285  -  cost:  0.014644418  - MSE:  135.58172687492583 - Accuracy:  0.7619048\n",
      "epoch :  286  -  cost:  0.014561584  - MSE:  135.54788665219044 - Accuracy:  0.7619048\n",
      "epoch :  287  -  cost:  0.014474371  - MSE:  135.61632290908148 - Accuracy:  0.7619048\n"
     ]
    },
    {
     "name": "stdout",
     "output_type": "stream",
     "text": [
      "epoch :  288  -  cost:  0.014394624  - MSE:  135.59783569301524 - Accuracy:  0.7619048\n",
      "epoch :  289  -  cost:  0.014313991  - MSE:  135.68619896907472 - Accuracy:  0.7619048\n",
      "epoch :  290  -  cost:  0.014230602  - MSE:  135.6790529100407 - Accuracy:  0.7619048\n",
      "epoch :  291  -  cost:  0.014153345  - MSE:  135.68756965393328 - Accuracy:  0.7619048\n",
      "epoch :  292  -  cost:  0.014070513  - MSE:  135.74450494389998 - Accuracy:  0.7619048\n",
      "epoch :  293  -  cost:  0.013995687  - MSE:  135.78249637066688 - Accuracy:  0.7619048\n",
      "epoch :  294  -  cost:  0.013918759  - MSE:  135.7662333799825 - Accuracy:  0.7619048\n",
      "epoch :  295  -  cost:  0.01385067  - MSE:  135.79505168307756 - Accuracy:  0.7619048\n",
      "epoch :  296  -  cost:  0.01376767  - MSE:  135.84979752922476 - Accuracy:  0.7619048\n",
      "epoch :  297  -  cost:  0.013695799  - MSE:  135.9235134942765 - Accuracy:  0.7619048\n",
      "epoch :  298  -  cost:  0.013622147  - MSE:  135.88805014165385 - Accuracy:  0.7619048\n",
      "epoch :  299  -  cost:  0.013549569  - MSE:  135.91838358958753 - Accuracy:  0.7619048\n",
      "epoch :  300  -  cost:  0.01347562  - MSE:  135.92902661173244 - Accuracy:  0.7619048\n",
      "epoch :  301  -  cost:  0.013401205  - MSE:  136.02563047909553 - Accuracy:  0.7619048\n",
      "epoch :  302  -  cost:  0.013331221  - MSE:  135.98931628759098 - Accuracy:  0.7619048\n",
      "epoch :  303  -  cost:  0.013262413  - MSE:  136.09582159703916 - Accuracy:  0.7619048\n",
      "epoch :  304  -  cost:  0.01320138  - MSE:  136.04746066752318 - Accuracy:  0.7619048\n",
      "epoch :  305  -  cost:  0.013123239  - MSE:  136.10592278669645 - Accuracy:  0.7619048\n",
      "epoch :  306  -  cost:  0.013056228  - MSE:  136.1222427830204 - Accuracy:  0.7619048\n",
      "epoch :  307  -  cost:  0.012991473  - MSE:  136.25479656816054 - Accuracy:  0.7619048\n",
      "epoch :  308  -  cost:  0.01292759  - MSE:  136.13464726915913 - Accuracy:  0.7619048\n",
      "epoch :  309  -  cost:  0.012854002  - MSE:  136.26703671394958 - Accuracy:  0.7619048\n",
      "epoch :  310  -  cost:  0.012792286  - MSE:  136.2675903315813 - Accuracy:  0.7619048\n",
      "epoch :  311  -  cost:  0.012723073  - MSE:  136.3041655554173 - Accuracy:  0.7619048\n",
      "epoch :  312  -  cost:  0.012662107  - MSE:  136.3578352387402 - Accuracy:  0.7619048\n",
      "epoch :  313  -  cost:  0.012596018  - MSE:  136.37951756652632 - Accuracy:  0.7619048\n",
      "epoch :  314  -  cost:  0.012534227  - MSE:  136.40494648606614 - Accuracy:  0.7619048\n",
      "epoch :  315  -  cost:  0.012472029  - MSE:  136.41383546329956 - Accuracy:  0.7619048\n",
      "epoch :  316  -  cost:  0.012410717  - MSE:  136.45388161612848 - Accuracy:  0.7619048\n",
      "epoch :  317  -  cost:  0.012347216  - MSE:  136.49553107787472 - Accuracy:  0.7619048\n",
      "epoch :  318  -  cost:  0.012291565  - MSE:  136.53048338671329 - Accuracy:  0.7619048\n",
      "epoch :  319  -  cost:  0.012227675  - MSE:  136.5327310058466 - Accuracy:  0.7619048\n",
      "epoch :  320  -  cost:  0.0121653  - MSE:  136.64430684384314 - Accuracy:  0.7619048\n",
      "epoch :  321  -  cost:  0.012109238  - MSE:  136.591458463344 - Accuracy:  0.7619048\n",
      "epoch :  322  -  cost:  0.012048165  - MSE:  136.69770212295256 - Accuracy:  0.7619048\n",
      "epoch :  323  -  cost:  0.011989722  - MSE:  136.6907224555349 - Accuracy:  0.7619048\n",
      "epoch :  324  -  cost:  0.011933688  - MSE:  136.72517981061122 - Accuracy:  0.7619048\n",
      "epoch :  325  -  cost:  0.0118747745  - MSE:  136.80016085087382 - Accuracy:  0.7619048\n",
      "epoch :  326  -  cost:  0.011818136  - MSE:  136.76328753765898 - Accuracy:  0.7619048\n",
      "epoch :  327  -  cost:  0.011761094  - MSE:  136.83330427954994 - Accuracy:  0.7619048\n",
      "epoch :  328  -  cost:  0.011706959  - MSE:  136.874496971042 - Accuracy:  0.7619048\n",
      "epoch :  329  -  cost:  0.011651742  - MSE:  136.8696350442818 - Accuracy:  0.7619048\n",
      "epoch :  330  -  cost:  0.01159432  - MSE:  136.94526134432311 - Accuracy:  0.7619048\n",
      "epoch :  331  -  cost:  0.011543671  - MSE:  136.99874053827222 - Accuracy:  0.7619048\n",
      "epoch :  332  -  cost:  0.011488983  - MSE:  136.9991647696719 - Accuracy:  0.7619048\n",
      "epoch :  333  -  cost:  0.011435841  - MSE:  137.05441873829983 - Accuracy:  0.7619048\n",
      "epoch :  334  -  cost:  0.011381739  - MSE:  137.01377358284338 - Accuracy:  0.7619048\n",
      "epoch :  335  -  cost:  0.011329845  - MSE:  137.09238931996146 - Accuracy:  0.7619048\n",
      "epoch :  336  -  cost:  0.011278498  - MSE:  137.11684023424507 - Accuracy:  0.7619048\n",
      "epoch :  337  -  cost:  0.011225491  - MSE:  137.13159017872994 - Accuracy:  0.7619048\n",
      "epoch :  338  -  cost:  0.011173916  - MSE:  137.1429299971029 - Accuracy:  0.7619048\n",
      "epoch :  339  -  cost:  0.011125051  - MSE:  137.2505237764585 - Accuracy:  0.7619048\n",
      "epoch :  340  -  cost:  0.011076416  - MSE:  137.17575011291117 - Accuracy:  0.7619048\n",
      "epoch :  341  -  cost:  0.01102294  - MSE:  137.293685166969 - Accuracy:  0.7619048\n",
      "epoch :  342  -  cost:  0.010976551  - MSE:  137.28255081194675 - Accuracy:  0.7619048\n",
      "epoch :  343  -  cost:  0.010927614  - MSE:  137.34890770768453 - Accuracy:  0.7619048\n",
      "epoch :  344  -  cost:  0.010879569  - MSE:  137.3158296378883 - Accuracy:  0.7619048\n",
      "epoch :  345  -  cost:  0.010829137  - MSE:  137.42458872050406 - Accuracy:  0.7619048\n",
      "epoch :  346  -  cost:  0.010781796  - MSE:  137.41566944367065 - Accuracy:  0.7619048\n",
      "epoch :  347  -  cost:  0.010733404  - MSE:  137.46389436851666 - Accuracy:  0.7619048\n",
      "epoch :  348  -  cost:  0.010687081  - MSE:  137.4659914307234 - Accuracy:  0.7619048\n",
      "epoch :  349  -  cost:  0.010641323  - MSE:  137.50845979221197 - Accuracy:  0.7619048\n",
      "epoch :  350  -  cost:  0.010594811  - MSE:  137.54923720784436 - Accuracy:  0.7619048\n",
      "epoch :  351  -  cost:  0.010546245  - MSE:  137.56411612015285 - Accuracy:  0.7619048\n",
      "epoch :  352  -  cost:  0.010504082  - MSE:  137.63976608849862 - Accuracy:  0.7619048\n",
      "epoch :  353  -  cost:  0.010457979  - MSE:  137.60341698357584 - Accuracy:  0.7619048\n",
      "epoch :  354  -  cost:  0.010413087  - MSE:  137.66790013302978 - Accuracy:  0.7619048\n",
      "epoch :  355  -  cost:  0.010366817  - MSE:  137.68952028068495 - Accuracy:  0.7619048\n",
      "epoch :  356  -  cost:  0.01032447  - MSE:  137.70849297849685 - Accuracy:  0.7619048\n",
      "epoch :  357  -  cost:  0.010278666  - MSE:  137.71169239517045 - Accuracy:  0.7619048\n",
      "epoch :  358  -  cost:  0.010234398  - MSE:  137.7967857357095 - Accuracy:  0.7619048\n",
      "epoch :  359  -  cost:  0.010192473  - MSE:  137.73413303583973 - Accuracy:  0.7619048\n",
      "epoch :  360  -  cost:  0.010148817  - MSE:  137.81628998060347 - Accuracy:  0.7619048\n",
      "epoch :  361  -  cost:  0.010107067  - MSE:  137.78207237129655 - Accuracy:  0.7619048\n",
      "epoch :  362  -  cost:  0.010061457  - MSE:  137.87707370223475 - Accuracy:  0.7619048\n",
      "epoch :  363  -  cost:  0.010020911  - MSE:  137.88497471369132 - Accuracy:  0.7619048\n",
      "epoch :  364  -  cost:  0.009977178  - MSE:  137.89506309073664 - Accuracy:  0.7619048\n",
      "epoch :  365  -  cost:  0.009933754  - MSE:  137.92178070507123 - Accuracy:  0.7619048\n",
      "epoch :  366  -  cost:  0.009891283  - MSE:  137.9546036859493 - Accuracy:  0.7619048\n",
      "epoch :  367  -  cost:  0.009851003  - MSE:  137.99767889579965 - Accuracy:  0.7619048\n",
      "epoch :  368  -  cost:  0.009808811  - MSE:  137.99239363292557 - Accuracy:  0.7619048\n",
      "epoch :  369  -  cost:  0.00976746  - MSE:  138.04714456018533 - Accuracy:  0.7619048\n",
      "epoch :  370  -  cost:  0.009726905  - MSE:  138.05363710065242 - Accuracy:  0.7619048\n",
      "epoch :  371  -  cost:  0.009687898  - MSE:  138.05187046135057 - Accuracy:  0.7619048\n",
      "epoch :  372  -  cost:  0.009648001  - MSE:  138.14934593477875 - Accuracy:  0.7619048\n",
      "epoch :  373  -  cost:  0.0096064415  - MSE:  138.08924907090147 - Accuracy:  0.7619048\n",
      "epoch :  374  -  cost:  0.009567715  - MSE:  138.1855509196539 - Accuracy:  0.7619048\n",
      "epoch :  375  -  cost:  0.009526933  - MSE:  138.17134161164662 - Accuracy:  0.7619048\n",
      "epoch :  376  -  cost:  0.009487061  - MSE:  138.2042021475578 - Accuracy:  0.7619048\n",
      "epoch :  377  -  cost:  0.009449206  - MSE:  138.20820915053486 - Accuracy:  0.7619048\n",
      "epoch :  378  -  cost:  0.009411082  - MSE:  138.25324168510193 - Accuracy:  0.7619048\n",
      "epoch :  379  -  cost:  0.009371214  - MSE:  138.24013849678272 - Accuracy:  0.7619048\n",
      "epoch :  380  -  cost:  0.009335194  - MSE:  138.31816737937456 - Accuracy:  0.7619048\n",
      "epoch :  381  -  cost:  0.009298655  - MSE:  138.27662783081112 - Accuracy:  0.7619048\n",
      "epoch :  382  -  cost:  0.00925997  - MSE:  138.37011241954397 - Accuracy:  0.7619048\n"
     ]
    },
    {
     "name": "stdout",
     "output_type": "stream",
     "text": [
      "epoch :  383  -  cost:  0.009223514  - MSE:  138.3469842575502 - Accuracy:  0.7619048\n",
      "epoch :  384  -  cost:  0.009186891  - MSE:  138.38782550385054 - Accuracy:  0.7619048\n",
      "epoch :  385  -  cost:  0.009149922  - MSE:  138.43601056928756 - Accuracy:  0.7619048\n",
      "epoch :  386  -  cost:  0.009113748  - MSE:  138.4087001032945 - Accuracy:  0.7619048\n",
      "epoch :  387  -  cost:  0.009076773  - MSE:  138.46510421535635 - Accuracy:  0.7619048\n",
      "epoch :  388  -  cost:  0.009043083  - MSE:  138.47810540379456 - Accuracy:  0.7619048\n",
      "epoch :  389  -  cost:  0.009006202  - MSE:  138.49420261971045 - Accuracy:  0.7619048\n",
      "epoch :  390  -  cost:  0.008971339  - MSE:  138.48350813450784 - Accuracy:  0.7619048\n",
      "epoch :  391  -  cost:  0.008936046  - MSE:  138.5489809744623 - Accuracy:  0.7619048\n",
      "epoch :  392  -  cost:  0.008903676  - MSE:  138.52011201292078 - Accuracy:  0.7619048\n",
      "epoch :  393  -  cost:  0.008869471  - MSE:  138.62026961234756 - Accuracy:  0.7619048\n",
      "epoch :  394  -  cost:  0.008834947  - MSE:  138.59045152443477 - Accuracy:  0.7619048\n",
      "epoch :  395  -  cost:  0.008801091  - MSE:  138.65657000608044 - Accuracy:  0.7619048\n",
      "epoch :  396  -  cost:  0.008766834  - MSE:  138.64604146494145 - Accuracy:  0.7619048\n",
      "epoch :  397  -  cost:  0.008734034  - MSE:  138.69027917550753 - Accuracy:  0.7619048\n",
      "epoch :  398  -  cost:  0.008701033  - MSE:  138.68336869801269 - Accuracy:  0.7619048\n",
      "epoch :  399  -  cost:  0.00866854  - MSE:  138.72715431031975 - Accuracy:  0.7619048\n",
      "epoch :  400  -  cost:  0.008636295  - MSE:  138.73248081448392 - Accuracy:  0.7619048\n",
      "epoch :  401  -  cost:  0.00860443  - MSE:  138.8167286324067 - Accuracy:  0.7619048\n",
      "epoch :  402  -  cost:  0.008571632  - MSE:  138.7755520388057 - Accuracy:  0.7619048\n",
      "epoch :  403  -  cost:  0.0085403565  - MSE:  138.8593458650395 - Accuracy:  0.7619048\n",
      "epoch :  404  -  cost:  0.0085091  - MSE:  138.81488841437348 - Accuracy:  0.7619048\n",
      "epoch :  405  -  cost:  0.008475443  - MSE:  138.88665689493533 - Accuracy:  0.7619048\n",
      "epoch :  406  -  cost:  0.008444608  - MSE:  138.86039175035881 - Accuracy:  0.7619048\n",
      "epoch :  407  -  cost:  0.008413094  - MSE:  138.91643874702754 - Accuracy:  0.7619048\n",
      "epoch :  408  -  cost:  0.00838319  - MSE:  138.91268751470238 - Accuracy:  0.7619048\n",
      "epoch :  409  -  cost:  0.008351058  - MSE:  138.9273520016982 - Accuracy:  0.7619048\n",
      "epoch :  410  -  cost:  0.0083210645  - MSE:  138.97249276888616 - Accuracy:  0.7619048\n",
      "epoch :  411  -  cost:  0.00829104  - MSE:  138.98941007568442 - Accuracy:  0.7619048\n",
      "epoch :  412  -  cost:  0.0082607865  - MSE:  139.0238419407886 - Accuracy:  0.7619048\n",
      "epoch :  413  -  cost:  0.00823377  - MSE:  138.96583971956366 - Accuracy:  0.7619048\n",
      "epoch :  414  -  cost:  0.008201063  - MSE:  139.05947408798477 - Accuracy:  0.7619048\n",
      "epoch :  415  -  cost:  0.008172504  - MSE:  139.02869968888996 - Accuracy:  0.7619048\n",
      "epoch :  416  -  cost:  0.008142176  - MSE:  139.06404366140637 - Accuracy:  0.7619048\n",
      "epoch :  417  -  cost:  0.0081126485  - MSE:  139.09416649184237 - Accuracy:  0.7619048\n",
      "epoch :  418  -  cost:  0.008086172  - MSE:  139.08828205399152 - Accuracy:  0.7619048\n",
      "epoch :  419  -  cost:  0.008056377  - MSE:  139.13653748977282 - Accuracy:  0.7619048\n",
      "epoch :  420  -  cost:  0.00802708  - MSE:  139.1574359371801 - Accuracy:  0.7619048\n",
      "epoch :  421  -  cost:  0.008000948  - MSE:  139.15946544063576 - Accuracy:  0.7619048\n",
      "epoch :  422  -  cost:  0.007969398  - MSE:  139.17733358028286 - Accuracy:  0.7619048\n",
      "epoch :  423  -  cost:  0.0079419045  - MSE:  139.17403803534623 - Accuracy:  0.7619048\n",
      "epoch :  424  -  cost:  0.007915218  - MSE:  139.23194075868975 - Accuracy:  0.7619048\n",
      "epoch :  425  -  cost:  0.007887927  - MSE:  139.18219481986148 - Accuracy:  0.7619048\n",
      "epoch :  426  -  cost:  0.007858958  - MSE:  139.26248317880174 - Accuracy:  0.7619048\n",
      "epoch :  427  -  cost:  0.007831729  - MSE:  139.2469679564597 - Accuracy:  0.7619048\n",
      "epoch :  428  -  cost:  0.0078037083  - MSE:  139.2981278006235 - Accuracy:  0.7619048\n",
      "epoch :  429  -  cost:  0.007777587  - MSE:  139.30653361249244 - Accuracy:  0.7619048\n",
      "epoch :  430  -  cost:  0.007749766  - MSE:  139.31152905990803 - Accuracy:  0.7619048\n",
      "epoch :  431  -  cost:  0.007722799  - MSE:  139.31967154198588 - Accuracy:  0.7619048\n",
      "epoch :  432  -  cost:  0.0076984363  - MSE:  139.3356759175161 - Accuracy:  0.7619048\n",
      "epoch :  433  -  cost:  0.007671592  - MSE:  139.33493303640753 - Accuracy:  0.7619048\n",
      "epoch :  434  -  cost:  0.007644423  - MSE:  139.3850040445215 - Accuracy:  0.7619048\n",
      "epoch :  435  -  cost:  0.007618829  - MSE:  139.36881182648023 - Accuracy:  0.7619048\n",
      "epoch :  436  -  cost:  0.0075921607  - MSE:  139.40257209440165 - Accuracy:  0.7619048\n",
      "epoch :  437  -  cost:  0.0075662304  - MSE:  139.38439964077838 - Accuracy:  0.7619048\n",
      "epoch :  438  -  cost:  0.0075397165  - MSE:  139.4491005939093 - Accuracy:  0.7619048\n",
      "epoch :  439  -  cost:  0.007513907  - MSE:  139.43327883329303 - Accuracy:  0.7619048\n",
      "epoch :  440  -  cost:  0.0074877893  - MSE:  139.4552248562653 - Accuracy:  0.7619048\n",
      "epoch :  441  -  cost:  0.0074620047  - MSE:  139.46420745000012 - Accuracy:  0.7619048\n",
      "epoch :  442  -  cost:  0.0074366983  - MSE:  139.48919413674022 - Accuracy:  0.7619048\n",
      "epoch :  443  -  cost:  0.0074126245  - MSE:  139.47383947401306 - Accuracy:  0.7619048\n",
      "epoch :  444  -  cost:  0.0073874104  - MSE:  139.5036888611107 - Accuracy:  0.7619048\n",
      "epoch :  445  -  cost:  0.007363026  - MSE:  139.5182618520048 - Accuracy:  0.7619048\n",
      "epoch :  446  -  cost:  0.0073385146  - MSE:  139.51249793244435 - Accuracy:  0.7619048\n",
      "epoch :  447  -  cost:  0.0073118797  - MSE:  139.56277195347346 - Accuracy:  0.7619048\n",
      "epoch :  448  -  cost:  0.0072885486  - MSE:  139.59290055979122 - Accuracy:  0.7619048\n",
      "epoch :  449  -  cost:  0.007264334  - MSE:  139.5676865073928 - Accuracy:  0.78571427\n",
      "epoch :  450  -  cost:  0.0072407476  - MSE:  139.62162479141617 - Accuracy:  0.78571427\n",
      "epoch :  451  -  cost:  0.0072177933  - MSE:  139.56240056980906 - Accuracy:  0.78571427\n",
      "epoch :  452  -  cost:  0.007191646  - MSE:  139.64325980148203 - Accuracy:  0.78571427\n",
      "epoch :  453  -  cost:  0.0071693  - MSE:  139.62617674647072 - Accuracy:  0.78571427\n",
      "epoch :  454  -  cost:  0.0071446165  - MSE:  139.6734625661333 - Accuracy:  0.78571427\n",
      "epoch :  455  -  cost:  0.0071223974  - MSE:  139.65454394577142 - Accuracy:  0.78571427\n",
      "epoch :  456  -  cost:  0.0070979698  - MSE:  139.68521244237303 - Accuracy:  0.78571427\n",
      "epoch :  457  -  cost:  0.007074394  - MSE:  139.71196902440917 - Accuracy:  0.78571427\n",
      "epoch :  458  -  cost:  0.0070519503  - MSE:  139.72068226522111 - Accuracy:  0.78571427\n",
      "epoch :  459  -  cost:  0.00702826  - MSE:  139.73679583907978 - Accuracy:  0.78571427\n",
      "epoch :  460  -  cost:  0.0070058536  - MSE:  139.75354179889703 - Accuracy:  0.78571427\n",
      "epoch :  461  -  cost:  0.0069823  - MSE:  139.76187679740556 - Accuracy:  0.78571427\n",
      "epoch :  462  -  cost:  0.006960168  - MSE:  139.78459000778457 - Accuracy:  0.78571427\n",
      "epoch :  463  -  cost:  0.0069370824  - MSE:  139.80268196823346 - Accuracy:  0.78571427\n",
      "epoch :  464  -  cost:  0.0069150706  - MSE:  139.8087745985545 - Accuracy:  0.78571427\n",
      "epoch :  465  -  cost:  0.006894374  - MSE:  139.86484971666346 - Accuracy:  0.78571427\n",
      "epoch :  466  -  cost:  0.006871464  - MSE:  139.81379927659964 - Accuracy:  0.78571427\n",
      "epoch :  467  -  cost:  0.0068490217  - MSE:  139.88381102700552 - Accuracy:  0.78571427\n",
      "epoch :  468  -  cost:  0.006827518  - MSE:  139.84141956227216 - Accuracy:  0.78571427\n",
      "epoch :  469  -  cost:  0.006804149  - MSE:  139.90513759732798 - Accuracy:  0.78571427\n",
      "epoch :  470  -  cost:  0.0067828433  - MSE:  139.90187805886748 - Accuracy:  0.78571427\n",
      "epoch :  471  -  cost:  0.0067611644  - MSE:  139.91146767030955 - Accuracy:  0.78571427\n",
      "epoch :  472  -  cost:  0.006739724  - MSE:  139.9425957021315 - Accuracy:  0.78571427\n",
      "epoch :  473  -  cost:  0.0067187576  - MSE:  139.9183665977844 - Accuracy:  0.78571427\n",
      "epoch :  474  -  cost:  0.0066969604  - MSE:  139.97322704556478 - Accuracy:  0.78571427\n",
      "epoch :  475  -  cost:  0.006676907  - MSE:  139.93344696926752 - Accuracy:  0.78571427\n",
      "epoch :  476  -  cost:  0.0066548144  - MSE:  139.99514300053602 - Accuracy:  0.78571427\n"
     ]
    },
    {
     "name": "stdout",
     "output_type": "stream",
     "text": [
      "epoch :  477  -  cost:  0.0066345916  - MSE:  139.98726074570027 - Accuracy:  0.78571427\n",
      "epoch :  478  -  cost:  0.0066122417  - MSE:  140.00421357412378 - Accuracy:  0.78571427\n",
      "epoch :  479  -  cost:  0.006592076  - MSE:  140.0276055512301 - Accuracy:  0.78571427\n",
      "epoch :  480  -  cost:  0.0065719816  - MSE:  140.0566128102942 - Accuracy:  0.78571427\n",
      "epoch :  481  -  cost:  0.006552083  - MSE:  140.03166101997726 - Accuracy:  0.78571427\n",
      "epoch :  482  -  cost:  0.006531092  - MSE:  140.09227647958372 - Accuracy:  0.78571427\n",
      "epoch :  483  -  cost:  0.0065116263  - MSE:  140.05973132649976 - Accuracy:  0.78571427\n",
      "epoch :  484  -  cost:  0.0064907437  - MSE:  140.10325737528612 - Accuracy:  0.78571427\n",
      "epoch :  485  -  cost:  0.0064710034  - MSE:  140.0762417244066 - Accuracy:  0.78571427\n",
      "epoch :  486  -  cost:  0.0064518377  - MSE:  140.1370919835174 - Accuracy:  0.78571427\n",
      "epoch :  487  -  cost:  0.006431532  - MSE:  140.10971212706275 - Accuracy:  0.78571427\n",
      "epoch :  488  -  cost:  0.006412484  - MSE:  140.1709313721737 - Accuracy:  0.78571427\n",
      "epoch :  489  -  cost:  0.0063942005  - MSE:  140.12246157344268 - Accuracy:  0.78571427\n",
      "epoch :  490  -  cost:  0.0063726474  - MSE:  140.18995127181992 - Accuracy:  0.78571427\n",
      "epoch :  491  -  cost:  0.0063536773  - MSE:  140.2051547529676 - Accuracy:  0.78571427\n",
      "epoch :  492  -  cost:  0.0063356073  - MSE:  140.2044568451238 - Accuracy:  0.78571427\n",
      "epoch :  493  -  cost:  0.006315307  - MSE:  140.24127962090213 - Accuracy:  0.78571427\n",
      "epoch :  494  -  cost:  0.006297264  - MSE:  140.29262475897045 - Accuracy:  0.78571427\n",
      "epoch :  495  -  cost:  0.006278528  - MSE:  140.26499515642232 - Accuracy:  0.78571427\n",
      "epoch :  496  -  cost:  0.006259497  - MSE:  140.32619652816078 - Accuracy:  0.78571427\n",
      "epoch :  497  -  cost:  0.0062413835  - MSE:  140.30431246956664 - Accuracy:  0.78571427\n",
      "epoch :  498  -  cost:  0.0062215915  - MSE:  140.35302819008885 - Accuracy:  0.78571427\n",
      "epoch :  499  -  cost:  0.006204833  - MSE:  140.33609040666965 - Accuracy:  0.78571427\n"
     ]
    }
   ],
   "source": [
    "for epoch in range( training_epochs):\n",
    "    sess.run(training_step, feed_dict={x:train_x, y_:train_y})\n",
    "    cost = sess.run(cost_function, feed_dict={x:train_x, y_:train_y})\n",
    "    cost_history = np.append(cost_history, cost)\n",
    "    \n",
    "    correct_prediction = tf.equal(tf.argmax(y,1), tf.argmax(y_,1))\n",
    "    accuracy = tf.reduce_mean(tf.cast(correct_prediction, tf.float32))\n",
    "    \n",
    "    pred_y = sess.run(y, feed_dict={x:test_x}) \n",
    "    mse = tf.reduce_mean(tf.square(pred_y - test_y))\n",
    "    mse_ = sess.run(mse)\n",
    "    mse_history.append(mse_)   \n",
    "    \n",
    "    accuracy = (sess.run(accuracy, feed_dict={x: test_x, y_: test_y}))\n",
    "    accuracy_history.append(accuracy)\n",
    "    \n",
    "    print('epoch : ', epoch, ' - ', 'cost: ', cost, \" - MSE: \", mse_, \"- Accuracy: \",accuracy)"
   ]
  },
  {
   "cell_type": "code",
   "execution_count": 62,
   "metadata": {},
   "outputs": [
    {
     "data": {
      "image/png": "[encoded data removed]",
      "text/plain": [
       "<Figure size 432x288 with 1 Axes>"
      ]
     },
     "metadata": {
      "needs_background": "light"
     },
     "output_type": "display_data"
    },
    {
     "data": {
      "image/png": "[encoded data removed]",
      "text/plain": [
       "<Figure size 432x288 with 1 Axes>"
      ]
     },
     "metadata": {
      "needs_background": "light"
     },
     "output_type": "display_data"
    }
   ],
   "source": [
    "plt.plot(mse_history, 'ro-')\n",
    "plt.show()\n",
    "plt.plot(accuracy_history)\n",
    "plt.show()"
   ]
  },
  {
   "cell_type": "code",
   "execution_count": 63,
   "metadata": {},
   "outputs": [
    {
     "name": "stdout",
     "output_type": "stream",
     "text": [
      "Accuracy:  0.78571427\n"
     ]
    }
   ],
   "source": [
    "correct_prediction = tf.equal(tf.argmax(y,1), tf.argmax(y_,1))\n",
    "accuracy = tf.reduce_mean(tf.cast(correct_prediction, tf.float32))\n",
    "print(\"Accuracy: \", (sess.run(accuracy, feed_dict={x: test_x, y_:test_y})))"
   ]
  },
  {
   "cell_type": "code",
   "execution_count": 64,
   "metadata": {},
   "outputs": [
    {
     "data": {
      "image/png": "[encoded data removed]",
      "text/plain": [
       "<Figure size 432x288 with 1 Axes>"
      ]
     },
     "metadata": {
      "needs_background": "light"
     },
     "output_type": "display_data"
    }
   ],
   "source": [
    "plt.plot(range(len(cost_history)), cost_history)\n",
    "plt.axis([0, training_epochs, 0, np.max(cost_history)])\n",
    "plt.show()"
   ]
  },
  {
   "cell_type": "code",
   "execution_count": 65,
   "metadata": {},
   "outputs": [
    {
     "data": {
      "text/plain": [
       "array([[-15.316463  , -18.538641  ],\n",
       "       [-15.151712  ,  -8.329881  ],\n",
       "       [ -8.133685  ,  -8.993764  ],\n",
       "       [-16.27767   ,  -2.4753823 ],\n",
       "       [-11.483059  ,  -7.0146127 ],\n",
       "       [ -1.6452355 ,  -6.708579  ],\n",
       "       [-17.182085  ,  -7.565388  ],\n",
       "       [ -3.1478143 ,  -7.9039845 ],\n",
       "       [ -5.0073023 ,  -3.3231254 ],\n",
       "       [-16.084986  , -11.879166  ],\n",
       "       [ -5.584655  ,  -4.528873  ],\n",
       "       [ -0.8406168 ,  -6.7000237 ],\n",
       "       [ -6.7552695 , -14.890757  ],\n",
       "       [-12.89196   , -12.953861  ],\n",
       "       [-11.931156  , -20.079424  ],\n",
       "       [ -7.604336  ,  -6.687376  ],\n",
       "       [-11.3784275 , -11.60274   ],\n",
       "       [-25.99643   , -15.309797  ],\n",
       "       [ -6.744976  ,  -1.969241  ],\n",
       "       [ -1.1193721 ,  -3.8805976 ],\n",
       "       [ -5.1520042 ,  -8.461553  ],\n",
       "       [-15.157711  ,  -0.11031544],\n",
       "       [-15.686192  , -15.133499  ],\n",
       "       [ -1.21135   ,  -3.4084501 ],\n",
       "       [ -0.8409095 ,  -7.980784  ],\n",
       "       [-17.167269  , -12.846977  ],\n",
       "       [-10.166177  , -11.986321  ],\n",
       "       [ -9.182585  ,  -0.58714306],\n",
       "       [ -5.953189  ,  -9.871656  ],\n",
       "       [-11.761297  ,  -0.12020886],\n",
       "       [ -9.941449  , -15.190716  ],\n",
       "       [-11.462666  , -15.094959  ],\n",
       "       [-15.106903  , -14.579957  ],\n",
       "       [ -3.5485506 ,  -7.7907567 ],\n",
       "       [-13.781238  , -10.439704  ],\n",
       "       [-13.438675  ,  -1.2439791 ],\n",
       "       [-13.057033  ,  -2.1260815 ],\n",
       "       [-14.710689  , -15.8832655 ],\n",
       "       [ -7.495886  ,  -4.2708464 ],\n",
       "       [ -8.959582  , -24.426414  ],\n",
       "       [-10.178923  , -17.438297  ],\n",
       "       [ -7.71101   , -25.322855  ]], dtype=float32)"
      ]
     },
     "execution_count": 65,
     "metadata": {},
     "output_type": "execute_result"
    }
   ],
   "source": [
    "pred_y"
   ]
  },
  {
   "cell_type": "code",
   "execution_count": 66,
   "metadata": {},
   "outputs": [
    {
     "data": {
      "text/plain": [
       "array([[1., 0.],\n",
       "       [0., 1.],\n",
       "       [1., 0.],\n",
       "       [0., 1.],\n",
       "       [0., 1.],\n",
       "       [1., 0.],\n",
       "       [0., 1.],\n",
       "       [0., 1.],\n",
       "       [1., 0.],\n",
       "       [1., 0.],\n",
       "       [0., 1.],\n",
       "       [0., 1.],\n",
       "       [1., 0.],\n",
       "       [1., 0.],\n",
       "       [1., 0.],\n",
       "       [0., 1.],\n",
       "       [1., 0.],\n",
       "       [0., 1.],\n",
       "       [0., 1.],\n",
       "       [1., 0.],\n",
       "       [0., 1.],\n",
       "       [0., 1.],\n",
       "       [1., 0.],\n",
       "       [1., 0.],\n",
       "       [1., 0.],\n",
       "       [0., 1.],\n",
       "       [1., 0.],\n",
       "       [0., 1.],\n",
       "       [0., 1.],\n",
       "       [0., 1.],\n",
       "       [1., 0.],\n",
       "       [0., 1.],\n",
       "       [1., 0.],\n",
       "       [1., 0.],\n",
       "       [0., 1.],\n",
       "       [0., 1.],\n",
       "       [0., 1.],\n",
       "       [1., 0.],\n",
       "       [0., 1.],\n",
       "       [1., 0.],\n",
       "       [1., 0.],\n",
       "       [1., 0.]])"
      ]
     },
     "execution_count": 66,
     "metadata": {},
     "output_type": "execute_result"
    }
   ],
   "source": [
    "test_y"
   ]
  },
  {
   "cell_type": "code",
   "execution_count": 67,
   "metadata": {},
   "outputs": [],
   "source": [
    "sess.close()"
   ]
  },
  {
   "cell_type": "code",
   "execution_count": null,
   "metadata": {},
   "outputs": [],
   "source": []
  }
 ],
 "metadata": {
  "kernelspec": {
   "display_name": "Python 3",
   "language": "python",
   "name": "python3"
  },
  "language_info": {
   "codemirror_mode": {
    "name": "ipython",
    "version": 3
   },
   "file_extension": ".py",
   "mimetype": "text/x-python",
   "name": "python",
   "nbconvert_exporter": "python",
   "pygments_lexer": "ipython3",
   "version": "3.7.4"
  }
 },
 "nbformat": 4,
 "nbformat_minor": 2
}
