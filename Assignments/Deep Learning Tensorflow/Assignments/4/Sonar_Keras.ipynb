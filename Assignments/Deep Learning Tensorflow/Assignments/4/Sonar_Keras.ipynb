{
 "cells": [
  {
   "cell_type": "code",
   "execution_count": 30,
   "metadata": {
    "colab": {},
    "colab_type": "code",
    "id": "ynlPEm_YJ82A"
   },
   "outputs": [],
   "source": [
    "import pandas as pd\n",
    "import numpy as np\n",
    "from keras.layers import Dense\n",
    "from keras.models import Sequential\n",
    "from sklearn.model_selection import train_test_split\n",
    "from sklearn.metrics import accuracy_score, confusion_matrix\n",
    "from keras.optimizers import Adam\n",
    "\n",
    "from sklearn.preprocessing import LabelEncoder\n",
    "from keras.utils import to_categorical"
   ]
  },
  {
   "cell_type": "code",
   "execution_count": 31,
   "metadata": {
    "colab": {},
    "colab_type": "code",
    "id": "7pjePlCCK305"
   },
   "outputs": [],
   "source": [
    "df = pd.read_csv('sonar.csv')"
   ]
  },
  {
   "cell_type": "code",
   "execution_count": 32,
   "metadata": {
    "colab": {
     "base_uri": "https://localhost:8080/",
     "height": 51
    },
    "colab_type": "code",
    "id": "ZUUwEzW3K6yu",
    "outputId": "c4850a8b-ef46-41af-ceab-505f6d84a7df"
   },
   "outputs": [
    {
     "name": "stdout",
     "output_type": "stream",
     "text": [
      "(207, 59)\n",
      "(207,)\n"
     ]
    }
   ],
   "source": [
    "X = df[df.columns[1:60]].values\n",
    "y = df[df.columns[60]]\n",
    "print(X.shape)\n",
    "print(y.shape)"
   ]
  },
  {
   "cell_type": "code",
   "execution_count": 42,
   "metadata": {
    "colab": {
     "base_uri": "https://localhost:8080/",
     "height": 153
    },
    "colab_type": "code",
    "id": "p2DqtVvsSx4C",
    "outputId": "7f0ecab0-e38c-4946-9e8d-4d10f1bbe012"
   },
   "outputs": [
    {
     "data": {
      "text/plain": [
       "array([0.0582, 0.1099, 0.1083, 0.0974, 0.228 , 0.2431, 0.3771, 0.5598,\n",
       "       0.6194, 0.6333, 0.706 , 0.5544, 0.532 , 0.6479, 0.6931, 0.6759,\n",
       "       0.7551, 0.8929, 0.8619, 0.7974, 0.6737, 0.4293, 0.3648, 0.5331,\n",
       "       0.2413, 0.507 , 0.8533, 0.6036, 0.8514, 0.8512, 0.5045, 0.1862,\n",
       "       0.2709, 0.4232, 0.3043, 0.6116, 0.6756, 0.5375, 0.4719, 0.4647,\n",
       "       0.2587, 0.2129, 0.2222, 0.2111, 0.0176, 0.1348, 0.0744, 0.013 ,\n",
       "       0.0106, 0.0033, 0.0232, 0.0166, 0.0095, 0.018 , 0.0244, 0.0316,\n",
       "       0.0164, 0.0095, 0.0078])"
      ]
     },
     "execution_count": 42,
     "metadata": {
      "tags": []
     },
     "output_type": "execute_result"
    }
   ],
   "source": [
    "X[1]"
   ]
  },
  {
   "cell_type": "code",
   "execution_count": 33,
   "metadata": {
    "colab": {},
    "colab_type": "code",
    "id": "2db98GOUK63e"
   },
   "outputs": [],
   "source": [
    "le = LabelEncoder()\n",
    "le.fit(y)\n",
    "y = le.transform(y)\n",
    "y = to_categorical(y)"
   ]
  },
  {
   "cell_type": "code",
   "execution_count": 34,
   "metadata": {
    "colab": {
     "base_uri": "https://localhost:8080/",
     "height": 34
    },
    "colab_type": "code",
    "id": "PnFTChDiK65z",
    "outputId": "420ecc4e-35cb-4782-e46d-607edf8de620"
   },
   "outputs": [
    {
     "name": "stdout",
     "output_type": "stream",
     "text": [
      "(207, 2)\n"
     ]
    }
   ],
   "source": [
    "print(y.shape)"
   ]
  },
  {
   "cell_type": "code",
   "execution_count": 35,
   "metadata": {
    "colab": {},
    "colab_type": "code",
    "id": "gJUXa1puK69x"
   },
   "outputs": [],
   "source": [
    "train_x, test_x, train_y, test_y = train_test_split(X,y, test_size=0.2, random_state=415)"
   ]
  },
  {
   "cell_type": "code",
   "execution_count": 36,
   "metadata": {
    "colab": {
     "base_uri": "https://localhost:8080/",
     "height": 51
    },
    "colab_type": "code",
    "id": "nZauaajCK68d",
    "outputId": "f5049d99-453c-4620-8cd5-1f976c5738fb"
   },
   "outputs": [
    {
     "name": "stdout",
     "output_type": "stream",
     "text": [
      "(165, 59)\n",
      "(42, 2)\n"
     ]
    }
   ],
   "source": [
    "print(train_x.shape)\n",
    "print(test_y.shape)"
   ]
  },
  {
   "cell_type": "code",
   "execution_count": 37,
   "metadata": {
    "colab": {
     "base_uri": "https://localhost:8080/",
     "height": 323
    },
    "colab_type": "code",
    "id": "AVnkgSyiMj8G",
    "outputId": "d9bea305-6974-46f1-e13d-0b99d4dfc5f1"
   },
   "outputs": [
    {
     "name": "stdout",
     "output_type": "stream",
     "text": [
      "Model: \"sequential_3\"\n",
      "_________________________________________________________________\n",
      "Layer (type)                 Output Shape              Param #   \n",
      "=================================================================\n",
      "dense_11 (Dense)             (None, 60)                3600      \n",
      "_________________________________________________________________\n",
      "dense_12 (Dense)             (None, 60)                3660      \n",
      "_________________________________________________________________\n",
      "dense_13 (Dense)             (None, 60)                3660      \n",
      "_________________________________________________________________\n",
      "dense_14 (Dense)             (None, 60)                3660      \n",
      "_________________________________________________________________\n",
      "dense_15 (Dense)             (None, 2)                 122       \n",
      "=================================================================\n",
      "Total params: 14,702\n",
      "Trainable params: 14,702\n",
      "Non-trainable params: 0\n",
      "_________________________________________________________________\n"
     ]
    }
   ],
   "source": [
    "model = Sequential()\n",
    "model.add(Dense(60, input_dim=59, activation = 'relu', use_bias=True))\n",
    "model.add(Dense(60, activation = 'relu', use_bias=True))\n",
    "model.add(Dense(60, activation ='relu', use_bias=True))\n",
    "model.add(Dense(60, activation='sigmoid',use_bias=True))\n",
    "model.add(Dense(2, activation='sigmoid'))\n",
    "model.summary()"
   ]
  },
  {
   "cell_type": "code",
   "execution_count": 38,
   "metadata": {
    "colab": {},
    "colab_type": "code",
    "id": "Dxe1q5joPblk"
   },
   "outputs": [],
   "source": [
    "opt = Adam(learning_rate=0.01)\n",
    "model.compile(loss = 'binary_crossentropy', optimizer = opt, metrics= ['accuracy'])"
   ]
  },
  {
   "cell_type": "code",
   "execution_count": 39,
   "metadata": {
    "colab": {
     "base_uri": "https://localhost:8080/",
     "height": 1000
    },
    "colab_type": "code",
    "id": "5-j_S1gwRhX-",
    "outputId": "de71b0c5-4554-4d18-9fe3-feee6140e161"
   },
   "outputs": [
    {
     "name": "stdout",
     "output_type": "stream",
     "text": [
      "Train on 165 samples, validate on 42 samples\n",
      "Epoch 1/100\n",
      " - 0s - loss: 0.6971 - accuracy: 0.5455 - val_loss: 0.6507 - val_accuracy: 0.6905\n",
      "Epoch 2/100\n",
      " - 0s - loss: 0.6385 - accuracy: 0.6455 - val_loss: 0.5326 - val_accuracy: 0.8571\n",
      "Epoch 3/100\n",
      " - 0s - loss: 0.5313 - accuracy: 0.7576 - val_loss: 0.5061 - val_accuracy: 0.7857\n",
      "Epoch 4/100\n",
      " - 0s - loss: 0.4953 - accuracy: 0.7606 - val_loss: 0.4421 - val_accuracy: 0.8095\n",
      "Epoch 5/100\n",
      " - 0s - loss: 0.4163 - accuracy: 0.8121 - val_loss: 0.8126 - val_accuracy: 0.5476\n",
      "Epoch 6/100\n",
      " - 0s - loss: 0.3792 - accuracy: 0.8061 - val_loss: 0.4352 - val_accuracy: 0.8095\n",
      "Epoch 7/100\n",
      " - 0s - loss: 0.3537 - accuracy: 0.8455 - val_loss: 1.0626 - val_accuracy: 0.5714\n",
      "Epoch 8/100\n",
      " - 0s - loss: 0.5050 - accuracy: 0.7424 - val_loss: 0.6280 - val_accuracy: 0.7381\n",
      "Epoch 9/100\n",
      " - 0s - loss: 0.3018 - accuracy: 0.8788 - val_loss: 0.4675 - val_accuracy: 0.7857\n",
      "Epoch 10/100\n",
      " - 0s - loss: 0.4205 - accuracy: 0.7818 - val_loss: 0.4777 - val_accuracy: 0.7857\n",
      "Epoch 11/100\n",
      " - 0s - loss: 0.3884 - accuracy: 0.8121 - val_loss: 0.5606 - val_accuracy: 0.7619\n",
      "Epoch 12/100\n",
      " - 0s - loss: 0.3367 - accuracy: 0.8545 - val_loss: 0.4471 - val_accuracy: 0.7857\n",
      "Epoch 13/100\n",
      " - 0s - loss: 0.3635 - accuracy: 0.8364 - val_loss: 0.5966 - val_accuracy: 0.7857\n",
      "Epoch 14/100\n",
      " - 0s - loss: 0.3057 - accuracy: 0.8667 - val_loss: 1.0971 - val_accuracy: 0.7143\n",
      "Epoch 15/100\n",
      " - 0s - loss: 0.3264 - accuracy: 0.8667 - val_loss: 0.7185 - val_accuracy: 0.7500\n",
      "Epoch 16/100\n",
      " - 0s - loss: 0.3006 - accuracy: 0.8758 - val_loss: 0.5804 - val_accuracy: 0.7619\n",
      "Epoch 17/100\n",
      " - 0s - loss: 0.2680 - accuracy: 0.8879 - val_loss: 0.5751 - val_accuracy: 0.7500\n",
      "Epoch 18/100\n",
      " - 0s - loss: 0.2583 - accuracy: 0.9091 - val_loss: 0.6588 - val_accuracy: 0.7857\n",
      "Epoch 19/100\n",
      " - 0s - loss: 0.2339 - accuracy: 0.9152 - val_loss: 1.0656 - val_accuracy: 0.7143\n",
      "Epoch 20/100\n",
      " - 0s - loss: 0.2320 - accuracy: 0.9333 - val_loss: 1.0805 - val_accuracy: 0.6905\n",
      "Epoch 21/100\n",
      " - 0s - loss: 0.4362 - accuracy: 0.8121 - val_loss: 1.3176 - val_accuracy: 0.5238\n",
      "Epoch 22/100\n",
      " - 0s - loss: 0.4485 - accuracy: 0.8394 - val_loss: 0.4532 - val_accuracy: 0.7857\n",
      "Epoch 23/100\n",
      " - 0s - loss: 0.3735 - accuracy: 0.8333 - val_loss: 0.7112 - val_accuracy: 0.5714\n",
      "Epoch 24/100\n",
      " - 0s - loss: 0.3387 - accuracy: 0.8515 - val_loss: 0.4481 - val_accuracy: 0.7976\n",
      "Epoch 25/100\n",
      " - 0s - loss: 0.2846 - accuracy: 0.8909 - val_loss: 0.5903 - val_accuracy: 0.7262\n",
      "Epoch 26/100\n",
      " - 0s - loss: 0.2723 - accuracy: 0.8909 - val_loss: 0.6342 - val_accuracy: 0.7619\n",
      "Epoch 27/100\n",
      " - 0s - loss: 0.2255 - accuracy: 0.9121 - val_loss: 0.4988 - val_accuracy: 0.8333\n",
      "Epoch 28/100\n",
      " - 0s - loss: 0.3398 - accuracy: 0.8485 - val_loss: 0.9303 - val_accuracy: 0.6667\n",
      "Epoch 29/100\n",
      " - 0s - loss: 0.2669 - accuracy: 0.8788 - val_loss: 0.8894 - val_accuracy: 0.6548\n",
      "Epoch 30/100\n",
      " - 0s - loss: 0.2611 - accuracy: 0.8788 - val_loss: 0.5016 - val_accuracy: 0.7857\n",
      "Epoch 31/100\n",
      " - 0s - loss: 0.2540 - accuracy: 0.8818 - val_loss: 0.5774 - val_accuracy: 0.7857\n",
      "Epoch 32/100\n",
      " - 0s - loss: 0.2217 - accuracy: 0.8970 - val_loss: 0.8962 - val_accuracy: 0.7143\n",
      "Epoch 33/100\n",
      " - 0s - loss: 0.2171 - accuracy: 0.9152 - val_loss: 0.6429 - val_accuracy: 0.7857\n",
      "Epoch 34/100\n",
      " - 0s - loss: 0.2005 - accuracy: 0.9152 - val_loss: 0.5137 - val_accuracy: 0.7619\n",
      "Epoch 35/100\n",
      " - 0s - loss: 0.2500 - accuracy: 0.9030 - val_loss: 1.1255 - val_accuracy: 0.6190\n",
      "Epoch 36/100\n",
      " - 0s - loss: 0.2025 - accuracy: 0.9091 - val_loss: 0.4395 - val_accuracy: 0.8095\n",
      "Epoch 37/100\n",
      " - 0s - loss: 0.2027 - accuracy: 0.9333 - val_loss: 0.8081 - val_accuracy: 0.7381\n",
      "Epoch 38/100\n",
      " - 0s - loss: 0.1737 - accuracy: 0.9273 - val_loss: 0.8528 - val_accuracy: 0.7857\n",
      "Epoch 39/100\n",
      " - 0s - loss: 0.1487 - accuracy: 0.9576 - val_loss: 0.5183 - val_accuracy: 0.7857\n",
      "Epoch 40/100\n",
      " - 0s - loss: 0.2458 - accuracy: 0.8909 - val_loss: 0.6244 - val_accuracy: 0.7857\n",
      "Epoch 41/100\n",
      " - 0s - loss: 0.2159 - accuracy: 0.9030 - val_loss: 1.2019 - val_accuracy: 0.6190\n",
      "Epoch 42/100\n",
      " - 0s - loss: 0.2748 - accuracy: 0.8788 - val_loss: 0.4495 - val_accuracy: 0.7857\n",
      "Epoch 43/100\n",
      " - 0s - loss: 0.1842 - accuracy: 0.9152 - val_loss: 0.5297 - val_accuracy: 0.7619\n",
      "Epoch 44/100\n",
      " - 0s - loss: 0.1511 - accuracy: 0.9394 - val_loss: 1.0919 - val_accuracy: 0.6786\n",
      "Epoch 45/100\n",
      " - 0s - loss: 0.1725 - accuracy: 0.9333 - val_loss: 0.4713 - val_accuracy: 0.8095\n",
      "Epoch 46/100\n",
      " - 0s - loss: 0.3139 - accuracy: 0.8848 - val_loss: 0.4887 - val_accuracy: 0.8333\n",
      "Epoch 47/100\n",
      " - 0s - loss: 0.3006 - accuracy: 0.8364 - val_loss: 0.8965 - val_accuracy: 0.6190\n",
      "Epoch 48/100\n",
      " - 0s - loss: 0.2071 - accuracy: 0.9152 - val_loss: 0.4955 - val_accuracy: 0.7857\n",
      "Epoch 49/100\n",
      " - 0s - loss: 0.1857 - accuracy: 0.9303 - val_loss: 0.4203 - val_accuracy: 0.8571\n",
      "Epoch 50/100\n",
      " - 0s - loss: 0.2024 - accuracy: 0.9030 - val_loss: 1.0998 - val_accuracy: 0.6429\n",
      "Epoch 51/100\n",
      " - 0s - loss: 0.2001 - accuracy: 0.9152 - val_loss: 0.3943 - val_accuracy: 0.8571\n",
      "Epoch 52/100\n",
      " - 0s - loss: 0.1314 - accuracy: 0.9636 - val_loss: 0.6855 - val_accuracy: 0.8095\n",
      "Epoch 53/100\n",
      " - 0s - loss: 0.1190 - accuracy: 0.9576 - val_loss: 0.4153 - val_accuracy: 0.8571\n",
      "Epoch 54/100\n",
      " - 0s - loss: 0.1080 - accuracy: 0.9636 - val_loss: 0.6842 - val_accuracy: 0.8095\n",
      "Epoch 55/100\n",
      " - 0s - loss: 0.0921 - accuracy: 0.9758 - val_loss: 1.1698 - val_accuracy: 0.7619\n",
      "Epoch 56/100\n",
      " - 0s - loss: 0.1069 - accuracy: 0.9636 - val_loss: 0.7477 - val_accuracy: 0.8095\n",
      "Epoch 57/100\n",
      " - 0s - loss: 0.0879 - accuracy: 0.9697 - val_loss: 0.9902 - val_accuracy: 0.8095\n",
      "Epoch 58/100\n",
      " - 0s - loss: 0.0766 - accuracy: 0.9818 - val_loss: 1.0364 - val_accuracy: 0.7857\n",
      "Epoch 59/100\n",
      " - 0s - loss: 0.0722 - accuracy: 0.9818 - val_loss: 1.0165 - val_accuracy: 0.8333\n",
      "Epoch 60/100\n",
      " - 0s - loss: 0.0661 - accuracy: 0.9879 - val_loss: 0.8081 - val_accuracy: 0.7857\n",
      "Epoch 61/100\n",
      " - 0s - loss: 0.0937 - accuracy: 0.9667 - val_loss: 1.2977 - val_accuracy: 0.7143\n",
      "Epoch 62/100\n",
      " - 0s - loss: 0.4984 - accuracy: 0.8727 - val_loss: 0.4584 - val_accuracy: 0.7857\n",
      "Epoch 63/100\n",
      " - 0s - loss: 0.4370 - accuracy: 0.8576 - val_loss: 0.4963 - val_accuracy: 0.8571\n",
      "Epoch 64/100\n",
      " - 0s - loss: 0.2874 - accuracy: 0.8667 - val_loss: 0.4983 - val_accuracy: 0.8095\n",
      "Epoch 65/100\n",
      " - 0s - loss: 0.3327 - accuracy: 0.8485 - val_loss: 0.5999 - val_accuracy: 0.7500\n",
      "Epoch 66/100\n",
      " - 0s - loss: 0.3062 - accuracy: 0.8606 - val_loss: 0.4222 - val_accuracy: 0.8571\n",
      "Epoch 67/100\n",
      " - 0s - loss: 0.2481 - accuracy: 0.9091 - val_loss: 0.5205 - val_accuracy: 0.7381\n",
      "Epoch 68/100\n",
      " - 0s - loss: 0.2126 - accuracy: 0.9273 - val_loss: 0.4877 - val_accuracy: 0.7619\n",
      "Epoch 69/100\n",
      " - 0s - loss: 0.3118 - accuracy: 0.8788 - val_loss: 0.9678 - val_accuracy: 0.7143\n",
      "Epoch 70/100\n",
      " - 0s - loss: 0.2766 - accuracy: 0.8939 - val_loss: 0.4076 - val_accuracy: 0.8333\n",
      "Epoch 71/100\n",
      " - 0s - loss: 0.2194 - accuracy: 0.8909 - val_loss: 0.8138 - val_accuracy: 0.6667\n",
      "Epoch 72/100\n",
      " - 0s - loss: 0.2231 - accuracy: 0.9030 - val_loss: 0.3547 - val_accuracy: 0.8571\n",
      "Epoch 73/100\n",
      " - 0s - loss: 0.2160 - accuracy: 0.9030 - val_loss: 0.8677 - val_accuracy: 0.8095\n",
      "Epoch 74/100\n",
      " - 0s - loss: 0.1552 - accuracy: 0.9394 - val_loss: 0.3932 - val_accuracy: 0.8333\n",
      "Epoch 75/100\n",
      " - 0s - loss: 0.1705 - accuracy: 0.9333 - val_loss: 0.7785 - val_accuracy: 0.7976\n",
      "Epoch 76/100\n",
      " - 0s - loss: 0.1087 - accuracy: 0.9697 - val_loss: 0.8762 - val_accuracy: 0.8333\n",
      "Epoch 77/100\n",
      " - 0s - loss: 0.0810 - accuracy: 0.9879 - val_loss: 0.8538 - val_accuracy: 0.8095\n",
      "Epoch 78/100\n",
      " - 0s - loss: 0.0827 - accuracy: 0.9758 - val_loss: 1.0206 - val_accuracy: 0.7857\n",
      "Epoch 79/100\n",
      " - 0s - loss: 0.0745 - accuracy: 0.9818 - val_loss: 0.8065 - val_accuracy: 0.8095\n",
      "Epoch 80/100\n",
      " - 0s - loss: 0.0793 - accuracy: 0.9818 - val_loss: 0.6077 - val_accuracy: 0.8333\n",
      "Epoch 81/100\n",
      " - 0s - loss: 0.0802 - accuracy: 0.9818 - val_loss: 0.9900 - val_accuracy: 0.8333\n",
      "Epoch 82/100\n",
      " - 0s - loss: 0.0639 - accuracy: 0.9879 - val_loss: 0.9531 - val_accuracy: 0.8095\n",
      "Epoch 83/100\n",
      " - 0s - loss: 0.0713 - accuracy: 0.9818 - val_loss: 1.0656 - val_accuracy: 0.8095\n",
      "Epoch 84/100\n",
      " - 0s - loss: 0.0727 - accuracy: 0.9879 - val_loss: 1.0788 - val_accuracy: 0.8095\n",
      "Epoch 85/100\n",
      " - 0s - loss: 0.0701 - accuracy: 0.9818 - val_loss: 1.0672 - val_accuracy: 0.8095\n",
      "Epoch 86/100\n",
      " - 0s - loss: 0.0629 - accuracy: 0.9879 - val_loss: 1.0415 - val_accuracy: 0.8095\n",
      "Epoch 87/100\n",
      " - 0s - loss: 0.0853 - accuracy: 0.9758 - val_loss: 1.0484 - val_accuracy: 0.8095\n",
      "Epoch 88/100\n",
      " - 0s - loss: 0.0639 - accuracy: 0.9879 - val_loss: 1.0928 - val_accuracy: 0.8095\n",
      "Epoch 89/100\n",
      " - 0s - loss: 0.0611 - accuracy: 0.9879 - val_loss: 0.9529 - val_accuracy: 0.8095\n",
      "Epoch 90/100\n",
      " - 0s - loss: 0.0649 - accuracy: 0.9818 - val_loss: 1.0616 - val_accuracy: 0.8095\n",
      "Epoch 91/100\n",
      " - 0s - loss: 0.0606 - accuracy: 0.9879 - val_loss: 1.0684 - val_accuracy: 0.8095\n",
      "Epoch 92/100\n",
      " - 0s - loss: 0.0593 - accuracy: 0.9879 - val_loss: 0.9882 - val_accuracy: 0.8095\n",
      "Epoch 93/100\n",
      " - 0s - loss: 0.0605 - accuracy: 0.9879 - val_loss: 1.0040 - val_accuracy: 0.8095\n",
      "Epoch 94/100\n",
      " - 0s - loss: 0.0587 - accuracy: 0.9879 - val_loss: 0.9861 - val_accuracy: 0.8095\n",
      "Epoch 95/100\n",
      " - 0s - loss: 0.0587 - accuracy: 0.9879 - val_loss: 0.9476 - val_accuracy: 0.8095\n",
      "Epoch 96/100\n",
      " - 0s - loss: 0.0586 - accuracy: 0.9879 - val_loss: 0.9013 - val_accuracy: 0.8095\n",
      "Epoch 97/100\n",
      " - 0s - loss: 0.0588 - accuracy: 0.9879 - val_loss: 0.8468 - val_accuracy: 0.8095\n",
      "Epoch 98/100\n",
      " - 0s - loss: 0.0586 - accuracy: 0.9879 - val_loss: 0.8080 - val_accuracy: 0.8095\n",
      "Epoch 99/100\n",
      " - 0s - loss: 0.0586 - accuracy: 0.9879 - val_loss: 0.7815 - val_accuracy: 0.8095\n",
      "Epoch 100/100\n",
      " - 0s - loss: 0.0584 - accuracy: 0.9879 - val_loss: 0.7982 - val_accuracy: 0.8095\n"
     ]
    },
    {
     "data": {
      "text/plain": [
       "<keras.callbacks.callbacks.History at 0x7fb4c71699e8>"
      ]
     },
     "execution_count": 39,
     "metadata": {
      "tags": []
     },
     "output_type": "execute_result"
    }
   ],
   "source": [
    "model.fit(train_x, train_y, validation_data=(test_x, test_y), epochs=100, verbose=2)"
   ]
  },
  {
   "cell_type": "code",
   "execution_count": 84,
   "metadata": {
    "colab": {},
    "colab_type": "code",
    "id": "cDCI5ZHtWqTk"
   },
   "outputs": [],
   "source": [
    "i = [0.0309,0.0169,\t0.0313,\t0.0358,\t0.0102,\t0.0182,\t0.0579,\t0.1122,\t0.0835,\t0.0548,\t0.0847,\t0.2026,\n",
    "              0.2557,\t0.187,\t0.2032,\t0.1463,\t0.2849,\t0.5824,\t0.7728,\t0.7852,\t0.8515,\t0.5312,\t0.3653,\t0.5973,\n",
    "              0.8275,\t1,\t0.8673,\t0.6301,\t0.4591,\t0.394,\t0.2576,\t0.2817,\t0.2641,\t0.2757,\t0.2698,\t0.3994,\t0.4576,\n",
    "              0.394,\t0.2522,\t0.1782,\t0.1354,\t0.0516,\t0.0337,\t0.0894,\t0.0861,\t0.0872,\t0.0445,\t0.0134,\t0.0217,\n",
    "              0.0188,\t0.0133,\t0.0265,\t0.0224,\t0.0074,\t0.0118,\t0.0026,\t0.0092,\t0.0009,\t0.0044]\n",
    "j = [0.083,\t0.0577,\t0.0627,\t0.0635,\t0.1328,\t0.0988,\t0.1787,\t0.1199,\t0.1369,\t0.2509,\t0.2631,\t0.2796,\t0.2977,\n",
    "     0.3823,\t0.3129,\t0.3956,\t0.2093,\t0.3218,\t0.3345,\t0.3184,\t0.2887,\t0.361,\t0.2566,\t0.4106,\t0.4591,\t0.4722,\n",
    "     0.7278, 0.7591,\t0.6579,\t0.7514,\t0.6666,\t0.4903,\t0.5962,\t0.6552,\t0.4014,\t0.1188,\t0.3245,\t0.3107,\t0.1354,\n",
    "     0.5109, 0.7988,\t0.7517,\t0.5508,\t0.5858,\t0.7292,\t0.5522,\t0.3339,\t0.1608,\t0.0475,\t0.1004,\t0.0709,\t0.0317,\n",
    "     0.0309, 0.0252,\t0.0087,\t0.0177,\t0.0214,\t0.0227,\t0.0106]"
   ]
  },
  {
   "cell_type": "code",
   "execution_count": 85,
   "metadata": {
    "colab": {},
    "colab_type": "code",
    "id": "PvcGCJtwRy3o"
   },
   "outputs": [],
   "source": [
    "z = np.array((i, j))\n"
   ]
  },
  {
   "cell_type": "code",
   "execution_count": 86,
   "metadata": {
    "colab": {
     "base_uri": "https://localhost:8080/",
     "height": 34
    },
    "colab_type": "code",
    "id": "CsT3xtv9UDuk",
    "outputId": "42f8cac8-ab5b-4045-edc0-05f3826d9ec2"
   },
   "outputs": [
    {
     "name": "stdout",
     "output_type": "stream",
     "text": [
      "(2, 59)\n"
     ]
    }
   ],
   "source": [
    "print(z.shape)"
   ]
  },
  {
   "cell_type": "code",
   "execution_count": 87,
   "metadata": {
    "colab": {
     "base_uri": "https://localhost:8080/",
     "height": 34
    },
    "colab_type": "code",
    "id": "JYwwxChkUTpn",
    "outputId": "4f0ac309-f749-4ab9-875e-bfdd0c06ff03"
   },
   "outputs": [
    {
     "name": "stdout",
     "output_type": "stream",
     "text": [
      "(59,)\n"
     ]
    }
   ],
   "source": [
    "print(X[0].shape)\n"
   ]
  },
  {
   "cell_type": "code",
   "execution_count": 88,
   "metadata": {
    "colab": {
     "base_uri": "https://localhost:8080/",
     "height": 323
    },
    "colab_type": "code",
    "id": "cZUbHkyyUreQ",
    "outputId": "cf357047-a53e-4bb9-a0cd-310e032a44c8"
   },
   "outputs": [
    {
     "name": "stdout",
     "output_type": "stream",
     "text": [
      "[[3.090e-02 1.690e-02 3.130e-02 3.580e-02 1.020e-02 1.820e-02 5.790e-02\n",
      "  1.122e-01 8.350e-02 5.480e-02 8.470e-02 2.026e-01 2.557e-01 1.870e-01\n",
      "  2.032e-01 1.463e-01 2.849e-01 5.824e-01 7.728e-01 7.852e-01 8.515e-01\n",
      "  5.312e-01 3.653e-01 5.973e-01 8.275e-01 1.000e+00 8.673e-01 6.301e-01\n",
      "  4.591e-01 3.940e-01 2.576e-01 2.817e-01 2.641e-01 2.757e-01 2.698e-01\n",
      "  3.994e-01 4.576e-01 3.940e-01 2.522e-01 1.782e-01 1.354e-01 5.160e-02\n",
      "  3.370e-02 8.940e-02 8.610e-02 8.720e-02 4.450e-02 1.340e-02 2.170e-02\n",
      "  1.880e-02 1.330e-02 2.650e-02 2.240e-02 7.400e-03 1.180e-02 2.600e-03\n",
      "  9.200e-03 9.000e-04 4.400e-03]\n",
      " [8.300e-02 5.770e-02 6.270e-02 6.350e-02 1.328e-01 9.880e-02 1.787e-01\n",
      "  1.199e-01 1.369e-01 2.509e-01 2.631e-01 2.796e-01 2.977e-01 3.823e-01\n",
      "  3.129e-01 3.956e-01 2.093e-01 3.218e-01 3.345e-01 3.184e-01 2.887e-01\n",
      "  3.610e-01 2.566e-01 4.106e-01 4.591e-01 4.722e-01 7.278e-01 7.591e-01\n",
      "  6.579e-01 7.514e-01 6.666e-01 4.903e-01 5.962e-01 6.552e-01 4.014e-01\n",
      "  1.188e-01 3.245e-01 3.107e-01 1.354e-01 5.109e-01 7.988e-01 7.517e-01\n",
      "  5.508e-01 5.858e-01 7.292e-01 5.522e-01 3.339e-01 1.608e-01 4.750e-02\n",
      "  1.004e-01 7.090e-02 3.170e-02 3.090e-02 2.520e-02 8.700e-03 1.770e-02\n",
      "  2.140e-02 2.270e-02 1.060e-02]]\n"
     ]
    }
   ],
   "source": [
    "print(z)"
   ]
  },
  {
   "cell_type": "code",
   "execution_count": 89,
   "metadata": {
    "colab": {
     "base_uri": "https://localhost:8080/",
     "height": 119
    },
    "colab_type": "code",
    "id": "LOc_uTpaUDxk",
    "outputId": "6a17cbc6-ddee-44d2-ab9e-def1e3a785bc"
   },
   "outputs": [
    {
     "name": "stdout",
     "output_type": "stream",
     "text": [
      "[0.0523 0.0843 0.0689 0.1183 0.2583 0.2156 0.3481 0.3337 0.2872 0.4918\n",
      " 0.6552 0.6919 0.7797 0.7464 0.9444 1.     0.8874 0.8024 0.7818 0.5212\n",
      " 0.4052 0.3957 0.3914 0.325  0.32   0.3271 0.2767 0.4423 0.2028 0.3788\n",
      " 0.2947 0.1984 0.2341 0.1306 0.4182 0.3835 0.1057 0.184  0.197  0.1674\n",
      " 0.0583 0.1401 0.1628 0.0621 0.0203 0.053  0.0742 0.0409 0.0061 0.0125\n",
      " 0.0084 0.0089 0.0048 0.0094 0.0191 0.014  0.0049 0.0052 0.0044]\n"
     ]
    }
   ],
   "source": [
    "print(X[0])"
   ]
  },
  {
   "cell_type": "code",
   "execution_count": 90,
   "metadata": {
    "colab": {},
    "colab_type": "code",
    "id": "QnespHNKXUxQ"
   },
   "outputs": [],
   "source": [
    "result = model.predict(z)"
   ]
  },
  {
   "cell_type": "code",
   "execution_count": 91,
   "metadata": {
    "colab": {
     "base_uri": "https://localhost:8080/",
     "height": 51
    },
    "colab_type": "code",
    "id": "lQozeObVXZKd",
    "outputId": "7304a71a-f0b7-42ab-9150-8649e64ed498"
   },
   "outputs": [
    {
     "data": {
      "text/plain": [
       "array([[3.7378582e-04, 9.9964857e-01],\n",
       "       [9.8209608e-01, 1.8740427e-02]], dtype=float32)"
      ]
     },
     "execution_count": 91,
     "metadata": {
      "tags": []
     },
     "output_type": "execute_result"
    }
   ],
   "source": [
    "result"
   ]
  },
  {
   "cell_type": "code",
   "execution_count": null,
   "metadata": {
    "colab": {},
    "colab_type": "code",
    "id": "HV_A5Tg5d3i3"
   },
   "outputs": [],
   "source": []
  }
 ],
 "metadata": {
  "accelerator": "TPU",
  "colab": {
   "collapsed_sections": [],
   "name": "Sonar_Keras.ipynb",
   "provenance": []
  },
  "kernelspec": {
   "display_name": "Python 3",
   "language": "python",
   "name": "python3"
  },
  "language_info": {
   "codemirror_mode": {
    "name": "ipython",
    "version": 3
   },
   "file_extension": ".py",
   "mimetype": "text/x-python",
   "name": "python",
   "nbconvert_exporter": "python",
   "pygments_lexer": "ipython3",
   "version": "3.7.4"
  }
 },
 "nbformat": 4,
 "nbformat_minor": 1
}
