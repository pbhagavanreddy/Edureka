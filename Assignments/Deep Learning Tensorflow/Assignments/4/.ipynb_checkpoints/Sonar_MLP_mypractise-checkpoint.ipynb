{
 "cells": [
  {
   "cell_type": "code",
   "execution_count": 1,
   "metadata": {},
   "outputs": [],
   "source": [
    "import pandas as pd\n",
    "import numpy as np\n",
    "import matplotlib.pyplot as plt\n",
    "import tensorflow as tf\n",
    "from sklearn.preprocessing import LabelEncoder, OneHotEncoder\n",
    "from sklearn.utils import shuffle\n",
    "from sklearn.model_selection import train_test_split"
   ]
  },
  {
   "cell_type": "code",
   "execution_count": 2,
   "metadata": {},
   "outputs": [
    {
     "name": "stdout",
     "output_type": "stream",
     "text": [
      "61\n"
     ]
    }
   ],
   "source": [
    "# def read_dataset():\n",
    "df = pd.read_csv(\"sonar.csv\")\n",
    "print(len(df.columns))\n",
    "X = df[df.columns[0:60]].values\n",
    "y = df[df.columns[60]]"
   ]
  },
  {
   "cell_type": "code",
   "execution_count": 3,
   "metadata": {},
   "outputs": [
    {
     "data": {
      "text/plain": [
       "array([[0.0453, 0.0523, 0.0843, ..., 0.0049, 0.0052, 0.0044],\n",
       "       [0.0262, 0.0582, 0.1099, ..., 0.0164, 0.0095, 0.0078],\n",
       "       [0.01  , 0.0171, 0.0623, ..., 0.0044, 0.004 , 0.0117],\n",
       "       ...,\n",
       "       [0.0522, 0.0437, 0.018 , ..., 0.0138, 0.0077, 0.0031],\n",
       "       [0.0303, 0.0353, 0.049 , ..., 0.0079, 0.0036, 0.0048],\n",
       "       [0.026 , 0.0363, 0.0136, ..., 0.0036, 0.0061, 0.0115]])"
      ]
     },
     "execution_count": 3,
     "metadata": {},
     "output_type": "execute_result"
    }
   ],
   "source": [
    "X"
   ]
  },
  {
   "cell_type": "code",
   "execution_count": 4,
   "metadata": {},
   "outputs": [
    {
     "name": "stdout",
     "output_type": "stream",
     "text": [
      "(207, 60)\n",
      "60\n",
      "207\n"
     ]
    }
   ],
   "source": [
    "print(X.shape)\n",
    "print(X.shape[1])\n",
    "print(X.shape[0])"
   ]
  },
  {
   "cell_type": "code",
   "execution_count": 5,
   "metadata": {},
   "outputs": [],
   "source": [
    "encoder = LabelEncoder()\n",
    "encoder.fit(y)\n",
    "y = encoder.transform(y)"
   ]
  },
  {
   "cell_type": "code",
   "execution_count": 6,
   "metadata": {},
   "outputs": [
    {
     "data": {
      "text/plain": [
       "array([1, 1, 1, 1, 1, 1, 1, 1, 1, 1, 1, 1, 1, 1, 1, 1, 1, 1, 1, 1, 1, 1,\n",
       "       1, 1, 1, 1, 1, 1, 1, 1, 1, 1, 1, 1, 1, 1, 1, 1, 1, 1, 1, 1, 1, 1,\n",
       "       1, 1, 1, 1, 1, 1, 1, 1, 1, 1, 1, 1, 1, 1, 1, 1, 1, 1, 1, 1, 1, 1,\n",
       "       1, 1, 1, 1, 1, 1, 1, 1, 1, 1, 1, 1, 1, 1, 1, 1, 1, 1, 1, 1, 1, 1,\n",
       "       1, 1, 1, 1, 1, 1, 1, 1, 0, 0, 0, 0, 0, 0, 0, 0, 0, 0, 0, 0, 0, 0,\n",
       "       0, 0, 0, 0, 0, 0, 0, 0, 0, 0, 0, 0, 0, 0, 0, 0, 0, 0, 0, 0, 0, 0,\n",
       "       0, 0, 0, 0, 0, 0, 0, 0, 0, 0, 0, 0, 0, 0, 0, 0, 0, 0, 0, 0, 0, 0,\n",
       "       0, 0, 0, 0, 0, 0, 0, 0, 0, 0, 0, 0, 0, 0, 0, 0, 0, 0, 0, 0, 0, 0,\n",
       "       0, 0, 0, 0, 0, 0, 0, 0, 0, 0, 0, 0, 0, 0, 0, 0, 0, 0, 0, 0, 0, 0,\n",
       "       0, 0, 0, 0, 0, 0, 0, 0, 0])"
      ]
     },
     "execution_count": 6,
     "metadata": {},
     "output_type": "execute_result"
    }
   ],
   "source": [
    "y"
   ]
  },
  {
   "cell_type": "code",
   "execution_count": 7,
   "metadata": {},
   "outputs": [
    {
     "data": {
      "text/plain": [
       "numpy.ndarray"
      ]
     },
     "execution_count": 7,
     "metadata": {},
     "output_type": "execute_result"
    }
   ],
   "source": [
    "type(y)"
   ]
  },
  {
   "cell_type": "code",
   "execution_count": 8,
   "metadata": {},
   "outputs": [],
   "source": [
    "n_labels = len(y)\n",
    "n_unique_labels = len(np.unique(y))\n",
    "one_hot_encode = np.zeros((n_labels, n_unique_labels))\n",
    "one_hot_encode[np.arange(n_labels), y] = 1\n",
    "Y = one_hot_encode"
   ]
  },
  {
   "cell_type": "code",
   "execution_count": 9,
   "metadata": {},
   "outputs": [
    {
     "data": {
      "text/plain": [
       "array([[0., 1.],\n",
       "       [0., 1.],\n",
       "       [0., 1.],\n",
       "       [0., 1.],\n",
       "       [0., 1.],\n",
       "       [0., 1.],\n",
       "       [0., 1.],\n",
       "       [0., 1.],\n",
       "       [0., 1.],\n",
       "       [0., 1.],\n",
       "       [0., 1.],\n",
       "       [0., 1.],\n",
       "       [0., 1.],\n",
       "       [0., 1.],\n",
       "       [0., 1.],\n",
       "       [0., 1.],\n",
       "       [0., 1.],\n",
       "       [0., 1.],\n",
       "       [0., 1.],\n",
       "       [0., 1.],\n",
       "       [0., 1.],\n",
       "       [0., 1.],\n",
       "       [0., 1.],\n",
       "       [0., 1.],\n",
       "       [0., 1.],\n",
       "       [0., 1.],\n",
       "       [0., 1.],\n",
       "       [0., 1.],\n",
       "       [0., 1.],\n",
       "       [0., 1.],\n",
       "       [0., 1.],\n",
       "       [0., 1.],\n",
       "       [0., 1.],\n",
       "       [0., 1.],\n",
       "       [0., 1.],\n",
       "       [0., 1.],\n",
       "       [0., 1.],\n",
       "       [0., 1.],\n",
       "       [0., 1.],\n",
       "       [0., 1.],\n",
       "       [0., 1.],\n",
       "       [0., 1.],\n",
       "       [0., 1.],\n",
       "       [0., 1.],\n",
       "       [0., 1.],\n",
       "       [0., 1.],\n",
       "       [0., 1.],\n",
       "       [0., 1.],\n",
       "       [0., 1.],\n",
       "       [0., 1.],\n",
       "       [0., 1.],\n",
       "       [0., 1.],\n",
       "       [0., 1.],\n",
       "       [0., 1.],\n",
       "       [0., 1.],\n",
       "       [0., 1.],\n",
       "       [0., 1.],\n",
       "       [0., 1.],\n",
       "       [0., 1.],\n",
       "       [0., 1.],\n",
       "       [0., 1.],\n",
       "       [0., 1.],\n",
       "       [0., 1.],\n",
       "       [0., 1.],\n",
       "       [0., 1.],\n",
       "       [0., 1.],\n",
       "       [0., 1.],\n",
       "       [0., 1.],\n",
       "       [0., 1.],\n",
       "       [0., 1.],\n",
       "       [0., 1.],\n",
       "       [0., 1.],\n",
       "       [0., 1.],\n",
       "       [0., 1.],\n",
       "       [0., 1.],\n",
       "       [0., 1.],\n",
       "       [0., 1.],\n",
       "       [0., 1.],\n",
       "       [0., 1.],\n",
       "       [0., 1.],\n",
       "       [0., 1.],\n",
       "       [0., 1.],\n",
       "       [0., 1.],\n",
       "       [0., 1.],\n",
       "       [0., 1.],\n",
       "       [0., 1.],\n",
       "       [0., 1.],\n",
       "       [0., 1.],\n",
       "       [0., 1.],\n",
       "       [0., 1.],\n",
       "       [0., 1.],\n",
       "       [0., 1.],\n",
       "       [0., 1.],\n",
       "       [0., 1.],\n",
       "       [0., 1.],\n",
       "       [0., 1.],\n",
       "       [1., 0.],\n",
       "       [1., 0.],\n",
       "       [1., 0.],\n",
       "       [1., 0.],\n",
       "       [1., 0.],\n",
       "       [1., 0.],\n",
       "       [1., 0.],\n",
       "       [1., 0.],\n",
       "       [1., 0.],\n",
       "       [1., 0.],\n",
       "       [1., 0.],\n",
       "       [1., 0.],\n",
       "       [1., 0.],\n",
       "       [1., 0.],\n",
       "       [1., 0.],\n",
       "       [1., 0.],\n",
       "       [1., 0.],\n",
       "       [1., 0.],\n",
       "       [1., 0.],\n",
       "       [1., 0.],\n",
       "       [1., 0.],\n",
       "       [1., 0.],\n",
       "       [1., 0.],\n",
       "       [1., 0.],\n",
       "       [1., 0.],\n",
       "       [1., 0.],\n",
       "       [1., 0.],\n",
       "       [1., 0.],\n",
       "       [1., 0.],\n",
       "       [1., 0.],\n",
       "       [1., 0.],\n",
       "       [1., 0.],\n",
       "       [1., 0.],\n",
       "       [1., 0.],\n",
       "       [1., 0.],\n",
       "       [1., 0.],\n",
       "       [1., 0.],\n",
       "       [1., 0.],\n",
       "       [1., 0.],\n",
       "       [1., 0.],\n",
       "       [1., 0.],\n",
       "       [1., 0.],\n",
       "       [1., 0.],\n",
       "       [1., 0.],\n",
       "       [1., 0.],\n",
       "       [1., 0.],\n",
       "       [1., 0.],\n",
       "       [1., 0.],\n",
       "       [1., 0.],\n",
       "       [1., 0.],\n",
       "       [1., 0.],\n",
       "       [1., 0.],\n",
       "       [1., 0.],\n",
       "       [1., 0.],\n",
       "       [1., 0.],\n",
       "       [1., 0.],\n",
       "       [1., 0.],\n",
       "       [1., 0.],\n",
       "       [1., 0.],\n",
       "       [1., 0.],\n",
       "       [1., 0.],\n",
       "       [1., 0.],\n",
       "       [1., 0.],\n",
       "       [1., 0.],\n",
       "       [1., 0.],\n",
       "       [1., 0.],\n",
       "       [1., 0.],\n",
       "       [1., 0.],\n",
       "       [1., 0.],\n",
       "       [1., 0.],\n",
       "       [1., 0.],\n",
       "       [1., 0.],\n",
       "       [1., 0.],\n",
       "       [1., 0.],\n",
       "       [1., 0.],\n",
       "       [1., 0.],\n",
       "       [1., 0.],\n",
       "       [1., 0.],\n",
       "       [1., 0.],\n",
       "       [1., 0.],\n",
       "       [1., 0.],\n",
       "       [1., 0.],\n",
       "       [1., 0.],\n",
       "       [1., 0.],\n",
       "       [1., 0.],\n",
       "       [1., 0.],\n",
       "       [1., 0.],\n",
       "       [1., 0.],\n",
       "       [1., 0.],\n",
       "       [1., 0.],\n",
       "       [1., 0.],\n",
       "       [1., 0.],\n",
       "       [1., 0.],\n",
       "       [1., 0.],\n",
       "       [1., 0.],\n",
       "       [1., 0.],\n",
       "       [1., 0.],\n",
       "       [1., 0.],\n",
       "       [1., 0.],\n",
       "       [1., 0.],\n",
       "       [1., 0.],\n",
       "       [1., 0.],\n",
       "       [1., 0.],\n",
       "       [1., 0.],\n",
       "       [1., 0.],\n",
       "       [1., 0.],\n",
       "       [1., 0.],\n",
       "       [1., 0.],\n",
       "       [1., 0.],\n",
       "       [1., 0.],\n",
       "       [1., 0.]])"
      ]
     },
     "execution_count": 9,
     "metadata": {},
     "output_type": "execute_result"
    }
   ],
   "source": [
    "Y"
   ]
  },
  {
   "cell_type": "code",
   "execution_count": 10,
   "metadata": {},
   "outputs": [],
   "source": [
    "from sklearn.preprocessing import StandardScaler"
   ]
  },
  {
   "cell_type": "code",
   "execution_count": 11,
   "metadata": {},
   "outputs": [],
   "source": [
    "scaler = StandardScaler()"
   ]
  },
  {
   "cell_type": "code",
   "execution_count": 14,
   "metadata": {},
   "outputs": [],
   "source": [
    "X = scaler.fit_transform(X)"
   ]
  },
  {
   "cell_type": "code",
   "execution_count": 15,
   "metadata": {},
   "outputs": [
    {
     "data": {
      "text/plain": [
       "array([[ 0.70018948,  0.42042142,  1.0529498 , ..., -0.4709383 ,\n",
       "        -0.44268846, -0.42246083],\n",
       "       [-0.13089402,  0.59942737,  1.71912994, ...,  1.30656071,\n",
       "         0.25299833,  0.25405324],\n",
       "       [-0.83579208, -0.64754631,  0.48045125, ..., -0.54822087,\n",
       "        -0.63683361,  1.03005467],\n",
       "       ...,\n",
       "       [ 1.00042384,  0.15949749, -0.67235266, ...,  0.90469137,\n",
       "        -0.0382194 , -0.68112798],\n",
       "       [ 0.0475061 , -0.09535845,  0.13434985, ..., -0.00724291,\n",
       "        -0.70154866, -0.34287094],\n",
       "       [-0.13959647, -0.06501846, -0.78685237, ..., -0.67187297,\n",
       "        -0.2970796 ,  0.99025973]])"
      ]
     },
     "execution_count": 15,
     "metadata": {},
     "output_type": "execute_result"
    }
   ],
   "source": [
    "X"
   ]
  },
  {
   "cell_type": "code",
   "execution_count": 39,
   "metadata": {},
   "outputs": [],
   "source": [
    "# mu = np.mean(X, axis=0)\n",
    "# sigma = np.std(X, axis=0)\n",
    "# X = (X - mu)/sigma"
   ]
  },
  {
   "cell_type": "code",
   "execution_count": 16,
   "metadata": {},
   "outputs": [
    {
     "data": {
      "image/png": "[encoded data removed]",
      "text/plain": [
       "<Figure size 720x576 with 1 Axes>"
      ]
     },
     "metadata": {
      "needs_background": "light"
     },
     "output_type": "display_data"
    }
   ],
   "source": [
    "normal = np.where(y==0)\n",
    "outliers = np.where(y==1)\n",
    "fig = plt.figure(figsize=(10,8))\n",
    "plt.plot(X[normal, 0], X[normal, 1], 'bx')\n",
    "plt.plot(X[outliers, 0], X[outliers, 1], 'ro')\n",
    "plt.xlabel('Latency (ms)')\n",
    "plt.ylabel('Throughput (mb/s)')\n",
    "plt.show()"
   ]
  },
  {
   "cell_type": "code",
   "execution_count": 17,
   "metadata": {},
   "outputs": [
    {
     "name": "stdout",
     "output_type": "stream",
     "text": [
      "(165, 60)\n",
      "(165, 2)\n",
      "(42, 60)\n",
      "(42, 2)\n"
     ]
    }
   ],
   "source": [
    "X,Y = shuffle(X,Y,random_state=1)\n",
    "train_x, test_x, train_y, test_y = train_test_split(X,Y,test_size=0.20, random_state=415)\n",
    "\n",
    "print(train_x.shape)\n",
    "print(train_y.shape)\n",
    "print(test_x.shape)\n",
    "print(test_y.shape)"
   ]
  },
  {
   "cell_type": "code",
   "execution_count": 18,
   "metadata": {},
   "outputs": [],
   "source": [
    "learning_rate = 0.01\n",
    "training_epochs = 500\n",
    "cost_history = np.empty(shape=[1], dtype=float)\n",
    "\n",
    "n_dim = X.shape[1]\n",
    "n_class = 2"
   ]
  },
  {
   "cell_type": "code",
   "execution_count": 19,
   "metadata": {},
   "outputs": [],
   "source": [
    "n_hidden_1 = 60\n",
    "n_hidden_2 = 60\n",
    "n_hidden_3 = 60\n",
    "n_hidden_4 = 60"
   ]
  },
  {
   "cell_type": "code",
   "execution_count": 21,
   "metadata": {},
   "outputs": [
    {
     "name": "stdout",
     "output_type": "stream",
     "text": [
      "WARNING:tensorflow:From C:\\Users\\BhagavanReddy\\Anaconda3\\lib\\site-packages\\tensorflow_core\\python\\compat\\v2_compat.py:88: disable_resource_variables (from tensorflow.python.ops.variable_scope) is deprecated and will be removed in a future version.\n",
      "Instructions for updating:\n",
      "non-resource variables are not supported in the long term\n"
     ]
    }
   ],
   "source": [
    "import tensorflow.compat.v1 as tf\n",
    "tf.disable_v2_behavior()"
   ]
  },
  {
   "cell_type": "code",
   "execution_count": 22,
   "metadata": {},
   "outputs": [],
   "source": [
    "x = tf.placeholder(tf.float32,[None,n_dim])\n",
    "W = tf.Variable(tf.zeros([n_dim,n_class]))\n",
    "b = tf.Variable(tf.zeros([n_class]))\n",
    "y_ = tf.placeholder(tf.float32, [None, n_class])"
   ]
  },
  {
   "cell_type": "code",
   "execution_count": 23,
   "metadata": {},
   "outputs": [
    {
     "data": {
      "text/plain": [
       "TensorShape([Dimension(2)])"
      ]
     },
     "execution_count": 23,
     "metadata": {},
     "output_type": "execute_result"
    }
   ],
   "source": [
    "b.shape"
   ]
  },
  {
   "cell_type": "code",
   "execution_count": 24,
   "metadata": {},
   "outputs": [],
   "source": [
    "weights = {\n",
    "    'h1': tf.Variable(tf.truncated_normal([n_dim, n_hidden_1])),\n",
    "    'h2': tf.Variable(tf.truncated_normal([n_hidden_1, n_hidden_2])),\n",
    "    'h3': tf.Variable(tf.truncated_normal([n_hidden_2, n_hidden_3])),\n",
    "    'h4': tf.Variable(tf.truncated_normal([n_hidden_3, n_hidden_4])),\n",
    "    'out': tf.Variable(tf.truncated_normal([n_hidden_4, n_class]))    \n",
    "}\n",
    "\n",
    "biases = {\n",
    "    'b1': tf.Variable(tf.truncated_normal([n_hidden_1])),\n",
    "    'b2': tf.Variable(tf.truncated_normal([n_hidden_2])),\n",
    "    'b3': tf.Variable(tf.truncated_normal([n_hidden_3])),\n",
    "    'b4': tf.Variable(tf.truncated_normal([n_hidden_4])),\n",
    "    'out': tf.Variable(tf.truncated_normal([n_class]))\n",
    "}"
   ]
  },
  {
   "cell_type": "code",
   "execution_count": 25,
   "metadata": {},
   "outputs": [],
   "source": [
    "def multilayer_perceptron(x, weights, biases):\n",
    "    layer_1 = tf.add(tf.matmul(x, weights['h1']), biases['b1'])\n",
    "    layer_1 = tf.nn.sigmoid(layer_1)\n",
    "    \n",
    "    layer_2 = tf.add(tf.matmul(layer_1, weights['h2']), biases['b2'])\n",
    "    layer_2 = tf.nn.sigmoid(layer_2)\n",
    "    \n",
    "    layer_3 = tf.add(tf.matmul(layer_2, weights['h3']), biases['b3'])\n",
    "    layer_3 = tf.nn.sigmoid(layer_3)\n",
    "    \n",
    "    layer_4 = tf.add(tf.matmul(layer_3, weights['h4']), biases['b4'])\n",
    "    layer_4 = tf.nn.relu(layer_4)\n",
    "    \n",
    "    out_layer = tf.matmul(layer_4, weights['out']) + biases['out']\n",
    "    return out_layer\n",
    "    "
   ]
  },
  {
   "cell_type": "code",
   "execution_count": 26,
   "metadata": {},
   "outputs": [],
   "source": [
    "init = tf.global_variables_initializer()"
   ]
  },
  {
   "cell_type": "code",
   "execution_count": 27,
   "metadata": {},
   "outputs": [
    {
     "name": "stdout",
     "output_type": "stream",
     "text": [
      "WARNING:tensorflow:From <ipython-input-27-fb36eefbe6f9>:2: softmax_cross_entropy_with_logits (from tensorflow.python.ops.nn_ops) is deprecated and will be removed in a future version.\n",
      "Instructions for updating:\n",
      "\n",
      "Future major versions of TensorFlow will allow gradients to flow\n",
      "into the labels input on backprop by default.\n",
      "\n",
      "See `tf.nn.softmax_cross_entropy_with_logits_v2`.\n",
      "\n"
     ]
    }
   ],
   "source": [
    "y = multilayer_perceptron(x, weights, biases)\n",
    "cost_function = tf.reduce_mean(tf.nn.softmax_cross_entropy_with_logits(logits=y, labels=y_))\n",
    "training_step = tf.train.GradientDescentOptimizer(learning_rate).minimize(cost_function)"
   ]
  },
  {
   "cell_type": "code",
   "execution_count": 28,
   "metadata": {},
   "outputs": [],
   "source": [
    "sess = tf.Session()\n",
    "sess.run(init)\n",
    "mse_history = []\n",
    "accuracy_history =[]"
   ]
  },
  {
   "cell_type": "code",
   "execution_count": 29,
   "metadata": {},
   "outputs": [
    {
     "name": "stdout",
     "output_type": "stream",
     "text": [
      "epoch :  0  -  cost:  5.3364015  - MSE:  71.58629454583404 - Accuracy:  Tensor(\"Mean_1:0\", shape=(), dtype=float32)\n",
      "epoch :  1  -  cost:  4.555332  - MSE:  66.4668387455968 - Accuracy:  Tensor(\"Mean_3:0\", shape=(), dtype=float32)\n",
      "epoch :  2  -  cost:  4.1636796  - MSE:  65.20104753904454 - Accuracy:  Tensor(\"Mean_5:0\", shape=(), dtype=float32)\n",
      "epoch :  3  -  cost:  3.8324356  - MSE:  64.0196620130671 - Accuracy:  Tensor(\"Mean_7:0\", shape=(), dtype=float32)\n",
      "epoch :  4  -  cost:  3.5380204  - MSE:  62.7064912433319 - Accuracy:  Tensor(\"Mean_9:0\", shape=(), dtype=float32)\n",
      "epoch :  5  -  cost:  3.2804465  - MSE:  61.6223620231292 - Accuracy:  Tensor(\"Mean_11:0\", shape=(), dtype=float32)\n",
      "epoch :  6  -  cost:  3.0519552  - MSE:  60.74082326239649 - Accuracy:  Tensor(\"Mean_13:0\", shape=(), dtype=float32)\n",
      "epoch :  7  -  cost:  2.8573647  - MSE:  60.02796344207023 - Accuracy:  Tensor(\"Mean_15:0\", shape=(), dtype=float32)\n",
      "epoch :  8  -  cost:  2.683595  - MSE:  59.48490554619343 - Accuracy:  Tensor(\"Mean_17:0\", shape=(), dtype=float32)\n",
      "epoch :  9  -  cost:  2.5268245  - MSE:  59.01318995035605 - Accuracy:  Tensor(\"Mean_19:0\", shape=(), dtype=float32)\n",
      "epoch :  10  -  cost:  2.38684  - MSE:  58.68126845775961 - Accuracy:  Tensor(\"Mean_21:0\", shape=(), dtype=float32)\n",
      "epoch :  11  -  cost:  2.257553  - MSE:  58.423233809743635 - Accuracy:  Tensor(\"Mean_23:0\", shape=(), dtype=float32)\n",
      "epoch :  12  -  cost:  2.1438322  - MSE:  58.243447472915335 - Accuracy:  Tensor(\"Mean_25:0\", shape=(), dtype=float32)\n",
      "epoch :  13  -  cost:  2.0393753  - MSE:  58.13128377261242 - Accuracy:  Tensor(\"Mean_27:0\", shape=(), dtype=float32)\n",
      "epoch :  14  -  cost:  1.9332929  - MSE:  58.109172882006305 - Accuracy:  Tensor(\"Mean_29:0\", shape=(), dtype=float32)\n",
      "epoch :  15  -  cost:  1.8388448  - MSE:  58.222073427015076 - Accuracy:  Tensor(\"Mean_31:0\", shape=(), dtype=float32)\n",
      "epoch :  16  -  cost:  1.7560018  - MSE:  58.3452508235619 - Accuracy:  Tensor(\"Mean_33:0\", shape=(), dtype=float32)\n",
      "epoch :  17  -  cost:  1.6802416  - MSE:  58.50499112415175 - Accuracy:  Tensor(\"Mean_35:0\", shape=(), dtype=float32)\n",
      "epoch :  18  -  cost:  1.6111803  - MSE:  58.68790618744331 - Accuracy:  Tensor(\"Mean_37:0\", shape=(), dtype=float32)\n",
      "epoch :  19  -  cost:  1.547382  - MSE:  58.87273277735623 - Accuracy:  Tensor(\"Mean_39:0\", shape=(), dtype=float32)\n",
      "epoch :  20  -  cost:  1.4883413  - MSE:  59.03534062594597 - Accuracy:  Tensor(\"Mean_41:0\", shape=(), dtype=float32)\n",
      "epoch :  21  -  cost:  1.434304  - MSE:  59.16668663578613 - Accuracy:  Tensor(\"Mean_43:0\", shape=(), dtype=float32)\n",
      "epoch :  22  -  cost:  1.3860981  - MSE:  59.28419362597556 - Accuracy:  Tensor(\"Mean_45:0\", shape=(), dtype=float32)\n",
      "epoch :  23  -  cost:  1.3403996  - MSE:  59.39453728213667 - Accuracy:  Tensor(\"Mean_47:0\", shape=(), dtype=float32)\n",
      "epoch :  24  -  cost:  1.2963907  - MSE:  59.48920117595166 - Accuracy:  Tensor(\"Mean_49:0\", shape=(), dtype=float32)\n",
      "epoch :  25  -  cost:  1.2558613  - MSE:  59.57982942840038 - Accuracy:  Tensor(\"Mean_51:0\", shape=(), dtype=float32)\n",
      "epoch :  26  -  cost:  1.2177147  - MSE:  59.663423071195254 - Accuracy:  Tensor(\"Mean_53:0\", shape=(), dtype=float32)\n",
      "epoch :  27  -  cost:  1.1831381  - MSE:  59.75370711582151 - Accuracy:  Tensor(\"Mean_55:0\", shape=(), dtype=float32)\n",
      "epoch :  28  -  cost:  1.1508799  - MSE:  59.8535797485591 - Accuracy:  Tensor(\"Mean_57:0\", shape=(), dtype=float32)\n",
      "epoch :  29  -  cost:  1.1198663  - MSE:  59.97473284118723 - Accuracy:  Tensor(\"Mean_59:0\", shape=(), dtype=float32)\n",
      "epoch :  30  -  cost:  1.0902323  - MSE:  60.103700108498806 - Accuracy:  Tensor(\"Mean_61:0\", shape=(), dtype=float32)\n",
      "epoch :  31  -  cost:  1.0622792  - MSE:  60.17336365587089 - Accuracy:  Tensor(\"Mean_63:0\", shape=(), dtype=float32)\n",
      "epoch :  32  -  cost:  1.0355613  - MSE:  60.21559913551833 - Accuracy:  Tensor(\"Mean_65:0\", shape=(), dtype=float32)\n",
      "epoch :  33  -  cost:  1.009717  - MSE:  60.29279684668783 - Accuracy:  Tensor(\"Mean_67:0\", shape=(), dtype=float32)\n",
      "epoch :  34  -  cost:  0.9853933  - MSE:  60.35129960409389 - Accuracy:  Tensor(\"Mean_69:0\", shape=(), dtype=float32)\n",
      "epoch :  35  -  cost:  0.96224034  - MSE:  60.411740296325064 - Accuracy:  Tensor(\"Mean_71:0\", shape=(), dtype=float32)\n",
      "epoch :  36  -  cost:  0.94025  - MSE:  60.40619850291203 - Accuracy:  Tensor(\"Mean_73:0\", shape=(), dtype=float32)\n",
      "epoch :  37  -  cost:  0.91921055  - MSE:  60.445075792342514 - Accuracy:  Tensor(\"Mean_75:0\", shape=(), dtype=float32)\n",
      "epoch :  38  -  cost:  0.89910305  - MSE:  60.428430816101084 - Accuracy:  Tensor(\"Mean_77:0\", shape=(), dtype=float32)\n",
      "epoch :  39  -  cost:  0.8798203  - MSE:  60.51454515516194 - Accuracy:  Tensor(\"Mean_79:0\", shape=(), dtype=float32)\n",
      "epoch :  40  -  cost:  0.8612674  - MSE:  60.50292774101386 - Accuracy:  Tensor(\"Mean_81:0\", shape=(), dtype=float32)\n",
      "epoch :  41  -  cost:  0.84352  - MSE:  60.5678437684466 - Accuracy:  Tensor(\"Mean_83:0\", shape=(), dtype=float32)\n",
      "epoch :  42  -  cost:  0.826351  - MSE:  60.56082756970512 - Accuracy:  Tensor(\"Mean_85:0\", shape=(), dtype=float32)\n",
      "epoch :  43  -  cost:  0.8097908  - MSE:  60.59698957806208 - Accuracy:  Tensor(\"Mean_87:0\", shape=(), dtype=float32)\n",
      "epoch :  44  -  cost:  0.79376274  - MSE:  60.62725758104874 - Accuracy:  Tensor(\"Mean_89:0\", shape=(), dtype=float32)\n",
      "epoch :  45  -  cost:  0.7782025  - MSE:  60.61197949041507 - Accuracy:  Tensor(\"Mean_91:0\", shape=(), dtype=float32)\n",
      "epoch :  46  -  cost:  0.7632884  - MSE:  60.6984194551022 - Accuracy:  Tensor(\"Mean_93:0\", shape=(), dtype=float32)\n",
      "epoch :  47  -  cost:  0.748897  - MSE:  60.639537773651284 - Accuracy:  Tensor(\"Mean_95:0\", shape=(), dtype=float32)\n",
      "epoch :  48  -  cost:  0.73439157  - MSE:  60.74596367683448 - Accuracy:  Tensor(\"Mean_97:0\", shape=(), dtype=float32)\n",
      "epoch :  49  -  cost:  0.72052497  - MSE:  60.72812120161356 - Accuracy:  Tensor(\"Mean_99:0\", shape=(), dtype=float32)\n",
      "epoch :  50  -  cost:  0.707133  - MSE:  60.80570953569858 - Accuracy:  Tensor(\"Mean_101:0\", shape=(), dtype=float32)\n",
      "epoch :  51  -  cost:  0.694225  - MSE:  60.8214273024667 - Accuracy:  Tensor(\"Mean_103:0\", shape=(), dtype=float32)\n",
      "epoch :  52  -  cost:  0.68184817  - MSE:  60.82508650543281 - Accuracy:  Tensor(\"Mean_105:0\", shape=(), dtype=float32)\n",
      "epoch :  53  -  cost:  0.66989803  - MSE:  60.91319546394264 - Accuracy:  Tensor(\"Mean_107:0\", shape=(), dtype=float32)\n",
      "epoch :  54  -  cost:  0.65837055  - MSE:  60.93007101286393 - Accuracy:  Tensor(\"Mean_109:0\", shape=(), dtype=float32)\n",
      "epoch :  55  -  cost:  0.64725393  - MSE:  60.97538347528892 - Accuracy:  Tensor(\"Mean_111:0\", shape=(), dtype=float32)\n",
      "epoch :  56  -  cost:  0.636496  - MSE:  61.01699509780244 - Accuracy:  Tensor(\"Mean_113:0\", shape=(), dtype=float32)\n",
      "epoch :  57  -  cost:  0.626129  - MSE:  60.994909489797465 - Accuracy:  Tensor(\"Mean_115:0\", shape=(), dtype=float32)\n",
      "epoch :  58  -  cost:  0.6160728  - MSE:  61.052932055366576 - Accuracy:  Tensor(\"Mean_117:0\", shape=(), dtype=float32)\n",
      "epoch :  59  -  cost:  0.6062533  - MSE:  60.98984622384962 - Accuracy:  Tensor(\"Mean_119:0\", shape=(), dtype=float32)\n",
      "epoch :  60  -  cost:  0.596681  - MSE:  61.02496264972473 - Accuracy:  Tensor(\"Mean_121:0\", shape=(), dtype=float32)\n",
      "epoch :  61  -  cost:  0.5875242  - MSE:  61.02962099862742 - Accuracy:  Tensor(\"Mean_123:0\", shape=(), dtype=float32)\n",
      "epoch :  62  -  cost:  0.5788396  - MSE:  61.00920867111953 - Accuracy:  Tensor(\"Mean_125:0\", shape=(), dtype=float32)\n",
      "epoch :  63  -  cost:  0.57047814  - MSE:  61.02553594589019 - Accuracy:  Tensor(\"Mean_127:0\", shape=(), dtype=float32)\n",
      "epoch :  64  -  cost:  0.5623216  - MSE:  61.01853648828594 - Accuracy:  Tensor(\"Mean_129:0\", shape=(), dtype=float32)\n",
      "epoch :  65  -  cost:  0.55445766  - MSE:  61.04132632271043 - Accuracy:  Tensor(\"Mean_131:0\", shape=(), dtype=float32)\n",
      "epoch :  66  -  cost:  0.54683244  - MSE:  61.023368098395764 - Accuracy:  Tensor(\"Mean_133:0\", shape=(), dtype=float32)\n",
      "epoch :  67  -  cost:  0.5394406  - MSE:  61.02535796955255 - Accuracy:  Tensor(\"Mean_135:0\", shape=(), dtype=float32)\n",
      "epoch :  68  -  cost:  0.53233707  - MSE:  61.02075854465461 - Accuracy:  Tensor(\"Mean_137:0\", shape=(), dtype=float32)\n",
      "epoch :  69  -  cost:  0.525457  - MSE:  60.9977822369951 - Accuracy:  Tensor(\"Mean_139:0\", shape=(), dtype=float32)\n",
      "epoch :  70  -  cost:  0.5187115  - MSE:  61.00905404378151 - Accuracy:  Tensor(\"Mean_141:0\", shape=(), dtype=float32)\n"
     ]
    },
    {
     "name": "stdout",
     "output_type": "stream",
     "text": [
      "epoch :  71  -  cost:  0.51220423  - MSE:  61.02382109581537 - Accuracy:  Tensor(\"Mean_143:0\", shape=(), dtype=float32)\n",
      "epoch :  72  -  cost:  0.5058404  - MSE:  60.975831304618836 - Accuracy:  Tensor(\"Mean_145:0\", shape=(), dtype=float32)\n",
      "epoch :  73  -  cost:  0.49963975  - MSE:  60.99170600271112 - Accuracy:  Tensor(\"Mean_147:0\", shape=(), dtype=float32)\n",
      "epoch :  74  -  cost:  0.49363995  - MSE:  60.95166265685735 - Accuracy:  Tensor(\"Mean_149:0\", shape=(), dtype=float32)\n",
      "epoch :  75  -  cost:  0.4877368  - MSE:  60.98059401949844 - Accuracy:  Tensor(\"Mean_151:0\", shape=(), dtype=float32)\n",
      "epoch :  76  -  cost:  0.4819952  - MSE:  60.9687558880125 - Accuracy:  Tensor(\"Mean_153:0\", shape=(), dtype=float32)\n",
      "epoch :  77  -  cost:  0.4764161  - MSE:  60.9612643615215 - Accuracy:  Tensor(\"Mean_155:0\", shape=(), dtype=float32)\n",
      "epoch :  78  -  cost:  0.47102425  - MSE:  60.91442028234343 - Accuracy:  Tensor(\"Mean_157:0\", shape=(), dtype=float32)\n",
      "epoch :  79  -  cost:  0.46586844  - MSE:  60.921988299533005 - Accuracy:  Tensor(\"Mean_159:0\", shape=(), dtype=float32)\n",
      "epoch :  80  -  cost:  0.46082264  - MSE:  60.867523744808445 - Accuracy:  Tensor(\"Mean_161:0\", shape=(), dtype=float32)\n",
      "epoch :  81  -  cost:  0.45588633  - MSE:  60.87484259788679 - Accuracy:  Tensor(\"Mean_163:0\", shape=(), dtype=float32)\n",
      "epoch :  82  -  cost:  0.45105046  - MSE:  60.81311185164387 - Accuracy:  Tensor(\"Mean_165:0\", shape=(), dtype=float32)\n",
      "epoch :  83  -  cost:  0.44633532  - MSE:  60.80743031669724 - Accuracy:  Tensor(\"Mean_167:0\", shape=(), dtype=float32)\n",
      "epoch :  84  -  cost:  0.44172528  - MSE:  60.74399255835895 - Accuracy:  Tensor(\"Mean_169:0\", shape=(), dtype=float32)\n",
      "epoch :  85  -  cost:  0.43721882  - MSE:  60.757867051638904 - Accuracy:  Tensor(\"Mean_171:0\", shape=(), dtype=float32)\n",
      "epoch :  86  -  cost:  0.43278  - MSE:  60.698162825055135 - Accuracy:  Tensor(\"Mean_173:0\", shape=(), dtype=float32)\n",
      "epoch :  87  -  cost:  0.428434  - MSE:  60.710204627610786 - Accuracy:  Tensor(\"Mean_175:0\", shape=(), dtype=float32)\n",
      "epoch :  88  -  cost:  0.42412946  - MSE:  60.64449351894346 - Accuracy:  Tensor(\"Mean_177:0\", shape=(), dtype=float32)\n",
      "epoch :  89  -  cost:  0.41988978  - MSE:  60.667402792895395 - Accuracy:  Tensor(\"Mean_179:0\", shape=(), dtype=float32)\n",
      "epoch :  90  -  cost:  0.4157492  - MSE:  60.61367067346474 - Accuracy:  Tensor(\"Mean_181:0\", shape=(), dtype=float32)\n",
      "epoch :  91  -  cost:  0.41167486  - MSE:  60.64665566083996 - Accuracy:  Tensor(\"Mean_183:0\", shape=(), dtype=float32)\n",
      "epoch :  92  -  cost:  0.40770233  - MSE:  60.56901516084982 - Accuracy:  Tensor(\"Mean_185:0\", shape=(), dtype=float32)\n",
      "epoch :  93  -  cost:  0.4037386  - MSE:  60.6001849881936 - Accuracy:  Tensor(\"Mean_187:0\", shape=(), dtype=float32)\n",
      "epoch :  94  -  cost:  0.3998876  - MSE:  60.57219000620377 - Accuracy:  Tensor(\"Mean_189:0\", shape=(), dtype=float32)\n",
      "epoch :  95  -  cost:  0.3961128  - MSE:  60.57351430874234 - Accuracy:  Tensor(\"Mean_191:0\", shape=(), dtype=float32)\n",
      "epoch :  96  -  cost:  0.39240825  - MSE:  60.525578128803076 - Accuracy:  Tensor(\"Mean_193:0\", shape=(), dtype=float32)\n",
      "epoch :  97  -  cost:  0.38869444  - MSE:  60.546672862406226 - Accuracy:  Tensor(\"Mean_195:0\", shape=(), dtype=float32)\n",
      "epoch :  98  -  cost:  0.38511246  - MSE:  60.4839578495499 - Accuracy:  Tensor(\"Mean_197:0\", shape=(), dtype=float32)\n",
      "epoch :  99  -  cost:  0.38158205  - MSE:  60.495345020074495 - Accuracy:  Tensor(\"Mean_199:0\", shape=(), dtype=float32)\n",
      "epoch :  100  -  cost:  0.37809518  - MSE:  60.46158960957511 - Accuracy:  Tensor(\"Mean_201:0\", shape=(), dtype=float32)\n",
      "epoch :  101  -  cost:  0.37465683  - MSE:  60.47925987010848 - Accuracy:  Tensor(\"Mean_203:0\", shape=(), dtype=float32)\n",
      "epoch :  102  -  cost:  0.37132758  - MSE:  60.41603625390799 - Accuracy:  Tensor(\"Mean_205:0\", shape=(), dtype=float32)\n",
      "epoch :  103  -  cost:  0.36794192  - MSE:  60.44797946164255 - Accuracy:  Tensor(\"Mean_207:0\", shape=(), dtype=float32)\n",
      "epoch :  104  -  cost:  0.36465928  - MSE:  60.417309838473344 - Accuracy:  Tensor(\"Mean_209:0\", shape=(), dtype=float32)\n",
      "epoch :  105  -  cost:  0.36141643  - MSE:  60.397725942069286 - Accuracy:  Tensor(\"Mean_211:0\", shape=(), dtype=float32)\n",
      "epoch :  106  -  cost:  0.35820016  - MSE:  60.39998700240806 - Accuracy:  Tensor(\"Mean_213:0\", shape=(), dtype=float32)\n",
      "epoch :  107  -  cost:  0.35507053  - MSE:  60.37699692047298 - Accuracy:  Tensor(\"Mean_215:0\", shape=(), dtype=float32)\n",
      "epoch :  108  -  cost:  0.35198867  - MSE:  60.37048955913079 - Accuracy:  Tensor(\"Mean_217:0\", shape=(), dtype=float32)\n",
      "epoch :  109  -  cost:  0.34893423  - MSE:  60.39232861563948 - Accuracy:  Tensor(\"Mean_219:0\", shape=(), dtype=float32)\n",
      "epoch :  110  -  cost:  0.34594515  - MSE:  60.33710473560032 - Accuracy:  Tensor(\"Mean_221:0\", shape=(), dtype=float32)\n",
      "epoch :  111  -  cost:  0.34302032  - MSE:  60.37103036144232 - Accuracy:  Tensor(\"Mean_223:0\", shape=(), dtype=float32)\n",
      "epoch :  112  -  cost:  0.3401066  - MSE:  60.32252765395445 - Accuracy:  Tensor(\"Mean_225:0\", shape=(), dtype=float32)\n",
      "epoch :  113  -  cost:  0.33722067  - MSE:  60.31272152054527 - Accuracy:  Tensor(\"Mean_227:0\", shape=(), dtype=float32)\n",
      "epoch :  114  -  cost:  0.3344106  - MSE:  60.31016272815177 - Accuracy:  Tensor(\"Mean_229:0\", shape=(), dtype=float32)\n",
      "epoch :  115  -  cost:  0.3315987  - MSE:  60.28598209957367 - Accuracy:  Tensor(\"Mean_231:0\", shape=(), dtype=float32)\n",
      "epoch :  116  -  cost:  0.32885364  - MSE:  60.28987860747737 - Accuracy:  Tensor(\"Mean_233:0\", shape=(), dtype=float32)\n",
      "epoch :  117  -  cost:  0.3261184  - MSE:  60.25220971038985 - Accuracy:  Tensor(\"Mean_235:0\", shape=(), dtype=float32)\n",
      "epoch :  118  -  cost:  0.32349157  - MSE:  60.27474021911807 - Accuracy:  Tensor(\"Mean_237:0\", shape=(), dtype=float32)\n",
      "epoch :  119  -  cost:  0.32080665  - MSE:  60.24549910095074 - Accuracy:  Tensor(\"Mean_239:0\", shape=(), dtype=float32)\n",
      "epoch :  120  -  cost:  0.31823328  - MSE:  60.221515003547125 - Accuracy:  Tensor(\"Mean_241:0\", shape=(), dtype=float32)\n",
      "epoch :  121  -  cost:  0.31568706  - MSE:  60.2316758383862 - Accuracy:  Tensor(\"Mean_243:0\", shape=(), dtype=float32)\n",
      "epoch :  122  -  cost:  0.31319535  - MSE:  60.217468142389286 - Accuracy:  Tensor(\"Mean_245:0\", shape=(), dtype=float32)\n",
      "epoch :  123  -  cost:  0.31070766  - MSE:  60.22806340811239 - Accuracy:  Tensor(\"Mean_247:0\", shape=(), dtype=float32)\n",
      "epoch :  124  -  cost:  0.30826843  - MSE:  60.20832507004633 - Accuracy:  Tensor(\"Mean_249:0\", shape=(), dtype=float32)\n",
      "epoch :  125  -  cost:  0.30585584  - MSE:  60.21291097434086 - Accuracy:  Tensor(\"Mean_251:0\", shape=(), dtype=float32)\n",
      "epoch :  126  -  cost:  0.30345026  - MSE:  60.19376525210193 - Accuracy:  Tensor(\"Mean_253:0\", shape=(), dtype=float32)\n",
      "epoch :  127  -  cost:  0.30111566  - MSE:  60.22263606252778 - Accuracy:  Tensor(\"Mean_255:0\", shape=(), dtype=float32)\n",
      "epoch :  128  -  cost:  0.29877046  - MSE:  60.202089042813654 - Accuracy:  Tensor(\"Mean_257:0\", shape=(), dtype=float32)\n",
      "epoch :  129  -  cost:  0.29650658  - MSE:  60.19688892992898 - Accuracy:  Tensor(\"Mean_259:0\", shape=(), dtype=float32)\n",
      "epoch :  130  -  cost:  0.29422233  - MSE:  60.20833174351256 - Accuracy:  Tensor(\"Mean_261:0\", shape=(), dtype=float32)\n",
      "epoch :  131  -  cost:  0.29196295  - MSE:  60.189579486560376 - Accuracy:  Tensor(\"Mean_263:0\", shape=(), dtype=float32)\n",
      "epoch :  132  -  cost:  0.28974286  - MSE:  60.17829255443129 - Accuracy:  Tensor(\"Mean_265:0\", shape=(), dtype=float32)\n",
      "epoch :  133  -  cost:  0.28753063  - MSE:  60.193546456303615 - Accuracy:  Tensor(\"Mean_267:0\", shape=(), dtype=float32)\n",
      "epoch :  134  -  cost:  0.285391  - MSE:  60.17798915117315 - Accuracy:  Tensor(\"Mean_269:0\", shape=(), dtype=float32)\n",
      "epoch :  135  -  cost:  0.28323087  - MSE:  60.20891498939501 - Accuracy:  Tensor(\"Mean_271:0\", shape=(), dtype=float32)\n",
      "epoch :  136  -  cost:  0.28110728  - MSE:  60.18245154844668 - Accuracy:  Tensor(\"Mean_273:0\", shape=(), dtype=float32)\n",
      "epoch :  137  -  cost:  0.27903712  - MSE:  60.18653644618563 - Accuracy:  Tensor(\"Mean_275:0\", shape=(), dtype=float32)\n",
      "epoch :  138  -  cost:  0.27691376  - MSE:  60.18879920981972 - Accuracy:  Tensor(\"Mean_277:0\", shape=(), dtype=float32)\n",
      "epoch :  139  -  cost:  0.27485383  - MSE:  60.18240883033116 - Accuracy:  Tensor(\"Mean_279:0\", shape=(), dtype=float32)\n"
     ]
    },
    {
     "name": "stdout",
     "output_type": "stream",
     "text": [
      "epoch :  140  -  cost:  0.2728237  - MSE:  60.20122044104555 - Accuracy:  Tensor(\"Mean_281:0\", shape=(), dtype=float32)\n",
      "epoch :  141  -  cost:  0.27079582  - MSE:  60.195255011024386 - Accuracy:  Tensor(\"Mean_283:0\", shape=(), dtype=float32)\n",
      "epoch :  142  -  cost:  0.2688379  - MSE:  60.18789919569723 - Accuracy:  Tensor(\"Mean_285:0\", shape=(), dtype=float32)\n",
      "epoch :  143  -  cost:  0.26685125  - MSE:  60.20420457008971 - Accuracy:  Tensor(\"Mean_287:0\", shape=(), dtype=float32)\n",
      "epoch :  144  -  cost:  0.26488614  - MSE:  60.199416321182525 - Accuracy:  Tensor(\"Mean_289:0\", shape=(), dtype=float32)\n",
      "epoch :  145  -  cost:  0.2629835  - MSE:  60.214338382673546 - Accuracy:  Tensor(\"Mean_291:0\", shape=(), dtype=float32)\n",
      "epoch :  146  -  cost:  0.2610569  - MSE:  60.21503373097641 - Accuracy:  Tensor(\"Mean_293:0\", shape=(), dtype=float32)\n",
      "epoch :  147  -  cost:  0.2591796  - MSE:  60.21574264505247 - Accuracy:  Tensor(\"Mean_295:0\", shape=(), dtype=float32)\n",
      "epoch :  148  -  cost:  0.25734186  - MSE:  60.2487859949742 - Accuracy:  Tensor(\"Mean_297:0\", shape=(), dtype=float32)\n",
      "epoch :  149  -  cost:  0.25550374  - MSE:  60.21813060026904 - Accuracy:  Tensor(\"Mean_299:0\", shape=(), dtype=float32)\n",
      "epoch :  150  -  cost:  0.25369692  - MSE:  60.25063098605158 - Accuracy:  Tensor(\"Mean_301:0\", shape=(), dtype=float32)\n",
      "epoch :  151  -  cost:  0.25186786  - MSE:  60.22742596795905 - Accuracy:  Tensor(\"Mean_303:0\", shape=(), dtype=float32)\n",
      "epoch :  152  -  cost:  0.25009274  - MSE:  60.22914509511282 - Accuracy:  Tensor(\"Mean_305:0\", shape=(), dtype=float32)\n",
      "epoch :  153  -  cost:  0.24834321  - MSE:  60.23954391264752 - Accuracy:  Tensor(\"Mean_307:0\", shape=(), dtype=float32)\n",
      "epoch :  154  -  cost:  0.24661507  - MSE:  60.22036847784462 - Accuracy:  Tensor(\"Mean_309:0\", shape=(), dtype=float32)\n",
      "epoch :  155  -  cost:  0.24492384  - MSE:  60.251091465503386 - Accuracy:  Tensor(\"Mean_311:0\", shape=(), dtype=float32)\n",
      "epoch :  156  -  cost:  0.24323654  - MSE:  60.21570555896198 - Accuracy:  Tensor(\"Mean_313:0\", shape=(), dtype=float32)\n",
      "epoch :  157  -  cost:  0.2416029  - MSE:  60.225408237447105 - Accuracy:  Tensor(\"Mean_315:0\", shape=(), dtype=float32)\n",
      "epoch :  158  -  cost:  0.23998685  - MSE:  60.23421610327401 - Accuracy:  Tensor(\"Mean_317:0\", shape=(), dtype=float32)\n",
      "epoch :  159  -  cost:  0.23838422  - MSE:  60.22644164924658 - Accuracy:  Tensor(\"Mean_319:0\", shape=(), dtype=float32)\n",
      "epoch :  160  -  cost:  0.23680185  - MSE:  60.25307444346465 - Accuracy:  Tensor(\"Mean_321:0\", shape=(), dtype=float32)\n",
      "epoch :  161  -  cost:  0.23520066  - MSE:  60.24605103975258 - Accuracy:  Tensor(\"Mean_323:0\", shape=(), dtype=float32)\n",
      "epoch :  162  -  cost:  0.23364078  - MSE:  60.24314339540037 - Accuracy:  Tensor(\"Mean_325:0\", shape=(), dtype=float32)\n",
      "epoch :  163  -  cost:  0.23211746  - MSE:  60.25618406035163 - Accuracy:  Tensor(\"Mean_327:0\", shape=(), dtype=float32)\n",
      "epoch :  164  -  cost:  0.23056595  - MSE:  60.25929300399288 - Accuracy:  Tensor(\"Mean_329:0\", shape=(), dtype=float32)\n",
      "epoch :  165  -  cost:  0.22906063  - MSE:  60.28607643919257 - Accuracy:  Tensor(\"Mean_331:0\", shape=(), dtype=float32)\n",
      "epoch :  166  -  cost:  0.22756259  - MSE:  60.25743622137283 - Accuracy:  Tensor(\"Mean_333:0\", shape=(), dtype=float32)\n",
      "epoch :  167  -  cost:  0.2260839  - MSE:  60.31025961143606 - Accuracy:  Tensor(\"Mean_335:0\", shape=(), dtype=float32)\n",
      "epoch :  168  -  cost:  0.22458786  - MSE:  60.29735701022894 - Accuracy:  Tensor(\"Mean_337:0\", shape=(), dtype=float32)\n",
      "epoch :  169  -  cost:  0.2231244  - MSE:  60.28959784670097 - Accuracy:  Tensor(\"Mean_339:0\", shape=(), dtype=float32)\n",
      "epoch :  170  -  cost:  0.22168995  - MSE:  60.314239714366295 - Accuracy:  Tensor(\"Mean_341:0\", shape=(), dtype=float32)\n",
      "epoch :  171  -  cost:  0.22025613  - MSE:  60.31343577333347 - Accuracy:  Tensor(\"Mean_343:0\", shape=(), dtype=float32)\n",
      "epoch :  172  -  cost:  0.2188564  - MSE:  60.331982575137815 - Accuracy:  Tensor(\"Mean_345:0\", shape=(), dtype=float32)\n",
      "epoch :  173  -  cost:  0.21744186  - MSE:  60.33696070607049 - Accuracy:  Tensor(\"Mean_347:0\", shape=(), dtype=float32)\n",
      "epoch :  174  -  cost:  0.21606824  - MSE:  60.33450574605393 - Accuracy:  Tensor(\"Mean_349:0\", shape=(), dtype=float32)\n",
      "epoch :  175  -  cost:  0.2146917  - MSE:  60.36308617563267 - Accuracy:  Tensor(\"Mean_351:0\", shape=(), dtype=float32)\n",
      "epoch :  176  -  cost:  0.2132625  - MSE:  60.364408840762714 - Accuracy:  Tensor(\"Mean_353:0\", shape=(), dtype=float32)\n",
      "epoch :  177  -  cost:  0.21185252  - MSE:  60.38608767004424 - Accuracy:  Tensor(\"Mean_355:0\", shape=(), dtype=float32)\n",
      "epoch :  178  -  cost:  0.21046677  - MSE:  60.39864072031208 - Accuracy:  Tensor(\"Mean_357:0\", shape=(), dtype=float32)\n",
      "epoch :  179  -  cost:  0.20908536  - MSE:  60.40688878944044 - Accuracy:  Tensor(\"Mean_359:0\", shape=(), dtype=float32)\n",
      "epoch :  180  -  cost:  0.20771983  - MSE:  60.42457990708014 - Accuracy:  Tensor(\"Mean_361:0\", shape=(), dtype=float32)\n",
      "epoch :  181  -  cost:  0.20637529  - MSE:  60.425071943210575 - Accuracy:  Tensor(\"Mean_363:0\", shape=(), dtype=float32)\n",
      "epoch :  182  -  cost:  0.20503238  - MSE:  60.44593143104676 - Accuracy:  Tensor(\"Mean_365:0\", shape=(), dtype=float32)\n",
      "epoch :  183  -  cost:  0.20371523  - MSE:  60.4610845051697 - Accuracy:  Tensor(\"Mean_367:0\", shape=(), dtype=float32)\n",
      "epoch :  184  -  cost:  0.2024059  - MSE:  60.460032526942186 - Accuracy:  Tensor(\"Mean_369:0\", shape=(), dtype=float32)\n",
      "epoch :  185  -  cost:  0.20111457  - MSE:  60.48041167033842 - Accuracy:  Tensor(\"Mean_371:0\", shape=(), dtype=float32)\n",
      "epoch :  186  -  cost:  0.19984008  - MSE:  60.48471640122517 - Accuracy:  Tensor(\"Mean_373:0\", shape=(), dtype=float32)\n",
      "epoch :  187  -  cost:  0.19858602  - MSE:  60.49733461512067 - Accuracy:  Tensor(\"Mean_375:0\", shape=(), dtype=float32)\n",
      "epoch :  188  -  cost:  0.19732405  - MSE:  60.51266905714364 - Accuracy:  Tensor(\"Mean_377:0\", shape=(), dtype=float32)\n",
      "epoch :  189  -  cost:  0.1960873  - MSE:  60.52613977247231 - Accuracy:  Tensor(\"Mean_379:0\", shape=(), dtype=float32)\n",
      "epoch :  190  -  cost:  0.1948554  - MSE:  60.52362532837702 - Accuracy:  Tensor(\"Mean_381:0\", shape=(), dtype=float32)\n",
      "epoch :  191  -  cost:  0.19363818  - MSE:  60.548863239680315 - Accuracy:  Tensor(\"Mean_383:0\", shape=(), dtype=float32)\n",
      "epoch :  192  -  cost:  0.19244601  - MSE:  60.545971557303616 - Accuracy:  Tensor(\"Mean_385:0\", shape=(), dtype=float32)\n",
      "epoch :  193  -  cost:  0.1912545  - MSE:  60.54098186968812 - Accuracy:  Tensor(\"Mean_387:0\", shape=(), dtype=float32)\n",
      "epoch :  194  -  cost:  0.1900779  - MSE:  60.57567546384661 - Accuracy:  Tensor(\"Mean_389:0\", shape=(), dtype=float32)\n",
      "epoch :  195  -  cost:  0.18891543  - MSE:  60.59235019224242 - Accuracy:  Tensor(\"Mean_391:0\", shape=(), dtype=float32)\n",
      "epoch :  196  -  cost:  0.18776314  - MSE:  60.568297873362596 - Accuracy:  Tensor(\"Mean_393:0\", shape=(), dtype=float32)\n",
      "epoch :  197  -  cost:  0.18661427  - MSE:  60.58411368583054 - Accuracy:  Tensor(\"Mean_395:0\", shape=(), dtype=float32)\n",
      "epoch :  198  -  cost:  0.18547894  - MSE:  60.595607470382795 - Accuracy:  Tensor(\"Mean_397:0\", shape=(), dtype=float32)\n",
      "epoch :  199  -  cost:  0.18437558  - MSE:  60.61580384484056 - Accuracy:  Tensor(\"Mean_399:0\", shape=(), dtype=float32)\n",
      "epoch :  200  -  cost:  0.18325572  - MSE:  60.60890192569344 - Accuracy:  Tensor(\"Mean_401:0\", shape=(), dtype=float32)\n",
      "epoch :  201  -  cost:  0.18215886  - MSE:  60.6272590773587 - Accuracy:  Tensor(\"Mean_403:0\", shape=(), dtype=float32)\n",
      "epoch :  202  -  cost:  0.18107949  - MSE:  60.622717375989474 - Accuracy:  Tensor(\"Mean_405:0\", shape=(), dtype=float32)\n",
      "epoch :  203  -  cost:  0.18001296  - MSE:  60.66541117623826 - Accuracy:  Tensor(\"Mean_407:0\", shape=(), dtype=float32)\n",
      "epoch :  204  -  cost:  0.17893964  - MSE:  60.646836330267966 - Accuracy:  Tensor(\"Mean_409:0\", shape=(), dtype=float32)\n",
      "epoch :  205  -  cost:  0.17788614  - MSE:  60.674542852933826 - Accuracy:  Tensor(\"Mean_411:0\", shape=(), dtype=float32)\n",
      "epoch :  206  -  cost:  0.17683513  - MSE:  60.681335012256326 - Accuracy:  Tensor(\"Mean_413:0\", shape=(), dtype=float32)\n",
      "epoch :  207  -  cost:  0.1758048  - MSE:  60.700359805329754 - Accuracy:  Tensor(\"Mean_415:0\", shape=(), dtype=float32)\n"
     ]
    },
    {
     "name": "stdout",
     "output_type": "stream",
     "text": [
      "epoch :  208  -  cost:  0.17480537  - MSE:  60.74056205457902 - Accuracy:  Tensor(\"Mean_417:0\", shape=(), dtype=float32)\n",
      "epoch :  209  -  cost:  0.17377749  - MSE:  60.721042745562556 - Accuracy:  Tensor(\"Mean_419:0\", shape=(), dtype=float32)\n",
      "epoch :  210  -  cost:  0.17276882  - MSE:  60.74579759366344 - Accuracy:  Tensor(\"Mean_421:0\", shape=(), dtype=float32)\n",
      "epoch :  211  -  cost:  0.17180106  - MSE:  60.733156847519574 - Accuracy:  Tensor(\"Mean_423:0\", shape=(), dtype=float32)\n",
      "epoch :  212  -  cost:  0.17083673  - MSE:  60.76811525533065 - Accuracy:  Tensor(\"Mean_425:0\", shape=(), dtype=float32)\n",
      "epoch :  213  -  cost:  0.16987917  - MSE:  60.71876131285777 - Accuracy:  Tensor(\"Mean_427:0\", shape=(), dtype=float32)\n",
      "epoch :  214  -  cost:  0.1689199  - MSE:  60.76736554000837 - Accuracy:  Tensor(\"Mean_429:0\", shape=(), dtype=float32)\n",
      "epoch :  215  -  cost:  0.1679721  - MSE:  60.75027568037926 - Accuracy:  Tensor(\"Mean_431:0\", shape=(), dtype=float32)\n",
      "epoch :  216  -  cost:  0.16703762  - MSE:  60.77243093242654 - Accuracy:  Tensor(\"Mean_433:0\", shape=(), dtype=float32)\n",
      "epoch :  217  -  cost:  0.16610587  - MSE:  60.75223440521026 - Accuracy:  Tensor(\"Mean_435:0\", shape=(), dtype=float32)\n",
      "epoch :  218  -  cost:  0.16520026  - MSE:  60.74886909666711 - Accuracy:  Tensor(\"Mean_437:0\", shape=(), dtype=float32)\n",
      "epoch :  219  -  cost:  0.16429643  - MSE:  60.78209823986128 - Accuracy:  Tensor(\"Mean_439:0\", shape=(), dtype=float32)\n",
      "epoch :  220  -  cost:  0.16338876  - MSE:  60.77418141950726 - Accuracy:  Tensor(\"Mean_441:0\", shape=(), dtype=float32)\n",
      "epoch :  221  -  cost:  0.16250814  - MSE:  60.79848135993858 - Accuracy:  Tensor(\"Mean_443:0\", shape=(), dtype=float32)\n",
      "epoch :  222  -  cost:  0.16161773  - MSE:  60.77794821409543 - Accuracy:  Tensor(\"Mean_445:0\", shape=(), dtype=float32)\n",
      "epoch :  223  -  cost:  0.16074932  - MSE:  60.79434391955825 - Accuracy:  Tensor(\"Mean_447:0\", shape=(), dtype=float32)\n",
      "epoch :  224  -  cost:  0.1598856  - MSE:  60.78907332769721 - Accuracy:  Tensor(\"Mean_449:0\", shape=(), dtype=float32)\n",
      "epoch :  225  -  cost:  0.1590258  - MSE:  60.80689112436428 - Accuracy:  Tensor(\"Mean_451:0\", shape=(), dtype=float32)\n",
      "epoch :  226  -  cost:  0.15817201  - MSE:  60.7934756429824 - Accuracy:  Tensor(\"Mean_453:0\", shape=(), dtype=float32)\n",
      "epoch :  227  -  cost:  0.1573432  - MSE:  60.78673512197873 - Accuracy:  Tensor(\"Mean_455:0\", shape=(), dtype=float32)\n",
      "epoch :  228  -  cost:  0.15651442  - MSE:  60.835557179646436 - Accuracy:  Tensor(\"Mean_457:0\", shape=(), dtype=float32)\n",
      "epoch :  229  -  cost:  0.15567973  - MSE:  60.82340360631305 - Accuracy:  Tensor(\"Mean_459:0\", shape=(), dtype=float32)\n",
      "epoch :  230  -  cost:  0.15485683  - MSE:  60.82021940104232 - Accuracy:  Tensor(\"Mean_461:0\", shape=(), dtype=float32)\n",
      "epoch :  231  -  cost:  0.15406485  - MSE:  60.80669705173911 - Accuracy:  Tensor(\"Mean_463:0\", shape=(), dtype=float32)\n",
      "epoch :  232  -  cost:  0.15325807  - MSE:  60.8472385858502 - Accuracy:  Tensor(\"Mean_465:0\", shape=(), dtype=float32)\n",
      "epoch :  233  -  cost:  0.15245946  - MSE:  60.842059446287585 - Accuracy:  Tensor(\"Mean_467:0\", shape=(), dtype=float32)\n",
      "epoch :  234  -  cost:  0.15166745  - MSE:  60.84623546591222 - Accuracy:  Tensor(\"Mean_469:0\", shape=(), dtype=float32)\n",
      "epoch :  235  -  cost:  0.15090671  - MSE:  60.88298451380257 - Accuracy:  Tensor(\"Mean_471:0\", shape=(), dtype=float32)\n",
      "epoch :  236  -  cost:  0.15011898  - MSE:  60.848097387530785 - Accuracy:  Tensor(\"Mean_473:0\", shape=(), dtype=float32)\n",
      "epoch :  237  -  cost:  0.14935397  - MSE:  60.87417582087943 - Accuracy:  Tensor(\"Mean_475:0\", shape=(), dtype=float32)\n",
      "epoch :  238  -  cost:  0.14859563  - MSE:  60.867792367502034 - Accuracy:  Tensor(\"Mean_477:0\", shape=(), dtype=float32)\n",
      "epoch :  239  -  cost:  0.1478423  - MSE:  60.89093839028171 - Accuracy:  Tensor(\"Mean_479:0\", shape=(), dtype=float32)\n",
      "epoch :  240  -  cost:  0.1470996  - MSE:  60.888114509966584 - Accuracy:  Tensor(\"Mean_481:0\", shape=(), dtype=float32)\n",
      "epoch :  241  -  cost:  0.14636295  - MSE:  60.89884034391347 - Accuracy:  Tensor(\"Mean_483:0\", shape=(), dtype=float32)\n",
      "epoch :  242  -  cost:  0.14562646  - MSE:  60.892601293899546 - Accuracy:  Tensor(\"Mean_485:0\", shape=(), dtype=float32)\n",
      "epoch :  243  -  cost:  0.14490026  - MSE:  60.91235489470006 - Accuracy:  Tensor(\"Mean_487:0\", shape=(), dtype=float32)\n",
      "epoch :  244  -  cost:  0.14417963  - MSE:  60.90732217165621 - Accuracy:  Tensor(\"Mean_489:0\", shape=(), dtype=float32)\n",
      "epoch :  245  -  cost:  0.14346975  - MSE:  60.91588082260317 - Accuracy:  Tensor(\"Mean_491:0\", shape=(), dtype=float32)\n",
      "epoch :  246  -  cost:  0.14276095  - MSE:  60.91857588557765 - Accuracy:  Tensor(\"Mean_493:0\", shape=(), dtype=float32)\n",
      "epoch :  247  -  cost:  0.14205913  - MSE:  60.93389147402197 - Accuracy:  Tensor(\"Mean_495:0\", shape=(), dtype=float32)\n",
      "epoch :  248  -  cost:  0.14137134  - MSE:  60.92446450149925 - Accuracy:  Tensor(\"Mean_497:0\", shape=(), dtype=float32)\n",
      "epoch :  249  -  cost:  0.14067814  - MSE:  60.94064201055601 - Accuracy:  Tensor(\"Mean_499:0\", shape=(), dtype=float32)\n",
      "epoch :  250  -  cost:  0.13998868  - MSE:  60.93241205410592 - Accuracy:  Tensor(\"Mean_501:0\", shape=(), dtype=float32)\n",
      "epoch :  251  -  cost:  0.13932109  - MSE:  60.92890184221477 - Accuracy:  Tensor(\"Mean_503:0\", shape=(), dtype=float32)\n",
      "epoch :  252  -  cost:  0.13866034  - MSE:  60.96777238888723 - Accuracy:  Tensor(\"Mean_505:0\", shape=(), dtype=float32)\n",
      "epoch :  253  -  cost:  0.13798335  - MSE:  60.96394278243152 - Accuracy:  Tensor(\"Mean_507:0\", shape=(), dtype=float32)\n",
      "epoch :  254  -  cost:  0.13732299  - MSE:  60.95895942217743 - Accuracy:  Tensor(\"Mean_509:0\", shape=(), dtype=float32)\n",
      "epoch :  255  -  cost:  0.13667572  - MSE:  60.976876116616225 - Accuracy:  Tensor(\"Mean_511:0\", shape=(), dtype=float32)\n",
      "epoch :  256  -  cost:  0.13602863  - MSE:  60.972666761870556 - Accuracy:  Tensor(\"Mean_513:0\", shape=(), dtype=float32)\n",
      "epoch :  257  -  cost:  0.13538635  - MSE:  60.992995222086414 - Accuracy:  Tensor(\"Mean_515:0\", shape=(), dtype=float32)\n",
      "epoch :  258  -  cost:  0.1347624  - MSE:  60.986804290406326 - Accuracy:  Tensor(\"Mean_517:0\", shape=(), dtype=float32)\n",
      "epoch :  259  -  cost:  0.13412875  - MSE:  61.012680085991406 - Accuracy:  Tensor(\"Mean_519:0\", shape=(), dtype=float32)\n",
      "epoch :  260  -  cost:  0.13350542  - MSE:  61.00845057554534 - Accuracy:  Tensor(\"Mean_521:0\", shape=(), dtype=float32)\n",
      "epoch :  261  -  cost:  0.13289511  - MSE:  61.04429726913275 - Accuracy:  Tensor(\"Mean_523:0\", shape=(), dtype=float32)\n",
      "epoch :  262  -  cost:  0.13227372  - MSE:  61.040368789964035 - Accuracy:  Tensor(\"Mean_525:0\", shape=(), dtype=float32)\n",
      "epoch :  263  -  cost:  0.1316605  - MSE:  61.029559452157216 - Accuracy:  Tensor(\"Mean_527:0\", shape=(), dtype=float32)\n",
      "epoch :  264  -  cost:  0.13106813  - MSE:  61.04901059325458 - Accuracy:  Tensor(\"Mean_529:0\", shape=(), dtype=float32)\n",
      "epoch :  265  -  cost:  0.13046496  - MSE:  61.05187733169983 - Accuracy:  Tensor(\"Mean_531:0\", shape=(), dtype=float32)\n",
      "epoch :  266  -  cost:  0.12986706  - MSE:  61.07312902581128 - Accuracy:  Tensor(\"Mean_533:0\", shape=(), dtype=float32)\n",
      "epoch :  267  -  cost:  0.12928307  - MSE:  61.082858843252964 - Accuracy:  Tensor(\"Mean_535:0\", shape=(), dtype=float32)\n",
      "epoch :  268  -  cost:  0.1286905  - MSE:  61.08151467691587 - Accuracy:  Tensor(\"Mean_537:0\", shape=(), dtype=float32)\n",
      "epoch :  269  -  cost:  0.12811047  - MSE:  61.07607296940027 - Accuracy:  Tensor(\"Mean_539:0\", shape=(), dtype=float32)\n",
      "epoch :  270  -  cost:  0.12754793  - MSE:  61.11005392605192 - Accuracy:  Tensor(\"Mean_541:0\", shape=(), dtype=float32)\n",
      "epoch :  271  -  cost:  0.12696701  - MSE:  61.09801566982682 - Accuracy:  Tensor(\"Mean_543:0\", shape=(), dtype=float32)\n",
      "epoch :  272  -  cost:  0.12638827  - MSE:  61.10687572538324 - Accuracy:  Tensor(\"Mean_545:0\", shape=(), dtype=float32)\n",
      "epoch :  273  -  cost:  0.12581684  - MSE:  61.125507978376206 - Accuracy:  Tensor(\"Mean_547:0\", shape=(), dtype=float32)\n",
      "epoch :  274  -  cost:  0.12525654  - MSE:  61.12040885298314 - Accuracy:  Tensor(\"Mean_549:0\", shape=(), dtype=float32)\n",
      "epoch :  275  -  cost:  0.124691784  - MSE:  61.131118897483454 - Accuracy:  Tensor(\"Mean_551:0\", shape=(), dtype=float32)\n"
     ]
    },
    {
     "name": "stdout",
     "output_type": "stream",
     "text": [
      "epoch :  276  -  cost:  0.12412987  - MSE:  61.12787157233885 - Accuracy:  Tensor(\"Mean_553:0\", shape=(), dtype=float32)\n",
      "epoch :  277  -  cost:  0.123591356  - MSE:  61.13417278583219 - Accuracy:  Tensor(\"Mean_555:0\", shape=(), dtype=float32)\n",
      "epoch :  278  -  cost:  0.12303691  - MSE:  61.165999610400746 - Accuracy:  Tensor(\"Mean_557:0\", shape=(), dtype=float32)\n",
      "epoch :  279  -  cost:  0.122484274  - MSE:  61.16234828516004 - Accuracy:  Tensor(\"Mean_559:0\", shape=(), dtype=float32)\n",
      "epoch :  280  -  cost:  0.12194663  - MSE:  61.16209061929224 - Accuracy:  Tensor(\"Mean_561:0\", shape=(), dtype=float32)\n",
      "epoch :  281  -  cost:  0.121406905  - MSE:  61.17442496441082 - Accuracy:  Tensor(\"Mean_563:0\", shape=(), dtype=float32)\n",
      "epoch :  282  -  cost:  0.12087579  - MSE:  61.17712174274743 - Accuracy:  Tensor(\"Mean_565:0\", shape=(), dtype=float32)\n",
      "epoch :  283  -  cost:  0.12035446  - MSE:  61.19614973618276 - Accuracy:  Tensor(\"Mean_567:0\", shape=(), dtype=float32)\n",
      "epoch :  284  -  cost:  0.11983232  - MSE:  61.21104576491542 - Accuracy:  Tensor(\"Mean_569:0\", shape=(), dtype=float32)\n",
      "epoch :  285  -  cost:  0.119311176  - MSE:  61.196810784576805 - Accuracy:  Tensor(\"Mean_571:0\", shape=(), dtype=float32)\n",
      "epoch :  286  -  cost:  0.118790515  - MSE:  61.2346987465277 - Accuracy:  Tensor(\"Mean_573:0\", shape=(), dtype=float32)\n",
      "epoch :  287  -  cost:  0.11826964  - MSE:  61.228395163668395 - Accuracy:  Tensor(\"Mean_575:0\", shape=(), dtype=float32)\n",
      "epoch :  288  -  cost:  0.1177723  - MSE:  61.234176195659245 - Accuracy:  Tensor(\"Mean_577:0\", shape=(), dtype=float32)\n",
      "epoch :  289  -  cost:  0.11725865  - MSE:  61.249135167825585 - Accuracy:  Tensor(\"Mean_579:0\", shape=(), dtype=float32)\n",
      "epoch :  290  -  cost:  0.11675252  - MSE:  61.25159312564955 - Accuracy:  Tensor(\"Mean_581:0\", shape=(), dtype=float32)\n",
      "epoch :  291  -  cost:  0.11626526  - MSE:  61.27938731223844 - Accuracy:  Tensor(\"Mean_583:0\", shape=(), dtype=float32)\n",
      "epoch :  292  -  cost:  0.115761  - MSE:  61.26283729809965 - Accuracy:  Tensor(\"Mean_585:0\", shape=(), dtype=float32)\n",
      "epoch :  293  -  cost:  0.115274936  - MSE:  61.27651627931506 - Accuracy:  Tensor(\"Mean_587:0\", shape=(), dtype=float32)\n",
      "epoch :  294  -  cost:  0.11478051  - MSE:  61.2853685388525 - Accuracy:  Tensor(\"Mean_589:0\", shape=(), dtype=float32)\n",
      "epoch :  295  -  cost:  0.1142968  - MSE:  61.304486336281364 - Accuracy:  Tensor(\"Mean_591:0\", shape=(), dtype=float32)\n",
      "epoch :  296  -  cost:  0.11381642  - MSE:  61.31476668268804 - Accuracy:  Tensor(\"Mean_593:0\", shape=(), dtype=float32)\n",
      "epoch :  297  -  cost:  0.113331296  - MSE:  61.315617230332094 - Accuracy:  Tensor(\"Mean_595:0\", shape=(), dtype=float32)\n",
      "epoch :  298  -  cost:  0.11285958  - MSE:  61.31692645026116 - Accuracy:  Tensor(\"Mean_597:0\", shape=(), dtype=float32)\n",
      "epoch :  299  -  cost:  0.11238994  - MSE:  61.342027079476075 - Accuracy:  Tensor(\"Mean_599:0\", shape=(), dtype=float32)\n",
      "epoch :  300  -  cost:  0.11191916  - MSE:  61.36032486768805 - Accuracy:  Tensor(\"Mean_601:0\", shape=(), dtype=float32)\n",
      "epoch :  301  -  cost:  0.11145896  - MSE:  61.34583428587218 - Accuracy:  Tensor(\"Mean_603:0\", shape=(), dtype=float32)\n",
      "epoch :  302  -  cost:  0.11099079  - MSE:  61.361380014483316 - Accuracy:  Tensor(\"Mean_605:0\", shape=(), dtype=float32)\n",
      "epoch :  303  -  cost:  0.11052958  - MSE:  61.3608505213863 - Accuracy:  Tensor(\"Mean_607:0\", shape=(), dtype=float32)\n",
      "epoch :  304  -  cost:  0.11008009  - MSE:  61.37658092668012 - Accuracy:  Tensor(\"Mean_609:0\", shape=(), dtype=float32)\n",
      "epoch :  305  -  cost:  0.109624445  - MSE:  61.378613372550866 - Accuracy:  Tensor(\"Mean_611:0\", shape=(), dtype=float32)\n",
      "epoch :  306  -  cost:  0.10917845  - MSE:  61.4091526251599 - Accuracy:  Tensor(\"Mean_613:0\", shape=(), dtype=float32)\n",
      "epoch :  307  -  cost:  0.10872239  - MSE:  61.406466191038035 - Accuracy:  Tensor(\"Mean_615:0\", shape=(), dtype=float32)\n",
      "epoch :  308  -  cost:  0.10827773  - MSE:  61.40799724753775 - Accuracy:  Tensor(\"Mean_617:0\", shape=(), dtype=float32)\n",
      "epoch :  309  -  cost:  0.10783837  - MSE:  61.42243450030274 - Accuracy:  Tensor(\"Mean_619:0\", shape=(), dtype=float32)\n",
      "epoch :  310  -  cost:  0.10740087  - MSE:  61.42629612142351 - Accuracy:  Tensor(\"Mean_621:0\", shape=(), dtype=float32)\n",
      "epoch :  311  -  cost:  0.10697032  - MSE:  61.4589075655893 - Accuracy:  Tensor(\"Mean_623:0\", shape=(), dtype=float32)\n",
      "epoch :  312  -  cost:  0.10653366  - MSE:  61.446371994798504 - Accuracy:  Tensor(\"Mean_625:0\", shape=(), dtype=float32)\n",
      "epoch :  313  -  cost:  0.10609882  - MSE:  61.45883237017388 - Accuracy:  Tensor(\"Mean_627:0\", shape=(), dtype=float32)\n",
      "epoch :  314  -  cost:  0.10567166  - MSE:  61.462634185567126 - Accuracy:  Tensor(\"Mean_629:0\", shape=(), dtype=float32)\n",
      "epoch :  315  -  cost:  0.10525284  - MSE:  61.50060074128877 - Accuracy:  Tensor(\"Mean_631:0\", shape=(), dtype=float32)\n",
      "epoch :  316  -  cost:  0.10482323  - MSE:  61.49284628732126 - Accuracy:  Tensor(\"Mean_633:0\", shape=(), dtype=float32)\n",
      "epoch :  317  -  cost:  0.104409665  - MSE:  61.49103481888172 - Accuracy:  Tensor(\"Mean_635:0\", shape=(), dtype=float32)\n",
      "epoch :  318  -  cost:  0.103986025  - MSE:  61.50873283472629 - Accuracy:  Tensor(\"Mean_637:0\", shape=(), dtype=float32)\n",
      "epoch :  319  -  cost:  0.103573374  - MSE:  61.510634614869225 - Accuracy:  Tensor(\"Mean_639:0\", shape=(), dtype=float32)\n",
      "epoch :  320  -  cost:  0.103164844  - MSE:  61.53339338207005 - Accuracy:  Tensor(\"Mean_641:0\", shape=(), dtype=float32)\n",
      "epoch :  321  -  cost:  0.10275488  - MSE:  61.53445278011765 - Accuracy:  Tensor(\"Mean_643:0\", shape=(), dtype=float32)\n",
      "epoch :  322  -  cost:  0.10235281  - MSE:  61.56400461638178 - Accuracy:  Tensor(\"Mean_645:0\", shape=(), dtype=float32)\n",
      "epoch :  323  -  cost:  0.101940505  - MSE:  61.56420748364489 - Accuracy:  Tensor(\"Mean_647:0\", shape=(), dtype=float32)\n",
      "epoch :  324  -  cost:  0.10154441  - MSE:  61.56518451208285 - Accuracy:  Tensor(\"Mean_649:0\", shape=(), dtype=float32)\n",
      "epoch :  325  -  cost:  0.1011433  - MSE:  61.586540627907404 - Accuracy:  Tensor(\"Mean_651:0\", shape=(), dtype=float32)\n",
      "epoch :  326  -  cost:  0.10074695  - MSE:  61.589008619848464 - Accuracy:  Tensor(\"Mean_653:0\", shape=(), dtype=float32)\n",
      "epoch :  327  -  cost:  0.10035217  - MSE:  61.604289507063925 - Accuracy:  Tensor(\"Mean_655:0\", shape=(), dtype=float32)\n",
      "epoch :  328  -  cost:  0.09995717  - MSE:  61.6045627785655 - Accuracy:  Tensor(\"Mean_657:0\", shape=(), dtype=float32)\n",
      "epoch :  329  -  cost:  0.09957831  - MSE:  61.633592389632135 - Accuracy:  Tensor(\"Mean_659:0\", shape=(), dtype=float32)\n",
      "epoch :  330  -  cost:  0.09918423  - MSE:  61.6393123395433 - Accuracy:  Tensor(\"Mean_661:0\", shape=(), dtype=float32)\n",
      "epoch :  331  -  cost:  0.09880472  - MSE:  61.639693034121734 - Accuracy:  Tensor(\"Mean_663:0\", shape=(), dtype=float32)\n",
      "epoch :  332  -  cost:  0.09841781  - MSE:  61.65415069359867 - Accuracy:  Tensor(\"Mean_665:0\", shape=(), dtype=float32)\n",
      "epoch :  333  -  cost:  0.098038815  - MSE:  61.65813438987227 - Accuracy:  Tensor(\"Mean_667:0\", shape=(), dtype=float32)\n",
      "epoch :  334  -  cost:  0.097662054  - MSE:  61.66751196887775 - Accuracy:  Tensor(\"Mean_669:0\", shape=(), dtype=float32)\n",
      "epoch :  335  -  cost:  0.09728817  - MSE:  61.676858081117516 - Accuracy:  Tensor(\"Mean_671:0\", shape=(), dtype=float32)\n",
      "epoch :  336  -  cost:  0.09691904  - MSE:  61.708574252174294 - Accuracy:  Tensor(\"Mean_673:0\", shape=(), dtype=float32)\n",
      "epoch :  337  -  cost:  0.09654596  - MSE:  61.69423364748255 - Accuracy:  Tensor(\"Mean_675:0\", shape=(), dtype=float32)\n",
      "epoch :  338  -  cost:  0.09616825  - MSE:  61.70708475462716 - Accuracy:  Tensor(\"Mean_677:0\", shape=(), dtype=float32)\n",
      "epoch :  339  -  cost:  0.09580644  - MSE:  61.70695047458209 - Accuracy:  Tensor(\"Mean_679:0\", shape=(), dtype=float32)\n",
      "epoch :  340  -  cost:  0.09544118  - MSE:  61.72435030043979 - Accuracy:  Tensor(\"Mean_681:0\", shape=(), dtype=float32)\n",
      "epoch :  341  -  cost:  0.09508209  - MSE:  61.73169478493752 - Accuracy:  Tensor(\"Mean_683:0\", shape=(), dtype=float32)\n",
      "epoch :  342  -  cost:  0.09471946  - MSE:  61.75811507695347 - Accuracy:  Tensor(\"Mean_685:0\", shape=(), dtype=float32)\n",
      "epoch :  343  -  cost:  0.09435613  - MSE:  61.75481631238094 - Accuracy:  Tensor(\"Mean_687:0\", shape=(), dtype=float32)\n"
     ]
    },
    {
     "name": "stdout",
     "output_type": "stream",
     "text": [
      "epoch :  344  -  cost:  0.09400518  - MSE:  61.76692288229242 - Accuracy:  Tensor(\"Mean_689:0\", shape=(), dtype=float32)\n",
      "epoch :  345  -  cost:  0.093646705  - MSE:  61.77378915041779 - Accuracy:  Tensor(\"Mean_691:0\", shape=(), dtype=float32)\n",
      "epoch :  346  -  cost:  0.09329904  - MSE:  61.78698212396237 - Accuracy:  Tensor(\"Mean_693:0\", shape=(), dtype=float32)\n",
      "epoch :  347  -  cost:  0.092940286  - MSE:  61.783491422294205 - Accuracy:  Tensor(\"Mean_695:0\", shape=(), dtype=float32)\n",
      "epoch :  348  -  cost:  0.09259773  - MSE:  61.80331327632493 - Accuracy:  Tensor(\"Mean_697:0\", shape=(), dtype=float32)\n",
      "epoch :  349  -  cost:  0.09225119  - MSE:  61.80488968121148 - Accuracy:  Tensor(\"Mean_699:0\", shape=(), dtype=float32)\n",
      "epoch :  350  -  cost:  0.09190605  - MSE:  61.80978980411943 - Accuracy:  Tensor(\"Mean_701:0\", shape=(), dtype=float32)\n",
      "epoch :  351  -  cost:  0.091562316  - MSE:  61.820945254276424 - Accuracy:  Tensor(\"Mean_703:0\", shape=(), dtype=float32)\n",
      "epoch :  352  -  cost:  0.09122719  - MSE:  61.815764286990735 - Accuracy:  Tensor(\"Mean_705:0\", shape=(), dtype=float32)\n",
      "epoch :  353  -  cost:  0.09088018  - MSE:  61.8459804142051 - Accuracy:  Tensor(\"Mean_707:0\", shape=(), dtype=float32)\n",
      "epoch :  354  -  cost:  0.090549916  - MSE:  61.84737531670254 - Accuracy:  Tensor(\"Mean_709:0\", shape=(), dtype=float32)\n",
      "epoch :  355  -  cost:  0.090206884  - MSE:  61.86210340748368 - Accuracy:  Tensor(\"Mean_711:0\", shape=(), dtype=float32)\n",
      "epoch :  356  -  cost:  0.089876704  - MSE:  61.86224436958008 - Accuracy:  Tensor(\"Mean_713:0\", shape=(), dtype=float32)\n",
      "epoch :  357  -  cost:  0.0895407  - MSE:  61.872402977647155 - Accuracy:  Tensor(\"Mean_715:0\", shape=(), dtype=float32)\n",
      "epoch :  358  -  cost:  0.08921277  - MSE:  61.87242133372295 - Accuracy:  Tensor(\"Mean_717:0\", shape=(), dtype=float32)\n",
      "epoch :  359  -  cost:  0.08888367  - MSE:  61.894446198618695 - Accuracy:  Tensor(\"Mean_719:0\", shape=(), dtype=float32)\n",
      "epoch :  360  -  cost:  0.088559985  - MSE:  61.89440306441139 - Accuracy:  Tensor(\"Mean_721:0\", shape=(), dtype=float32)\n",
      "epoch :  361  -  cost:  0.08823731  - MSE:  61.918294998867886 - Accuracy:  Tensor(\"Mean_723:0\", shape=(), dtype=float32)\n",
      "epoch :  362  -  cost:  0.087914504  - MSE:  61.90849686161573 - Accuracy:  Tensor(\"Mean_725:0\", shape=(), dtype=float32)\n",
      "epoch :  363  -  cost:  0.08758704  - MSE:  61.92057721317412 - Accuracy:  Tensor(\"Mean_727:0\", shape=(), dtype=float32)\n",
      "epoch :  364  -  cost:  0.08727689  - MSE:  61.92543947853041 - Accuracy:  Tensor(\"Mean_729:0\", shape=(), dtype=float32)\n",
      "epoch :  365  -  cost:  0.08695021  - MSE:  61.95059741010967 - Accuracy:  Tensor(\"Mean_731:0\", shape=(), dtype=float32)\n",
      "epoch :  366  -  cost:  0.08663718  - MSE:  61.94727166210654 - Accuracy:  Tensor(\"Mean_733:0\", shape=(), dtype=float32)\n",
      "epoch :  367  -  cost:  0.0863204  - MSE:  61.95911463190102 - Accuracy:  Tensor(\"Mean_735:0\", shape=(), dtype=float32)\n",
      "epoch :  368  -  cost:  0.08601346  - MSE:  61.96714005782007 - Accuracy:  Tensor(\"Mean_737:0\", shape=(), dtype=float32)\n",
      "epoch :  369  -  cost:  0.08569741  - MSE:  61.982584744434675 - Accuracy:  Tensor(\"Mean_739:0\", shape=(), dtype=float32)\n",
      "epoch :  370  -  cost:  0.08539085  - MSE:  61.98403158793278 - Accuracy:  Tensor(\"Mean_741:0\", shape=(), dtype=float32)\n",
      "epoch :  371  -  cost:  0.08508193  - MSE:  61.994218011634544 - Accuracy:  Tensor(\"Mean_743:0\", shape=(), dtype=float32)\n",
      "epoch :  372  -  cost:  0.08479212  - MSE:  61.993168892312625 - Accuracy:  Tensor(\"Mean_745:0\", shape=(), dtype=float32)\n",
      "epoch :  373  -  cost:  0.08447149  - MSE:  62.02151570041398 - Accuracy:  Tensor(\"Mean_747:0\", shape=(), dtype=float32)\n",
      "epoch :  374  -  cost:  0.0841756  - MSE:  62.03052121977659 - Accuracy:  Tensor(\"Mean_749:0\", shape=(), dtype=float32)\n",
      "epoch :  375  -  cost:  0.08386651  - MSE:  62.03126582068411 - Accuracy:  Tensor(\"Mean_751:0\", shape=(), dtype=float32)\n",
      "epoch :  376  -  cost:  0.08357695  - MSE:  62.0280602544196 - Accuracy:  Tensor(\"Mean_753:0\", shape=(), dtype=float32)\n",
      "epoch :  377  -  cost:  0.08327414  - MSE:  62.063374322237784 - Accuracy:  Tensor(\"Mean_755:0\", shape=(), dtype=float32)\n",
      "epoch :  378  -  cost:  0.08298209  - MSE:  62.063156535769416 - Accuracy:  Tensor(\"Mean_757:0\", shape=(), dtype=float32)\n",
      "epoch :  379  -  cost:  0.08268314  - MSE:  62.07251338300414 - Accuracy:  Tensor(\"Mean_759:0\", shape=(), dtype=float32)\n",
      "epoch :  380  -  cost:  0.08239882  - MSE:  62.063513146288585 - Accuracy:  Tensor(\"Mean_761:0\", shape=(), dtype=float32)\n",
      "epoch :  381  -  cost:  0.082102224  - MSE:  62.0848423500303 - Accuracy:  Tensor(\"Mean_763:0\", shape=(), dtype=float32)\n",
      "epoch :  382  -  cost:  0.08181386  - MSE:  62.10935204114493 - Accuracy:  Tensor(\"Mean_765:0\", shape=(), dtype=float32)\n",
      "epoch :  383  -  cost:  0.081521556  - MSE:  62.11222787913715 - Accuracy:  Tensor(\"Mean_767:0\", shape=(), dtype=float32)\n",
      "epoch :  384  -  cost:  0.081238255  - MSE:  62.12168681865411 - Accuracy:  Tensor(\"Mean_769:0\", shape=(), dtype=float32)\n",
      "epoch :  385  -  cost:  0.0809583  - MSE:  62.11582420532215 - Accuracy:  Tensor(\"Mean_771:0\", shape=(), dtype=float32)\n",
      "epoch :  386  -  cost:  0.08066821  - MSE:  62.14168283576345 - Accuracy:  Tensor(\"Mean_773:0\", shape=(), dtype=float32)\n",
      "epoch :  387  -  cost:  0.080391206  - MSE:  62.14241174605792 - Accuracy:  Tensor(\"Mean_775:0\", shape=(), dtype=float32)\n",
      "epoch :  388  -  cost:  0.080105044  - MSE:  62.151775120912006 - Accuracy:  Tensor(\"Mean_777:0\", shape=(), dtype=float32)\n",
      "epoch :  389  -  cost:  0.07983627  - MSE:  62.15731469119445 - Accuracy:  Tensor(\"Mean_779:0\", shape=(), dtype=float32)\n",
      "epoch :  390  -  cost:  0.07955168  - MSE:  62.17130975192898 - Accuracy:  Tensor(\"Mean_781:0\", shape=(), dtype=float32)\n",
      "epoch :  391  -  cost:  0.07928089  - MSE:  62.17324646765207 - Accuracy:  Tensor(\"Mean_783:0\", shape=(), dtype=float32)\n",
      "epoch :  392  -  cost:  0.07900121  - MSE:  62.184671832588776 - Accuracy:  Tensor(\"Mean_785:0\", shape=(), dtype=float32)\n",
      "epoch :  393  -  cost:  0.07873384  - MSE:  62.18388022660768 - Accuracy:  Tensor(\"Mean_787:0\", shape=(), dtype=float32)\n",
      "epoch :  394  -  cost:  0.0784594  - MSE:  62.203112869829454 - Accuracy:  Tensor(\"Mean_789:0\", shape=(), dtype=float32)\n",
      "epoch :  395  -  cost:  0.078194335  - MSE:  62.20258828093704 - Accuracy:  Tensor(\"Mean_791:0\", shape=(), dtype=float32)\n",
      "epoch :  396  -  cost:  0.07792468  - MSE:  62.22680140876706 - Accuracy:  Tensor(\"Mean_793:0\", shape=(), dtype=float32)\n",
      "epoch :  397  -  cost:  0.07766259  - MSE:  62.21475866300401 - Accuracy:  Tensor(\"Mean_795:0\", shape=(), dtype=float32)\n",
      "epoch :  398  -  cost:  0.07739221  - MSE:  62.232681803078194 - Accuracy:  Tensor(\"Mean_797:0\", shape=(), dtype=float32)\n",
      "epoch :  399  -  cost:  0.07712662  - MSE:  62.243487646922596 - Accuracy:  Tensor(\"Mean_799:0\", shape=(), dtype=float32)\n",
      "epoch :  400  -  cost:  0.07686393  - MSE:  62.24622128579666 - Accuracy:  Tensor(\"Mean_801:0\", shape=(), dtype=float32)\n",
      "epoch :  401  -  cost:  0.07660746  - MSE:  62.2711089340969 - Accuracy:  Tensor(\"Mean_803:0\", shape=(), dtype=float32)\n",
      "epoch :  402  -  cost:  0.07635197  - MSE:  62.26419146793434 - Accuracy:  Tensor(\"Mean_805:0\", shape=(), dtype=float32)\n",
      "epoch :  403  -  cost:  0.076083444  - MSE:  62.27312029475215 - Accuracy:  Tensor(\"Mean_807:0\", shape=(), dtype=float32)\n",
      "epoch :  404  -  cost:  0.07582913  - MSE:  62.28663007686803 - Accuracy:  Tensor(\"Mean_809:0\", shape=(), dtype=float32)\n",
      "epoch :  405  -  cost:  0.0755697  - MSE:  62.28947332081368 - Accuracy:  Tensor(\"Mean_811:0\", shape=(), dtype=float32)\n",
      "epoch :  406  -  cost:  0.075318106  - MSE:  62.30449330757466 - Accuracy:  Tensor(\"Mean_813:0\", shape=(), dtype=float32)\n",
      "epoch :  407  -  cost:  0.075052835  - MSE:  62.316416710488866 - Accuracy:  Tensor(\"Mean_815:0\", shape=(), dtype=float32)\n",
      "epoch :  408  -  cost:  0.07479618  - MSE:  62.345291299620115 - Accuracy:  Tensor(\"Mean_817:0\", shape=(), dtype=float32)\n",
      "epoch :  409  -  cost:  0.07453555  - MSE:  62.34281937955651 - Accuracy:  Tensor(\"Mean_819:0\", shape=(), dtype=float32)\n",
      "epoch :  410  -  cost:  0.07427323  - MSE:  62.36091843638899 - Accuracy:  Tensor(\"Mean_821:0\", shape=(), dtype=float32)\n",
      "epoch :  411  -  cost:  0.074025325  - MSE:  62.36906267406063 - Accuracy:  Tensor(\"Mean_823:0\", shape=(), dtype=float32)\n"
     ]
    },
    {
     "name": "stdout",
     "output_type": "stream",
     "text": [
      "epoch :  412  -  cost:  0.073761456  - MSE:  62.38549679468891 - Accuracy:  Tensor(\"Mean_825:0\", shape=(), dtype=float32)\n",
      "epoch :  413  -  cost:  0.07351232  - MSE:  62.403329602758234 - Accuracy:  Tensor(\"Mean_827:0\", shape=(), dtype=float32)\n",
      "epoch :  414  -  cost:  0.07325676  - MSE:  62.4116752442695 - Accuracy:  Tensor(\"Mean_829:0\", shape=(), dtype=float32)\n",
      "epoch :  415  -  cost:  0.07301647  - MSE:  62.433954251160664 - Accuracy:  Tensor(\"Mean_831:0\", shape=(), dtype=float32)\n",
      "epoch :  416  -  cost:  0.07275857  - MSE:  62.440171468087655 - Accuracy:  Tensor(\"Mean_833:0\", shape=(), dtype=float32)\n",
      "epoch :  417  -  cost:  0.07251766  - MSE:  62.44901946332601 - Accuracy:  Tensor(\"Mean_835:0\", shape=(), dtype=float32)\n",
      "epoch :  418  -  cost:  0.07226977  - MSE:  62.45596334595924 - Accuracy:  Tensor(\"Mean_837:0\", shape=(), dtype=float32)\n",
      "epoch :  419  -  cost:  0.07201649  - MSE:  62.48112252456717 - Accuracy:  Tensor(\"Mean_839:0\", shape=(), dtype=float32)\n",
      "epoch :  420  -  cost:  0.07177416  - MSE:  62.4906131053803 - Accuracy:  Tensor(\"Mean_841:0\", shape=(), dtype=float32)\n",
      "epoch :  421  -  cost:  0.07152258  - MSE:  62.50408343902319 - Accuracy:  Tensor(\"Mean_843:0\", shape=(), dtype=float32)\n",
      "epoch :  422  -  cost:  0.071286485  - MSE:  62.52801025022785 - Accuracy:  Tensor(\"Mean_845:0\", shape=(), dtype=float32)\n",
      "epoch :  423  -  cost:  0.07103712  - MSE:  62.529409049794594 - Accuracy:  Tensor(\"Mean_847:0\", shape=(), dtype=float32)\n",
      "epoch :  424  -  cost:  0.0708019  - MSE:  62.5506937567795 - Accuracy:  Tensor(\"Mean_849:0\", shape=(), dtype=float32)\n",
      "epoch :  425  -  cost:  0.070564725  - MSE:  62.54828770584423 - Accuracy:  Tensor(\"Mean_851:0\", shape=(), dtype=float32)\n",
      "epoch :  426  -  cost:  0.07032816  - MSE:  62.56582471956991 - Accuracy:  Tensor(\"Mean_853:0\", shape=(), dtype=float32)\n",
      "epoch :  427  -  cost:  0.07008844  - MSE:  62.58416813634 - Accuracy:  Tensor(\"Mean_855:0\", shape=(), dtype=float32)\n",
      "epoch :  428  -  cost:  0.06984755  - MSE:  62.59047584078146 - Accuracy:  Tensor(\"Mean_857:0\", shape=(), dtype=float32)\n",
      "epoch :  429  -  cost:  0.06960793  - MSE:  62.60603387980977 - Accuracy:  Tensor(\"Mean_859:0\", shape=(), dtype=float32)\n",
      "epoch :  430  -  cost:  0.06937124  - MSE:  62.61492848554822 - Accuracy:  Tensor(\"Mean_861:0\", shape=(), dtype=float32)\n",
      "epoch :  431  -  cost:  0.06912869  - MSE:  62.63161145236143 - Accuracy:  Tensor(\"Mean_863:0\", shape=(), dtype=float32)\n",
      "epoch :  432  -  cost:  0.068894506  - MSE:  62.63693786627668 - Accuracy:  Tensor(\"Mean_865:0\", shape=(), dtype=float32)\n",
      "epoch :  433  -  cost:  0.06865846  - MSE:  62.65836398730049 - Accuracy:  Tensor(\"Mean_867:0\", shape=(), dtype=float32)\n",
      "epoch :  434  -  cost:  0.06842157  - MSE:  62.66270621653513 - Accuracy:  Tensor(\"Mean_869:0\", shape=(), dtype=float32)\n",
      "epoch :  435  -  cost:  0.06819212  - MSE:  62.68568077355421 - Accuracy:  Tensor(\"Mean_871:0\", shape=(), dtype=float32)\n",
      "epoch :  436  -  cost:  0.06795582  - MSE:  62.687878255785705 - Accuracy:  Tensor(\"Mean_873:0\", shape=(), dtype=float32)\n",
      "epoch :  437  -  cost:  0.067731306  - MSE:  62.70030451224288 - Accuracy:  Tensor(\"Mean_875:0\", shape=(), dtype=float32)\n",
      "epoch :  438  -  cost:  0.06750383  - MSE:  62.70085907054286 - Accuracy:  Tensor(\"Mean_877:0\", shape=(), dtype=float32)\n",
      "epoch :  439  -  cost:  0.06726907  - MSE:  62.71555171653635 - Accuracy:  Tensor(\"Mean_879:0\", shape=(), dtype=float32)\n",
      "epoch :  440  -  cost:  0.0670406  - MSE:  62.73322283528259 - Accuracy:  Tensor(\"Mean_881:0\", shape=(), dtype=float32)\n",
      "epoch :  441  -  cost:  0.06681921  - MSE:  62.73554447774675 - Accuracy:  Tensor(\"Mean_883:0\", shape=(), dtype=float32)\n",
      "epoch :  442  -  cost:  0.06659076  - MSE:  62.75740525876621 - Accuracy:  Tensor(\"Mean_885:0\", shape=(), dtype=float32)\n",
      "epoch :  443  -  cost:  0.066366784  - MSE:  62.76466061572079 - Accuracy:  Tensor(\"Mean_887:0\", shape=(), dtype=float32)\n",
      "epoch :  444  -  cost:  0.06614047  - MSE:  62.781017731372415 - Accuracy:  Tensor(\"Mean_889:0\", shape=(), dtype=float32)\n",
      "epoch :  445  -  cost:  0.06592425  - MSE:  62.789515900450155 - Accuracy:  Tensor(\"Mean_891:0\", shape=(), dtype=float32)\n",
      "epoch :  446  -  cost:  0.06569896  - MSE:  62.80928329566411 - Accuracy:  Tensor(\"Mean_893:0\", shape=(), dtype=float32)\n",
      "epoch :  447  -  cost:  0.065484546  - MSE:  62.823904583018184 - Accuracy:  Tensor(\"Mean_895:0\", shape=(), dtype=float32)\n",
      "epoch :  448  -  cost:  0.06526842  - MSE:  62.82917364387887 - Accuracy:  Tensor(\"Mean_897:0\", shape=(), dtype=float32)\n",
      "epoch :  449  -  cost:  0.06504409  - MSE:  62.845444360651214 - Accuracy:  Tensor(\"Mean_899:0\", shape=(), dtype=float32)\n",
      "epoch :  450  -  cost:  0.064832576  - MSE:  62.857408113673976 - Accuracy:  Tensor(\"Mean_901:0\", shape=(), dtype=float32)\n",
      "epoch :  451  -  cost:  0.06461628  - MSE:  62.8700258439021 - Accuracy:  Tensor(\"Mean_903:0\", shape=(), dtype=float32)\n",
      "epoch :  452  -  cost:  0.064402595  - MSE:  62.886129626141575 - Accuracy:  Tensor(\"Mean_905:0\", shape=(), dtype=float32)\n",
      "epoch :  453  -  cost:  0.064189754  - MSE:  62.891736606201235 - Accuracy:  Tensor(\"Mean_907:0\", shape=(), dtype=float32)\n",
      "epoch :  454  -  cost:  0.063980035  - MSE:  62.9078393867816 - Accuracy:  Tensor(\"Mean_909:0\", shape=(), dtype=float32)\n",
      "epoch :  455  -  cost:  0.06377167  - MSE:  62.91767168884522 - Accuracy:  Tensor(\"Mean_911:0\", shape=(), dtype=float32)\n",
      "epoch :  456  -  cost:  0.06355908  - MSE:  62.933616069338456 - Accuracy:  Tensor(\"Mean_913:0\", shape=(), dtype=float32)\n",
      "epoch :  457  -  cost:  0.06335395  - MSE:  62.94234504446023 - Accuracy:  Tensor(\"Mean_915:0\", shape=(), dtype=float32)\n",
      "epoch :  458  -  cost:  0.06314823  - MSE:  62.95936659301709 - Accuracy:  Tensor(\"Mean_917:0\", shape=(), dtype=float32)\n",
      "epoch :  459  -  cost:  0.06295226  - MSE:  62.96463849902929 - Accuracy:  Tensor(\"Mean_919:0\", shape=(), dtype=float32)\n",
      "epoch :  460  -  cost:  0.062740915  - MSE:  62.979674025286116 - Accuracy:  Tensor(\"Mean_921:0\", shape=(), dtype=float32)\n",
      "epoch :  461  -  cost:  0.06253524  - MSE:  62.99100546128553 - Accuracy:  Tensor(\"Mean_923:0\", shape=(), dtype=float32)\n",
      "epoch :  462  -  cost:  0.06234172  - MSE:  63.00656132974948 - Accuracy:  Tensor(\"Mean_925:0\", shape=(), dtype=float32)\n",
      "epoch :  463  -  cost:  0.062133037  - MSE:  63.02154527143737 - Accuracy:  Tensor(\"Mean_927:0\", shape=(), dtype=float32)\n",
      "epoch :  464  -  cost:  0.06193707  - MSE:  63.033800833126556 - Accuracy:  Tensor(\"Mean_929:0\", shape=(), dtype=float32)\n",
      "epoch :  465  -  cost:  0.061746407  - MSE:  63.04036214036846 - Accuracy:  Tensor(\"Mean_931:0\", shape=(), dtype=float32)\n",
      "epoch :  466  -  cost:  0.061539438  - MSE:  63.055006309768544 - Accuracy:  Tensor(\"Mean_933:0\", shape=(), dtype=float32)\n",
      "epoch :  467  -  cost:  0.061348915  - MSE:  63.06754700197065 - Accuracy:  Tensor(\"Mean_935:0\", shape=(), dtype=float32)\n",
      "epoch :  468  -  cost:  0.061150685  - MSE:  63.07729364185742 - Accuracy:  Tensor(\"Mean_937:0\", shape=(), dtype=float32)\n",
      "epoch :  469  -  cost:  0.06095744  - MSE:  63.088355659473876 - Accuracy:  Tensor(\"Mean_939:0\", shape=(), dtype=float32)\n",
      "epoch :  470  -  cost:  0.060764845  - MSE:  63.098811986886794 - Accuracy:  Tensor(\"Mean_941:0\", shape=(), dtype=float32)\n",
      "epoch :  471  -  cost:  0.060575046  - MSE:  63.112180915308684 - Accuracy:  Tensor(\"Mean_943:0\", shape=(), dtype=float32)\n",
      "epoch :  472  -  cost:  0.060388755  - MSE:  63.12401751136157 - Accuracy:  Tensor(\"Mean_945:0\", shape=(), dtype=float32)\n",
      "epoch :  473  -  cost:  0.060192667  - MSE:  63.1357826906749 - Accuracy:  Tensor(\"Mean_947:0\", shape=(), dtype=float32)\n",
      "epoch :  474  -  cost:  0.06000655  - MSE:  63.15419865837814 - Accuracy:  Tensor(\"Mean_949:0\", shape=(), dtype=float32)\n",
      "epoch :  475  -  cost:  0.05982151  - MSE:  63.15584121738838 - Accuracy:  Tensor(\"Mean_951:0\", shape=(), dtype=float32)\n",
      "epoch :  476  -  cost:  0.059638534  - MSE:  63.17522118116925 - Accuracy:  Tensor(\"Mean_953:0\", shape=(), dtype=float32)\n",
      "epoch :  477  -  cost:  0.059448328  - MSE:  63.18840675978217 - Accuracy:  Tensor(\"Mean_955:0\", shape=(), dtype=float32)\n",
      "epoch :  478  -  cost:  0.059267454  - MSE:  63.190821459725115 - Accuracy:  Tensor(\"Mean_957:0\", shape=(), dtype=float32)\n",
      "epoch :  479  -  cost:  0.059085198  - MSE:  63.212544686822326 - Accuracy:  Tensor(\"Mean_959:0\", shape=(), dtype=float32)\n"
     ]
    },
    {
     "name": "stdout",
     "output_type": "stream",
     "text": [
      "epoch :  480  -  cost:  0.058899164  - MSE:  63.223243896879076 - Accuracy:  Tensor(\"Mean_961:0\", shape=(), dtype=float32)\n",
      "epoch :  481  -  cost:  0.058723625  - MSE:  63.22912060399439 - Accuracy:  Tensor(\"Mean_963:0\", shape=(), dtype=float32)\n",
      "epoch :  482  -  cost:  0.058540713  - MSE:  63.24685995248185 - Accuracy:  Tensor(\"Mean_965:0\", shape=(), dtype=float32)\n",
      "epoch :  483  -  cost:  0.05836168  - MSE:  63.25855205046237 - Accuracy:  Tensor(\"Mean_967:0\", shape=(), dtype=float32)\n",
      "epoch :  484  -  cost:  0.058186322  - MSE:  63.26104646997787 - Accuracy:  Tensor(\"Mean_969:0\", shape=(), dtype=float32)\n",
      "epoch :  485  -  cost:  0.058006536  - MSE:  63.27010395078092 - Accuracy:  Tensor(\"Mean_971:0\", shape=(), dtype=float32)\n",
      "epoch :  486  -  cost:  0.057833318  - MSE:  63.2912565434095 - Accuracy:  Tensor(\"Mean_973:0\", shape=(), dtype=float32)\n",
      "epoch :  487  -  cost:  0.057655826  - MSE:  63.302068242930815 - Accuracy:  Tensor(\"Mean_975:0\", shape=(), dtype=float32)\n",
      "epoch :  488  -  cost:  0.0574843  - MSE:  63.301961438345806 - Accuracy:  Tensor(\"Mean_977:0\", shape=(), dtype=float32)\n",
      "epoch :  489  -  cost:  0.05731023  - MSE:  63.322891123377325 - Accuracy:  Tensor(\"Mean_979:0\", shape=(), dtype=float32)\n",
      "epoch :  490  -  cost:  0.057137877  - MSE:  63.33339352252291 - Accuracy:  Tensor(\"Mean_981:0\", shape=(), dtype=float32)\n",
      "epoch :  491  -  cost:  0.056968417  - MSE:  63.33625130562702 - Accuracy:  Tensor(\"Mean_983:0\", shape=(), dtype=float32)\n",
      "epoch :  492  -  cost:  0.056796752  - MSE:  63.35559280099303 - Accuracy:  Tensor(\"Mean_985:0\", shape=(), dtype=float32)\n",
      "epoch :  493  -  cost:  0.056627084  - MSE:  63.35988343206456 - Accuracy:  Tensor(\"Mean_987:0\", shape=(), dtype=float32)\n",
      "epoch :  494  -  cost:  0.056458034  - MSE:  63.37037470181125 - Accuracy:  Tensor(\"Mean_989:0\", shape=(), dtype=float32)\n",
      "epoch :  495  -  cost:  0.056291673  - MSE:  63.38179975004681 - Accuracy:  Tensor(\"Mean_991:0\", shape=(), dtype=float32)\n",
      "epoch :  496  -  cost:  0.056128394  - MSE:  63.39589506513695 - Accuracy:  Tensor(\"Mean_993:0\", shape=(), dtype=float32)\n",
      "epoch :  497  -  cost:  0.055957448  - MSE:  63.40396771436531 - Accuracy:  Tensor(\"Mean_995:0\", shape=(), dtype=float32)\n",
      "epoch :  498  -  cost:  0.055798426  - MSE:  63.41425137861012 - Accuracy:  Tensor(\"Mean_997:0\", shape=(), dtype=float32)\n",
      "epoch :  499  -  cost:  0.055635523  - MSE:  63.41932747242924 - Accuracy:  Tensor(\"Mean_999:0\", shape=(), dtype=float32)\n"
     ]
    }
   ],
   "source": [
    "for epoch in range( training_epochs):\n",
    "    sess.run(training_step, feed_dict={x:train_x, y_:train_y})\n",
    "    cost = sess.run(cost_function, feed_dict={x:train_x, y_:train_y})\n",
    "    cost_history = np.append(cost_history, cost)\n",
    "    \n",
    "    correct_prediction = tf.equal(tf.argmax(y,1), tf.argmax(y_,1))\n",
    "    accuracy = tf.reduce_mean(tf.cast(correct_prediction, tf.float32))\n",
    "    \n",
    "    pred_y = sess.run(y, feed_dict={x:test_x}) \n",
    "    mse = tf.reduce_mean(tf.square(pred_y - test_y))\n",
    "    mse_ = sess.run(mse)\n",
    "    mse_history.append(mse_)   \n",
    "    \n",
    "    accuracy = (sess.run(accuracy, feed_dict={x: train_x, y_: train_y}))\n",
    "    accuracy_history.append(accuracy)\n",
    "    \n",
    "    print('epoch : ', epoch, ' - ', 'cost: ', cost, \" - MSE: \", mse_, \"- Accuracy: \",accuracy)"
   ]
  },
  {
   "cell_type": "code",
   "execution_count": 52,
   "metadata": {},
   "outputs": [
    {
     "data": {
      "image/png": "[encoded data removed]",
      "text/plain": [
       "<Figure size 432x288 with 1 Axes>"
      ]
     },
     "metadata": {
      "needs_background": "light"
     },
     "output_type": "display_data"
    },
    {
     "data": {
      "image/png": "[encoded data removed]",
      "text/plain": [
       "<Figure size 432x288 with 1 Axes>"
      ]
     },
     "metadata": {
      "needs_background": "light"
     },
     "output_type": "display_data"
    }
   ],
   "source": [
    "plt.plot(mse_history, 'ro-')\n",
    "plt.show()\n",
    "plt.plot(accuracy_history)\n",
    "plt.show()"
   ]
  },
  {
   "cell_type": "code",
   "execution_count": 53,
   "metadata": {},
   "outputs": [
    {
     "name": "stdout",
     "output_type": "stream",
     "text": [
      "Accuracy:  0.78571427\n"
     ]
    }
   ],
   "source": [
    "correct_prediction = tf.equal(tf.argmax(y,1), tf.argmax(y_,1))\n",
    "accuracy = tf.reduce_mean(tf.cast(correct_prediction, tf.float32))\n",
    "print(\"Accuracy: \", (sess.run(accuracy, feed_dict={x: test_x, y_:test_y})))"
   ]
  },
  {
   "cell_type": "code",
   "execution_count": 54,
   "metadata": {},
   "outputs": [
    {
     "data": {
      "image/png": "[encoded data removed]",
      "text/plain": [
       "<Figure size 432x288 with 1 Axes>"
      ]
     },
     "metadata": {
      "needs_background": "light"
     },
     "output_type": "display_data"
    }
   ],
   "source": [
    "plt.plot(range(len(cost_history)), cost_history)\n",
    "plt.axis([0, training_epochs, 0, np.max(cost_history)])\n",
    "plt.show()"
   ]
  },
  {
   "cell_type": "code",
   "execution_count": 55,
   "metadata": {},
   "outputs": [
    {
     "data": {
      "text/plain": [
       "array([[-2.5783937 , -0.6534178 ],\n",
       "       [-2.994759  ,  1.6772165 ],\n",
       "       [ 2.5802183 , -1.8558747 ],\n",
       "       [-1.6801009 ,  1.9947574 ],\n",
       "       [-2.6171231 , -0.7378855 ],\n",
       "       [ 1.1855552 ,  2.089876  ],\n",
       "       [-2.9391296 ,  2.1117265 ],\n",
       "       [ 0.18150568,  0.73582184],\n",
       "       [ 1.263845  ,  2.0459135 ],\n",
       "       [ 0.8141558 , -0.65882635],\n",
       "       [ 1.1851623 ,  2.2478526 ],\n",
       "       [ 2.241562  ,  4.402326  ],\n",
       "       [ 0.62776554, -2.4580731 ],\n",
       "       [ 3.2281325 , -0.5085393 ],\n",
       "       [11.579482  ,  2.3770976 ],\n",
       "       [ 0.9859998 ,  2.6045353 ],\n",
       "       [-2.0290847 , -3.3500285 ],\n",
       "       [-3.2400277 ,  1.9234657 ],\n",
       "       [ 2.529334  , -0.8686806 ],\n",
       "       [ 2.7970254 , -0.08729956],\n",
       "       [ 2.7177117 ,  0.8331361 ],\n",
       "       [-1.7616173 ,  2.966339  ],\n",
       "       [ 3.9253333 ,  0.9896226 ],\n",
       "       [ 2.81392   , -0.12163243],\n",
       "       [ 3.6466243 , -0.4872367 ],\n",
       "       [ 0.18840122,  4.471168  ],\n",
       "       [ 2.9302227 , -3.1859496 ],\n",
       "       [-1.9815855 ,  1.652633  ],\n",
       "       [-1.9865396 , -2.5623717 ],\n",
       "       [ 1.8481021 ,  3.3955872 ],\n",
       "       [ 2.5541942 , -0.10595891],\n",
       "       [ 1.0235078 ,  0.19929984],\n",
       "       [ 5.3221292 ,  0.3884969 ],\n",
       "       [ 1.4395034 ,  1.5732241 ],\n",
       "       [-3.776746  , -0.8594816 ],\n",
       "       [ 3.4356778 ,  4.582112  ],\n",
       "       [-2.7988083 , -0.01369807],\n",
       "       [ 3.3030279 ,  0.03952196],\n",
       "       [-2.600809  , -0.98717237],\n",
       "       [ 5.2476807 ,  0.3101721 ],\n",
       "       [-5.208743  , -3.3900201 ],\n",
       "       [ 8.824478  ,  0.5338503 ]], dtype=float32)"
      ]
     },
     "execution_count": 55,
     "metadata": {},
     "output_type": "execute_result"
    }
   ],
   "source": [
    "pred_y"
   ]
  },
  {
   "cell_type": "code",
   "execution_count": 56,
   "metadata": {},
   "outputs": [
    {
     "data": {
      "text/plain": [
       "array([[1., 0.],\n",
       "       [0., 1.],\n",
       "       [1., 0.],\n",
       "       [0., 1.],\n",
       "       [0., 1.],\n",
       "       [1., 0.],\n",
       "       [0., 1.],\n",
       "       [0., 1.],\n",
       "       [1., 0.],\n",
       "       [1., 0.],\n",
       "       [0., 1.],\n",
       "       [0., 1.],\n",
       "       [1., 0.],\n",
       "       [1., 0.],\n",
       "       [1., 0.],\n",
       "       [0., 1.],\n",
       "       [1., 0.],\n",
       "       [0., 1.],\n",
       "       [0., 1.],\n",
       "       [1., 0.],\n",
       "       [0., 1.],\n",
       "       [0., 1.],\n",
       "       [1., 0.],\n",
       "       [1., 0.],\n",
       "       [1., 0.],\n",
       "       [0., 1.],\n",
       "       [1., 0.],\n",
       "       [0., 1.],\n",
       "       [0., 1.],\n",
       "       [0., 1.],\n",
       "       [1., 0.],\n",
       "       [0., 1.],\n",
       "       [1., 0.],\n",
       "       [1., 0.],\n",
       "       [0., 1.],\n",
       "       [0., 1.],\n",
       "       [0., 1.],\n",
       "       [1., 0.],\n",
       "       [0., 1.],\n",
       "       [1., 0.],\n",
       "       [1., 0.],\n",
       "       [1., 0.]])"
      ]
     },
     "execution_count": 56,
     "metadata": {},
     "output_type": "execute_result"
    }
   ],
   "source": [
    "test_y"
   ]
  },
  {
   "cell_type": "code",
   "execution_count": 57,
   "metadata": {},
   "outputs": [],
   "source": [
    "sess.close()"
   ]
  },
  {
   "cell_type": "code",
   "execution_count": null,
   "metadata": {},
   "outputs": [],
   "source": []
  }
 ],
 "metadata": {
  "kernelspec": {
   "display_name": "Python 3",
   "language": "python",
   "name": "python3"
  },
  "language_info": {
   "codemirror_mode": {
    "name": "ipython",
    "version": 3
   },
   "file_extension": ".py",
   "mimetype": "text/x-python",
   "name": "python",
   "nbconvert_exporter": "python",
   "pygments_lexer": "ipython3",
   "version": "3.7.4"
  }
 },
 "nbformat": 4,
 "nbformat_minor": 2
}
