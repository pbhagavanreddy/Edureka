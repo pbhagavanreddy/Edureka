{
 "cells": [
  {
   "cell_type": "code",
   "execution_count": 1,
   "metadata": {},
   "outputs": [],
   "source": [
    "import pandas as pd\n",
    "import numpy as np"
   ]
  },
  {
   "cell_type": "markdown",
   "metadata": {},
   "source": [
    "#### 1 Compute how much total salary cost has increased from year 2011 to 2014"
   ]
  },
  {
   "cell_type": "code",
   "execution_count": 2,
   "metadata": {},
   "outputs": [
    {
     "name": "stdout",
     "output_type": "stream",
     "text": [
      "          TotalPay\n",
      "Year              \n",
      "2011  2.594113e+09\n",
      "2012  2.724736e+09\n",
      "2013  2.918656e+09\n",
      "2014  2.876911e+09\n",
      "\n",
      "Total Salary Increase from 2011 to 2014 =  282797921\n"
     ]
    },
    {
     "name": "stderr",
     "output_type": "stream",
     "text": [
      "C:\\Users\\bpeddi\\AppData\\Local\\Continuum\\anaconda3\\lib\\site-packages\\IPython\\core\\interactiveshell.py:3057: DtypeWarning: Columns (12) have mixed types. Specify dtype option on import or set low_memory=False.\n",
      "  interactivity=interactivity, compiler=compiler, result=result)\n"
     ]
    }
   ],
   "source": [
    "orig = pd.read_csv('Salaries.csv')\n",
    "df=pd.DataFrame(orig)\n",
    "\n",
    "tot = df.groupby('Year').agg({'TotalPay':np.sum})\n",
    "print(tot)\n",
    "x = list(tot['TotalPay'])[0]\n",
    "y = list(tot['TotalPay'])[3]\n",
    "\n",
    "print(\"\\nTotal Salary Increase from 2011 to 2014 = \", round(y-x))"
   ]
  },
  {
   "cell_type": "markdown",
   "metadata": {},
   "source": [
    "### 2. Which Job Title in Year 2014 has highest mean salary?"
   ]
  },
  {
   "cell_type": "code",
   "execution_count": 65,
   "metadata": {},
   "outputs": [
    {
     "name": "stdout",
     "output_type": "stream",
     "text": [
      "Highest mean salary in 2014 exists in Job Title = \n"
     ]
    },
    {
     "data": {
      "text/html": [
       "<div>\n",
       "<style scoped>\n",
       "    .dataframe tbody tr th:only-of-type {\n",
       "        vertical-align: middle;\n",
       "    }\n",
       "\n",
       "    .dataframe tbody tr th {\n",
       "        vertical-align: top;\n",
       "    }\n",
       "\n",
       "    .dataframe thead th {\n",
       "        text-align: right;\n",
       "    }\n",
       "</style>\n",
       "<table border=\"1\" class=\"dataframe\">\n",
       "  <thead>\n",
       "    <tr style=\"text-align: right;\">\n",
       "      <th></th>\n",
       "      <th>TotalPay</th>\n",
       "    </tr>\n",
       "    <tr>\n",
       "      <th>JobTitle</th>\n",
       "      <th></th>\n",
       "    </tr>\n",
       "  </thead>\n",
       "  <tbody>\n",
       "    <tr>\n",
       "      <th>Chief Investment Officer</th>\n",
       "      <td>339653.7</td>\n",
       "    </tr>\n",
       "  </tbody>\n",
       "</table>\n",
       "</div>"
      ],
      "text/plain": [
       "                          TotalPay\n",
       "JobTitle                          \n",
       "Chief Investment Officer  339653.7"
      ]
     },
     "execution_count": 65,
     "metadata": {},
     "output_type": "execute_result"
    }
   ],
   "source": [
    "sub = df.groupby('Year')\n",
    "sub_year = pd.DataFrame(sub.get_group(2014))\n",
    "year = sub_year.groupby('JobTitle').mean()['TotalPay']\n",
    "df_mean = pd.DataFrame(year, columns=['JobTitle', 'TotalPay'])\n",
    "df_mean.drop(columns = ['JobTitle'], axis=1, inplace=True)\n",
    "\n",
    "print(\"Highest mean salary in 2014 exists in Job Title = \")\n",
    "df_mean[df_mean['TotalPay']==df_mean['TotalPay'].max()]"
   ]
  },
  {
   "cell_type": "markdown",
   "metadata": {},
   "source": [
    "#### 3. How much money could have been saved in Year 2014 by stopping OverTimePay?"
   ]
  },
  {
   "cell_type": "code",
   "execution_count": 73,
   "metadata": {},
   "outputs": [
    {
     "name": "stdout",
     "output_type": "stream",
     "text": [
      "Total OT cost in 2014 that could have been saved =  205918599.0\n"
     ]
    }
   ],
   "source": [
    "print(\"Total OT cost in 2014 that could have been saved = \", round(sub_year['OvertimePay'].sum()))"
   ]
  },
  {
   "cell_type": "markdown",
   "metadata": {},
   "source": [
    "#### 4.Which are the top 5 common job in Year 2014 and how much do they cost SFO"
   ]
  },
  {
   "cell_type": "code",
   "execution_count": 114,
   "metadata": {},
   "outputs": [
    {
     "name": "stdout",
     "output_type": "stream",
     "text": [
      "Top 5 common Jobs in 2014 are = \n",
      "                               JobTitle\n",
      "110529                  Deputy Chief 3\n",
      "110530               Asst Med Examiner\n",
      "110534               Asst Med Examiner\n",
      "110531        Chief Investment Officer\n",
      "110537  Battalion Chief, Fire Suppress\n",
      "\n",
      "Total amout the Top 5 Jobs costs to SFO =  1881390.74\n"
     ]
    }
   ],
   "source": [
    "sub_year.sort_values(by='TotalPay', ascending=False, inplace=True)\n",
    "print(\"Top 5 common Jobs in 2014 are = \\n\", sub_year.iloc[0:5, 2:3])\n",
    "topfive = sub_year.head(5)\n",
    "print(\"\\nTotal amout the Top 5 Jobs costs to SFO = \",topfive['TotalPay'].sum())"
   ]
  },
  {
   "cell_type": "markdown",
   "metadata": {},
   "source": [
    "#### 5. Who was the top earning employee across all the years"
   ]
  },
  {
   "cell_type": "code",
   "execution_count": 75,
   "metadata": {},
   "outputs": [
    {
     "data": {
      "text/plain": [
       "0    NATHANIEL FORD\n",
       "Name: EmployeeName, dtype: object"
      ]
     },
     "execution_count": 75,
     "metadata": {},
     "output_type": "execute_result"
    }
   ],
   "source": [
    "df_mean[df_mean['TotalPay']==df_mean['TotalPay'].max()]\n",
    "df[df['TotalPay']==df['TotalPay'].max()]['EmployeeName']"
   ]
  },
  {
   "cell_type": "code",
   "execution_count": null,
   "metadata": {},
   "outputs": [],
   "source": []
  }
 ],
 "metadata": {
  "kernelspec": {
   "display_name": "Python 3",
   "language": "python",
   "name": "python3"
  },
  "language_info": {
   "codemirror_mode": {
    "name": "ipython",
    "version": 3
   },
   "file_extension": ".py",
   "mimetype": "text/x-python",
   "name": "python",
   "nbconvert_exporter": "python",
   "pygments_lexer": "ipython3",
   "version": "3.7.3"
  }
 },
 "nbformat": 4,
 "nbformat_minor": 2
}
