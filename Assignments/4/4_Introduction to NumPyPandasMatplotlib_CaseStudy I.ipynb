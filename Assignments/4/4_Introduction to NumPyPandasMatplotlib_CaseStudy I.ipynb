{
 "cells": [
  {
   "cell_type": "code",
   "execution_count": 22,
   "metadata": {},
   "outputs": [],
   "source": [
    "import pandas as pd\n",
    "import numpy as np"
   ]
  },
  {
   "cell_type": "markdown",
   "metadata": {},
   "source": [
    "#### 1.Extract data from the given SalaryGender CSV file and store the data from each"
   ]
  },
  {
   "cell_type": "code",
   "execution_count": 30,
   "metadata": {},
   "outputs": [
    {
     "name": "stdout",
     "output_type": "stream",
     "text": [
      "Salary Array = \n",
      " [140.    30.    35.1   30.    80.    30.    60.    31.1  125.    51.\n",
      "   3.    46.   150.     3.   130.    15.   130.    84.   190.    74.\n",
      "  73.    10.    50.     7.     9.5   15.2   28.6   20.    72.    81.\n",
      " 100.    90.    90.    35.    30.    25.    52.     9.    63.    72.\n",
      "  16.    92.   106.     2.5    9.    32.    32.    55.    52.    28.\n",
      "  20.    14.7   22.3   34.8   84.    19.   160.    65.    55.     4.6\n",
      " 102.    20.    62.    55.    45.6   40.    24.    35.    48.    20.\n",
      "  40.7   15.     0.25 152.    39.8   12.    30.   120.     1.7   36.\n",
      "  96.    38.    90.     9.    25.8   22.    38.8   72.    89.    41.\n",
      "  89.    25.    52.   115.    66.    18.6  152.     1.8   35.     4.  ]\n",
      "\n",
      "Gender Array = \n",
      " [1 0 0 1 0 0 1 0 1 1 1 1 1 1 1 0 1 0 1 1 0 0 0 0 0 1 1 0 0 1 0 0 0 1 0 1 0\n",
      " 0 1 1 1 0 1 1 0 0 0 1 1 0 0 0 1 0 0 1 1 0 0 1 1 1 0 1 1 0 0 1 0 0 0 1 0 1\n",
      " 0 0 1 1 1 1 1 0 1 1 0 0 0 1 1 0 1 0 1 0 0 1 1 1 0 0]\n",
      "\n",
      "Age Array = \n",
      " [47 65 56 23 53 27 53 30 44 63 22 59 60 28 65 25 65 47 66 45 46 24 60 63\n",
      " 27 66 36 30 51 65 45 52 54 30 52 26 49 22 34 60 28 58 77 67 27 48 45 49\n",
      " 36 65 32 49 67 22 49 43 61 43 52 51 66 29 62 56 61 56 41 24 60 43 57 23\n",
      " 53 71 20 27 69 58 37 32 33 32 60 71 30 62 54 42 62 51 71 29 55 54 55 26\n",
      " 56 28 44 24]\n",
      "\n",
      "PHD Array = \n",
      " [1 1 0 0 1 0 0 0 1 1 0 0 1 0 0 0 0 1 1 1 0 0 0 0 0 1 1 0 1 1 1 1 1 0 0 0 0\n",
      " 0 1 0 0 1 1 0 0 1 0 1 0 1 0 0 0 0 1 0 1 1 0 0 1 0 0 1 0 0 0 0 0 0 0 0 0 1\n",
      " 0 0 1 1 0 1 1 1 0 0 0 0 0 1 0 1 1 0 1 0 1 0 1 0 0 0]\n"
     ]
    }
   ],
   "source": [
    "salgen = pd.read_csv('SalaryGender.csv')\n",
    "\n",
    "sal=salgen['Salary'].values\n",
    "gen=salgen['Gender'].values\n",
    "age=salgen['Age'].values\n",
    "phd=salgen['PhD'].values\n",
    "\n",
    "print(\"Salary Array = \\n\", sal)\n",
    "print(\"\\nGender Array = \\n\", gen)\n",
    "print(\"\\nAge Array = \\n\",age)\n",
    "print(\"\\nPHD Array = \\n\", phd)"
   ]
  },
  {
   "cell_type": "markdown",
   "metadata": {},
   "source": [
    "#### 2.Find number of men and women with a PhD"
   ]
  },
  {
   "cell_type": "code",
   "execution_count": 44,
   "metadata": {},
   "outputs": [
    {
     "name": "stdout",
     "output_type": "stream",
     "text": [
      "number of men with a PhD =  24\n",
      "number of women with a PhD =  15\n"
     ]
    }
   ],
   "source": [
    "men = salgen[(salgen['Gender']==1)&(salgen['PhD']==1)]\n",
    "women = salgen[(salgen['Gender']==0)&(salgen['PhD']==1)]\n",
    "print(\"number of men with a PhD = \", len(men))\n",
    "print(\"number of women with a PhD = \", len(women))"
   ]
  },
  {
   "cell_type": "markdown",
   "metadata": {},
   "source": [
    "#### 3.Store the “Age” and “PhD” columns in one DataFrame and delete the data of all people who don’t have a PhD"
   ]
  },
  {
   "cell_type": "code",
   "execution_count": 70,
   "metadata": {},
   "outputs": [
    {
     "name": "stdout",
     "output_type": "stream",
     "text": [
      "   Age  PhD\n",
      "0   47    1\n",
      "1   65    1\n",
      "2   56    0\n",
      "3   23    0\n",
      "4   53    1\n",
      "DataFrame After deleting people who dont have a phd = \n",
      "     Age  PhD\n",
      "0    47    1\n",
      "1    65    1\n",
      "4    53    1\n",
      "8    44    1\n",
      "9    63    1\n",
      "12   60    1\n",
      "17   47    1\n",
      "18   66    1\n",
      "19   45    1\n",
      "25   66    1\n",
      "26   36    1\n",
      "28   51    1\n",
      "29   65    1\n",
      "30   45    1\n",
      "31   52    1\n",
      "32   54    1\n",
      "38   34    1\n",
      "41   58    1\n",
      "42   77    1\n",
      "45   48    1\n",
      "47   49    1\n",
      "49   65    1\n",
      "54   49    1\n",
      "56   61    1\n",
      "57   43    1\n",
      "60   66    1\n",
      "63   56    1\n",
      "73   71    1\n",
      "76   69    1\n",
      "77   58    1\n",
      "79   32    1\n",
      "80   33    1\n",
      "81   32    1\n",
      "87   42    1\n",
      "89   51    1\n",
      "90   71    1\n",
      "92   55    1\n",
      "94   55    1\n",
      "96   56    1\n"
     ]
    }
   ],
   "source": [
    "age_phd_df = pd.read_csv('SalaryGender.csv', usecols=['Age', 'PhD'] )\n",
    "print(age_phd_df.head())\n",
    "\n",
    "index_label=age_phd_df[age_phd_df['PhD']==0].index.tolist()\n",
    "Nophd = age_phd_df.drop(index=index_label)\n",
    "print(\"DataFrame After deleting people who dont have a phd = \\n\", Nophd)"
   ]
  },
  {
   "cell_type": "markdown",
   "metadata": {},
   "source": [
    "#### 4.Calculate the total number of people who have a PhD degree from SalaryGender CSV file."
   ]
  },
  {
   "cell_type": "code",
   "execution_count": 79,
   "metadata": {},
   "outputs": [
    {
     "name": "stdout",
     "output_type": "stream",
     "text": [
      "total number of people who have a PhD degree = \n",
      " 39\n",
      "\n",
      "total number of people who have a PhD degree = \n",
      " 39\n"
     ]
    }
   ],
   "source": [
    "#version1\n",
    "tot = (salgen['PhD']==1)\n",
    "print(\"total number of people who have a PhD degree = \\n\", sum(tot))\n",
    "tot[0]\n",
    "\n",
    "#version2\n",
    "count=0\n",
    "for each in tot:\n",
    "    if each:\n",
    "        count+=1\n",
    "    else:\n",
    "        continue\n",
    "print(\"\\ntotal number of people who have a PhD degree = \\n\", count)"
   ]
  },
  {
   "cell_type": "markdown",
   "metadata": {},
   "source": [
    "#### 5.How do you Count The Number Of Times Each Value Appears In An Array Of Integers"
   ]
  },
  {
   "cell_type": "code",
   "execution_count": 85,
   "metadata": {},
   "outputs": [
    {
     "name": "stdout",
     "output_type": "stream",
     "text": [
      "0 comes = 4 times\n",
      "1 comes = 2 times\n",
      "2 comes = 1 times\n",
      "3 comes = 1 times\n",
      "4 comes = 3 times\n",
      "5 comes = 2 times\n"
     ]
    }
   ],
   "source": [
    "a=[0, 5, 4, 0, 4, 4, 3, 0, 0, 5, 2, 1, 1, 9]\n",
    "print(\"0 comes =\",a.count(0), \"times\")\n",
    "print(\"1 comes =\",a.count(1), \"times\")\n",
    "print(\"2 comes =\",a.count(2), \"times\")\n",
    "print(\"3 comes =\",a.count(3), \"times\")\n",
    "print(\"4 comes =\",a.count(4), \"times\")\n",
    "print(\"5 comes =\",a.count(5), \"times\")"
   ]
  },
  {
   "cell_type": "markdown",
   "metadata": {},
   "source": [
    "#### 6.Create a numpy array [[0, 1, 2], [ 3, 4, 5], [ 6, 7, 8],[ 9, 10, 11]]) and filter the elements greater than 5."
   ]
  },
  {
   "cell_type": "code",
   "execution_count": 116,
   "metadata": {},
   "outputs": [
    {
     "name": "stdout",
     "output_type": "stream",
     "text": [
      "[ 6  7  8  9 10 11]\n"
     ]
    }
   ],
   "source": [
    "lst6 = [[0, 1, 2], [3, 4, 5],[6,7,8],[9,10,11]]\n",
    "arr6 = np.array(lst6)\n",
    "print(arr6[arr6>5])"
   ]
  },
  {
   "cell_type": "markdown",
   "metadata": {},
   "source": [
    "#### 7.Create a numpy array having NaN (Not a Number) and print it. Print the same array omitting all elements which are nan"
   ]
  },
  {
   "cell_type": "code",
   "execution_count": 152,
   "metadata": {},
   "outputs": [
    {
     "name": "stdout",
     "output_type": "stream",
     "text": [
      "Original array with naan values =  [nan  1.  2. nan  3.  4.  5.]\n",
      "Array without naan values =  [1. 2. 3. 4. 5.]\n"
     ]
    }
   ],
   "source": [
    "arr7 = np.array([np.nan,1,2,np.nan, 3,4, 5])\n",
    "print(\"Original array with naan values = \", arr7)\n",
    "arr7 = arr7[~np.isnan(arr7)]\n",
    "print(\"Array without naan values = \", arr7)"
   ]
  },
  {
   "cell_type": "markdown",
   "metadata": {},
   "source": [
    "#### 8. Create a 10x10 array with random values and find the minimum and maximum values."
   ]
  },
  {
   "cell_type": "code",
   "execution_count": 192,
   "metadata": {},
   "outputs": [
    {
     "name": "stdout",
     "output_type": "stream",
     "text": [
      "[[101 538 113 280 524 901 185 245 857 410]\n",
      " [634 590 325 281 792 856 118 181 726 149]\n",
      " [260 614 182 135 981 837 244 385 112 278]\n",
      " [396 370 449 797 969 848 202 638 930 881]\n",
      " [697 194 191 780 863 996 523 288 378 706]\n",
      " [432 932 142 554 994 948 131 673 219 331]\n",
      " [915 622 442 839 435 332 528 777 543 894]\n",
      " [449 689 345 609 770 387 681 717 593 661]\n",
      " [719 394 289 877 510 902 867 907 419 873]\n",
      " [836 325 258 448 216 431 939 109 991 901]]\n",
      "Maximum Value =  996\n",
      "Minimum Value =  101\n"
     ]
    }
   ],
   "source": [
    "import random\n",
    "randnums= np.random.randint(100,1000,100)\n",
    "x = randnums.reshape(10,10)\n",
    "print(x)\n",
    "print(\"Maximum Value = \",x.max())\n",
    "print(\"Minimum Value = \",x.min())"
   ]
  },
  {
   "cell_type": "markdown",
   "metadata": {},
   "source": [
    "#### 9.Create a random vector of size 30 and find the mean value"
   ]
  },
  {
   "cell_type": "code",
   "execution_count": 197,
   "metadata": {},
   "outputs": [
    {
     "name": "stdout",
     "output_type": "stream",
     "text": [
      "[[136 258 141 145 228 173]\n",
      " [216 109 136 163 113 272]\n",
      " [112 249 192 225 239 207]\n",
      " [131 253 185 107 293 242]\n",
      " [213 268 155 214 139 150]]\n",
      "Mean  =  188.8\n"
     ]
    }
   ],
   "source": [
    "ran9 = np.random.randint(100, 300, 30)\n",
    "y = ran9.reshape(5,6)\n",
    "print(y)\n",
    "print(\"Mean  = \", y.mean())"
   ]
  },
  {
   "cell_type": "markdown",
   "metadata": {},
   "source": [
    "#### 10.Create numpy array having elements 0 to 10 And negate all the elements between 3 and 9"
   ]
  },
  {
   "cell_type": "code",
   "execution_count": 207,
   "metadata": {},
   "outputs": [
    {
     "data": {
      "text/plain": [
       "array([ 0,  1,  2, -3, -4, -5, -6, -7, -8, -9])"
      ]
     },
     "execution_count": 207,
     "metadata": {},
     "output_type": "execute_result"
    }
   ],
   "source": [
    "ran10 = np.arange(10)\n",
    "a=(ran10>=3) & (ran10<=9)\n",
    "ran10[a]=ran10[a]*-1\n",
    "ran10"
   ]
  },
  {
   "cell_type": "markdown",
   "metadata": {},
   "source": [
    "### 11. Create a random array of 3 rows and 3 columns and sort it according to 1st column, 2nd column or 3rd column."
   ]
  },
  {
   "cell_type": "code",
   "execution_count": 226,
   "metadata": {},
   "outputs": [
    {
     "name": "stdout",
     "output_type": "stream",
     "text": [
      "[[67 68 64]\n",
      " [51 67 67]\n",
      " [54 63 56]]\n",
      "\n",
      "column wise sort\n"
     ]
    },
    {
     "data": {
      "text/plain": [
       "array([[51, 63, 56],\n",
       "       [54, 67, 64],\n",
       "       [67, 68, 67]])"
      ]
     },
     "execution_count": 226,
     "metadata": {},
     "output_type": "execute_result"
    }
   ],
   "source": [
    "ran11 = np.random.randint(50, 70, 9)\n",
    "w = ran11.reshape(3,3)\n",
    "print(w)\n",
    "w.sort(axis=0)\n",
    "print(\"\\ncolumn wise sort\")\n",
    "w"
   ]
  },
  {
   "cell_type": "markdown",
   "metadata": {},
   "source": [
    "#### 12.Create a four dimensions array get sum over the last two axis at once"
   ]
  },
  {
   "cell_type": "code",
   "execution_count": 255,
   "metadata": {},
   "outputs": [
    {
     "name": "stdout",
     "output_type": "stream",
     "text": [
      "[[ 0  1  2  3]\n",
      " [ 4  5  6  7]\n",
      " [ 8  9 10 11]\n",
      " [12 13 14 15]]\n",
      "\n",
      "Sum of last 2 axis row wise =  92\n",
      "\n",
      "Sum of last 2 axis Column wise =  68\n"
     ]
    }
   ],
   "source": [
    "ran12 = np.arange(16)\n",
    "v = ran12.reshape(4,4)\n",
    "print(v)\n",
    "print(\"\\nSum of last 2 axis row wise = \",v[2:].sum())\n",
    "print(\"\\nSum of last 2 axis Column wise = \",v[:, 2:].sum())"
   ]
  },
  {
   "cell_type": "markdown",
   "metadata": {},
   "source": [
    "#### 13.Create a random array and swap two rows of an array"
   ]
  },
  {
   "cell_type": "code",
   "execution_count": 266,
   "metadata": {},
   "outputs": [
    {
     "name": "stdout",
     "output_type": "stream",
     "text": [
      "[[4 3 1]\n",
      " [5 7 0]\n",
      " [9 9 3]\n",
      " [8 2 4]]\n",
      "\n",
      "rows swapped \n",
      " [[9 9 3]\n",
      " [5 7 0]\n",
      " [4 3 1]\n",
      " [8 2 4]]\n"
     ]
    }
   ],
   "source": [
    "import numpy as np\n",
    "f = np.array([[4,3,1], [5,7,0], [9,9,3], [8,2,4]])\n",
    "print(f)\n",
    "f[[0,2]]=f[[2,0]]\n",
    "print(\"\\nrows swapped \\n\",f)"
   ]
  },
  {
   "cell_type": "markdown",
   "metadata": {},
   "source": [
    "#### 14.Create a random matrix and Compute a matrix rank."
   ]
  },
  {
   "cell_type": "code",
   "execution_count": 296,
   "metadata": {},
   "outputs": [
    {
     "name": "stdout",
     "output_type": "stream",
     "text": [
      "Rank of above array  =  3\n"
     ]
    }
   ],
   "source": [
    "A = np.matrix([[1,3,7],[2,8,3],[0,0,3]])\n",
    "print(\"Rank of above array  = \",np.linalg.matrix_rank(A))"
   ]
  },
  {
   "cell_type": "markdown",
   "metadata": {},
   "source": [
    "#### 15.Analyse various school--- Solution for this 15 qustion will be uploaded along with Case Study II"
   ]
  },
  {
   "cell_type": "markdown",
   "metadata": {},
   "source": [
    "######      Solution for this 15 question will be uploaded along with Case Study II"
   ]
  },
  {
   "cell_type": "code",
   "execution_count": null,
   "metadata": {},
   "outputs": [],
   "source": []
  },
  {
   "cell_type": "code",
   "execution_count": null,
   "metadata": {},
   "outputs": [],
   "source": []
  },
  {
   "cell_type": "code",
   "execution_count": null,
   "metadata": {},
   "outputs": [],
   "source": []
  },
  {
   "cell_type": "code",
   "execution_count": null,
   "metadata": {},
   "outputs": [],
   "source": []
  }
 ],
 "metadata": {
  "kernelspec": {
   "display_name": "Python 3",
   "language": "python",
   "name": "python3"
  },
  "language_info": {
   "codemirror_mode": {
    "name": "ipython",
    "version": 3
   },
   "file_extension": ".py",
   "mimetype": "text/x-python",
   "name": "python",
   "nbconvert_exporter": "python",
   "pygments_lexer": "ipython3",
   "version": "3.7.3"
  }
 },
 "nbformat": 4,
 "nbformat_minor": 2
}
