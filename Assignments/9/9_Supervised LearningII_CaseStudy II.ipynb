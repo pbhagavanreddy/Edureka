{
 "cells": [
  {
   "cell_type": "code",
   "execution_count": 26,
   "metadata": {},
   "outputs": [],
   "source": [
    "import pandas as pd\n",
    "from sklearn.preprocessing import LabelEncoder\n",
    "from sklearn.model_selection import train_test_split\n",
    "from sklearn.naive_bayes import GaussianNB\n",
    "from sklearn.metrics import accuracy_score\n",
    "from sklearn.metrics import classification_report"
   ]
  },
  {
   "cell_type": "code",
   "execution_count": 27,
   "metadata": {},
   "outputs": [],
   "source": [
    "df = pd.read_csv('run_or_walk.csv')"
   ]
  },
  {
   "cell_type": "code",
   "execution_count": 28,
   "metadata": {},
   "outputs": [
    {
     "data": {
      "text/plain": [
       "Index(['date', 'time', 'username', 'wrist', 'activity', 'acceleration_x',\n",
       "       'acceleration_y', 'acceleration_z', 'gyro_x', 'gyro_y', 'gyro_z'],\n",
       "      dtype='object')"
      ]
     },
     "execution_count": 28,
     "metadata": {},
     "output_type": "execute_result"
    }
   ],
   "source": [
    "df.columns"
   ]
  },
  {
   "cell_type": "code",
   "execution_count": 29,
   "metadata": {},
   "outputs": [
    {
     "data": {
      "text/plain": [
       "date              0\n",
       "time              0\n",
       "username          0\n",
       "wrist             0\n",
       "activity          0\n",
       "acceleration_x    0\n",
       "acceleration_y    0\n",
       "acceleration_z    0\n",
       "gyro_x            0\n",
       "gyro_y            0\n",
       "gyro_z            0\n",
       "dtype: int64"
      ]
     },
     "execution_count": 29,
     "metadata": {},
     "output_type": "execute_result"
    }
   ],
   "source": [
    "df.isnull().sum()"
   ]
  },
  {
   "cell_type": "code",
   "execution_count": 30,
   "metadata": {},
   "outputs": [
    {
     "name": "stdout",
     "output_type": "stream",
     "text": [
      "Test =  0.955525454340219\n",
      "Train =  0.9566812473543107\n"
     ]
    },
    {
     "name": "stderr",
     "output_type": "stream",
     "text": [
      "C:\\Users\\bpeddi\\AppData\\Local\\Continuum\\anaconda3\\lib\\site-packages\\sklearn\\utils\\validation.py:724: DataConversionWarning: A column-vector y was passed when a 1d array was expected. Please change the shape of y to (n_samples, ), for example using ravel().\n",
      "  y = column_or_1d(y, warn=True)\n",
      "C:\\Users\\bpeddi\\AppData\\Local\\Continuum\\anaconda3\\lib\\site-packages\\sklearn\\utils\\validation.py:724: DataConversionWarning: A column-vector y was passed when a 1d array was expected. Please change the shape of y to (n_samples, ), for example using ravel().\n",
      "  y = column_or_1d(y, warn=True)\n"
     ]
    }
   ],
   "source": [
    "# Using All Predictors\n",
    "\n",
    "features=['acceleration_x','acceleration_y','acceleration_z','gyro_x','gyro_y','gyro_z']\n",
    "target=['activity']\n",
    "X=df[features]\n",
    "Y=df[target]\n",
    "seed=7777\n",
    "X_train,X_test,Y_train,Y_test = train_test_split(X,Y,test_size=.20, random_state=seed)\n",
    "\n",
    "nb=GaussianNB()\n",
    "model=nb.fit(X_train, Y_train)\n",
    "pred=model.predict(X_test)\n",
    "accscore = accuracy_score(Y_test, pred)\n",
    "print(\"Test = \", accscore)\n",
    "model_tr=nb.fit(X_train, Y_train)\n",
    "pred_tr=model_tr.predict(X_train)\n",
    "accscore_tr = accuracy_score(Y_train, pred_tr)\n",
    "print(\"Train = \", accscore_tr)"
   ]
  },
  {
   "cell_type": "code",
   "execution_count": 32,
   "metadata": {},
   "outputs": [
    {
     "name": "stdout",
     "output_type": "stream",
     "text": [
      "Classification Report = \n",
      "               precision    recall  f1-score   support\n",
      "\n",
      "           0       0.63      0.75      0.69      8881\n",
      "           1       0.69      0.56      0.62      8837\n",
      "\n",
      "    accuracy                           0.65     17718\n",
      "   macro avg       0.66      0.65      0.65     17718\n",
      "weighted avg       0.66      0.65      0.65     17718\n",
      "\n"
     ]
    }
   ],
   "source": [
    "print (\"Classification Report = \\n\", classification_report(Y_test, pred))"
   ]
  },
  {
   "cell_type": "code",
   "execution_count": 24,
   "metadata": {},
   "outputs": [
    {
     "name": "stdout",
     "output_type": "stream",
     "text": [
      "Test =  0.9560898521277796\n",
      "Train =  0.9578100747848173\n"
     ]
    },
    {
     "name": "stderr",
     "output_type": "stream",
     "text": [
      "C:\\Users\\bpeddi\\AppData\\Local\\Continuum\\anaconda3\\lib\\site-packages\\sklearn\\utils\\validation.py:724: DataConversionWarning: A column-vector y was passed when a 1d array was expected. Please change the shape of y to (n_samples, ), for example using ravel().\n",
      "  y = column_or_1d(y, warn=True)\n",
      "C:\\Users\\bpeddi\\AppData\\Local\\Continuum\\anaconda3\\lib\\site-packages\\sklearn\\utils\\validation.py:724: DataConversionWarning: A column-vector y was passed when a 1d array was expected. Please change the shape of y to (n_samples, ), for example using ravel().\n",
      "  y = column_or_1d(y, warn=True)\n"
     ]
    }
   ],
   "source": [
    "# Using only acceleration_value Predictors\n",
    "\n",
    "features=['acceleration_x','acceleration_y','acceleration_z']\n",
    "target=['activity']\n",
    "X=df[features]\n",
    "Y=df[target]\n",
    "seed=7777\n",
    "X_train,X_test,Y_train,Y_test = train_test_split(X,Y,test_size=.20, random_state=seed)\n",
    "\n",
    "nb=GaussianNB()\n",
    "model=nb.fit(X_train, Y_train)\n",
    "pred=model.predict(X_test)\n",
    "accscore = accuracy_score(Y_test, pred)\n",
    "print(\"Test = \", accscore)\n",
    "model_tr=nb.fit(X_train, Y_train)\n",
    "pred_tr=model_tr.predict(X_train)\n",
    "accscore_tr = accuracy_score(Y_train, pred_tr)\n",
    "print(\"Train = \", accscore_tr)"
   ]
  },
  {
   "cell_type": "code",
   "execution_count": 31,
   "metadata": {},
   "outputs": [
    {
     "name": "stdout",
     "output_type": "stream",
     "text": [
      "Test =  0.6541934755615758\n",
      "Train =  0.6474248624241569\n"
     ]
    },
    {
     "name": "stderr",
     "output_type": "stream",
     "text": [
      "C:\\Users\\bpeddi\\AppData\\Local\\Continuum\\anaconda3\\lib\\site-packages\\sklearn\\utils\\validation.py:724: DataConversionWarning: A column-vector y was passed when a 1d array was expected. Please change the shape of y to (n_samples, ), for example using ravel().\n",
      "  y = column_or_1d(y, warn=True)\n",
      "C:\\Users\\bpeddi\\AppData\\Local\\Continuum\\anaconda3\\lib\\site-packages\\sklearn\\utils\\validation.py:724: DataConversionWarning: A column-vector y was passed when a 1d array was expected. Please change the shape of y to (n_samples, ), for example using ravel().\n",
      "  y = column_or_1d(y, warn=True)\n"
     ]
    }
   ],
   "source": [
    "# Using only gyro_value Predictors\n",
    "\n",
    "features=['gyro_x','gyro_y','gyro_z']\n",
    "target=['activity']\n",
    "X=df[features]\n",
    "Y=df[target]\n",
    "seed=7777\n",
    "X_train,X_test,Y_train,Y_test = train_test_split(X,Y,test_size=.20, random_state=seed)\n",
    "\n",
    "nb=GaussianNB()\n",
    "model=nb.fit(X_train, Y_train)\n",
    "pred=model.predict(X_test)\n",
    "accscore = accuracy_score(Y_test, pred)\n",
    "print(\"Test = \", accscore)\n",
    "model_tr=nb.fit(X_train, Y_train)\n",
    "pred_tr=model_tr.predict(X_train)\n",
    "accscore_tr = accuracy_score(Y_train, pred_tr)\n",
    "print(\"Train = \", accscore_tr)"
   ]
  },
  {
   "cell_type": "markdown",
   "metadata": {},
   "source": [
    "##### Accuracy when acceleration values are predictors = 95.60% and when gyro values are used its 65.41%"
   ]
  },
  {
   "cell_type": "code",
   "execution_count": null,
   "metadata": {},
   "outputs": [],
   "source": []
  }
 ],
 "metadata": {
  "kernelspec": {
   "display_name": "Python 3",
   "language": "python",
   "name": "python3"
  },
  "language_info": {
   "codemirror_mode": {
    "name": "ipython",
    "version": 3
   },
   "file_extension": ".py",
   "mimetype": "text/x-python",
   "name": "python",
   "nbconvert_exporter": "python",
   "pygments_lexer": "ipython3",
   "version": "3.7.3"
  }
 },
 "nbformat": 4,
 "nbformat_minor": 2
}
